{
 "cells": [
  {
   "cell_type": "markdown",
   "metadata": {},
   "source": [
    "## Comparing DR1 and GalaxyZoo datasets"
   ]
  },
  {
   "cell_type": "code",
   "execution_count": 26,
   "metadata": {},
   "outputs": [],
   "source": [
    "import pandas as pd\n",
    "import numpy as np"
   ]
  },
  {
   "cell_type": "code",
   "execution_count": 27,
   "metadata": {},
   "outputs": [
    {
     "ename": "OSError",
     "evalue": "[Errno 22] Invalid argument",
     "output_type": "error",
     "traceback": [
      "\u001b[1;31m---------------------------------------------------------------------------\u001b[0m",
      "\u001b[1;31mOSError\u001b[0m                                   Traceback (most recent call last)",
      "Cell \u001b[1;32mIn[27], line 7\u001b[0m\n\u001b[0;32m      5\u001b[0m \u001b[38;5;66;03m# read DESI catalogue:\u001b[39;00m\n\u001b[0;32m      6\u001b[0m desi_data \u001b[38;5;241m=\u001b[39m pd\u001b[38;5;241m.\u001b[39mread_parquet(desi_cat)\n\u001b[1;32m----> 7\u001b[0m dr1_data \u001b[38;5;241m=\u001b[39m pd\u001b[38;5;241m.\u001b[39mread_parquet(dr1_cat)\n\u001b[0;32m      8\u001b[0m n_desi \u001b[38;5;241m=\u001b[39m \u001b[38;5;28mlen\u001b[39m(desi_data)\n\u001b[0;32m      9\u001b[0m n_dr1 \u001b[38;5;241m=\u001b[39m \u001b[38;5;28mlen\u001b[39m(dr1_data)\n",
      "File \u001b[1;32mc:\\ProgramData\\miniconda3\\envs\\mphys-galaxy\\Lib\\site-packages\\pandas\\io\\parquet.py:670\u001b[0m, in \u001b[0;36mread_parquet\u001b[1;34m(path, engine, columns, storage_options, use_nullable_dtypes, dtype_backend, filesystem, filters, **kwargs)\u001b[0m\n\u001b[0;32m    667\u001b[0m     use_nullable_dtypes \u001b[38;5;241m=\u001b[39m \u001b[38;5;28;01mFalse\u001b[39;00m\n\u001b[0;32m    668\u001b[0m check_dtype_backend(dtype_backend)\n\u001b[1;32m--> 670\u001b[0m \u001b[38;5;28;01mreturn\u001b[39;00m impl\u001b[38;5;241m.\u001b[39mread(\n\u001b[0;32m    671\u001b[0m     path,\n\u001b[0;32m    672\u001b[0m     columns\u001b[38;5;241m=\u001b[39mcolumns,\n\u001b[0;32m    673\u001b[0m     filters\u001b[38;5;241m=\u001b[39mfilters,\n\u001b[0;32m    674\u001b[0m     storage_options\u001b[38;5;241m=\u001b[39mstorage_options,\n\u001b[0;32m    675\u001b[0m     use_nullable_dtypes\u001b[38;5;241m=\u001b[39muse_nullable_dtypes,\n\u001b[0;32m    676\u001b[0m     dtype_backend\u001b[38;5;241m=\u001b[39mdtype_backend,\n\u001b[0;32m    677\u001b[0m     filesystem\u001b[38;5;241m=\u001b[39mfilesystem,\n\u001b[0;32m    678\u001b[0m     \u001b[38;5;241m*\u001b[39m\u001b[38;5;241m*\u001b[39mkwargs,\n\u001b[0;32m    679\u001b[0m )\n",
      "File \u001b[1;32mc:\\ProgramData\\miniconda3\\envs\\mphys-galaxy\\Lib\\site-packages\\pandas\\io\\parquet.py:400\u001b[0m, in \u001b[0;36mFastParquetImpl.read\u001b[1;34m(self, path, columns, filters, storage_options, filesystem, **kwargs)\u001b[0m\n\u001b[0;32m    397\u001b[0m     path \u001b[38;5;241m=\u001b[39m handles\u001b[38;5;241m.\u001b[39mhandle\n\u001b[0;32m    399\u001b[0m \u001b[38;5;28;01mtry\u001b[39;00m:\n\u001b[1;32m--> 400\u001b[0m     parquet_file \u001b[38;5;241m=\u001b[39m \u001b[38;5;28mself\u001b[39m\u001b[38;5;241m.\u001b[39mapi\u001b[38;5;241m.\u001b[39mParquetFile(path, \u001b[38;5;241m*\u001b[39m\u001b[38;5;241m*\u001b[39mparquet_kwargs)\n\u001b[0;32m    401\u001b[0m     \u001b[38;5;28;01mreturn\u001b[39;00m parquet_file\u001b[38;5;241m.\u001b[39mto_pandas(columns\u001b[38;5;241m=\u001b[39mcolumns, filters\u001b[38;5;241m=\u001b[39mfilters, \u001b[38;5;241m*\u001b[39m\u001b[38;5;241m*\u001b[39mkwargs)\n\u001b[0;32m    402\u001b[0m \u001b[38;5;28;01mfinally\u001b[39;00m:\n",
      "File \u001b[1;32mc:\\ProgramData\\miniconda3\\envs\\mphys-galaxy\\Lib\\site-packages\\fastparquet\\api.py:136\u001b[0m, in \u001b[0;36mParquetFile.__init__\u001b[1;34m(self, fn, verify, open_with, root, sep, fs, pandas_nulls, dtypes)\u001b[0m\n\u001b[0;32m    133\u001b[0m \u001b[38;5;28;01melif\u001b[39;00m \u001b[38;5;28mhasattr\u001b[39m(fn, \u001b[38;5;124m'\u001b[39m\u001b[38;5;124mread\u001b[39m\u001b[38;5;124m'\u001b[39m):\n\u001b[0;32m    134\u001b[0m     \u001b[38;5;66;03m# file-like\u001b[39;00m\n\u001b[0;32m    135\u001b[0m     \u001b[38;5;28mself\u001b[39m\u001b[38;5;241m.\u001b[39mfn \u001b[38;5;241m=\u001b[39m \u001b[38;5;28;01mNone\u001b[39;00m\n\u001b[1;32m--> 136\u001b[0m     \u001b[38;5;28mself\u001b[39m\u001b[38;5;241m.\u001b[39m_parse_header(fn, verify)\n\u001b[0;32m    137\u001b[0m     \u001b[38;5;28;01mif\u001b[39;00m \u001b[38;5;28mself\u001b[39m\u001b[38;5;241m.\u001b[39mfile_scheme \u001b[38;5;129;01mnot\u001b[39;00m \u001b[38;5;129;01min\u001b[39;00m [\u001b[38;5;124m'\u001b[39m\u001b[38;5;124msimple\u001b[39m\u001b[38;5;124m'\u001b[39m, \u001b[38;5;124m'\u001b[39m\u001b[38;5;124mempty\u001b[39m\u001b[38;5;124m'\u001b[39m]:\n\u001b[0;32m    138\u001b[0m         \u001b[38;5;28;01mraise\u001b[39;00m \u001b[38;5;167;01mValueError\u001b[39;00m(\u001b[38;5;124m'\u001b[39m\u001b[38;5;124mCannot use file-like input \u001b[39m\u001b[38;5;124m'\u001b[39m\n\u001b[0;32m    139\u001b[0m                          \u001b[38;5;124m'\u001b[39m\u001b[38;5;124mwith multi-file data\u001b[39m\u001b[38;5;124m'\u001b[39m)\n",
      "File \u001b[1;32mc:\\ProgramData\\miniconda3\\envs\\mphys-galaxy\\Lib\\site-packages\\fastparquet\\api.py:216\u001b[0m, in \u001b[0;36mParquetFile._parse_header\u001b[1;34m(self, f, verify)\u001b[0m\n\u001b[0;32m    214\u001b[0m         \u001b[38;5;28;01massert\u001b[39;00m f\u001b[38;5;241m.\u001b[39mread() \u001b[38;5;241m==\u001b[39m \u001b[38;5;124mb\u001b[39m\u001b[38;5;124m'\u001b[39m\u001b[38;5;124mPAR1\u001b[39m\u001b[38;5;124m'\u001b[39m\n\u001b[0;32m    215\u001b[0m     \u001b[38;5;28mself\u001b[39m\u001b[38;5;241m.\u001b[39m_head_size \u001b[38;5;241m=\u001b[39m head_size\n\u001b[1;32m--> 216\u001b[0m     f\u001b[38;5;241m.\u001b[39mseek(\u001b[38;5;241m-\u001b[39m(head_size \u001b[38;5;241m+\u001b[39m \u001b[38;5;241m8\u001b[39m), \u001b[38;5;241m2\u001b[39m)\n\u001b[0;32m    217\u001b[0m     data \u001b[38;5;241m=\u001b[39m f\u001b[38;5;241m.\u001b[39mread(head_size)\n\u001b[0;32m    218\u001b[0m \u001b[38;5;28;01mexcept\u001b[39;00m (\u001b[38;5;167;01mAssertionError\u001b[39;00m, struct\u001b[38;5;241m.\u001b[39merror):\n",
      "\u001b[1;31mOSError\u001b[0m: [Errno 22] Invalid argument"
     ]
    }
   ],
   "source": [
    "desi_path = '/share/nas2/walml/galaxy_zoo/decals/dr8/jpg'\n",
    "desi_cat = \"../Data/gz_desi_deep_learning_catalog_friendly.parquet\"\n",
    "dr1_cat = \"../Data/GalaxyZoo1_DR_table2.csv\"\n",
    "\n",
    "# read DESI catalogue:\n",
    "desi_data = pd.read_parquet(desi_cat)\n",
    "dr1_data = pd.read_csv(dr1_cat)\n",
    "n_desi = len(desi_data)\n",
    "n_dr1 = len(dr1_data)"
   ]
  },
  {
   "cell_type": "code",
   "execution_count": null,
   "metadata": {},
   "outputs": [
    {
     "name": "stdout",
     "output_type": "stream",
     "text": [
      "Number of galaxies in DESI catalogue: 8689370\n",
      "Found 1 matching.\n",
      "        dr8_id         ra        dec  brickid  objid  \\\n",
      "1  100000_1401  32.140085 -44.293668   100000   1401   \n",
      "\n",
      "                                          hdf5_loc  \\\n",
      "1  _desi_pytorch_v5_hpv2_train_all_notest_all.hdf5   \n",
      "\n",
      "   smooth-or-featured_smooth_fraction  \\\n",
      "1                            0.768208   \n",
      "\n",
      "   smooth-or-featured_featured-or-disk_fraction  \\\n",
      "1                                      0.121337   \n",
      "\n",
      "   smooth-or-featured_artifact_fraction  disk-edge-on_yes_fraction  ...  \\\n",
      "1                              0.110455                        NaN  ...   \n",
      "\n",
      "   spiral-arm-count_1_fraction  spiral-arm-count_2_fraction  \\\n",
      "1                          NaN                          NaN   \n",
      "\n",
      "   spiral-arm-count_3_fraction  spiral-arm-count_4_fraction  \\\n",
      "1                          NaN                          NaN   \n",
      "\n",
      "   spiral-arm-count_more-than-4_fraction  spiral-arm-count_cant-tell_fraction  \\\n",
      "1                                    NaN                                  NaN   \n",
      "\n",
      "   merging_none_fraction  merging_minor-disturbance_fraction  \\\n",
      "1               0.596226                            0.149447   \n",
      "\n",
      "   merging_major-disturbance_fraction  merging_merger_fraction  \n",
      "1                            0.048128                 0.206199  \n",
      "\n",
      "[1 rows x 40 columns]\n",
      "/share/nas2/walml/galaxy_zoo/decals/dr8/jpg/100000/100000_1401.jpg\n"
     ]
    }
   ],
   "source": [
    "print(\"Number of galaxies in DESI catalogue: {}\".format(n_desi))\n",
    "print(\"Number of galaxies in DR1 catalogue: {}\".format(n_desi))\n",
    "#print(desi_data.columns.values)\n",
    "print(desi_data.head(5))\n",
    "print(dr1_data.head(5))\n",
    "\n",
    "def find_galaxy(dr8_id, brick_id):\n",
    "    galaxies = desi_data[ (desi_data['brickid']==brick_id)& (desi_data['dr8_id']==dr8_id) ]\n",
    "    print(f\"Found {len(galaxies)} matching.\")\n",
    "    print(galaxies)\n",
    "\n",
    "def get_filepath(dr8_id, brick_id):\n",
    "    file_loc = f\"{desi_path}/{brick_id}/{dr8_id}.jpg\"\n",
    "    return file_loc\n",
    "\n",
    "\n",
    "# find_galaxy('100000_1401',100000)\n",
    "# print(get_filepath('100000_1401',100000))"
   ]
  }
 ],
 "metadata": {
  "kernelspec": {
   "display_name": "mphys-galaxy",
   "language": "python",
   "name": "python3"
  },
  "language_info": {
   "codemirror_mode": {
    "name": "ipython",
    "version": 3
   },
   "file_extension": ".py",
   "mimetype": "text/x-python",
   "name": "python",
   "nbconvert_exporter": "python",
   "pygments_lexer": "ipython3",
   "version": "3.11.5"
  }
 },
 "nbformat": 4,
 "nbformat_minor": 2
}

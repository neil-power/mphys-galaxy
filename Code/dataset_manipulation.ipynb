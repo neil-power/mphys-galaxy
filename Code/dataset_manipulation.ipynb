{
 "cells": [
  {
   "cell_type": "markdown",
   "metadata": {},
   "source": [
    "## Comparing DR1 and GalaxyZoo datasets"
   ]
  },
  {
   "cell_type": "code",
   "execution_count": 9,
   "metadata": {},
   "outputs": [],
   "source": [
    "import pandas as pd\n",
    "import numpy as np\n",
    "import astropy.units as u\n",
    "from astropy.coordinates import SkyCoord"
   ]
  },
  {
   "cell_type": "code",
   "execution_count": 4,
   "metadata": {},
   "outputs": [
    {
     "name": "stdout",
     "output_type": "stream",
     "text": [
      "Number of galaxies in DESI catalogue: 8689370\n",
      "Number of galaxies in GZ1 catalogue: 667944\n"
     ]
    }
   ],
   "source": [
    "desi_path = '/share/nas2/walml/galaxy_zoo/decals/dr8/jpg'\n",
    "desi_cat = \"../Data/gz_desi_deep_learning_catalog_friendly.parquet\"\n",
    "gz1_cat = \"../Data/GalaxyZoo1_DR_table2.csv\"\n",
    "\n",
    "# read DESI catalogue:\n",
    "desi_data = pd.read_parquet(desi_cat)\n",
    "gz1_data = pd.read_csv(gz1_cat)\n",
    "print(f\"Number of galaxies in DESI catalogue: {len(desi_data)}\")\n",
    "print(f\"Number of galaxies in GZ1 catalogue: {len(gz1_data)}\")"
   ]
  },
  {
   "cell_type": "code",
   "execution_count": null,
   "metadata": {},
   "outputs": [
    {
     "name": "stdout",
     "output_type": "stream",
     "text": [
      "['OBJID' 'RA' 'DEC' 'NVOTE' 'P_EL' 'P_CW' 'P_ACW' 'P_EDGE' 'P_DK' 'P_MG'\n",
      " 'P_CS' 'P_EL_DEBIASED' 'P_CS_DEBIASED' 'SPIRAL' 'ELLIPTICAL' 'UNCERTAIN']\n"
     ]
    }
   ],
   "source": [
    "def find_desi_galaxy_by_id(dr8_id, brick_id):\n",
    "    galaxies = desi_data[ (desi_data['brickid']==brick_id) & (desi_data['dr8_id']==dr8_id) ]\n",
    "    print(f\"Found {len(galaxies)} matching.\")\n",
    "    print(galaxies)\n",
    "\n",
    "def find_desi_galaxy_by_coords(ra, dec):\n",
    "    galaxies = desi_data[ (desi_data['ra']==ra)& (desi_data['dec']==dec) ]\n",
    "    print(f\"Found {len(galaxies)} matching.\")\n",
    "    print(galaxies)\n",
    "\n",
    "def find_gz1_galaxy_by_id(objid):\n",
    "    galaxies = gz1_data[gz1_data['OBJID']==objid]\n",
    "    print(f\"Found {len(galaxies)} matching.\")\n",
    "    print(galaxies)\n",
    "\n",
    "def find_gz1_galaxy_by_coords(ra, dec):\n",
    "    galaxies = gz1_data[ (gz1_data['RA']==ra)& (gz1_data['DEC']==dec) ]\n",
    "    print(f\"Found {len(galaxies)} matching.\")\n",
    "    print(galaxies)\n",
    "\n",
    "def get_filepath_by_id(dr8_id, brick_id):\n",
    "    file_loc = f\"{desi_path}/{brick_id}/{dr8_id}.jpg\"\n",
    "    return file_loc\n",
    "\n",
    "# find_galaxy('100000_1401',100000)\n",
    "# print(get_filepath('100000_1401',100000))\n",
    "print(gz1_data.columns.values)\n",
    "#desi_data.head(5)\n",
    "gz1_data.head(5)"
   ]
  },
  {
   "cell_type": "code",
   "execution_count": 14,
   "metadata": {},
   "outputs": [
    {
     "name": "stdout",
     "output_type": "stream",
     "text": [
      "<SkyCoord (ICRS): (ra, dec) in deg\n",
      "    (0.00011389, -9.22227778)>\n"
     ]
    }
   ],
   "source": [
    "ra1 = gz1_data['RA'][0]\n",
    "dec1 = gz1_data['DEC'][1]\n",
    "print(ra1,dec1)\n",
    "c = SkyCoord(ra=ra1, dec=dec1, unit=u.degree)\n",
    "print(c)"
   ]
  }
 ],
 "metadata": {
  "kernelspec": {
   "display_name": "mphys-galaxy",
   "language": "python",
   "name": "python3"
  },
  "language_info": {
   "codemirror_mode": {
    "name": "ipython",
    "version": 3
   },
   "file_extension": ".py",
   "mimetype": "text/x-python",
   "name": "python",
   "nbconvert_exporter": "python",
   "pygments_lexer": "ipython3",
   "version": "3.11.5"
  }
 },
 "nbformat": 4,
 "nbformat_minor": 2
}

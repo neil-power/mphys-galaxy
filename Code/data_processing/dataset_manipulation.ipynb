{
 "cells": [
  {
   "cell_type": "markdown",
   "metadata": {},
   "source": [
    "## Comparing DR1 and GalaxyZoo datasets"
   ]
  },
  {
   "cell_type": "code",
   "execution_count": null,
   "metadata": {},
   "outputs": [],
   "source": [
    "import pandas as pd\n",
    "import numpy as np\n",
    "import astropy.units as u\n",
    "from astropy.coordinates import SkyCoord\n",
    "\n",
    "import os\n",
    "import math\n",
    "\n",
    "output_path = \"test.csv\"\n",
    "#os.remove(\"test.csv\")"
   ]
  },
  {
   "cell_type": "code",
   "execution_count": null,
   "metadata": {},
   "outputs": [],
   "source": [
    "desi_path = '/share/nas2/walml/galaxy_zoo/decals/dr8/jpg'\n",
    "desi_cat = \"../Data/gz_desi_deep_learning_catalog_friendly.parquet\"\n",
    "gz1_cat = \"../Data/GalaxyZoo1_DR_table2.csv\"\n",
    "\n",
    "SUBSET = False\n",
    "\n",
    "# read DESI catalogue:\n",
    "desi_data = pd.read_parquet(desi_cat).reset_index(drop=True)\n",
    "gz1_data = pd.read_csv(gz1_cat).reset_index(drop=True)\n",
    "print(desi_data.columns)\n",
    "\n",
    "print(f\"Number of galaxies in DESI catalogue: {len(desi_data)}\")\n",
    "print(f\"Number of galaxies in GZ1 catalogue: {len(gz1_data)}\")\n",
    "\n",
    "if SUBSET:\n",
    "    gz1_data = (gz1_data.sample(10000,random_state=1)).reset_index(drop=True)\n",
    "    desi_data = (desi_data.sample(10000,random_state=3)).reset_index(drop=True)"
   ]
  },
  {
   "cell_type": "code",
   "execution_count": null,
   "metadata": {},
   "outputs": [],
   "source": [
    "#convert the data into skycoord objects\n",
    "ra1 = gz1_data['RA'].to_numpy()\n",
    "dec1 = gz1_data['DEC'].to_numpy()\n",
    "zoo_cat = SkyCoord(ra=ra1, dec=dec1, unit=(u.hourangle, u.deg))\n",
    "\n",
    "ra2 = desi_data['ra'].to_numpy()\n",
    "dec2 = desi_data['dec'].to_numpy()\n",
    "desi_cat = SkyCoord(ra=ra2, dec=dec2, unit=u.deg)\n",
    "\n",
    "#print(zoo_cat)\n",
    "#print(desi_cat)"
   ]
  },
  {
   "cell_type": "code",
   "execution_count": null,
   "metadata": {},
   "outputs": [],
   "source": [
    "idx, d2d, d3d = zoo_cat.match_to_catalog_sky(desi_cat) #idx is index in desi_cat closest to zoo_cat\n",
    "max_sep = 10 * u.arcsec\n",
    "sep_constraint = d2d < max_sep\n",
    "print(str(sep_constraint.sum()) + \" matches found\")\n",
    "\n",
    "zoo_match = gz1_data[sep_constraint] #zoo df that has matches \n",
    "#desi_match = desi_data[desi_data.index.isin(idx[sep_constraint])] #desi df that has matches\n",
    "desi_match = desi_data.loc[idx[sep_constraint]]\n",
    "#get dr8 id from desi stack to zoo"
   ]
  },
  {
   "cell_type": "code",
   "execution_count": null,
   "metadata": {},
   "outputs": [],
   "source": [
    "desi_match_sort = desi_match.sort_index()\n",
    "zoo_match_sort = zoo_match.set_index(idx[sep_constraint]).sort_index()\n",
    "big_cat = pd.concat([zoo_match_sort, desi_match_sort['dr8_id']], axis=1).reset_index(drop=True)\n",
    "big_cat.head(5)"
   ]
  },
  {
   "cell_type": "markdown",
   "metadata": {},
   "source": [
    "## Writing to file"
   ]
  },
  {
   "cell_type": "code",
   "execution_count": null,
   "metadata": {},
   "outputs": [],
   "source": [
    "def split_dataframe(data, no_of_batches):\n",
    "    batch_size = math.ceil(data.shape[0] / no_of_batches)\n",
    "    batched_df = [data[i:i+batch_size] for i in range(0,data.shape[0], batch_size)]\n",
    "    return batched_df"
   ]
  },
  {
   "cell_type": "code",
   "execution_count": null,
   "metadata": {},
   "outputs": [],
   "source": [
    "batched_df = split_dataframe(big_cat,10)\n",
    "\n",
    "for batch in batched_df: \n",
    "    print('hii')\n",
    "    batch.to_csv(output_path, mode='a', header=not os.path.exists(output_path))"
   ]
  }
 ],
 "metadata": {
  "kernelspec": {
   "display_name": "mphys-galaxy",
   "language": "python",
   "name": "python3"
  },
  "language_info": {
   "codemirror_mode": {
    "name": "ipython",
    "version": 3
   },
   "file_extension": ".py",
   "mimetype": "text/x-python",
   "name": "python",
   "nbconvert_exporter": "python",
   "pygments_lexer": "ipython3",
   "version": "3.11.5"
  }
 },
 "nbformat": 4,
 "nbformat_minor": 2
}

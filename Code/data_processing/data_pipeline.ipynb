{
 "cells": [
  {
   "cell_type": "markdown",
   "metadata": {},
   "source": [
    "# Data pipeline\n"
   ]
  },
  {
   "cell_type": "code",
   "execution_count": 1,
   "metadata": {},
   "outputs": [],
   "source": [
    "import pandas as pd\n",
    "import numpy as np\n",
    "import torch\n",
    "from torch.utils.data import random_split\n",
    "import astropy.units as u\n",
    "from astropy.coordinates import SkyCoord"
   ]
  },
  {
   "cell_type": "code",
   "execution_count": 14,
   "metadata": {},
   "outputs": [],
   "source": [
    "OVERWRITE = False #OVERWRITES FILES WHEN RUN AND THIS IS TRUE - replace with stepped variables"
   ]
  },
  {
   "cell_type": "code",
   "execution_count": 15,
   "metadata": {},
   "outputs": [],
   "source": [
    "def get_metrics(catalog, cat_name):\n",
    "    total = catalog.shape[0]\n",
    "    largest_prob_class = catalog[['P_CW','P_ACW','P_OTHER']].idxmax(axis=1)\n",
    "    CW_galaxies = np.count_nonzero(largest_prob_class=='P_CW')\n",
    "    ACW_galaxies = np.count_nonzero(largest_prob_class=='P_ACW')\n",
    "    OTHER_galaxies = np.count_nonzero(largest_prob_class=='P_OTHER')\n",
    "    print(f\"{cat_name} contains {total} galaxies. CW: {CW_galaxies} ({CW_galaxies/total:.1%}), ACW: {ACW_galaxies} ({ACW_galaxies/total:.1%}), Other: {OTHER_galaxies} ({OTHER_galaxies/total:.1%})\")"
   ]
  },
  {
   "cell_type": "markdown",
   "metadata": {},
   "source": [
    "## Step 1: Cross-matching DESI DR8 & GZ1 (SDSS DR7)\n",
    "DESI images are organised by dr8_id, whereas GZ1 uses SDSS OBJID. Use astropy to match objects across both catalogs & add a 'dr8_id' column to the GZ1 catalog."
   ]
  },
  {
   "cell_type": "code",
   "execution_count": 16,
   "metadata": {},
   "outputs": [
    {
     "name": "stdout",
     "output_type": "stream",
     "text": [
      "Number of galaxies in DESI catalog: 8.7 million\n",
      "Number of galaxies in GZ1 catalog: 667944\n",
      "Number of galaxies in matched catalog: 647837, removed 20107\n"
     ]
    }
   ],
   "source": [
    "DESI_CATALOG_PATH = '../../Data/DESI/gz_desi_deep_learning_catalog_friendly.parquet' #Available from https://doi.org/10.5281/zenodo.8360385\n",
    "GZ_CATALOG_PATH = '../../Data/GalaxyZoo1_DR_table2.csv' # Available from ui.adsabs.harvard.edu/abs/2011MNRAS.410..166L/abstract or https://data.galaxyzoo.org/\n",
    "gz_catalog = pd.read_csv(GZ_CATALOG_PATH)\n",
    "gz_catalog.loc[:,['P_OTHER']] = gz_catalog[['P_EL','P_EDGE','P_DK','P_MG']].sum(axis=1).round(3)\n",
    "#desi_catalog = pd.read_parquet(desi_cat)\n",
    "print(f\"Number of galaxies in DESI catalog: 8.7 million\")\n",
    "print(f\"Number of galaxies in GZ1 catalog: {gz_catalog.shape[0]}\")\n",
    "\n",
    "#This is done in Code/data_processing/dataset_manipulation.ipynb - move here\n",
    "\n",
    "MATCHED_CATALOG = '../../Data/gz1_desi_cross_cat.csv'\n",
    "matched_catalog = pd.read_csv(MATCHED_CATALOG)\n",
    "matched_catalog.loc[:,['P_OTHER']] = matched_catalog[['P_EL','P_EDGE','P_DK','P_MG']].sum(axis=1).round(3)\n",
    "print(f\"Number of galaxies in matched catalog: {matched_catalog.shape[0]}, removed {gz_catalog.shape[0]-matched_catalog.shape[0]}\")"
   ]
  },
  {
   "cell_type": "markdown",
   "metadata": {},
   "source": [
    "## Step 1a: Creating balanced local subset of 1500 most S, Z and El images for testing"
   ]
  },
  {
   "cell_type": "code",
   "execution_count": 4,
   "metadata": {},
   "outputs": [
    {
     "name": "stdout",
     "output_type": "stream",
     "text": [
      "Number of galaxies in local subset catalog: 1500\n"
     ]
    }
   ],
   "source": [
    "#This is done in Code/data_processing/create_data_subset.ipynb  - move here\n",
    "\n",
    "LOCAL_SUBSET_CATALOG_PATH = '../../Data/gz1_desi_cross_cat_local_subset.csv'\n",
    "local_subset_catalog = pd.read_csv(LOCAL_SUBSET_CATALOG_PATH)\n",
    "if OVERWRITE:\n",
    "    local_subset_catalog = local_subset_catalog = local_subset_catalog.loc[:, ~local_subset_catalog.columns.str.contains('^Unnamed')]\n",
    "    local_subset_catalog.loc[:,['P_OTHER']] = local_subset_catalog[['P_EL','P_EDGE','P_DK','P_MG']].sum(axis=1).round(3)\n",
    "    local_subset_catalog.to_csv(LOCAL_SUBSET_CATALOG_PATH,index=False)\n",
    "print(f\"Number of galaxies in local subset catalog: {local_subset_catalog.shape[0]}\")"
   ]
  },
  {
   "cell_type": "markdown",
   "metadata": {},
   "source": [
    "## Step 2: Cut objects that have another object within 1 arcsec\n",
    "Query SDSS via astroquery to get r-band values, and cut objects that have another object within 1 arcsec"
   ]
  },
  {
   "cell_type": "code",
   "execution_count": 18,
   "metadata": {},
   "outputs": [
    {
     "name": "stdout",
     "output_type": "stream",
     "text": [
      "Number of galaxies with no objects within 1 arcsec: 213744, removed 434093\n",
      "Number of galaxies in queried catalog: 213744\n"
     ]
    }
   ],
   "source": [
    "#This is done in Code/data_processing/astroquery_batch.ipynb  - move here\n",
    "\n",
    "QUERIED_CATALOG_PATH = '../../Data/gz1_desi_cross_cat_queried.csv'\n",
    "queried_catalog = pd.read_csv(QUERIED_CATALOG_PATH)\n",
    "queried_catalog.loc[:,['P_OTHER']] = queried_catalog[['P_EL','P_EDGE','P_DK','P_MG']].sum(axis=1).round(3)\n",
    "print(f\"Number of galaxies with no objects within 1 arcsec: {queried_catalog.shape[0]}, removed {matched_catalog.shape[0]-queried_catalog.shape[0]}\")\n",
    "print(f\"Number of galaxies in queried catalog: {queried_catalog.shape[0]}\")"
   ]
  },
  {
   "cell_type": "markdown",
   "metadata": {},
   "source": [
    "## Step 3: Cut objects using magnitude/r-band\n",
    "\n",
    "Apply the following cuts\n",
    "-  r-band magnitude error >0 & <1\n",
    "- r-band half-light radius r50 >1 arcsec\n",
    "- relative r-band half-light radius error >0 & <0.25"
   ]
  },
  {
   "cell_type": "code",
   "execution_count": 19,
   "metadata": {},
   "outputs": [
    {
     "name": "stdout",
     "output_type": "stream",
     "text": [
      "Number of galaxies with r-band magnitude error >0 & <1: 213744, removed 0\n",
      "Number of galaxies with r-band half-light radius r50 >1 arcsec: 213369, removed 375\n",
      "Number of galaxies with relative r-band half-light radius error >0 & <0.25: 208682, removed 4687\n",
      "Jia et al (2023) Final Number: 173097. Difference: -35585\n"
     ]
    }
   ],
   "source": [
    "CUT_CATALOG_PATH = '../../Data/gz1_desi_cross_cat_cut.csv'\n",
    "Jia_final = 173097\n",
    "\n",
    "reduced = queried_catalog[np.logical_and(queried_catalog[\"err_r\"]>0,queried_catalog[\"err_r\"]<1)]\n",
    "print(f\"Number of galaxies with r-band magnitude error >0 & <1: {reduced.shape[0]}, removed {queried_catalog.shape[0]-reduced.shape[0]}\")\n",
    "\n",
    "reduced2 = reduced[reduced[\"petroR50_r\"]>1]\n",
    "print(f\"Number of galaxies with r-band half-light radius r50 >1 arcsec: {reduced2.shape[0]}, removed {reduced.shape[0]-reduced2.shape[0]}\")\n",
    "\n",
    "r_band_err = reduced2[\"petroR50Err_r\"]/reduced2[\"petroR50_r\"]\n",
    "cut_catalog = reduced2[np.logical_and(r_band_err>0,r_band_err<0.25)]\n",
    "print(f\"Number of galaxies with relative r-band half-light radius error >0 & <0.25: {cut_catalog.shape[0]}, removed {reduced2.shape[0]-cut_catalog.shape[0]}\")\n",
    "\n",
    "print(f\"Jia et al (2023) Final Number: {Jia_final}. Difference: {Jia_final-cut_catalog.shape[0]}\")\n",
    "\n",
    "if OVERWRITE:\n",
    "    cut_catalog.to_csv(CUT_CATALOG_PATH)"
   ]
  },
  {
   "cell_type": "markdown",
   "metadata": {},
   "source": [
    "## Step 3a: Create balanced subset of 15000 most S, Z & El galaxies for testing"
   ]
  },
  {
   "cell_type": "code",
   "execution_count": 20,
   "metadata": {},
   "outputs": [
    {
     "name": "stdout",
     "output_type": "stream",
     "text": [
      "Total Very CW: 14243, Very ACW: 15420, Very EL: 143858\n",
      "Number of galaxies in best subset catalog: 15000\n"
     ]
    }
   ],
   "source": [
    "BEST_SUBSET_CATALOG_PATH = '../../Data/gz1_desi_cross_cat_best_subset.csv'\n",
    "THRESHOLD = 0.8\n",
    "N_CW = 5000\n",
    "N_ACW = 5000\n",
    "N_EL = 5000\n",
    "\n",
    "very_CW_galaxies = matched_catalog[matched_catalog['P_CW']>THRESHOLD]\n",
    "very_ACW_galaxies = matched_catalog[matched_catalog['P_ACW']>THRESHOLD]\n",
    "very_EL_galaxies = matched_catalog[matched_catalog['P_EL']>THRESHOLD]\n",
    "print(f\"Total Very CW: {very_CW_galaxies.shape[0]}, Very ACW: {very_ACW_galaxies.shape[0]}, Very EL: {very_EL_galaxies.shape[0]}\")\n",
    "\n",
    "galaxy_subset = pd.concat([very_CW_galaxies[0:N_CW],very_ACW_galaxies[0:N_ACW],very_EL_galaxies[0:N_EL]])\n",
    "best_subset_catalog = galaxy_subset.reset_index()\n",
    "print(f\"Number of galaxies in best subset catalog: {best_subset_catalog.shape[0]}\")\n",
    "best_subset_catalog.loc[:,['P_OTHER']] = best_subset_catalog[['P_EL','P_EDGE','P_DK','P_MG']].sum(axis=1).round(3)\n",
    "if OVERWRITE:\n",
    "    #best_subset_catalog = best_subset_catalog.drop(['Unnamed: 0']) issue\n",
    "    best_subset_catalog.reset_index()\n",
    "    best_subset_catalog.to_csv(BEST_SUBSET_CATALOG_PATH,index=False)"
   ]
  },
  {
   "cell_type": "markdown",
   "metadata": {},
   "source": [
    "## Step 4: Select testing dataset\n",
    "\n",
    "Select 15% of the cut data for a reserved test set, and, with a set seed"
   ]
  },
  {
   "cell_type": "code",
   "execution_count": 21,
   "metadata": {},
   "outputs": [
    {
     "name": "stdout",
     "output_type": "stream",
     "text": [
      "Cut catalog contains 208682 galaxies. CW: 8520 (4.1%), ACW: 9023 (4.3%), Other: 191139 (91.6%)\n",
      "Testing catalog contains 41737 galaxies. CW: 1682 (4.0%), ACW: 1840 (4.4%), Other: 38215 (91.6%)\n",
      "Training & validation catalog contains 166945 galaxies. CW: 6838 (4.1%), ACW: 7183 (4.3%), Other: 152924 (91.6%)\n"
     ]
    }
   ],
   "source": [
    "TESTING_CATALOG_PATH = '../../Data/gz1_desi_cross_cat_testing.csv'\n",
    "TRAIN_VAL_CATALOG_PATH = '../../Data/gz1_desi_cross_cat_train_val.csv'\n",
    "get_metrics(cut_catalog,\"Cut catalog\")\n",
    "generator1 = torch.Generator().manual_seed(42)\n",
    "testing_catalog, train_val_catalog = random_split(cut_catalog, [0.20,0.80], generator=generator1)\n",
    "#Convert from subsets\n",
    "testing_catalog = testing_catalog.dataset.iloc[testing_catalog.indices]\n",
    "train_val_catalog = train_val_catalog.dataset.iloc[train_val_catalog.indices]\n",
    "get_metrics(testing_catalog,\"Testing catalog\")\n",
    "get_metrics(train_val_catalog,\"Training & validation catalog\")\n",
    "\n",
    "if OVERWRITE:\n",
    "    #Probably can drop unneeded columns\n",
    "    testing_catalog.to_csv(TESTING_CATALOG_PATH,index=False)\n",
    "    train_val_catalog.to_csv(TRAIN_VAL_CATALOG_PATH,index=False)"
   ]
  },
  {
   "cell_type": "markdown",
   "metadata": {},
   "source": [
    "## Step 5: Downsampling\n",
    "\n",
    "From the training and validation catalog, keep \n",
    "- 1 in 20 galaxies with 0 < max(P_CW, P_ACW) <= 0.1\n",
    "- 1 in 5 galaxies with 0.1 < max(P_CW, P_ACW) <= 0.2 \n",
    "- 1 in 2 galaxies with 0.2 < max(P_CW, P_ACW) <= 0.3"
   ]
  },
  {
   "cell_type": "code",
   "execution_count": 22,
   "metadata": {},
   "outputs": [
    {
     "name": "stdout",
     "output_type": "stream",
     "text": [
      "Training & validation catalog contains 166945 galaxies. CW: 6838 (4.1%), ACW: 7183 (4.3%), Other: 152924 (91.6%)\n",
      "Downsample first pass catalog contains 35988 galaxies. CW: 6838 (19.0%), ACW: 7183 (20.0%), Other: 21967 (61.0%)\n"
     ]
    }
   ],
   "source": [
    "TRAIN_VAL_DOWNSAMPLE_CATALOG_PATH = '../../Data/gz1_desi_cross_cat_train_val_downsample.csv'\n",
    "\n",
    "get_metrics(train_val_catalog,\"Training & validation catalog\")\n",
    "\n",
    "def cut_by_factor(cat,factor):\n",
    "    generator1 = torch.Generator().manual_seed(42)\n",
    "    kept_downsample, _ = random_split(cat, [1/factor,1-(1/factor)], generator=generator1)\n",
    "    return kept_downsample.dataset.iloc[kept_downsample.indices]\n",
    "\n",
    "sample_mask_1 = np.logical_and(train_val_catalog[['P_CW',\"P_ACW\"]].max(axis=1) >= 0, train_val_catalog[['P_CW',\"P_ACW\"]].max(axis=1) <= 0.1)\n",
    "sample_mask_2 = np.logical_and(train_val_catalog[['P_CW',\"P_ACW\"]].max(axis=1) > 0.1, train_val_catalog[['P_CW',\"P_ACW\"]].max(axis=1) <= 0.2)\n",
    "sample_mask_3 = np.logical_and(train_val_catalog[['P_CW',\"P_ACW\"]].max(axis=1) > 0.2, train_val_catalog[['P_CW',\"P_ACW\"]].max(axis=1) <= 0.3)\n",
    "keep_mask = np.logical_and(train_val_catalog[['P_CW',\"P_ACW\"]].max(axis=1) > 0.3, train_val_catalog[['P_CW',\"P_ACW\"]].max(axis=1) <= 1)\n",
    "\n",
    "kept_galaxies = train_val_catalog[keep_mask]\n",
    "downsample_set_1 = cut_by_factor(train_val_catalog[sample_mask_1],20)\n",
    "downsample_set_2 = cut_by_factor(train_val_catalog[sample_mask_2],5)\n",
    "downsample_set_3 = cut_by_factor(train_val_catalog[sample_mask_3],2)\n",
    "\n",
    "train_val_downsample_catalog = pd.concat([kept_galaxies,downsample_set_1,downsample_set_2,downsample_set_3])\n",
    "\n",
    "if OVERWRITE:\n",
    "    train_val_downsample_catalog.to_csv(TRAIN_VAL_DOWNSAMPLE_CATALOG_PATH)\n",
    "\n",
    "get_metrics(train_val_downsample_catalog,\"Downsampled catalog\")\n"
   ]
  },
  {
   "cell_type": "markdown",
   "metadata": {},
   "source": [
    "## Summary of all steps"
   ]
  },
  {
   "cell_type": "code",
   "execution_count": 27,
   "metadata": {},
   "outputs": [
    {
     "name": "stdout",
     "output_type": "stream",
     "text": [
      "Load initial GZ1 catalog\n",
      "GZ1 Catalog contains 667944 galaxies. CW: 32102 (4.8%), ACW: 33795 (5.1%), Other: 602047 (90.1%)\n",
      "\n",
      "Step 1: Cross-match with DESI image catalog\n",
      "Matched Catalog contains 647837 galaxies. CW: 31594 (4.9%), ACW: 33241 (5.1%), Other: 583002 (90.0%)\n",
      "\n",
      "Step 2: Cut objects that have another object within 1 arcsec by querying SDSS\n",
      "Queried Catalog contains 213744 galaxies. CW: 8688 (4.1%), ACW: 9190 (4.3%), Other: 195866 (91.6%)\n",
      "\n",
      "Step 3: Cut objects using magnitude/r-band\n",
      "Cut Catalog contains 208682 galaxies. CW: 8520 (4.1%), ACW: 9023 (4.3%), Other: 191139 (91.6%)\n",
      "\n",
      "Step 4: Select testing dataset\n",
      "Testing Catalog contains 41737 galaxies. CW: 1682 (4.0%), ACW: 1840 (4.4%), Other: 38215 (91.6%)\n",
      "Train/Val Catalog contains 166945 galaxies. CW: 6838 (4.1%), ACW: 7183 (4.3%), Other: 152924 (91.6%)\n",
      "\n",
      "Step 5: Downsampling\n",
      "Downsampled Train/Val Catalog contains 35988 galaxies. CW: 6838 (19.0%), ACW: 7183 (20.0%), Other: 21967 (61.0%)\n"
     ]
    }
   ],
   "source": [
    "print(\"Load initial GZ1 catalog\")\n",
    "get_metrics(gz_catalog,\"GZ1 catalog\")\n",
    "print(\"\\nStep 1: Cross-match with DESI image catalog\")\n",
    "get_metrics(matched_catalog,\"Matched catalog\")\n",
    "print(\"\\nStep 2: Cut objects that have another object within 1 arcsec by querying SDSS\")\n",
    "get_metrics(queried_catalog,\"Queried catalog\")\n",
    "print(\"\\nStep 3: Cut objects using magnitude/r-band\")\n",
    "get_metrics(cut_catalog,\"Cut catalog\")\n",
    "print(\"\\nStep 4: Select testing dataset\")\n",
    "get_metrics(testing_catalog,\"Testing catalog\")\n",
    "get_metrics(train_val_catalog,\"Train/val catalog\")\n",
    "print(\"\\nStep 5: Downsampling\")\n",
    "get_metrics(train_val_downsample_catalog,\"Downsampled train/val Catalog\")"
   ]
  }
 ],
 "metadata": {
  "kernelspec": {
   "display_name": "mphys-galaxy",
   "language": "python",
   "name": "python3"
  },
  "language_info": {
   "codemirror_mode": {
    "name": "ipython",
    "version": 3
   },
   "file_extension": ".py",
   "mimetype": "text/x-python",
   "name": "python",
   "nbconvert_exporter": "python",
   "pygments_lexer": "ipython3",
   "version": "3.11.5"
  }
 },
 "nbformat": 4,
 "nbformat_minor": 2
}

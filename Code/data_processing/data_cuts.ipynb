{
 "cells": [
  {
   "cell_type": "markdown",
   "metadata": {},
   "source": [
    "## Cuts data "
   ]
  },
  {
   "cell_type": "code",
   "execution_count": 1,
   "metadata": {},
   "outputs": [],
   "source": [
    "import pandas as pd\n",
    "import numpy as np\n",
    "import matplotlib.pyplot as plt"
   ]
  },
  {
   "cell_type": "code",
   "execution_count": 15,
   "metadata": {},
   "outputs": [],
   "source": [
    "ORIG_PATH = '../../Data/gz1_desi_cross_cat.csv'\n",
    "QUERIED_PATH = '../../Data/gz1_desi_cross_cat_queried.csv'\n",
    "CUT_PATH = '../../Data/gz1_desi_cross_cat_cut.csv'\n",
    "catalog = pd.read_csv(QUERIED_PATH)\n",
    "orig_catalog = pd.read_csv(ORIG_PATH)\n"
   ]
  },
  {
   "cell_type": "code",
   "execution_count": 16,
   "metadata": {},
   "outputs": [
    {
     "name": "stdout",
     "output_type": "stream",
     "text": [
      "Number of galaxies in GZ1 catalogue: 647837\n",
      "Number of galaxies with no objects within 1 arcsec: 213744, removed 434093\n",
      "Number of galaxies with r-band magnitude error >0 & <1: 213744, removed 0\n",
      "Number of galaxies with r-band half-light radius r50 >1 arcsec: 213369, removed 375\n",
      "Number of galaxies with relative r-band half-light radius error >0 & <0.25: 208682, removed 4687\n",
      "Final Number: 208682. Total removed: 439155\n",
      "Jia et al (2023) Final Number: 173097. Difference: -35585\n"
     ]
    }
   ],
   "source": [
    "Jia_final =173097\n",
    "print(f\"Number of galaxies in GZ1 catalogue: {orig_catalog.shape[0]}\")\n",
    "\n",
    "print(f\"Number of galaxies with no objects within 1 arcsec: {catalog.shape[0]}, removed {orig_catalog.shape[0]-catalog.shape[0]}\")\n",
    "reduced = catalog[np.logical_and(catalog[\"err_r\"]>0,catalog[\"err_r\"]<1)]\n",
    "print(f\"Number of galaxies with r-band magnitude error >0 & <1: {reduced.shape[0]}, removed {catalog.shape[0]-reduced.shape[0]}\")\n",
    "\n",
    "reduced2 = reduced[reduced[\"petroR50_r\"]>1]\n",
    "print(f\"Number of galaxies with r-band half-light radius r50 >1 arcsec: {reduced2.shape[0]}, removed {reduced.shape[0]-reduced2.shape[0]}\")\n",
    "\n",
    "r_band_err = reduced2[\"petroR50Err_r\"]/reduced2[\"petroR50_r\"]\n",
    "reduced3 = reduced2[np.logical_and(r_band_err>0,r_band_err<0.25)]\n",
    "print(f\"Number of galaxies with relative r-band half-light radius error >0 & <0.25: {reduced3.shape[0]}, removed {reduced2.shape[0]-reduced3.shape[0]}\")\n",
    "\n",
    "print(f\"Final Number: {reduced3.shape[0]}. Total removed: {orig_catalog.shape[0]-reduced3.shape[0]}\")\n",
    "print(f\"Jia et al (2023) Final Number: {Jia_final}. Difference: {Jia_final-reduced3.shape[0]}\")\n",
    "reduced3.to_csv(CUT_PATH)"
   ]
  }
 ],
 "metadata": {
  "kernelspec": {
   "display_name": "mphys-galaxy",
   "language": "python",
   "name": "python3"
  },
  "language_info": {
   "codemirror_mode": {
    "name": "ipython",
    "version": 3
   },
   "file_extension": ".py",
   "mimetype": "text/x-python",
   "name": "python",
   "nbconvert_exporter": "python",
   "pygments_lexer": "ipython3",
   "version": "3.11.5"
  }
 },
 "nbformat": 4,
 "nbformat_minor": 2
}

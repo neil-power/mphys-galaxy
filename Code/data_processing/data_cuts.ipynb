{
 "cells": [
  {
   "cell_type": "markdown",
   "metadata": {},
   "source": [
    "## Cuts data "
   ]
  },
  {
   "cell_type": "code",
   "execution_count": 1,
   "metadata": {},
   "outputs": [],
   "source": [
    "import pandas as pd\n",
    "import numpy as np\n",
    "import matplotlib.pyplot as plt"
   ]
  },
  {
   "cell_type": "code",
   "execution_count": 19,
   "metadata": {},
   "outputs": [],
   "source": [
    "OUTPUT_PATH = '../Data/gz1_desi_cross_cat_queried.csv'\n",
    "catalog = pd.read_csv(OUTPUT_PATH)\n"
   ]
  },
  {
   "cell_type": "code",
   "execution_count": 23,
   "metadata": {},
   "outputs": [
    {
     "name": "stdout",
     "output_type": "stream",
     "text": [
      "Number of galaxies in GZ1 catalogue: 647837\n",
      "Number of galaxies with r-band magnitude error >0 & <1: 647030, removed 807\n",
      "Number of galaxies with r-band half-light radius r50 >1 arcsec: 646001, removed 1029\n",
      "Number of galaxies with relative r-band half-light radius error >0 & <0.25: 638425, removed 7576\n",
      "Total removed: 9412\n"
     ]
    }
   ],
   "source": [
    "print(f\"Number of galaxies in GZ1 catalogue: {catalog.shape[0]}\")\n",
    "\n",
    "reduced = catalog[np.logical_and(catalog[\"err_r\"]>0,catalog[\"err_r\"]<1)]\n",
    "print(f\"Number of galaxies with r-band magnitude error >0 & <1: {reduced.shape[0]}, removed {catalog.shape[0]-reduced.shape[0]}\")\n",
    "\n",
    "reduced2 = reduced[reduced[\"petroR50_r\"]>1]\n",
    "print(f\"Number of galaxies with r-band half-light radius r50 >1 arcsec: {reduced2.shape[0]}, removed {reduced.shape[0]-reduced2.shape[0]}\")\n",
    "\n",
    "r_band_err = reduced2[\"petroR50Err_r\"]/reduced2[\"petroR50_r\"]\n",
    "reduced3 = reduced2[np.logical_and(r_band_err>0,r_band_err<0.25)]\n",
    "print(f\"Number of galaxies with relative r-band half-light radius error >0 & <0.25: {reduced3.shape[0]}, removed {reduced2.shape[0]-reduced3.shape[0]}\")\n",
    "print(f\"Total removed: {catalog.shape[0]-reduced3.shape[0]}\")\n",
    "#catalog.head(5)"
   ]
  }
 ],
 "metadata": {
  "kernelspec": {
   "display_name": "mphys-galaxy",
   "language": "python",
   "name": "python3"
  },
  "language_info": {
   "codemirror_mode": {
    "name": "ipython",
    "version": 3
   },
   "file_extension": ".py",
   "mimetype": "text/x-python",
   "name": "python",
   "nbconvert_exporter": "python",
   "pygments_lexer": "ipython3",
   "version": "3.11.5"
  }
 },
 "nbformat": 4,
 "nbformat_minor": 2
}

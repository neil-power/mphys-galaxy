{
 "cells": [
  {
   "cell_type": "code",
   "execution_count": 2,
   "metadata": {},
   "outputs": [],
   "source": [
    "import pandas as pd\n",
    "import numpy as np\n",
    "import shutil\n",
    "import os"
   ]
  },
  {
   "cell_type": "code",
   "execution_count": 3,
   "metadata": {},
   "outputs": [],
   "source": [
    "catalog = pd.read_csv('../Data/gz1_desi_cross_cat.csv')"
   ]
  },
  {
   "cell_type": "code",
   "execution_count": 4,
   "metadata": {},
   "outputs": [
    {
     "name": "stdout",
     "output_type": "stream",
     "text": [
      "Number of galaxies in GZ1 catalogue: 647837\n",
      "Columns: ['Unnamed: 0' 'OBJID' 'RA' 'DEC' 'NVOTE' 'P_EL' 'P_CW' 'P_ACW' 'P_EDGE'\n",
      " 'P_DK' 'P_MG' 'P_CS' 'P_EL_DEBIASED' 'P_CS_DEBIASED' 'SPIRAL'\n",
      " 'ELLIPTICAL' 'UNCERTAIN' 'dr8_id']\n",
      "Number of very CW galaxies in GZ1 catalogue: 14243\n",
      "Number of very ACW galaxies in GZ1 catalogue: 15420\n",
      "Number of very EL galaxies in GZ1 catalogue: 143858\n"
     ]
    }
   ],
   "source": [
    "print(f\"Number of galaxies in GZ1 catalogue: {catalog.shape[0]}\")\n",
    "print(f\"Columns: {catalog.columns.values}\")\n",
    "very_CW_galaxies = catalog[catalog['P_CW']>0.8]\n",
    "print(f\"Number of very CW galaxies in GZ1 catalogue: {very_CW_galaxies.shape[0]}\")\n",
    "\n",
    "very_ACW_galaxies = catalog[catalog['P_ACW']>0.8]\n",
    "print(f\"Number of very ACW galaxies in GZ1 catalogue: {very_ACW_galaxies.shape[0]}\")\n",
    "very_CW_galaxies.head(10)\n",
    "\n",
    "very_EL_galaxies = catalog[catalog['P_EL']>0.8]\n",
    "print(f\"Number of very EL galaxies in GZ1 catalogue: {very_EL_galaxies.shape[0]}\")\n",
    "\n",
    "galaxy_subset = pd.concat([very_CW_galaxies[0:500],very_ACW_galaxies[0:500],very_EL_galaxies[0:500]])\n",
    "galaxy_subset.to_csv('../Data/subset_gz1_desi_cross_cat.csv',index=False)"
   ]
  },
  {
   "cell_type": "code",
   "execution_count": 5,
   "metadata": {},
   "outputs": [],
   "source": [
    "copy = False\n",
    "desi_path = '/share/nas2/walml/galaxy_zoo/decals/dr8/jpg'\n",
    "nas_path = '../Data/Subset'\n",
    "\n",
    "def get_filepath_by_id(dr8_id,folder_path):\n",
    "    brick_id = dr8_id.split('_')[0]\n",
    "    file_loc = f\"{folder_path}/{brick_id}/{dr8_id}.jpg\"\n",
    "    return file_loc\n",
    "\n",
    "if copy:\n",
    "    for index, galaxy in galaxy_subset.iterrows():\n",
    "        g_dr8_id = galaxy['dr8_id']\n",
    "\n",
    "        #ORIGINAL\n",
    "        galaxy_path = get_filepath_by_id(g_dr8_id,desi_path)\n",
    "\n",
    "        #NEW\n",
    "        new_path = get_filepath_by_id(g_dr8_id,nas_path)\n",
    "\n",
    "        #MAKE FOLDER IN NEW\n",
    "        os.makedirs(os.path.dirname(new_path), exist_ok=True)\n",
    "\n",
    "        #COPY\n",
    "        shutil.copy(galaxy_path, new_path)"
   ]
  },
  {
   "cell_type": "code",
   "execution_count": 21,
   "metadata": {},
   "outputs": [
    {
     "data": {
      "text/plain": [
       "5      ../Data/Subset/265946/265946_2961.jpg\n",
       "107    ../Data/Subset/265992/265992_3062.jpg\n",
       "199    ../Data/Subset/267371/267371_3388.jpg\n",
       "232    ../Data/Subset/267376/267376_4284.jpg\n",
       "258    ../Data/Subset/267384/267384_3393.jpg\n",
       "dtype: object"
      ]
     },
     "execution_count": 21,
     "metadata": {},
     "output_type": "execute_result"
    }
   ],
   "source": [
    "folder_path = '../Data/Subset'\n",
    "\n",
    "def get_file_paths(catalog_to_convert,folder_path ):\n",
    "    brick_ids = catalog_to_convert['dr8_id'].str.split(\"_\",expand=True)[0]\n",
    "    dr8_ids = catalog_to_convert['dr8_id']\n",
    "    file_locations = folder_path+'/'+brick_ids+'/'+dr8_ids+'.jpg'\n",
    "    return file_locations\n",
    "  \n",
    "file_locations = get_file_paths(galaxy_subset,folder_path)\n",
    "file_locations.head(5)"
   ]
  }
 ],
 "metadata": {
  "kernelspec": {
   "display_name": "mphys-galaxy",
   "language": "python",
   "name": "python3"
  },
  "language_info": {
   "codemirror_mode": {
    "name": "ipython",
    "version": 3
   },
   "file_extension": ".py",
   "mimetype": "text/x-python",
   "name": "python",
   "nbconvert_exporter": "python",
   "pygments_lexer": "ipython3",
   "version": "3.11.5"
  }
 },
 "nbformat": 4,
 "nbformat_minor": 2
}

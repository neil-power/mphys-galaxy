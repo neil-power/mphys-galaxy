{
 "cells": [
  {
   "cell_type": "markdown",
   "metadata": {},
   "source": [
    "# Generally useful functions"
   ]
  },
  {
   "cell_type": "code",
   "execution_count": null,
   "metadata": {},
   "outputs": [],
   "source": [
    "import pandas as pd\n",
    "import numpy as np\n",
    "import os\n",
    "import math"
   ]
  },
  {
   "cell_type": "code",
   "execution_count": null,
   "metadata": {},
   "outputs": [],
   "source": [
    "#Splits dataframe into batches, returns array of dataframes\n",
    "\n",
    "def split_dataframe(data, no_of_batches):\n",
    "    batch_size = math.ceil(data.shape[0] / no_of_batches)\n",
    "    batched_df = [data[i:i+batch_size] for i in range(0,data.shape[0], batch_size)]\n",
    "    return batched_df\n",
    "\n",
    "test = pd.DataFrame(np.random.randint(0,100,size=(100, 4)), columns=list('ABCD'))\n",
    "batched_df = split_dataframe(test,10)\n",
    "\n",
    "output_path = \"test.csv\"\n",
    "os.remove(\"test.csv\")\n",
    "\n",
    "for batch in batched_df:\n",
    "\n",
    "    #Operation for batch goes here\n",
    "    \n",
    "    batch.to_csv(output_path, mode='a', header=not os.path.exists(output_path))"
   ]
  },
  {
   "cell_type": "code",
   "execution_count": null,
   "metadata": {},
   "outputs": [],
   "source": [
    "#Gets paths for every item in a pandas dataframe, returns dataframe of paths\n",
    "\n",
    "catalog = pd.read_csv('../Data/gz1_desi_cross_cat.csv')\n",
    "folder_path = '../Data/Subset'\n",
    "\n",
    "def get_file_paths(catalog_to_convert,folder_path ):\n",
    "    brick_ids = catalog_to_convert['dr8_id'].str.split(\"_\",expand=True)[0]\n",
    "    dr8_ids = catalog_to_convert['dr8_id']\n",
    "    file_locations = folder_path+'/'+brick_ids+'/'+dr8_ids+'.jpg'\n",
    "    return file_locations\n",
    "  \n",
    "file_locations = get_file_paths(catalog,folder_path)\n",
    "file_locations.head(5)"
   ]
  },
  {
   "cell_type": "code",
   "execution_count": null,
   "metadata": {},
   "outputs": [],
   "source": [
    "#Gets file path by ID\n",
    "\n",
    "folder_path = '../Data/Subset'\n",
    "\n",
    "def get_filepath_by_id(dr8_id,folder_path):\n",
    "    brick_id = dr8_id.split('_')[0]\n",
    "    file_loc = f\"{folder_path}/{brick_id}/{dr8_id}.jpg\"\n",
    "    return file_loc"
   ]
  },
  {
   "cell_type": "code",
   "execution_count": null,
   "metadata": {},
   "outputs": [],
   "source": [
    "# Tests if files exist\n",
    "\n",
    "file_paths = get_file_paths(catalog,folder_path)\n",
    "\n",
    "def check_exists(file_paths):\n",
    "    results = []\n",
    "    for i in range(10):\n",
    "        exists = os.path.isfile(file_paths[i])\n",
    "        print(file_paths[i], exists)\n",
    "        results.append(f\"{file_paths[i]} ({exists})\")\n",
    "\n",
    "    results = np.array(results).astype('str')\n",
    "    np.savetxt('results.csv',results,delimiter=\",\",fmt='%s')"
   ]
  }
 ],
 "metadata": {
  "kernelspec": {
   "display_name": "mphys-galaxy",
   "language": "python",
   "name": "python3"
  },
  "language_info": {
   "name": "python",
   "version": "3.11.5"
  }
 },
 "nbformat": 4,
 "nbformat_minor": 2
}

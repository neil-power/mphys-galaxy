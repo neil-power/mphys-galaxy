{
 "cells": [
  {
   "cell_type": "code",
   "execution_count": null,
   "metadata": {},
   "outputs": [],
   "source": [
    "from custom_models.G_ResNet_18 import G_ResNet18\n",
    "from custom_models.Jia_ResNet import JiaResnet\n",
    "from custom_models.LeNet import VanillaLeNet\n",
    "from custom_models.Steerable_LeNet import CNSteerableLeNet"
   ]
  },
  {
   "cell_type": "code",
   "execution_count": null,
   "metadata": {},
   "outputs": [],
   "source": [
    "model_versions = {\n",
    "        \"resnet18\": models.resnet18,\n",
    "        \"resnet34\": models.resnet34,\n",
    "        \"resnet50\": models.resnet50,\n",
    "        \"resnet101\": models.resnet101,\n",
    "        \"resnet152\": models.resnet152,\n",
    "        \"jiaresnet50\": JiaResnet,\n",
    "        \"G_ResNet18\": G_ResNet18,\n",
    "        \"LeNet\": VanillaLeNet,\n",
    "        \"G_LeNet\": CNSteerableLeNet\n",
    "    }"
   ]
  }
 ],
 "metadata": {
  "language_info": {
   "name": "python"
  }
 },
 "nbformat": 4,
 "nbformat_minor": 2
}

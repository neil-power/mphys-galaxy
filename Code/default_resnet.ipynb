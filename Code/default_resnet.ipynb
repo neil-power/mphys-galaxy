{
 "cells": [
  {
   "cell_type": "markdown",
   "metadata": {},
   "source": [
    "# Using the default resnet"
   ]
  },
  {
   "cell_type": "markdown",
   "metadata": {},
   "source": [
    "## Imports"
   ]
  },
  {
   "cell_type": "code",
   "execution_count": 2,
   "metadata": {},
   "outputs": [],
   "source": [
    "import pandas as pd\n",
    "import torch\n",
    "import os\n",
    "import matplotlib.pyplot as plt\n",
    "from scipy import ndimage\n",
    "from PIL import Image\n",
    "import numpy as np\n",
    "import torch.nn as nn\n",
    "import torch.optim as optim\n",
    "from torch.utils.data import TensorDataset,Subset\n",
    "from torchvision.models import resnet18\n",
    "from torcheval.metrics import MulticlassAccuracy, BinaryAccuracy"
   ]
  },
  {
   "cell_type": "markdown",
   "metadata": {},
   "source": [
    "## Parameters"
   ]
  },
  {
   "cell_type": "code",
   "execution_count": 3,
   "metadata": {},
   "outputs": [],
   "source": [
    "USE_GPU = True\n",
    "CATALOG_PATH = '../Data/subset_gz1_desi_cross_cat.csv'\n",
    "DATA_PATH = '../Data/Subset'"
   ]
  },
  {
   "cell_type": "code",
   "execution_count": 4,
   "metadata": {},
   "outputs": [
    {
     "name": "stdout",
     "output_type": "stream",
     "text": [
      "NVIDIA A100-PCIE-40GB\n",
      "Memory Usage:\n",
      "Allocated: 0.0 GB\n",
      "Cached:    0.0 GB\n",
      "Using device: cuda\n"
     ]
    }
   ],
   "source": [
    "#Run processes on CPU or GPU\n",
    "if USE_GPU:\n",
    "    device = torch.device('cuda' if torch.cuda.is_available() else 'cpu')\n",
    "    if device.type == 'cuda':\n",
    "        print(torch.cuda.get_device_name(0))\n",
    "        print('Memory Usage:')\n",
    "        print('Allocated:', round(torch.cuda.memory_allocated(0)/1024**3,1), 'GB')\n",
    "        print('Cached:   ', round(torch.cuda.memory_reserved(0)/1024**3,1), 'GB')\n",
    "else:\n",
    "    device = torch.device('cpu')\n",
    "\n",
    "print('Using device:', device)"
   ]
  },
  {
   "cell_type": "markdown",
   "metadata": {},
   "source": [
    "## Importing data"
   ]
  },
  {
   "cell_type": "code",
   "execution_count": 5,
   "metadata": {},
   "outputs": [
    {
     "name": "stdout",
     "output_type": "stream",
     "text": [
      "Loaded 1000 galaxy images\n"
     ]
    }
   ],
   "source": [
    "catalog = pd.read_csv(CATALOG_PATH)\n",
    "\n",
    "#Select only S or Z \n",
    "catalog = catalog[catalog['P_EL']<0.8]\n",
    "\n",
    "\n",
    "print(f\"Loaded {catalog.shape[0]} galaxy images\")\n",
    "\n",
    "#Select features (clockwise and anti-clockwise probabilities)\n",
    "Y = catalog[['P_CW','P_ACW']]\n",
    "classes = [r'P_CW',r'P_ACW']"
   ]
  },
  {
   "cell_type": "markdown",
   "metadata": {},
   "source": [
    "### Generate list of file locations from catalog"
   ]
  },
  {
   "cell_type": "code",
   "execution_count": 6,
   "metadata": {},
   "outputs": [],
   "source": [
    "def get_file_paths(catalog_to_convert,folder_path ):\n",
    "    brick_ids = catalog_to_convert['dr8_id'].str.split(\"_\",expand=True)[0]\n",
    "    dr8_ids = catalog_to_convert['dr8_id']\n",
    "    file_locations = folder_path+'/'+brick_ids+'/'+dr8_ids+'.jpg'\n",
    "    return file_locations\n",
    "\n",
    "file_locations = get_file_paths(catalog,DATA_PATH)"
   ]
  },
  {
   "cell_type": "markdown",
   "metadata": {},
   "source": [
    "### Image processing functions"
   ]
  },
  {
   "cell_type": "code",
   "execution_count": 7,
   "metadata": {},
   "outputs": [],
   "source": [
    "COLOR = True\n",
    "RAW_SIZE = 15\n",
    "IMG_SIZE = 160\n",
    "\n",
    "TARGET_SIZE = 5\n",
    "TRANSLATE = 0.\n",
    "ROTATE = False\n",
    "FLIP = False\n",
    "LABEL = 2\n",
    "SHUFFLE = False\n",
    "\n",
    "\n",
    "def img_proc(img, raw_size=RAW_SIZE, target_size=TARGET_SIZE, translate=TRANSLATE, rotate=ROTATE,\n",
    "             random_generator=None):\n",
    "    assert img.shape[-2] == img.shape[-1]\n",
    "    assert translate >= 0\n",
    "    \n",
    "    if random_generator is None:\n",
    "        random_generator = int.from_bytes(os.urandom(4), byteorder='little')\n",
    "    rng = np.random.default_rng(random_generator)\n",
    "\n",
    "    if not isinstance(target_size, (float, int)):\n",
    "        target_size = rng.uniform(*target_size)\n",
    "    if rotate:\n",
    "        assert target_size * (1 + translate) * 2**0.5 < raw_size\n",
    "        if isinstance(rotate, bool):\n",
    "            rotate = rng.uniform(0., 360.)\n",
    "        img = ndimage.rotate(img, rotate, axes=(-1, -2), reshape=False, order=1)\n",
    "    else:\n",
    "        assert target_size * (1 + translate) < raw_size\n",
    "    s = img.shape[-1]\n",
    "    translate = translate * target_size\n",
    "    t_x = rng.uniform(-translate, translate) if translate > 0 else 0\n",
    "    t_y = rng.uniform(-translate, translate) if translate > 0 else 0\n",
    "    a = int(s * (raw_size - target_size + t_x) / (2 * raw_size))\n",
    "    b = int(s * (raw_size - target_size + t_y) / (2 * raw_size))\n",
    "    c = int(s * target_size / raw_size)\n",
    "    return img[..., a:(a + c), b:(b + c)]\n",
    "\n",
    "\n",
    "def read_img(path, color=COLOR, img_size=IMG_SIZE, atleast_3d=True, random_flip=FLIP,\n",
    "             shuffle_channel=SHUFFLE, random_generator=None, **kwargs):\n",
    "    if random_generator is None:\n",
    "        random_generator = int.from_bytes(os.urandom(4), byteorder='little')\n",
    "    rng = np.random.default_rng(random_generator)\n",
    "\n",
    "    jpeg_file = (np.asarray(Image.open(path)) / 255).astype(np.float32)\n",
    "    if color:\n",
    "        img = np.moveaxis(jpeg_file, -1, 0)\n",
    "        if shuffle_channel:\n",
    "            if isinstance(shuffle_channel, bool):\n",
    "                shuffle_channel = rng.permutation(img.shape[0])\n",
    "            img = img[shuffle_channel]\n",
    "    else:\n",
    "        img = np.mean(jpeg_file, axis=-1)\n",
    "    img = img_proc(img, random_generator=rng, **kwargs)\n",
    "    rng.uniform(size=100) # just to jump the rng\n",
    "\n",
    "    if img_size is not None:\n",
    "        z = img_size / img.shape[-1]\n",
    "        if img.ndim == 2:\n",
    "            img = ndimage.zoom(img, (z, z), order=1)\n",
    "            if atleast_3d:\n",
    "                img = img[np.newaxis]\n",
    "        elif img.ndim == 3:\n",
    "            img = ndimage.zoom(img, (1, z, z), order=1)\n",
    "        else:\n",
    "            raise RuntimeError\n",
    "\n",
    "    if random_flip:\n",
    "        flip = int(rng.integers(0, 2, 1))\n",
    "        flip = 2 * flip - 1\n",
    "    else:\n",
    "        flip = 1\n",
    "    return np.ascontiguousarray(img[..., ::flip])"
   ]
  },
  {
   "cell_type": "markdown",
   "metadata": {},
   "source": [
    "### Reading in images"
   ]
  },
  {
   "cell_type": "code",
   "execution_count": 8,
   "metadata": {},
   "outputs": [],
   "source": [
    "#Takes 2 mins 20\n",
    "X = torch.empty(0, 3, 160,160)\n",
    "for i in range(len(file_locations)):\n",
    "    X = torch.cat((X, torch.from_numpy(read_img(file_locations[i])).float()[np.newaxis]), 0)"
   ]
  },
  {
   "cell_type": "code",
   "execution_count": 9,
   "metadata": {},
   "outputs": [
    {
     "name": "stdout",
     "output_type": "stream",
     "text": [
      "Processed 1000 images\n"
     ]
    }
   ],
   "source": [
    "print(f\"Processed {X.shape[0]} images\")"
   ]
  },
  {
   "cell_type": "markdown",
   "metadata": {},
   "source": [
    "## Setting up model"
   ]
  },
  {
   "cell_type": "code",
   "execution_count": 10,
   "metadata": {},
   "outputs": [],
   "source": [
    "selected_model = resnet18(num_classes=2)\n",
    "if torch.cuda.is_available():\n",
    "    selected_model.cuda()"
   ]
  },
  {
   "cell_type": "markdown",
   "metadata": {},
   "source": [
    "### Hyperparameters"
   ]
  },
  {
   "cell_type": "code",
   "execution_count": 11,
   "metadata": {},
   "outputs": [],
   "source": [
    "learning_rate = 0.01\n",
    "weight_decay = 1\n",
    "\n",
    "num_epochs = 120\n",
    "batch_size = 60 #60\n",
    "\n",
    "modfile = 'resnet18_modfile.pt'"
   ]
  },
  {
   "cell_type": "markdown",
   "metadata": {},
   "source": [
    "### Training model function"
   ]
  },
  {
   "cell_type": "code",
   "execution_count": 12,
   "metadata": {},
   "outputs": [],
   "source": [
    "def train(model, trainloader, optimiser, device):\n",
    "    train_loss = 0.0\n",
    "    model.train()\n",
    "\n",
    "    for batch_idx, (data, labels) in enumerate(trainloader):\n",
    "        data, labels = data.to(device), labels.to(device)\n",
    "        optimiser.zero_grad()\n",
    "\n",
    "        #Calculate train loss\n",
    "        #Softmax output and labels for passing to cross-entropy function\n",
    "        p_y = model(data).softmax(dim=1)\n",
    "        labels = labels.softmax(dim=1).to(device) \n",
    "\n",
    "        loss_criterion = nn.CrossEntropyLoss()\n",
    "        loss = loss_criterion(p_y, labels)\n",
    "            \n",
    "        train_loss += loss.item() * data.size(0)\n",
    "        \n",
    "        #Feed the loss back\n",
    "        loss.backward()\n",
    "        optimiser.step()\n",
    "\n",
    "    train_loss /= len(trainloader.dataset)\n",
    "    return train_loss"
   ]
  },
  {
   "cell_type": "markdown",
   "metadata": {},
   "source": [
    "### Validating model function"
   ]
  },
  {
   "cell_type": "code",
   "execution_count": 13,
   "metadata": {},
   "outputs": [],
   "source": [
    "def accuracy(true_labels, predicted_labels):\n",
    "    #Takes in softmaxed labels\n",
    "    cut = 0.8\n",
    "    true_labels = true_labels>=cut\n",
    "    predicted_labels = predicted_labels >= cut\n",
    "    #metric = MulticlassAccuracy()\n",
    "    metric = BinaryAccuracy()\n",
    "\n",
    "    metric.update(true_labels[:,0], predicted_labels[:,0])\n",
    "    test_accuracy = metric.compute()\n",
    "    return test_accuracy\n",
    "\n",
    "\n",
    "#function to test the model on data\n",
    "def validate(model, testloader, device):\n",
    "    test_loss = 0.0\n",
    "    test_accuracy = 0.0\n",
    "\n",
    "    model.eval()\n",
    "    with torch.no_grad():\n",
    "        for batch_idx, (data, labels) in enumerate(testloader):\n",
    "            data, labels = data.to(device), labels.to(device)\n",
    "\n",
    "            #Softmax output and labels for passing to cross-entropy function\n",
    "            p_y = model(data).softmax(dim=1)\n",
    "            labels = labels.softmax(dim=1).to(device)\n",
    "\n",
    "            test_accuracy = accuracy(p_y,labels)\n",
    "\n",
    "            #Calculate test loss         \n",
    "            loss_criterion = nn.CrossEntropyLoss()\n",
    "            loss = loss_criterion(p_y, labels)\n",
    "            test_loss += loss.item() * data.size(0)\n",
    "\n",
    "        test_loss /= len(testloader.dataset)\n",
    "        \n",
    "    return test_loss, test_accuracy"
   ]
  },
  {
   "cell_type": "markdown",
   "metadata": {},
   "source": [
    "### Split data into train and test"
   ]
  },
  {
   "cell_type": "code",
   "execution_count": 14,
   "metadata": {},
   "outputs": [],
   "source": [
    "def data_split(frac_val, data):\n",
    "    dataset_size = len(data)\n",
    "    nval = int(frac_val*dataset_size)\n",
    "\n",
    "    indices = list(range(dataset_size))\n",
    "    train_indices, val_indices = indices[nval:], indices[:nval]\n",
    "\n",
    "    train_sampler = Subset(data, train_indices)\n",
    "    valid_sampler = Subset(data, val_indices)\n",
    "\n",
    "    train_loader = torch.utils.data.DataLoader(train_sampler, batch_size=batch_size, shuffle=True)\n",
    "    test_loader = torch.utils.data.DataLoader(valid_sampler, batch_size=batch_size, shuffle=True)\n",
    "    return train_loader, test_loader"
   ]
  },
  {
   "cell_type": "markdown",
   "metadata": {},
   "source": [
    "## Running model"
   ]
  },
  {
   "cell_type": "code",
   "execution_count": 15,
   "metadata": {},
   "outputs": [],
   "source": [
    "#function to run the entire model train/test loop\n",
    "TEST_USE = False\n",
    "early_stopping = True\n",
    "QUIET = False\n",
    "\n",
    "def test_train_model(X,Y,model):\n",
    "    X_tensor = X\n",
    "    Y_tensor = torch.from_numpy(Y.values).float()\n",
    "\n",
    "    dataset = TensorDataset(X_tensor, Y_tensor)\n",
    "    train_loader,val_loader = data_split(0.7,dataset)\n",
    "\n",
    "    if TEST_USE: #Doesn't currently work\n",
    "        val_loader, test_loader = data_split(0.5,val_loader)\n",
    "\n",
    "    #optimizer and learning rate scheduler\n",
    "    optimizer = optim.AdamW(model.parameters(), lr=learning_rate, weight_decay = weight_decay)#0.005, #0.01\n",
    "    #scheduler = torch.optim.lr_scheduler.StepLR(optimizer, step_size=5, gamma=0.85)\n",
    "\n",
    "    #array to store metrics\n",
    "    result_arr = np.zeros((num_epochs,4))\n",
    "\n",
    "    _bestloss = 1.\n",
    "    #NN learning\n",
    "    for epoch in range(num_epochs):\n",
    "    \n",
    "        train_loss = train(model, train_loader, optimizer, device)\n",
    "        val_loss, test_accuracy = validate(model, val_loader, device)\n",
    "        \n",
    "        #scheduler.step() \n",
    "\n",
    "        if early_stopping and val_loss<_bestloss:\n",
    "            _bestloss = val_loss\n",
    "            torch.save(model.state_dict(), modfile)\n",
    "            best_epoch = epoch\n",
    "\n",
    "        #set output row\n",
    "        results = [epoch, train_loss, val_loss,test_accuracy]\n",
    "        result_arr[epoch] = results\n",
    "\n",
    "        #print epoch results\n",
    "        if not QUIET:\n",
    "            print(f\"Epoch: {epoch}, Train Loss: {train_loss:4f}, Validation Loss: {val_loss:4f}, Accuracy: {test_accuracy:4f}, Learning Rate: {optimizer.param_groups[0]['lr']:4f}\")\n",
    "    \n",
    "    test_arr=[]\n",
    "    if TEST_USE:\n",
    "        #Test data run\n",
    "        bestmodel=selected_model().to(device)\n",
    "        bestmodel.load_state_dict(torch.load('modfile.pt'))\n",
    "        test_loss, test_accuracy, test_auc, prediction2,target2,  recall2, f12, precision2 = validate(bestmodel, test_loader, device)\n",
    "        test_arr=[test_loss, test_accuracy, test_auc, prediction2,target2,  recall2, f12, precision2]\n",
    "\n",
    "    if not early_stopping:\n",
    "        torch.save(model.state_dict(), modfile)\n",
    "        best_epoch = -1\n",
    "\n",
    "    return result_arr, test_arr, best_epoch"
   ]
  },
  {
   "cell_type": "markdown",
   "metadata": {},
   "source": [
    "## Actually run model"
   ]
  },
  {
   "cell_type": "code",
   "execution_count": 16,
   "metadata": {},
   "outputs": [
    {
     "name": "stdout",
     "output_type": "stream",
     "text": [
      "Epoch: 0, Train Loss: 0.623352, Validation Loss: 0.903883, Accuracy: 1.000000, Learning Rate: 0.010000\n",
      "Epoch: 1, Train Loss: 0.599914, Validation Loss: 0.903883, Accuracy: 1.000000, Learning Rate: 0.010000\n",
      "Epoch: 2, Train Loss: 0.599917, Validation Loss: 0.903883, Accuracy: 1.000000, Learning Rate: 0.010000\n",
      "Epoch: 3, Train Loss: 0.599917, Validation Loss: 0.903881, Accuracy: 1.000000, Learning Rate: 0.010000\n",
      "Epoch: 4, Train Loss: 0.599915, Validation Loss: 0.903820, Accuracy: 1.000000, Learning Rate: 0.010000\n",
      "Epoch: 5, Train Loss: 0.599903, Validation Loss: 0.903450, Accuracy: 1.000000, Learning Rate: 0.010000\n",
      "Epoch: 6, Train Loss: 0.599842, Validation Loss: 0.902456, Accuracy: 1.000000, Learning Rate: 0.010000\n",
      "Epoch: 7, Train Loss: 0.599557, Validation Loss: 0.898844, Accuracy: 1.000000, Learning Rate: 0.010000\n",
      "Epoch: 8, Train Loss: 0.599504, Validation Loss: 0.894658, Accuracy: 1.000000, Learning Rate: 0.010000\n",
      "Epoch: 9, Train Loss: 0.599396, Validation Loss: 0.880870, Accuracy: 1.000000, Learning Rate: 0.010000\n",
      "Epoch: 10, Train Loss: 0.599392, Validation Loss: 0.871273, Accuracy: 1.000000, Learning Rate: 0.010000\n",
      "Epoch: 11, Train Loss: 0.599364, Validation Loss: 0.869957, Accuracy: 1.000000, Learning Rate: 0.010000\n",
      "Epoch: 12, Train Loss: 0.599339, Validation Loss: 0.871519, Accuracy: 1.000000, Learning Rate: 0.010000\n",
      "Epoch: 13, Train Loss: 0.599330, Validation Loss: 0.872731, Accuracy: 1.000000, Learning Rate: 0.010000\n",
      "Epoch: 14, Train Loss: 0.599308, Validation Loss: 0.867220, Accuracy: 1.000000, Learning Rate: 0.010000\n",
      "Epoch: 15, Train Loss: 0.599213, Validation Loss: 0.866972, Accuracy: 1.000000, Learning Rate: 0.010000\n",
      "Epoch: 16, Train Loss: 0.599217, Validation Loss: 0.865521, Accuracy: 1.000000, Learning Rate: 0.010000\n",
      "Epoch: 17, Train Loss: 0.599178, Validation Loss: 0.859255, Accuracy: 1.000000, Learning Rate: 0.010000\n",
      "Epoch: 18, Train Loss: 0.599189, Validation Loss: 0.851951, Accuracy: 1.000000, Learning Rate: 0.010000\n",
      "Epoch: 19, Train Loss: 0.599115, Validation Loss: 0.847798, Accuracy: 1.000000, Learning Rate: 0.010000\n",
      "Epoch: 20, Train Loss: 0.599134, Validation Loss: 0.845068, Accuracy: 1.000000, Learning Rate: 0.010000\n",
      "Epoch: 21, Train Loss: 0.599166, Validation Loss: 0.851157, Accuracy: 1.000000, Learning Rate: 0.010000\n",
      "Epoch: 22, Train Loss: 0.599124, Validation Loss: 0.845275, Accuracy: 1.000000, Learning Rate: 0.010000\n",
      "Epoch: 23, Train Loss: 0.599081, Validation Loss: 0.845270, Accuracy: 1.000000, Learning Rate: 0.010000\n",
      "Epoch: 24, Train Loss: 0.599126, Validation Loss: 0.841611, Accuracy: 1.000000, Learning Rate: 0.010000\n",
      "Epoch: 25, Train Loss: 0.599118, Validation Loss: 0.831343, Accuracy: 1.000000, Learning Rate: 0.010000\n",
      "Epoch: 26, Train Loss: 0.599045, Validation Loss: 0.844421, Accuracy: 1.000000, Learning Rate: 0.010000\n",
      "Epoch: 27, Train Loss: 0.599034, Validation Loss: 0.856159, Accuracy: 1.000000, Learning Rate: 0.010000\n",
      "Epoch: 28, Train Loss: 0.599026, Validation Loss: 0.840743, Accuracy: 1.000000, Learning Rate: 0.010000\n",
      "Epoch: 29, Train Loss: 0.599048, Validation Loss: 0.816726, Accuracy: 1.000000, Learning Rate: 0.010000\n",
      "Epoch: 30, Train Loss: 0.599027, Validation Loss: 0.814133, Accuracy: 1.000000, Learning Rate: 0.010000\n",
      "Epoch: 31, Train Loss: 0.599053, Validation Loss: 0.821834, Accuracy: 1.000000, Learning Rate: 0.010000\n",
      "Epoch: 32, Train Loss: 0.599033, Validation Loss: 0.826113, Accuracy: 1.000000, Learning Rate: 0.010000\n",
      "Epoch: 33, Train Loss: 0.599000, Validation Loss: 0.830050, Accuracy: 1.000000, Learning Rate: 0.010000\n",
      "Epoch: 34, Train Loss: 0.598985, Validation Loss: 0.833563, Accuracy: 1.000000, Learning Rate: 0.010000\n",
      "Epoch: 35, Train Loss: 0.598980, Validation Loss: 0.834833, Accuracy: 1.000000, Learning Rate: 0.010000\n",
      "Epoch: 36, Train Loss: 0.598969, Validation Loss: 0.839648, Accuracy: 1.000000, Learning Rate: 0.010000\n",
      "Epoch: 37, Train Loss: 0.598944, Validation Loss: 0.840163, Accuracy: 1.000000, Learning Rate: 0.010000\n",
      "Epoch: 38, Train Loss: 0.598928, Validation Loss: 0.833851, Accuracy: 1.000000, Learning Rate: 0.010000\n",
      "Epoch: 39, Train Loss: 0.598973, Validation Loss: 0.836935, Accuracy: 1.000000, Learning Rate: 0.010000\n",
      "Epoch: 40, Train Loss: 0.598946, Validation Loss: 0.840051, Accuracy: 1.000000, Learning Rate: 0.010000\n",
      "Epoch: 41, Train Loss: 0.599006, Validation Loss: 0.826185, Accuracy: 1.000000, Learning Rate: 0.010000\n",
      "Epoch: 42, Train Loss: 0.598998, Validation Loss: 0.837781, Accuracy: 1.000000, Learning Rate: 0.010000\n",
      "Epoch: 43, Train Loss: 0.598928, Validation Loss: 0.841250, Accuracy: 1.000000, Learning Rate: 0.010000\n",
      "Epoch: 44, Train Loss: 0.598895, Validation Loss: 0.852405, Accuracy: 1.000000, Learning Rate: 0.010000\n",
      "Epoch: 45, Train Loss: 0.598943, Validation Loss: 0.855488, Accuracy: 1.000000, Learning Rate: 0.010000\n",
      "Epoch: 46, Train Loss: 0.598949, Validation Loss: 0.841214, Accuracy: 1.000000, Learning Rate: 0.010000\n",
      "Epoch: 47, Train Loss: 0.598916, Validation Loss: 0.838250, Accuracy: 1.000000, Learning Rate: 0.010000\n",
      "Epoch: 48, Train Loss: 0.598900, Validation Loss: 0.845023, Accuracy: 1.000000, Learning Rate: 0.010000\n",
      "Epoch: 49, Train Loss: 0.598886, Validation Loss: 0.853012, Accuracy: 1.000000, Learning Rate: 0.010000\n",
      "Epoch: 50, Train Loss: 0.598920, Validation Loss: 0.862314, Accuracy: 1.000000, Learning Rate: 0.010000\n",
      "Epoch: 51, Train Loss: 0.598899, Validation Loss: 0.849931, Accuracy: 1.000000, Learning Rate: 0.010000\n",
      "Epoch: 52, Train Loss: 0.598953, Validation Loss: 0.861284, Accuracy: 1.000000, Learning Rate: 0.010000\n",
      "Epoch: 53, Train Loss: 0.599008, Validation Loss: 0.864700, Accuracy: 1.000000, Learning Rate: 0.010000\n",
      "Epoch: 54, Train Loss: 0.598950, Validation Loss: 0.852970, Accuracy: 1.000000, Learning Rate: 0.010000\n",
      "Epoch: 55, Train Loss: 0.598920, Validation Loss: 0.846140, Accuracy: 1.000000, Learning Rate: 0.010000\n",
      "Epoch: 56, Train Loss: 0.598881, Validation Loss: 0.859280, Accuracy: 1.000000, Learning Rate: 0.010000\n",
      "Epoch: 57, Train Loss: 0.598936, Validation Loss: 0.859429, Accuracy: 1.000000, Learning Rate: 0.010000\n",
      "Epoch: 58, Train Loss: 0.598950, Validation Loss: 0.889875, Accuracy: 1.000000, Learning Rate: 0.010000\n",
      "Epoch: 59, Train Loss: 0.598916, Validation Loss: 0.882400, Accuracy: 1.000000, Learning Rate: 0.010000\n",
      "Epoch: 60, Train Loss: 0.598898, Validation Loss: 0.879300, Accuracy: 1.000000, Learning Rate: 0.010000\n",
      "Epoch: 61, Train Loss: 0.598894, Validation Loss: 0.868375, Accuracy: 1.000000, Learning Rate: 0.010000\n",
      "Epoch: 62, Train Loss: 0.598858, Validation Loss: 0.881273, Accuracy: 1.000000, Learning Rate: 0.010000\n",
      "Epoch: 63, Train Loss: 0.598955, Validation Loss: 0.840258, Accuracy: 1.000000, Learning Rate: 0.010000\n",
      "Epoch: 64, Train Loss: 0.598914, Validation Loss: 0.849941, Accuracy: 1.000000, Learning Rate: 0.010000\n",
      "Epoch: 65, Train Loss: 0.598875, Validation Loss: 0.888166, Accuracy: 1.000000, Learning Rate: 0.010000\n",
      "Epoch: 66, Train Loss: 0.598900, Validation Loss: 0.854171, Accuracy: 1.000000, Learning Rate: 0.010000\n",
      "Epoch: 67, Train Loss: 0.598876, Validation Loss: 0.886637, Accuracy: 1.000000, Learning Rate: 0.010000\n",
      "Epoch: 68, Train Loss: 0.598875, Validation Loss: 0.895497, Accuracy: 1.000000, Learning Rate: 0.010000\n",
      "Epoch: 69, Train Loss: 0.598871, Validation Loss: 0.878162, Accuracy: 1.000000, Learning Rate: 0.010000\n",
      "Epoch: 70, Train Loss: 0.598855, Validation Loss: 0.841703, Accuracy: 1.000000, Learning Rate: 0.010000\n",
      "Epoch: 71, Train Loss: 0.598852, Validation Loss: 0.885552, Accuracy: 1.000000, Learning Rate: 0.010000\n",
      "Epoch: 72, Train Loss: 0.598862, Validation Loss: 0.894084, Accuracy: 1.000000, Learning Rate: 0.010000\n",
      "Epoch: 73, Train Loss: 0.598890, Validation Loss: 0.881263, Accuracy: 1.000000, Learning Rate: 0.010000\n",
      "Epoch: 74, Train Loss: 0.598920, Validation Loss: 0.871260, Accuracy: 1.000000, Learning Rate: 0.010000\n",
      "Epoch: 75, Train Loss: 0.598856, Validation Loss: 0.877195, Accuracy: 1.000000, Learning Rate: 0.010000\n",
      "Epoch: 76, Train Loss: 0.598815, Validation Loss: 0.869010, Accuracy: 1.000000, Learning Rate: 0.010000\n",
      "Epoch: 77, Train Loss: 0.598895, Validation Loss: 0.878346, Accuracy: 1.000000, Learning Rate: 0.010000\n",
      "Epoch: 78, Train Loss: 0.598886, Validation Loss: 0.862307, Accuracy: 1.000000, Learning Rate: 0.010000\n",
      "Epoch: 79, Train Loss: 0.598891, Validation Loss: 0.874024, Accuracy: 1.000000, Learning Rate: 0.010000\n",
      "Epoch: 80, Train Loss: 0.598845, Validation Loss: 0.886976, Accuracy: 1.000000, Learning Rate: 0.010000\n",
      "Epoch: 81, Train Loss: 0.598812, Validation Loss: 0.876154, Accuracy: 1.000000, Learning Rate: 0.010000\n",
      "Epoch: 82, Train Loss: 0.598827, Validation Loss: 0.864393, Accuracy: 1.000000, Learning Rate: 0.010000\n",
      "Epoch: 83, Train Loss: 0.598815, Validation Loss: 0.872261, Accuracy: 1.000000, Learning Rate: 0.010000\n",
      "Epoch: 84, Train Loss: 0.598788, Validation Loss: 0.875091, Accuracy: 1.000000, Learning Rate: 0.010000\n",
      "Epoch: 85, Train Loss: 0.598819, Validation Loss: 0.865624, Accuracy: 1.000000, Learning Rate: 0.010000\n",
      "Epoch: 86, Train Loss: 0.598801, Validation Loss: 0.870512, Accuracy: 1.000000, Learning Rate: 0.010000\n",
      "Epoch: 87, Train Loss: 0.598817, Validation Loss: 0.883566, Accuracy: 1.000000, Learning Rate: 0.010000\n",
      "Epoch: 88, Train Loss: 0.598827, Validation Loss: 0.874084, Accuracy: 1.000000, Learning Rate: 0.010000\n",
      "Epoch: 89, Train Loss: 0.598837, Validation Loss: 0.862624, Accuracy: 1.000000, Learning Rate: 0.010000\n",
      "Epoch: 90, Train Loss: 0.598837, Validation Loss: 0.888994, Accuracy: 1.000000, Learning Rate: 0.010000\n",
      "Epoch: 91, Train Loss: 0.598874, Validation Loss: 0.886089, Accuracy: 1.000000, Learning Rate: 0.010000\n",
      "Epoch: 92, Train Loss: 0.598878, Validation Loss: 0.851636, Accuracy: 1.000000, Learning Rate: 0.010000\n",
      "Epoch: 93, Train Loss: 0.598927, Validation Loss: 0.892327, Accuracy: 1.000000, Learning Rate: 0.010000\n",
      "Epoch: 94, Train Loss: 0.598914, Validation Loss: 0.894796, Accuracy: 1.000000, Learning Rate: 0.010000\n",
      "Epoch: 95, Train Loss: 0.598901, Validation Loss: 0.887514, Accuracy: 1.000000, Learning Rate: 0.010000\n",
      "Epoch: 96, Train Loss: 0.598864, Validation Loss: 0.894870, Accuracy: 1.000000, Learning Rate: 0.010000\n",
      "Epoch: 97, Train Loss: 0.598826, Validation Loss: 0.878006, Accuracy: 1.000000, Learning Rate: 0.010000\n",
      "Epoch: 98, Train Loss: 0.598856, Validation Loss: 0.893720, Accuracy: 1.000000, Learning Rate: 0.010000\n",
      "Epoch: 99, Train Loss: 0.598873, Validation Loss: 0.880687, Accuracy: 1.000000, Learning Rate: 0.010000\n",
      "Epoch: 100, Train Loss: 0.598920, Validation Loss: 0.856360, Accuracy: 1.000000, Learning Rate: 0.010000\n",
      "Epoch: 101, Train Loss: 0.598869, Validation Loss: 0.875003, Accuracy: 1.000000, Learning Rate: 0.010000\n",
      "Epoch: 102, Train Loss: 0.598889, Validation Loss: 0.891939, Accuracy: 1.000000, Learning Rate: 0.010000\n",
      "Epoch: 103, Train Loss: 0.598858, Validation Loss: 0.885145, Accuracy: 1.000000, Learning Rate: 0.010000\n",
      "Epoch: 104, Train Loss: 0.598845, Validation Loss: 0.886203, Accuracy: 1.000000, Learning Rate: 0.010000\n",
      "Epoch: 105, Train Loss: 0.598817, Validation Loss: 0.888098, Accuracy: 1.000000, Learning Rate: 0.010000\n",
      "Epoch: 106, Train Loss: 0.598832, Validation Loss: 0.864684, Accuracy: 1.000000, Learning Rate: 0.010000\n",
      "Epoch: 107, Train Loss: 0.598815, Validation Loss: 0.862699, Accuracy: 1.000000, Learning Rate: 0.010000\n",
      "Epoch: 108, Train Loss: 0.598773, Validation Loss: 0.871017, Accuracy: 1.000000, Learning Rate: 0.010000\n",
      "Epoch: 109, Train Loss: 0.598777, Validation Loss: 0.871455, Accuracy: 1.000000, Learning Rate: 0.010000\n",
      "Epoch: 110, Train Loss: 0.598792, Validation Loss: 0.873614, Accuracy: 1.000000, Learning Rate: 0.010000\n",
      "Epoch: 111, Train Loss: 0.598836, Validation Loss: 0.853448, Accuracy: 1.000000, Learning Rate: 0.010000\n",
      "Epoch: 112, Train Loss: 0.598809, Validation Loss: 0.871317, Accuracy: 1.000000, Learning Rate: 0.010000\n",
      "Epoch: 113, Train Loss: 0.598792, Validation Loss: 0.886126, Accuracy: 1.000000, Learning Rate: 0.010000\n",
      "Epoch: 114, Train Loss: 0.598769, Validation Loss: 0.869810, Accuracy: 1.000000, Learning Rate: 0.010000\n",
      "Epoch: 115, Train Loss: 0.598783, Validation Loss: 0.897645, Accuracy: 1.000000, Learning Rate: 0.010000\n",
      "Epoch: 116, Train Loss: 0.598837, Validation Loss: 0.862848, Accuracy: 1.000000, Learning Rate: 0.010000\n",
      "Epoch: 117, Train Loss: 0.598848, Validation Loss: 0.883303, Accuracy: 1.000000, Learning Rate: 0.010000\n",
      "Epoch: 118, Train Loss: 0.598844, Validation Loss: 0.880957, Accuracy: 1.000000, Learning Rate: 0.010000\n",
      "Epoch: 119, Train Loss: 0.598900, Validation Loss: 0.869204, Accuracy: 1.000000, Learning Rate: 0.010000\n"
     ]
    }
   ],
   "source": [
    "result_arr1, test_arr1, best_epoch = test_train_model(X,Y,selected_model)"
   ]
  },
  {
   "cell_type": "code",
   "execution_count": 17,
   "metadata": {},
   "outputs": [
    {
     "data": {
      "image/png": "[encoded data removed]",
      "text/plain": [
       "<Figure size 800x400 with 4 Axes>"
      ]
     },
     "metadata": {},
     "output_type": "display_data"
    }
   ],
   "source": [
    "#plot the training cycle\n",
    "fig = plt.figure(figsize=(8,4))\n",
    "ax1 = fig.add_subplot(221) \n",
    "#plt.plot(result_arr1[:,0],result_arr1[:,3],linestyle='-', label='Accuracy')\n",
    "ax1.plot(result_arr1[:,0],result_arr1[:,2],linestyle='-', c='orange',label='Validation loss')\n",
    "ax1.set_xlabel('Epochs')\n",
    "ax1.set_ylabel('Validation Loss')\n",
    "\n",
    "ax2 = fig.add_subplot(222) \n",
    "ax2.plot(result_arr1[:,0],result_arr1[:,1],linestyle='-', c='violet',label='Train loss')\n",
    "ax2.set_xlabel('Epochs')\n",
    "ax2.set_ylabel('Train Loss')\n",
    "\n",
    "ax3 = fig.add_subplot(223) \n",
    "ax3.plot(result_arr1[:,0],result_arr1[:,3],linestyle='-', c='red',label='Accuracy')\n",
    "ax3.set_xlabel('Epochs')\n",
    "ax3.set_ylabel('Accuracy')\n",
    "\n",
    "ax4 = fig.add_subplot(224) \n",
    "ax4.plot(result_arr1[:,0],result_arr1[:,2],linestyle='-', c='orange',label='Validation loss')\n",
    "ax4.plot(result_arr1[:,0],result_arr1[:,1],linestyle='-', c='violet',label='Train loss')\n",
    "ax4.plot(result_arr1[:,0],result_arr1[:,3],linestyle='-', c='red',label='Accuracy')\n",
    "ax4.set_xlabel('Epochs')\n",
    "ax4.set_ylabel('All Loss')\n",
    "ax4.legend()\n",
    "plt.tight_layout()\n",
    "plt.show()"
   ]
  }
 ],
 "metadata": {
  "kernelspec": {
   "display_name": "mphys-moon",
   "language": "python",
   "name": "python3"
  },
  "language_info": {
   "codemirror_mode": {
    "name": "ipython",
    "version": 3
   },
   "file_extension": ".py",
   "mimetype": "text/x-python",
   "name": "python",
   "nbconvert_exporter": "python",
   "pygments_lexer": "ipython3",
   "version": "3.10.13"
  }
 },
 "nbformat": 4,
 "nbformat_minor": 2
}

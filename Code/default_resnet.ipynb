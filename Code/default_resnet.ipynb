{
 "cells": [
  {
   "cell_type": "markdown",
   "metadata": {},
   "source": [
    "# Using the default resnet"
   ]
  },
  {
   "cell_type": "markdown",
   "metadata": {},
   "source": [
    "## Imports"
   ]
  },
  {
   "cell_type": "code",
   "execution_count": 1,
   "metadata": {},
   "outputs": [],
   "source": [
    "import pandas as pd\n",
    "from enum import Enum\n",
    "import torch\n",
    "import os\n",
    "import matplotlib.pyplot as plt\n",
    "from scipy import ndimage\n",
    "from PIL import Image\n",
    "import numpy as np\n",
    "import torch.nn as nn\n",
    "import torch.optim as optim\n",
    "from torch.utils.data import TensorDataset,Subset\n",
    "from torchvision.models import resnet18,resnet50\n",
    "from torcheval.metrics import BinaryAccuracy"
   ]
  },
  {
   "cell_type": "markdown",
   "metadata": {},
   "source": [
    "## Parameters"
   ]
  },
  {
   "cell_type": "code",
   "execution_count": 2,
   "metadata": {},
   "outputs": [],
   "source": [
    "class class_mode(Enum):\n",
    "    S_or_Z = 0\n",
    "    S_or_Z_or_O = 1\n",
    "\n",
    "\n",
    "USE_GPU = True\n",
    "CATALOG_PATH = '../Data/subset_gz1_desi_cross_cat.csv'\n",
    "DATA_PATH = '../Data/Subset'\n",
    "MODE = class_mode.S_or_Z_or_O"
   ]
  },
  {
   "cell_type": "code",
   "execution_count": 3,
   "metadata": {},
   "outputs": [
    {
     "name": "stdout",
     "output_type": "stream",
     "text": [
      "NVIDIA A100-PCIE-40GB\n",
      "Memory Usage:\n",
      "Allocated: 0.0 GB\n",
      "Cached:    0.0 GB\n",
      "Using device: cuda\n"
     ]
    }
   ],
   "source": [
    "#Run processes on CPU or GPU\n",
    "if USE_GPU:\n",
    "    device = torch.device('cuda' if torch.cuda.is_available() else 'cpu')\n",
    "    if device.type == 'cuda':\n",
    "        print(torch.cuda.get_device_name(0))\n",
    "        print('Memory Usage:')\n",
    "        print('Allocated:', round(torch.cuda.memory_allocated(0)/1024**3,1), 'GB')\n",
    "        print('Cached:   ', round(torch.cuda.memory_reserved(0)/1024**3,1), 'GB')\n",
    "else:\n",
    "    device = torch.device('cpu')\n",
    "\n",
    "print('Using device:', device)"
   ]
  },
  {
   "cell_type": "markdown",
   "metadata": {},
   "source": [
    "## Importing data"
   ]
  },
  {
   "cell_type": "code",
   "execution_count": 4,
   "metadata": {},
   "outputs": [
    {
     "name": "stdout",
     "output_type": "stream",
     "text": [
      "Loaded 1500 galaxy images\n",
      "    P_CW  P_ACW  P_OTHER\n",
      "0  0.818  0.000    0.182\n",
      "1  0.968  0.032    0.000\n",
      "2  1.000  0.000    0.000\n",
      "3  1.000  0.000    0.000\n",
      "4  0.862  0.034    0.103\n",
      "5  0.909  0.000    0.090\n",
      "6  0.929  0.000    0.072\n",
      "7  0.926  0.000    0.074\n",
      "8  0.833  0.062    0.104\n",
      "9  0.970  0.030    0.000\n"
     ]
    }
   ],
   "source": [
    "catalog = pd.read_csv(CATALOG_PATH)\n",
    "\n",
    "if MODE == class_mode.S_or_Z:\n",
    "\n",
    "    #Select only S or Z \n",
    "    catalog = catalog[catalog['P_EL']<0.8]\n",
    "    #Select features (clockwise and anti-clockwise probabilities)\n",
    "    Y = catalog[['P_CW','P_ACW']]\n",
    "    classes = [r'P_CW',r'P_ACW']\n",
    "    num_classes = 2\n",
    "\n",
    "elif MODE == class_mode.S_or_Z_or_O:\n",
    "    #Select only S or Z or other\n",
    "    catalog['P_OTHER'] = catalog['P_EL']+catalog['P_EDGE']+catalog['P_DK']+catalog['P_MG']\n",
    "    Y = catalog[['P_CW','P_ACW','P_OTHER']]\n",
    "    classes = ['P_CW','P_ACW','P_OTHER']\n",
    "    num_classes = 3\n",
    "\n",
    "print(f\"Loaded {catalog.shape[0]} galaxy images\")\n",
    "print(Y.head(10))"
   ]
  },
  {
   "cell_type": "markdown",
   "metadata": {},
   "source": [
    "### Generate list of file locations from catalog"
   ]
  },
  {
   "cell_type": "code",
   "execution_count": 5,
   "metadata": {},
   "outputs": [],
   "source": [
    "def get_file_paths(catalog_to_convert,folder_path ):\n",
    "    brick_ids = catalog_to_convert['dr8_id'].str.split(\"_\",expand=True)[0]\n",
    "    dr8_ids = catalog_to_convert['dr8_id']\n",
    "    file_locations = folder_path+'/'+brick_ids+'/'+dr8_ids+'.jpg'\n",
    "    return file_locations\n",
    "\n",
    "file_locations = get_file_paths(catalog,DATA_PATH)"
   ]
  },
  {
   "cell_type": "markdown",
   "metadata": {},
   "source": [
    "### Image processing functions"
   ]
  },
  {
   "cell_type": "code",
   "execution_count": 6,
   "metadata": {},
   "outputs": [],
   "source": [
    "COLOR = True\n",
    "RAW_SIZE = 15\n",
    "IMG_SIZE = 160\n",
    "\n",
    "TARGET_SIZE = 5\n",
    "TRANSLATE = 0.\n",
    "ROTATE = False\n",
    "FLIP = False\n",
    "LABEL = 2\n",
    "SHUFFLE = False\n",
    "\n",
    "\n",
    "def img_proc(img, raw_size=RAW_SIZE, target_size=TARGET_SIZE, translate=TRANSLATE, rotate=ROTATE,\n",
    "             random_generator=None):\n",
    "    assert img.shape[-2] == img.shape[-1]\n",
    "    assert translate >= 0\n",
    "    \n",
    "    if random_generator is None:\n",
    "        random_generator = int.from_bytes(os.urandom(4), byteorder='little')\n",
    "    rng = np.random.default_rng(random_generator)\n",
    "\n",
    "    if not isinstance(target_size, (float, int)):\n",
    "        target_size = rng.uniform(*target_size)\n",
    "    if rotate:\n",
    "        assert target_size * (1 + translate) * 2**0.5 < raw_size\n",
    "        if isinstance(rotate, bool):\n",
    "            rotate = rng.uniform(0., 360.)\n",
    "        img = ndimage.rotate(img, rotate, axes=(-1, -2), reshape=False, order=1)\n",
    "    else:\n",
    "        assert target_size * (1 + translate) < raw_size\n",
    "    s = img.shape[-1]\n",
    "    translate = translate * target_size\n",
    "    t_x = rng.uniform(-translate, translate) if translate > 0 else 0\n",
    "    t_y = rng.uniform(-translate, translate) if translate > 0 else 0\n",
    "    a = int(s * (raw_size - target_size + t_x) / (2 * raw_size))\n",
    "    b = int(s * (raw_size - target_size + t_y) / (2 * raw_size))\n",
    "    c = int(s * target_size / raw_size)\n",
    "    return img[..., a:(a + c), b:(b + c)]\n",
    "\n",
    "\n",
    "def read_img(path, color=COLOR, img_size=IMG_SIZE, atleast_3d=True, random_flip=FLIP,\n",
    "             shuffle_channel=SHUFFLE, random_generator=None, **kwargs):\n",
    "    if random_generator is None:\n",
    "        random_generator = int.from_bytes(os.urandom(4), byteorder='little')\n",
    "    rng = np.random.default_rng(random_generator)\n",
    "\n",
    "    jpeg_file = (np.asarray(Image.open(path)) / 255).astype(np.float32)\n",
    "    if color:\n",
    "        img = np.moveaxis(jpeg_file, -1, 0)\n",
    "        if shuffle_channel:\n",
    "            if isinstance(shuffle_channel, bool):\n",
    "                shuffle_channel = rng.permutation(img.shape[0])\n",
    "            img = img[shuffle_channel]\n",
    "    else:\n",
    "        img = np.mean(jpeg_file, axis=-1)\n",
    "    img = img_proc(img, random_generator=rng, **kwargs)\n",
    "    rng.uniform(size=100) # just to jump the rng\n",
    "\n",
    "    if img_size is not None:\n",
    "        z = img_size / img.shape[-1]\n",
    "        if img.ndim == 2:\n",
    "            img = ndimage.zoom(img, (z, z), order=1)\n",
    "            if atleast_3d:\n",
    "                img = img[np.newaxis]\n",
    "        elif img.ndim == 3:\n",
    "            img = ndimage.zoom(img, (1, z, z), order=1)\n",
    "        else:\n",
    "            raise RuntimeError\n",
    "\n",
    "    if random_flip:\n",
    "        flip = int(rng.integers(0, 2, 1))\n",
    "        flip = 2 * flip - 1\n",
    "    else:\n",
    "        flip = 1\n",
    "    return np.ascontiguousarray(img[..., ::flip])"
   ]
  },
  {
   "cell_type": "markdown",
   "metadata": {},
   "source": [
    "### Reading in images"
   ]
  },
  {
   "cell_type": "code",
   "execution_count": 7,
   "metadata": {},
   "outputs": [],
   "source": [
    "#Takes about a minute\n",
    "X = torch.empty(0, 3, 160,160)\n",
    "for i in range(len(file_locations)):\n",
    "    X = torch.cat((X, torch.from_numpy(read_img(file_locations[i])).float()[np.newaxis]), 0)"
   ]
  },
  {
   "cell_type": "code",
   "execution_count": 8,
   "metadata": {},
   "outputs": [
    {
     "name": "stdout",
     "output_type": "stream",
     "text": [
      "Processed 1500 images\n"
     ]
    }
   ],
   "source": [
    "Y = torch.from_numpy(Y.values).float()\n",
    "# if MODE == class_mode.S_or_Z:\n",
    "#Y = Y.softmax(dim=1)\n",
    "#print(Y[0:5])\n",
    "\n",
    "print(f\"Processed {X.shape[0]} images\")"
   ]
  },
  {
   "cell_type": "markdown",
   "metadata": {},
   "source": [
    "## Setting up model"
   ]
  },
  {
   "cell_type": "markdown",
   "metadata": {},
   "source": [
    "### Hyperparameters"
   ]
  },
  {
   "cell_type": "code",
   "execution_count": 9,
   "metadata": {},
   "outputs": [],
   "source": [
    "learning_rate = 0.1\n",
    "weight_decay = 1\n",
    "\n",
    "num_epochs = 120\n",
    "batch_size = 60 #60\n",
    "\n",
    "modfile = 'resnet18_modfile.pt'"
   ]
  },
  {
   "cell_type": "markdown",
   "metadata": {},
   "source": [
    "### Training model function"
   ]
  },
  {
   "cell_type": "code",
   "execution_count": 10,
   "metadata": {},
   "outputs": [],
   "source": [
    "def train(model, trainloader, loss_criterion,optimiser, device):\n",
    "    train_loss = 0.0\n",
    "    num_batches = len(trainloader)\n",
    "    model.train()\n",
    "\n",
    "    for batch_idx, (data, labels) in enumerate(trainloader):\n",
    "        data, labels = data.to(device), labels.to(device)\n",
    "\n",
    "        #Calculate train loss\n",
    "        p_y = model(data)\n",
    "        loss = loss_criterion(p_y, labels)\n",
    "        \n",
    "        train_loss += loss.item() #* data.size(0)\n",
    "        \n",
    "        #Feed the loss back\n",
    "        loss.backward()\n",
    "        optimiser.step()\n",
    "        optimiser.zero_grad()\n",
    "\n",
    "    train_loss /= num_batches\n",
    "    return train_loss"
   ]
  },
  {
   "cell_type": "markdown",
   "metadata": {},
   "source": [
    "### Validating model function"
   ]
  },
  {
   "cell_type": "code",
   "execution_count": 11,
   "metadata": {},
   "outputs": [],
   "source": [
    "def accuracy(predicted_labels,true_labels):\n",
    "    #Takes in softmaxed labels, checks if max column is the same\n",
    "\n",
    "    true_highest_prob = torch.argmax(true_labels, dim=1)\n",
    "    predicted_highest_prob = torch.argmax(predicted_labels, dim=1)\n",
    "    #print(predicted_highest_prob)\n",
    "    #print(true_highest_prob)    \n",
    "    \n",
    "    metric = BinaryAccuracy()\n",
    "    metric.update(predicted_highest_prob,true_highest_prob)\n",
    "    test_accuracy = metric.compute()\n",
    "    #print(test_accuracy.float())\n",
    "    return test_accuracy"
   ]
  },
  {
   "cell_type": "code",
   "execution_count": 12,
   "metadata": {},
   "outputs": [],
   "source": [
    "def test(model, testloader,loss_criterion, device):\n",
    "    test_loss = 0.0\n",
    "    test_accuracy = 0.0\n",
    "    size = len(testloader.dataset)\n",
    "    num_batches = len(testloader)\n",
    "    model.eval()\n",
    "    with torch.no_grad():\n",
    "        for batch_idx, (data, labels) in enumerate(testloader):\n",
    "            data, labels = data.to(device), labels.to(device)\n",
    "\n",
    "            #Softmax output and labels for passing to cross-entropy function\n",
    "            p_y = model(data)\n",
    "            #print(p_y.softmax(dim=1)[0:5])\n",
    "            #print(p_y[0:5])\n",
    "            #Calculate test loss         \n",
    "            loss = loss_criterion(p_y, labels)\n",
    "            test_loss += loss.item() * data.size(0)\n",
    "            test_accuracy += accuracy(p_y.softmax(dim=1),labels).type(torch.float)* data.size(0)\n",
    "\n",
    "    test_loss /= size\n",
    "    test_accuracy /= size\n",
    "        \n",
    "    return test_loss, test_accuracy"
   ]
  },
  {
   "cell_type": "markdown",
   "metadata": {},
   "source": [
    "### Split data into train and test"
   ]
  },
  {
   "cell_type": "code",
   "execution_count": 13,
   "metadata": {},
   "outputs": [],
   "source": [
    "def data_split(frac_val, data):\n",
    "    dataset_size = len(data)\n",
    "    nval = int(frac_val*dataset_size)\n",
    "\n",
    "    indices = list(range(dataset_size))\n",
    "    train_indices, val_indices = indices[nval:], indices[:nval]\n",
    "\n",
    "    train_sampler = Subset(data, train_indices)\n",
    "    valid_sampler = Subset(data, val_indices)\n",
    "\n",
    "    train_loader = torch.utils.data.DataLoader(train_sampler, batch_size=batch_size, shuffle=True)\n",
    "    test_loader = torch.utils.data.DataLoader(valid_sampler, batch_size=batch_size, shuffle=True)\n",
    "    return train_loader, test_loader"
   ]
  },
  {
   "cell_type": "markdown",
   "metadata": {},
   "source": [
    "## Running model"
   ]
  },
  {
   "cell_type": "code",
   "execution_count": 14,
   "metadata": {},
   "outputs": [],
   "source": [
    "#function to run the entire model train/test loop\n",
    "early_stopping = True\n",
    "QUIET = False\n",
    "\n",
    "def test_train_model(X,Y,model):\n",
    "    X_tensor = X\n",
    "    Y_tensor = Y #torch.from_numpy(Y.values).float()\n",
    "\n",
    "    dataset = TensorDataset(X_tensor, Y_tensor)\n",
    "    train_loader,test_loader = data_split(0.7,dataset)\n",
    "\n",
    "    #optimizer and learning rate scheduler\n",
    "    optimizer = optim.AdamW(model.parameters(), lr=learning_rate, weight_decay = weight_decay)#0.005, #0.01\n",
    "    #scheduler = torch.optim.lr_scheduler.StepLR(optimizer, step_size=5, gamma=0.85)\n",
    "    loss_criterion = nn.CrossEntropyLoss()\n",
    "    #array to store metrics\n",
    "    result_arr = np.zeros((num_epochs,4))\n",
    "\n",
    "    _bestloss = 1.\n",
    "    best_epoch = 0\n",
    "    \n",
    "    #NN learning\n",
    "    for epoch in range(num_epochs):\n",
    "    \n",
    "        train_loss = train(model, train_loader, loss_criterion, optimizer, device)\n",
    "        val_loss, test_accuracy = test(model, test_loader,loss_criterion, device)\n",
    "        \n",
    "        #scheduler.step() \n",
    "\n",
    "        if early_stopping and val_loss<_bestloss:\n",
    "            _bestloss = val_loss\n",
    "            torch.save(model.state_dict(), modfile)\n",
    "            best_epoch = epoch\n",
    "\n",
    "        #set output row\n",
    "        results = [epoch, train_loss, val_loss,test_accuracy]\n",
    "        result_arr[epoch] = results\n",
    "\n",
    "        #print epoch results\n",
    "        if not QUIET:\n",
    "            print(f\"Epoch: {epoch}, Train Loss: {train_loss:4f}, Validation Loss: {val_loss:4f}, Accuracy: {test_accuracy:4f}, Learning Rate: {optimizer.param_groups[0]['lr']:4f}\")\n",
    "    \n",
    "    if not early_stopping:\n",
    "        torch.save(model.state_dict(), modfile)\n",
    "        best_epoch = -1\n",
    "\n",
    "    return result_arr, best_epoch"
   ]
  },
  {
   "cell_type": "markdown",
   "metadata": {},
   "source": [
    "## Actually run model"
   ]
  },
  {
   "cell_type": "code",
   "execution_count": 19,
   "metadata": {},
   "outputs": [
    {
     "name": "stdout",
     "output_type": "stream",
     "text": [
      "Epoch: 0, Train Loss: 0.714740, Validation Loss: 52830.158036, Accuracy: 0.476190, Learning Rate: 0.100000\n",
      "Epoch: 1, Train Loss: 0.237857, Validation Loss: 2.078297, Accuracy: 0.476190, Learning Rate: 0.100000\n",
      "Epoch: 2, Train Loss: 0.129216, Validation Loss: 3.136517, Accuracy: 0.476190, Learning Rate: 0.100000\n",
      "Epoch: 3, Train Loss: 0.120843, Validation Loss: 2.854983, Accuracy: 0.476190, Learning Rate: 0.100000\n",
      "Epoch: 4, Train Loss: 0.121257, Validation Loss: 2.747491, Accuracy: 0.476190, Learning Rate: 0.100000\n",
      "Epoch: 5, Train Loss: 0.120654, Validation Loss: 2.883095, Accuracy: 0.476190, Learning Rate: 0.100000\n",
      "Epoch: 6, Train Loss: 0.119426, Validation Loss: 3.003112, Accuracy: 0.476190, Learning Rate: 0.100000\n",
      "Epoch: 7, Train Loss: 0.121256, Validation Loss: 3.133109, Accuracy: 0.476190, Learning Rate: 0.100000\n",
      "Epoch: 8, Train Loss: 0.119902, Validation Loss: 3.511781, Accuracy: 0.476190, Learning Rate: 0.100000\n",
      "Epoch: 9, Train Loss: 0.119429, Validation Loss: 3.656008, Accuracy: 0.476190, Learning Rate: 0.100000\n",
      "Epoch: 10, Train Loss: 0.119410, Validation Loss: 3.696324, Accuracy: 0.476190, Learning Rate: 0.100000\n",
      "Epoch: 11, Train Loss: 0.120892, Validation Loss: 3.739087, Accuracy: 0.476190, Learning Rate: 0.100000\n",
      "Epoch: 12, Train Loss: 0.118457, Validation Loss: 3.710875, Accuracy: 0.476190, Learning Rate: 0.100000\n",
      "Epoch: 13, Train Loss: 0.122647, Validation Loss: 925.298213, Accuracy: 0.476190, Learning Rate: 0.100000\n",
      "Epoch: 14, Train Loss: 0.117976, Validation Loss: 4.176010, Accuracy: 0.476190, Learning Rate: 0.100000\n",
      "Epoch: 15, Train Loss: 0.120142, Validation Loss: 3.926684, Accuracy: 0.476190, Learning Rate: 0.100000\n",
      "Epoch: 16, Train Loss: 0.119368, Validation Loss: 4.412607, Accuracy: 0.476190, Learning Rate: 0.100000\n",
      "Epoch: 17, Train Loss: 0.121121, Validation Loss: 3.833787, Accuracy: 0.476190, Learning Rate: 0.100000\n",
      "Epoch: 18, Train Loss: 0.116957, Validation Loss: 5.182322, Accuracy: 0.476190, Learning Rate: 0.100000\n",
      "Epoch: 19, Train Loss: 0.119888, Validation Loss: 3.593399, Accuracy: 0.476190, Learning Rate: 0.100000\n",
      "Epoch: 20, Train Loss: 0.121343, Validation Loss: 3.501255, Accuracy: 0.476190, Learning Rate: 0.100000\n",
      "Epoch: 21, Train Loss: 0.118446, Validation Loss: 4.589753, Accuracy: 0.476190, Learning Rate: 0.100000\n",
      "Epoch: 22, Train Loss: 0.120735, Validation Loss: 3.094204, Accuracy: 0.476190, Learning Rate: 0.100000\n",
      "Epoch: 23, Train Loss: 0.120010, Validation Loss: 3.437193, Accuracy: 0.476190, Learning Rate: 0.100000\n",
      "Epoch: 24, Train Loss: 0.118691, Validation Loss: 3.848326, Accuracy: 0.476190, Learning Rate: 0.100000\n",
      "Epoch: 25, Train Loss: 0.118762, Validation Loss: 3.905172, Accuracy: 0.476190, Learning Rate: 0.100000\n",
      "Epoch: 26, Train Loss: 0.117814, Validation Loss: 2.811872, Accuracy: 0.476190, Learning Rate: 0.100000\n",
      "Epoch: 27, Train Loss: 0.118456, Validation Loss: 4.265001, Accuracy: 0.476190, Learning Rate: 0.100000\n",
      "Epoch: 28, Train Loss: 0.120724, Validation Loss: 3.617414, Accuracy: 0.476190, Learning Rate: 0.100000\n",
      "Epoch: 29, Train Loss: 0.120322, Validation Loss: 3.827510, Accuracy: 0.476190, Learning Rate: 0.100000\n",
      "Epoch: 30, Train Loss: 0.119638, Validation Loss: 4.203664, Accuracy: 0.476190, Learning Rate: 0.100000\n",
      "Epoch: 31, Train Loss: 0.120562, Validation Loss: 3.755921, Accuracy: 0.476190, Learning Rate: 0.100000\n",
      "Epoch: 32, Train Loss: 0.121562, Validation Loss: 4.050499, Accuracy: 0.476190, Learning Rate: 0.100000\n",
      "Epoch: 33, Train Loss: 0.120461, Validation Loss: 4.309990, Accuracy: 0.476190, Learning Rate: 0.100000\n",
      "Epoch: 34, Train Loss: 0.118392, Validation Loss: 4.225450, Accuracy: 0.476190, Learning Rate: 0.100000\n",
      "Epoch: 35, Train Loss: 0.118878, Validation Loss: 4.059332, Accuracy: 0.476190, Learning Rate: 0.100000\n",
      "Epoch: 36, Train Loss: 0.118025, Validation Loss: 4.316907, Accuracy: 0.476190, Learning Rate: 0.100000\n",
      "Epoch: 37, Train Loss: 0.118929, Validation Loss: 4.394306, Accuracy: 0.476190, Learning Rate: 0.100000\n",
      "Epoch: 38, Train Loss: 0.121185, Validation Loss: 3.847377, Accuracy: 0.476190, Learning Rate: 0.100000\n",
      "Epoch: 39, Train Loss: 0.119562, Validation Loss: 3.807782, Accuracy: 0.476190, Learning Rate: 0.100000\n",
      "Epoch: 40, Train Loss: 0.117569, Validation Loss: 4.846667, Accuracy: 0.476190, Learning Rate: 0.100000\n",
      "Epoch: 41, Train Loss: 0.122347, Validation Loss: 3.794456, Accuracy: 0.476190, Learning Rate: 0.100000\n",
      "Epoch: 42, Train Loss: 0.119999, Validation Loss: 3.712966, Accuracy: 0.476190, Learning Rate: 0.100000\n",
      "Epoch: 43, Train Loss: 0.119767, Validation Loss: 4.105885, Accuracy: 0.476190, Learning Rate: 0.100000\n",
      "Epoch: 44, Train Loss: 0.119530, Validation Loss: 4.718393, Accuracy: 0.476190, Learning Rate: 0.100000\n",
      "Epoch: 45, Train Loss: 0.122062, Validation Loss: 3.418744, Accuracy: 0.476190, Learning Rate: 0.100000\n",
      "Epoch: 46, Train Loss: 0.122144, Validation Loss: 4.359163, Accuracy: 0.476190, Learning Rate: 0.100000\n",
      "Epoch: 47, Train Loss: 0.117908, Validation Loss: 4.309153, Accuracy: 0.476190, Learning Rate: 0.100000\n",
      "Epoch: 48, Train Loss: 0.120150, Validation Loss: 3.640595, Accuracy: 0.476190, Learning Rate: 0.100000\n",
      "Epoch: 49, Train Loss: 0.117012, Validation Loss: 4.615097, Accuracy: 0.476190, Learning Rate: 0.100000\n",
      "Epoch: 50, Train Loss: 0.121100, Validation Loss: 3.955019, Accuracy: 0.476190, Learning Rate: 0.100000\n",
      "Epoch: 51, Train Loss: 0.118668, Validation Loss: 4.020116, Accuracy: 0.476190, Learning Rate: 0.100000\n",
      "Epoch: 52, Train Loss: 0.118081, Validation Loss: 4.272221, Accuracy: 0.476190, Learning Rate: 0.100000\n",
      "Epoch: 53, Train Loss: 0.120104, Validation Loss: 3.948750, Accuracy: 0.476190, Learning Rate: 0.100000\n",
      "Epoch: 54, Train Loss: 0.120440, Validation Loss: 3.959289, Accuracy: 0.476190, Learning Rate: 0.100000\n",
      "Epoch: 55, Train Loss: 0.119294, Validation Loss: 4.077743, Accuracy: 0.476190, Learning Rate: 0.100000\n",
      "Epoch: 56, Train Loss: 0.122650, Validation Loss: 3.821194, Accuracy: 0.476190, Learning Rate: 0.100000\n",
      "Epoch: 57, Train Loss: 0.119134, Validation Loss: 4.265488, Accuracy: 0.476190, Learning Rate: 0.100000\n",
      "Epoch: 58, Train Loss: 0.123423, Validation Loss: 4.012358, Accuracy: 0.476190, Learning Rate: 0.100000\n",
      "Epoch: 59, Train Loss: 0.120873, Validation Loss: 4.390035, Accuracy: 0.476190, Learning Rate: 0.100000\n",
      "Epoch: 60, Train Loss: 0.120887, Validation Loss: 4.084370, Accuracy: 0.476190, Learning Rate: 0.100000\n",
      "Epoch: 61, Train Loss: 0.118530, Validation Loss: 4.604262, Accuracy: 0.476190, Learning Rate: 0.100000\n",
      "Epoch: 62, Train Loss: 0.122869, Validation Loss: 3.603075, Accuracy: 0.476190, Learning Rate: 0.100000\n",
      "Epoch: 63, Train Loss: 0.122160, Validation Loss: 3.743952, Accuracy: 0.476190, Learning Rate: 0.100000\n",
      "Epoch: 64, Train Loss: 0.120843, Validation Loss: 4.380456, Accuracy: 0.476190, Learning Rate: 0.100000\n",
      "Epoch: 65, Train Loss: 0.121339, Validation Loss: 3.378436, Accuracy: 0.476190, Learning Rate: 0.100000\n",
      "Epoch: 66, Train Loss: 0.127898, Validation Loss: 4.604662, Accuracy: 0.476190, Learning Rate: 0.100000\n",
      "Epoch: 67, Train Loss: 0.126151, Validation Loss: 4.491832, Accuracy: 0.476190, Learning Rate: 0.100000\n",
      "Epoch: 68, Train Loss: 0.119950, Validation Loss: 4.235070, Accuracy: 0.476190, Learning Rate: 0.100000\n",
      "Epoch: 69, Train Loss: 0.121876, Validation Loss: 4.232472, Accuracy: 0.476190, Learning Rate: 0.100000\n",
      "Epoch: 70, Train Loss: 0.117925, Validation Loss: 3.994655, Accuracy: 0.476190, Learning Rate: 0.100000\n",
      "Epoch: 71, Train Loss: 0.120744, Validation Loss: 4.124592, Accuracy: 0.476190, Learning Rate: 0.100000\n",
      "Epoch: 72, Train Loss: 0.122335, Validation Loss: 3.447149, Accuracy: 0.476190, Learning Rate: 0.100000\n",
      "Epoch: 73, Train Loss: 0.126810, Validation Loss: 4.360789, Accuracy: 0.476190, Learning Rate: 0.100000\n",
      "Epoch: 74, Train Loss: 0.121971, Validation Loss: 4.038854, Accuracy: 0.476190, Learning Rate: 0.100000\n",
      "Epoch: 75, Train Loss: 0.121209, Validation Loss: 3.662497, Accuracy: 0.476190, Learning Rate: 0.100000\n",
      "Epoch: 76, Train Loss: 0.119650, Validation Loss: 4.146963, Accuracy: 0.476190, Learning Rate: 0.100000\n",
      "Epoch: 77, Train Loss: 0.117673, Validation Loss: 4.499809, Accuracy: 0.476190, Learning Rate: 0.100000\n",
      "Epoch: 78, Train Loss: 0.120581, Validation Loss: 4.067303, Accuracy: 0.476190, Learning Rate: 0.100000\n",
      "Epoch: 79, Train Loss: 0.121024, Validation Loss: 3.988405, Accuracy: 0.476190, Learning Rate: 0.100000\n",
      "Epoch: 80, Train Loss: 0.120126, Validation Loss: 3.811198, Accuracy: 0.476190, Learning Rate: 0.100000\n",
      "Epoch: 81, Train Loss: 0.116462, Validation Loss: 4.420151, Accuracy: 0.476190, Learning Rate: 0.100000\n",
      "Epoch: 82, Train Loss: 0.120206, Validation Loss: 3.762562, Accuracy: 0.476190, Learning Rate: 0.100000\n",
      "Epoch: 83, Train Loss: 0.122306, Validation Loss: 3.522863, Accuracy: 0.476190, Learning Rate: 0.100000\n",
      "Epoch: 84, Train Loss: 0.122789, Validation Loss: 4.386974, Accuracy: 0.476190, Learning Rate: 0.100000\n",
      "Epoch: 85, Train Loss: 0.120567, Validation Loss: 4.990513, Accuracy: 0.476190, Learning Rate: 0.100000\n",
      "Epoch: 86, Train Loss: 0.123996, Validation Loss: 3.818373, Accuracy: 0.476190, Learning Rate: 0.100000\n",
      "Epoch: 87, Train Loss: 0.120573, Validation Loss: 3.748263, Accuracy: 0.476190, Learning Rate: 0.100000\n",
      "Epoch: 88, Train Loss: 0.118887, Validation Loss: 4.785007, Accuracy: 0.476190, Learning Rate: 0.100000\n",
      "Epoch: 89, Train Loss: 0.124604, Validation Loss: 3.842654, Accuracy: 0.476190, Learning Rate: 0.100000\n",
      "Epoch: 90, Train Loss: 0.119298, Validation Loss: 4.314512, Accuracy: 0.476190, Learning Rate: 0.100000\n",
      "Epoch: 91, Train Loss: 0.122903, Validation Loss: 5.396536, Accuracy: 0.476190, Learning Rate: 0.100000\n",
      "Epoch: 92, Train Loss: 0.127117, Validation Loss: 3.460591, Accuracy: 0.476190, Learning Rate: 0.100000\n",
      "Epoch: 93, Train Loss: 0.119314, Validation Loss: 4.520966, Accuracy: 0.476190, Learning Rate: 0.100000\n",
      "Epoch: 94, Train Loss: 0.122952, Validation Loss: 4.580131, Accuracy: 0.476190, Learning Rate: 0.100000\n",
      "Epoch: 95, Train Loss: 0.125801, Validation Loss: 3.362814, Accuracy: 0.476190, Learning Rate: 0.100000\n",
      "Epoch: 96, Train Loss: 0.117883, Validation Loss: 4.810307, Accuracy: 0.476190, Learning Rate: 0.100000\n",
      "Epoch: 97, Train Loss: 0.120787, Validation Loss: 3.707428, Accuracy: 0.476190, Learning Rate: 0.100000\n",
      "Epoch: 98, Train Loss: 0.119615, Validation Loss: 4.000366, Accuracy: 0.476190, Learning Rate: 0.100000\n",
      "Epoch: 99, Train Loss: 0.118392, Validation Loss: 4.771008, Accuracy: 0.476190, Learning Rate: 0.100000\n",
      "Epoch: 100, Train Loss: 0.122661, Validation Loss: 3.214787, Accuracy: 0.476190, Learning Rate: 0.100000\n",
      "Epoch: 101, Train Loss: 0.126097, Validation Loss: 3.856383, Accuracy: 0.476190, Learning Rate: 0.100000\n",
      "Epoch: 102, Train Loss: 0.122530, Validation Loss: 4.045746, Accuracy: 0.476190, Learning Rate: 0.100000\n",
      "Epoch: 103, Train Loss: 0.120458, Validation Loss: 4.011288, Accuracy: 0.476190, Learning Rate: 0.100000\n",
      "Epoch: 104, Train Loss: 0.120557, Validation Loss: 4.549601, Accuracy: 0.476190, Learning Rate: 0.100000\n",
      "Epoch: 105, Train Loss: 0.121246, Validation Loss: 3.877771, Accuracy: 0.476190, Learning Rate: 0.100000\n",
      "Epoch: 106, Train Loss: 0.122084, Validation Loss: 3.367739, Accuracy: 0.476190, Learning Rate: 0.100000\n",
      "Epoch: 107, Train Loss: 0.122542, Validation Loss: 4.252384, Accuracy: 0.476190, Learning Rate: 0.100000\n",
      "Epoch: 108, Train Loss: 0.126901, Validation Loss: 4.313831, Accuracy: 0.476190, Learning Rate: 0.100000\n",
      "Epoch: 109, Train Loss: 0.117970, Validation Loss: 4.627392, Accuracy: 0.476190, Learning Rate: 0.100000\n",
      "Epoch: 110, Train Loss: 0.123761, Validation Loss: 3.481279, Accuracy: 0.476190, Learning Rate: 0.100000\n",
      "Epoch: 111, Train Loss: 0.122016, Validation Loss: 3.773509, Accuracy: 0.476190, Learning Rate: 0.100000\n",
      "Epoch: 112, Train Loss: 0.120249, Validation Loss: 3.908761, Accuracy: 0.476190, Learning Rate: 0.100000\n",
      "Epoch: 113, Train Loss: 0.118964, Validation Loss: 4.318587, Accuracy: 0.476190, Learning Rate: 0.100000\n",
      "Epoch: 114, Train Loss: 0.120318, Validation Loss: 3.762929, Accuracy: 0.476190, Learning Rate: 0.100000\n",
      "Epoch: 115, Train Loss: 0.122830, Validation Loss: 3.550507, Accuracy: 0.476190, Learning Rate: 0.100000\n",
      "Epoch: 116, Train Loss: 0.120453, Validation Loss: 3.718474, Accuracy: 0.476190, Learning Rate: 0.100000\n",
      "Epoch: 117, Train Loss: 0.117095, Validation Loss: 4.854144, Accuracy: 0.476190, Learning Rate: 0.100000\n",
      "Epoch: 118, Train Loss: 0.121084, Validation Loss: 4.271259, Accuracy: 0.476190, Learning Rate: 0.100000\n",
      "Epoch: 119, Train Loss: 0.121356, Validation Loss: 3.723000, Accuracy: 0.476190, Learning Rate: 0.100000\n"
     ]
    }
   ],
   "source": [
    "selected_model = resnet18(num_classes=num_classes)\n",
    "if torch.cuda.is_available():\n",
    "    selected_model.cuda()\n",
    "\n",
    "result_arr1, best_epoch = test_train_model(X,Y,selected_model)"
   ]
  },
  {
   "cell_type": "code",
   "execution_count": 16,
   "metadata": {},
   "outputs": [
    {
     "data": {
      "image/png": "[encoded data removed]",
      "text/plain": [
       "<Figure size 800x400 with 4 Axes>"
      ]
     },
     "metadata": {},
     "output_type": "display_data"
    }
   ],
   "source": [
    "#plot the training cycle\n",
    "fig = plt.figure(figsize=(8,4))\n",
    "ax1 = fig.add_subplot(221) \n",
    "#plt.plot(result_arr1[:,0],result_arr1[:,3],linestyle='-', label='Accuracy')\n",
    "ax1.plot(result_arr1[:,0],result_arr1[:,2],linestyle='-', c='orange',label='Validation loss')\n",
    "ax1.set_xlabel('Epochs')\n",
    "ax1.set_ylabel('Validation Loss')\n",
    "\n",
    "ax2 = fig.add_subplot(222) \n",
    "ax2.plot(result_arr1[:,0],result_arr1[:,1],linestyle='-', c='violet',label='Train loss')\n",
    "ax2.set_xlabel('Epochs')\n",
    "ax2.set_ylabel('Train Loss')\n",
    "\n",
    "ax3 = fig.add_subplot(223) \n",
    "ax3.plot(result_arr1[:,0],result_arr1[:,3],linestyle='-', c='red',label='Accuracy')\n",
    "ax3.set_xlabel('Epochs')\n",
    "ax3.set_ylabel('Accuracy')\n",
    "\n",
    "ax4 = fig.add_subplot(224) \n",
    "ax4.plot(result_arr1[:,0],result_arr1[:,2],linestyle='-', c='orange',label='Validation loss')\n",
    "ax4.plot(result_arr1[:,0],result_arr1[:,1],linestyle='-', c='violet',label='Train loss')\n",
    "ax4.plot(result_arr1[:,0],result_arr1[:,3],linestyle='-', c='red',label='Accuracy')\n",
    "ax4.set_xlabel('Epochs')\n",
    "ax4.set_ylabel('All Loss')\n",
    "#ax4.legend()\n",
    "plt.tight_layout()\n",
    "plt.show()"
   ]
  },
  {
   "cell_type": "code",
   "execution_count": 17,
   "metadata": {},
   "outputs": [
    {
     "data": {
      "text/plain": [
       "tensor(0.7500)"
      ]
     },
     "execution_count": 17,
     "metadata": {},
     "output_type": "execute_result"
    }
   ],
   "source": [
    "t1 = torch.from_numpy(np.array([[0.9,0.1],[0.2,0.8],[0.7,0.3],[0.9,0.1]]))\n",
    "t2 = torch.from_numpy(np.array([[1,0],[1,0],[1,0],[1,0]]))\n",
    "\n",
    "accuracy(t1,t2)"
   ]
  },
  {
   "cell_type": "code",
   "execution_count": 18,
   "metadata": {},
   "outputs": [
    {
     "name": "stdout",
     "output_type": "stream",
     "text": [
      "tensor([[0.0380, 0.9230, 0.0380],\n",
      "        [0.0000, 1.0000, 0.0000],\n",
      "        [0.0610, 0.8160, 0.1220],\n",
      "        [0.0000, 0.9620, 0.0380],\n",
      "        [0.0000, 1.0000, 0.0000]])\n",
      "tensor([1, 1, 1, 1, 1])\n"
     ]
    }
   ],
   "source": [
    "print(Y[500:505])\n",
    "print(torch.argmax(Y[500:505], dim=1))"
   ]
  }
 ],
 "metadata": {
  "kernelspec": {
   "display_name": "mphys-moon",
   "language": "python",
   "name": "python3"
  },
  "language_info": {
   "codemirror_mode": {
    "name": "ipython",
    "version": 3
   },
   "file_extension": ".py",
   "mimetype": "text/x-python",
   "name": "python",
   "nbconvert_exporter": "python",
   "pygments_lexer": "ipython3",
   "version": "3.10.13"
  }
 },
 "nbformat": 4,
 "nbformat_minor": 2
}

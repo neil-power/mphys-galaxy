{
 "cells": [
  {
   "cell_type": "markdown",
   "metadata": {},
   "source": [
    "# Using the default resnet"
   ]
  },
  {
   "cell_type": "markdown",
   "metadata": {},
   "source": [
    "## Imports"
   ]
  },
  {
   "cell_type": "code",
   "execution_count": 25,
   "metadata": {},
   "outputs": [],
   "source": [
    "import pandas as pd\n",
    "import torch\n",
    "import os\n",
    "import matplotlib.pyplot as plt\n",
    "from torch import Tensor\n",
    "from scipy import ndimage\n",
    "from PIL import Image\n",
    "import numpy as np\n",
    "#from typing import Type, Any, Callable, Union, List, Optional, Tuple\n",
    "import torch.nn as nn\n",
    "import torch.optim as optim\n",
    "from torch.utils.data import TensorDataset,Subset\n",
    "from torchvision.models import resnet18"
   ]
  },
  {
   "cell_type": "markdown",
   "metadata": {},
   "source": [
    "## Parameters"
   ]
  },
  {
   "cell_type": "code",
   "execution_count": 4,
   "metadata": {},
   "outputs": [],
   "source": [
    "USE_GPU = True\n",
    "CATALOG_PATH = '../Data/subset_gz1_desi_cross_cat.csv'\n",
    "DATA_PATH = '../Data/Subset'"
   ]
  },
  {
   "cell_type": "code",
   "execution_count": 5,
   "metadata": {},
   "outputs": [
    {
     "name": "stdout",
     "output_type": "stream",
     "text": [
      "Using device: cpu\n"
     ]
    }
   ],
   "source": [
    "#Run processes on CPU or GPU\n",
    "if USE_GPU:\n",
    "    device = torch.device('cuda' if torch.cuda.is_available() else 'cpu')\n",
    "    if device.type == 'cuda':\n",
    "        print(torch.cuda.get_device_name(0))\n",
    "        print('Memory Usage:')\n",
    "        print('Allocated:', round(torch.cuda.memory_allocated(0)/1024**3,1), 'GB')\n",
    "        print('Cached:   ', round(torch.cuda.memory_reserved(0)/1024**3,1), 'GB')\n",
    "else:\n",
    "    device = torch.device('cpu')\n",
    "\n",
    "print('Using device:', device)"
   ]
  },
  {
   "cell_type": "markdown",
   "metadata": {},
   "source": [
    "## Importing data"
   ]
  },
  {
   "cell_type": "code",
   "execution_count": 6,
   "metadata": {},
   "outputs": [
    {
     "name": "stdout",
     "output_type": "stream",
     "text": [
      "Loaded 1500 galaxy images\n"
     ]
    }
   ],
   "source": [
    "catalog = pd.read_csv(CATALOG_PATH)\n",
    "print(f\"Loaded {catalog.shape[0]} galaxy images\")\n",
    "\n",
    "#Select features (clockwise and anti-clockwise probabilities)\n",
    "Y = catalog[['P_CW','P_ACW']]\n",
    "classes = [r'P_CW',r'P_ACW']"
   ]
  },
  {
   "cell_type": "markdown",
   "metadata": {},
   "source": [
    "### Generate list of file locations from catalog"
   ]
  },
  {
   "cell_type": "code",
   "execution_count": 7,
   "metadata": {},
   "outputs": [],
   "source": [
    "def get_file_paths(catalog_to_convert,folder_path ):\n",
    "    brick_ids = catalog_to_convert['dr8_id'].str.split(\"_\",expand=True)[0]\n",
    "    dr8_ids = catalog_to_convert['dr8_id']\n",
    "    file_locations = folder_path+'/'+brick_ids+'/'+dr8_ids+'.jpg'\n",
    "    return file_locations\n",
    "\n",
    "file_locations = get_file_paths(catalog,DATA_PATH)"
   ]
  },
  {
   "cell_type": "markdown",
   "metadata": {},
   "source": [
    "### Image processing functions"
   ]
  },
  {
   "cell_type": "code",
   "execution_count": 8,
   "metadata": {},
   "outputs": [],
   "source": [
    "COLOR = True\n",
    "RAW_SIZE = 15\n",
    "IMG_SIZE = 160\n",
    "\n",
    "TARGET_SIZE = 5\n",
    "TRANSLATE = 0.\n",
    "ROTATE = False\n",
    "FLIP = False\n",
    "LABEL = 2\n",
    "SHUFFLE = False\n",
    "\n",
    "\n",
    "def img_proc(img, raw_size=RAW_SIZE, target_size=TARGET_SIZE, translate=TRANSLATE, rotate=ROTATE,\n",
    "             random_generator=None):\n",
    "    assert img.shape[-2] == img.shape[-1]\n",
    "    assert translate >= 0\n",
    "    \n",
    "    if random_generator is None:\n",
    "        random_generator = int.from_bytes(os.urandom(4), byteorder='little')\n",
    "    rng = np.random.default_rng(random_generator)\n",
    "\n",
    "    if not isinstance(target_size, (float, int)):\n",
    "        target_size = rng.uniform(*target_size)\n",
    "    if rotate:\n",
    "        assert target_size * (1 + translate) * 2**0.5 < raw_size\n",
    "        if isinstance(rotate, bool):\n",
    "            rotate = rng.uniform(0., 360.)\n",
    "        img = ndimage.rotate(img, rotate, axes=(-1, -2), reshape=False, order=1)\n",
    "    else:\n",
    "        assert target_size * (1 + translate) < raw_size\n",
    "    s = img.shape[-1]\n",
    "    translate = translate * target_size\n",
    "    t_x = rng.uniform(-translate, translate) if translate > 0 else 0\n",
    "    t_y = rng.uniform(-translate, translate) if translate > 0 else 0\n",
    "    a = int(s * (raw_size - target_size + t_x) / (2 * raw_size))\n",
    "    b = int(s * (raw_size - target_size + t_y) / (2 * raw_size))\n",
    "    c = int(s * target_size / raw_size)\n",
    "    return img[..., a:(a + c), b:(b + c)]\n",
    "\n",
    "\n",
    "def read_img(path, color=COLOR, img_size=IMG_SIZE, atleast_3d=True, random_flip=FLIP,\n",
    "             shuffle_channel=SHUFFLE, random_generator=None, **kwargs):\n",
    "    if random_generator is None:\n",
    "        random_generator = int.from_bytes(os.urandom(4), byteorder='little')\n",
    "    rng = np.random.default_rng(random_generator)\n",
    "\n",
    "    jpeg_file = (np.asarray(Image.open(path)) / 255).astype(np.float32)\n",
    "    if color:\n",
    "        img = np.moveaxis(jpeg_file, -1, 0)\n",
    "        if shuffle_channel:\n",
    "            if isinstance(shuffle_channel, bool):\n",
    "                shuffle_channel = rng.permutation(img.shape[0])\n",
    "            img = img[shuffle_channel]\n",
    "    else:\n",
    "        img = np.mean(jpeg_file, axis=-1)\n",
    "    img = img_proc(img, random_generator=rng, **kwargs)\n",
    "    rng.uniform(size=100) # just to jump the rng\n",
    "\n",
    "    if img_size is not None:\n",
    "        z = img_size / img.shape[-1]\n",
    "        if img.ndim == 2:\n",
    "            img = ndimage.zoom(img, (z, z), order=1)\n",
    "            if atleast_3d:\n",
    "                img = img[np.newaxis]\n",
    "        elif img.ndim == 3:\n",
    "            img = ndimage.zoom(img, (1, z, z), order=1)\n",
    "        else:\n",
    "            raise RuntimeError\n",
    "\n",
    "    if random_flip:\n",
    "        flip = int(rng.integers(0, 2, 1))\n",
    "        flip = 2 * flip - 1\n",
    "    else:\n",
    "        flip = 1\n",
    "    return np.ascontiguousarray(img[..., ::flip])"
   ]
  },
  {
   "cell_type": "markdown",
   "metadata": {},
   "source": [
    "### Reading in images"
   ]
  },
  {
   "cell_type": "code",
   "execution_count": 9,
   "metadata": {},
   "outputs": [],
   "source": [
    "#Takes 2 mins 20\n",
    "X = torch.empty(0, 3, 160,160)\n",
    "for i in range(len(file_locations)):\n",
    "    X = torch.cat((X, torch.from_numpy(read_img(file_locations[i])).float()[np.newaxis]), 0)"
   ]
  },
  {
   "cell_type": "code",
   "execution_count": 10,
   "metadata": {},
   "outputs": [
    {
     "name": "stdout",
     "output_type": "stream",
     "text": [
      "Processed 1500 images\n"
     ]
    }
   ],
   "source": [
    "print(f\"Processed {X.shape[0]} images\")"
   ]
  },
  {
   "cell_type": "markdown",
   "metadata": {},
   "source": [
    "## Setting up model"
   ]
  },
  {
   "cell_type": "code",
   "execution_count": 11,
   "metadata": {},
   "outputs": [],
   "source": [
    "selected_model = resnet18(num_classes=2)"
   ]
  },
  {
   "cell_type": "markdown",
   "metadata": {},
   "source": [
    "### Hyperparameters"
   ]
  },
  {
   "cell_type": "code",
   "execution_count": 12,
   "metadata": {},
   "outputs": [],
   "source": [
    "learning_rate = 0.0001\n",
    "weight_decay = 1\n",
    "\n",
    "num_epochs = 120\n",
    "batch_size = 60 #60\n",
    "\n",
    "modfile = 'resnet18_modfile.pt'"
   ]
  },
  {
   "cell_type": "markdown",
   "metadata": {},
   "source": [
    "### Training model function"
   ]
  },
  {
   "cell_type": "code",
   "execution_count": 13,
   "metadata": {},
   "outputs": [],
   "source": [
    "def train(model, trainloader, optimiser, device):\n",
    "    train_loss = 0.0\n",
    "    model.train()\n",
    "\n",
    "    for batch_idx, (data, labels) in enumerate(trainloader):\n",
    "        data, labels = data.to(device), labels.to(device)\n",
    "        optimiser.zero_grad()\n",
    "\n",
    "        #Calculate train loss\n",
    "        output = model(data)\n",
    "        loss_criterion = nn.CrossEntropyLoss()\n",
    "        labels = labels.to(device)        \n",
    "        loss = loss_criterion(output, labels)\n",
    "            \n",
    "        train_loss += loss.item() * data.size(0)\n",
    "        \n",
    "        #Feed the loss back\n",
    "        loss.backward()\n",
    "        optimiser.step()\n",
    "\n",
    "    train_loss /= len(trainloader.dataset)\n",
    "    return train_loss"
   ]
  },
  {
   "cell_type": "markdown",
   "metadata": {},
   "source": [
    "### Validating model function"
   ]
  },
  {
   "cell_type": "code",
   "execution_count": 14,
   "metadata": {},
   "outputs": [],
   "source": [
    "#function to test the model on data\n",
    "def validate(model, testloader, device):\n",
    "    prediction=[]\n",
    "    target=[]\n",
    "    correct = 0\n",
    "    test_loss = 0.0\n",
    "\n",
    "    model.eval()\n",
    "    with torch.no_grad():\n",
    "        for batch_idx, (data, labels) in enumerate(testloader):\n",
    "            data, labels = data.to(device), labels.to(device)\n",
    "\n",
    "            p_y = model(data)\n",
    "            #Calculate test loss\n",
    "            loss_criterion = nn.CrossEntropyLoss()\n",
    "            labels = labels.to(device)\n",
    "            loss = loss_criterion(p_y, labels)\n",
    "                \n",
    "            test_loss += loss.item() * data.size(0)\n",
    "            \n",
    "            #values for metrics\n",
    "            #preds = p_y.argmax(dim=1, keepdim=True)\n",
    "            #correct += preds.eq(labels.view_as(preds)).sum().item()\n",
    "            #prediction+=preds.squeeze(1).tolist()\n",
    "            #target+=labels.tolist()\n",
    "        test_loss /= len(testloader.dataset)\n",
    "        accuracy = correct / len(testloader.dataset)\n",
    "\n",
    "        #calculate ROC score metric\n",
    "            # roc_auc = roc_auc_score(target, prediction)\n",
    "            # recall = recall_score(target, prediction)\n",
    "            # f1 = f1_score(target, prediction)\n",
    "            # precision = precision_score(target, prediction)\n",
    "    return test_loss, accuracy#, roc_auc, prediction, target, recall, f1, precision"
   ]
  },
  {
   "cell_type": "markdown",
   "metadata": {},
   "source": [
    "### Split data into train and test"
   ]
  },
  {
   "cell_type": "code",
   "execution_count": 15,
   "metadata": {},
   "outputs": [],
   "source": [
    "def data_split(frac_val, data):\n",
    "    dataset_size = len(data)\n",
    "    nval = int(frac_val*dataset_size)\n",
    "\n",
    "    indices = list(range(dataset_size))\n",
    "    train_indices, val_indices = indices[nval:], indices[:nval]\n",
    "\n",
    "    train_sampler = Subset(data, train_indices)\n",
    "    valid_sampler = Subset(data, val_indices)\n",
    "\n",
    "    train_loader = torch.utils.data.DataLoader(train_sampler, batch_size=batch_size, shuffle=True)\n",
    "    test_loader = torch.utils.data.DataLoader(valid_sampler, batch_size=batch_size, shuffle=True)\n",
    "    return train_loader, test_loader"
   ]
  },
  {
   "cell_type": "markdown",
   "metadata": {},
   "source": [
    "## Running model"
   ]
  },
  {
   "cell_type": "code",
   "execution_count": 20,
   "metadata": {},
   "outputs": [],
   "source": [
    "#function to run the entire model train/test loop\n",
    "TEST_USE = False\n",
    "early_stopping = True\n",
    "QUIET = False\n",
    "def run_func(X,Y,model):\n",
    "    X_tensor = X\n",
    "    Y_tensor = torch.from_numpy(Y.values).float()\n",
    "\n",
    "    dataset = TensorDataset(X_tensor, Y_tensor)\n",
    "    train_loader,val_loader = data_split(0.7,dataset)\n",
    "\n",
    "    if TEST_USE: #Doesn't currently work\n",
    "        val_loader, test_loader = data_split(0.5,val_loader)\n",
    "\n",
    "    #optimizer and learning rate scheduler\n",
    "    optimizer = optim.AdamW(model.parameters(), lr=learning_rate, weight_decay = weight_decay)#0.005, #0.01\n",
    "    scheduler = torch.optim.lr_scheduler.StepLR(optimizer, step_size=5, gamma=0.15)\n",
    "\n",
    "    #array to store metrics\n",
    "    result_arr = np.zeros((num_epochs,4))\n",
    "\n",
    "    _bestloss = 1.\n",
    "    #NN learning\n",
    "    for epoch in range(num_epochs):\n",
    "    \n",
    "        train_loss = train(model, train_loader, optimizer, device)\n",
    "        val_loss, accuracy= validate(model, val_loader, device)\n",
    "        \n",
    "        scheduler.step(val_loss)\n",
    "\n",
    "        if early_stopping and val_loss<_bestloss:\n",
    "            _bestloss = val_loss\n",
    "            torch.save(model.state_dict(), modfile)\n",
    "            best_epoch = epoch\n",
    "            #cm = confusion_matrix(target, prediction,normalize = 'true')\n",
    "\n",
    "        #set output row\n",
    "        results = [epoch, train_loss, val_loss, accuracy]\n",
    "        result_arr[epoch] = results\n",
    "\n",
    "        #print epoch results\n",
    "        if not QUIET:\n",
    "            print(f'Epoch: {epoch}, Train Loss: {train_loss:4f}, Validation Loss: {val_loss:4f}, Validation Accuracy: {accuracy:4f}')\n",
    "            #print('Current learning rate is: {}'.format(optimizer.param_groups[0]['lr']))\n",
    "    \n",
    "    test_arr=[]\n",
    "    if TEST_USE:\n",
    "        #Test data run\n",
    "        bestmodel=selected_model().to(device)\n",
    "        bestmodel.load_state_dict(torch.load('modfile.pt'))\n",
    "        test_loss, test_accuracy, test_auc, prediction2,target2,  recall2, f12, precision2 = validate(bestmodel, test_loader, device)\n",
    "        test_arr=[test_loss, test_accuracy, test_auc, prediction2,target2,  recall2, f12, precision2]\n",
    "\n",
    "    if not early_stopping:\n",
    "        torch.save(model.state_dict(), modfile)\n",
    "        best_epoch = -1\n",
    "        #cm = confusion_matrix(target, prediction,normalize = 'true')\n",
    "\n",
    "    return result_arr, test_arr, best_epoch"
   ]
  },
  {
   "cell_type": "markdown",
   "metadata": {},
   "source": [
    "## Actually run model"
   ]
  },
  {
   "cell_type": "code",
   "execution_count": 21,
   "metadata": {},
   "outputs": [
    {
     "name": "stderr",
     "output_type": "stream",
     "text": [
      "/share/nas2/npower/miniconda3/envs/mphys-galaxy/lib/python3.11/site-packages/torch/optim/lr_scheduler.py:149: UserWarning: The epoch parameter in `scheduler.step()` was not necessary and is being deprecated where possible. Please use `scheduler.step()` to step the scheduler. During the deprecation, if epoch is different from None, the closed form is used instead of the new chainable form, where available. Please open an issue if you are unable to replicate your use case: https://github.com/pytorch/pytorch/issues/new/choose.\n",
      "  warnings.warn(EPOCH_DEPRECATION_WARNING, UserWarning)\n"
     ]
    },
    {
     "name": "stdout",
     "output_type": "stream",
     "text": [
      "Epoch: 0, Validation Loss: 0.997662, Validation Accuracy: 0.000000\n",
      "Current learning rate is: 0.0001\n",
      "Epoch: 1, Validation Loss: 1.106931, Validation Accuracy: 0.000000\n",
      "Current learning rate is: 0.0001\n",
      "Epoch: 2, Validation Loss: 0.765707, Validation Accuracy: 0.000000\n",
      "Current learning rate is: 0.0001\n",
      "Epoch: 3, Validation Loss: 0.675494, Validation Accuracy: 0.000000\n",
      "Current learning rate is: 0.0001\n",
      "Epoch: 4, Validation Loss: 0.739463, Validation Accuracy: 0.000000\n",
      "Current learning rate is: 0.0001\n",
      "Epoch: 5, Validation Loss: 0.748909, Validation Accuracy: 0.000000\n",
      "Current learning rate is: 0.0001\n",
      "Epoch: 6, Validation Loss: 1.004227, Validation Accuracy: 0.000000\n",
      "Current learning rate is: 0.0001\n",
      "Epoch: 7, Validation Loss: 0.732432, Validation Accuracy: 0.000000\n",
      "Current learning rate is: 0.0001\n",
      "Epoch: 8, Validation Loss: 0.948126, Validation Accuracy: 0.000000\n",
      "Current learning rate is: 0.0001\n",
      "Epoch: 9, Validation Loss: 0.894956, Validation Accuracy: 0.000000\n",
      "Current learning rate is: 0.0001\n",
      "Epoch: 10, Validation Loss: 0.732876, Validation Accuracy: 0.000000\n",
      "Current learning rate is: 0.0001\n",
      "Epoch: 11, Validation Loss: 1.221207, Validation Accuracy: 0.000000\n",
      "Current learning rate is: 0.0001\n",
      "Epoch: 12, Validation Loss: 0.884206, Validation Accuracy: 0.000000\n",
      "Current learning rate is: 0.0001\n",
      "Epoch: 13, Validation Loss: 1.067914, Validation Accuracy: 0.000000\n",
      "Current learning rate is: 0.0001\n",
      "Epoch: 14, Validation Loss: 0.954101, Validation Accuracy: 0.000000\n",
      "Current learning rate is: 0.0001\n",
      "Epoch: 15, Validation Loss: 1.228499, Validation Accuracy: 0.000000\n",
      "Current learning rate is: 0.0001\n",
      "Epoch: 16, Validation Loss: 0.809663, Validation Accuracy: 0.000000\n",
      "Current learning rate is: 0.0001\n",
      "Epoch: 17, Validation Loss: 1.296851, Validation Accuracy: 0.000000\n",
      "Current learning rate is: 0.0001\n",
      "Epoch: 18, Validation Loss: 0.798013, Validation Accuracy: 0.000000\n",
      "Current learning rate is: 0.0001\n",
      "Epoch: 19, Validation Loss: 0.775997, Validation Accuracy: 0.000000\n",
      "Current learning rate is: 0.0001\n",
      "Epoch: 20, Validation Loss: 0.784612, Validation Accuracy: 0.000000\n",
      "Current learning rate is: 0.0001\n",
      "Epoch: 21, Validation Loss: 0.749155, Validation Accuracy: 0.000000\n",
      "Current learning rate is: 0.0001\n",
      "Epoch: 22, Validation Loss: 0.780284, Validation Accuracy: 0.000000\n",
      "Current learning rate is: 0.0001\n",
      "Epoch: 23, Validation Loss: 0.765530, Validation Accuracy: 0.000000\n",
      "Current learning rate is: 0.0001\n",
      "Epoch: 24, Validation Loss: 0.728827, Validation Accuracy: 0.000000\n",
      "Current learning rate is: 0.0001\n",
      "Epoch: 25, Validation Loss: 0.762022, Validation Accuracy: 0.000000\n",
      "Current learning rate is: 0.0001\n",
      "Epoch: 26, Validation Loss: 0.780985, Validation Accuracy: 0.000000\n",
      "Current learning rate is: 0.0001\n",
      "Epoch: 27, Validation Loss: 0.755456, Validation Accuracy: 0.000000\n",
      "Current learning rate is: 0.0001\n",
      "Epoch: 28, Validation Loss: 0.772573, Validation Accuracy: 0.000000\n",
      "Current learning rate is: 0.0001\n",
      "Epoch: 29, Validation Loss: 0.827126, Validation Accuracy: 0.000000\n",
      "Current learning rate is: 0.0001\n",
      "Epoch: 30, Validation Loss: 0.744369, Validation Accuracy: 0.000000\n",
      "Current learning rate is: 0.0001\n",
      "Epoch: 31, Validation Loss: 0.746614, Validation Accuracy: 0.000000\n",
      "Current learning rate is: 0.0001\n",
      "Epoch: 32, Validation Loss: 0.761460, Validation Accuracy: 0.000000\n",
      "Current learning rate is: 0.0001\n",
      "Epoch: 33, Validation Loss: 0.769498, Validation Accuracy: 0.000000\n",
      "Current learning rate is: 0.0001\n",
      "Epoch: 34, Validation Loss: 0.750932, Validation Accuracy: 0.000000\n",
      "Current learning rate is: 0.0001\n",
      "Epoch: 35, Validation Loss: 0.863392, Validation Accuracy: 0.000000\n",
      "Current learning rate is: 0.0001\n",
      "Epoch: 36, Validation Loss: 0.775891, Validation Accuracy: 0.000000\n",
      "Current learning rate is: 0.0001\n",
      "Epoch: 37, Validation Loss: 0.831698, Validation Accuracy: 0.000000\n",
      "Current learning rate is: 0.0001\n",
      "Epoch: 38, Validation Loss: 0.729666, Validation Accuracy: 0.000000\n",
      "Current learning rate is: 0.0001\n",
      "Epoch: 39, Validation Loss: 0.949017, Validation Accuracy: 0.000000\n",
      "Current learning rate is: 0.0001\n",
      "Epoch: 40, Validation Loss: 1.077831, Validation Accuracy: 0.000000\n",
      "Current learning rate is: 0.0001\n",
      "Epoch: 41, Validation Loss: 0.754278, Validation Accuracy: 0.000000\n",
      "Current learning rate is: 0.0001\n",
      "Epoch: 42, Validation Loss: 0.758015, Validation Accuracy: 0.000000\n",
      "Current learning rate is: 0.0001\n",
      "Epoch: 43, Validation Loss: 0.768459, Validation Accuracy: 0.000000\n",
      "Current learning rate is: 0.0001\n",
      "Epoch: 44, Validation Loss: 0.760241, Validation Accuracy: 0.000000\n",
      "Current learning rate is: 0.0001\n",
      "Epoch: 45, Validation Loss: 0.775297, Validation Accuracy: 0.000000\n",
      "Current learning rate is: 0.0001\n",
      "Epoch: 46, Validation Loss: 0.802708, Validation Accuracy: 0.000000\n",
      "Current learning rate is: 0.0001\n",
      "Epoch: 47, Validation Loss: 0.749634, Validation Accuracy: 0.000000\n",
      "Current learning rate is: 0.0001\n",
      "Epoch: 48, Validation Loss: 0.714379, Validation Accuracy: 0.000000\n",
      "Current learning rate is: 0.0001\n",
      "Epoch: 49, Validation Loss: 0.727844, Validation Accuracy: 0.000000\n",
      "Current learning rate is: 0.0001\n",
      "Epoch: 50, Validation Loss: 0.711974, Validation Accuracy: 0.000000\n",
      "Current learning rate is: 0.0001\n",
      "Epoch: 51, Validation Loss: 0.686485, Validation Accuracy: 0.000000\n",
      "Current learning rate is: 0.0001\n",
      "Epoch: 52, Validation Loss: 0.713270, Validation Accuracy: 0.000000\n",
      "Current learning rate is: 0.0001\n",
      "Epoch: 53, Validation Loss: 0.732772, Validation Accuracy: 0.000000\n",
      "Current learning rate is: 0.0001\n",
      "Epoch: 54, Validation Loss: 0.733689, Validation Accuracy: 0.000000\n",
      "Current learning rate is: 0.0001\n",
      "Epoch: 55, Validation Loss: 0.727502, Validation Accuracy: 0.000000\n",
      "Current learning rate is: 0.0001\n",
      "Epoch: 56, Validation Loss: 0.741401, Validation Accuracy: 0.000000\n",
      "Current learning rate is: 0.0001\n",
      "Epoch: 57, Validation Loss: 0.740013, Validation Accuracy: 0.000000\n",
      "Current learning rate is: 0.0001\n",
      "Epoch: 58, Validation Loss: 0.727360, Validation Accuracy: 0.000000\n",
      "Current learning rate is: 0.0001\n",
      "Epoch: 59, Validation Loss: 0.726100, Validation Accuracy: 0.000000\n",
      "Current learning rate is: 0.0001\n",
      "Epoch: 60, Validation Loss: 0.745360, Validation Accuracy: 0.000000\n",
      "Current learning rate is: 0.0001\n",
      "Epoch: 61, Validation Loss: 0.723092, Validation Accuracy: 0.000000\n",
      "Current learning rate is: 0.0001\n",
      "Epoch: 62, Validation Loss: 0.731925, Validation Accuracy: 0.000000\n",
      "Current learning rate is: 0.0001\n",
      "Epoch: 63, Validation Loss: 0.738695, Validation Accuracy: 0.000000\n",
      "Current learning rate is: 0.0001\n",
      "Epoch: 64, Validation Loss: 0.731574, Validation Accuracy: 0.000000\n",
      "Current learning rate is: 0.0001\n",
      "Epoch: 65, Validation Loss: 0.738758, Validation Accuracy: 0.000000\n",
      "Current learning rate is: 0.0001\n",
      "Epoch: 66, Validation Loss: 0.729592, Validation Accuracy: 0.000000\n",
      "Current learning rate is: 0.0001\n",
      "Epoch: 67, Validation Loss: 0.732436, Validation Accuracy: 0.000000\n",
      "Current learning rate is: 0.0001\n",
      "Epoch: 68, Validation Loss: 0.718074, Validation Accuracy: 0.000000\n",
      "Current learning rate is: 0.0001\n",
      "Epoch: 69, Validation Loss: 0.710655, Validation Accuracy: 0.000000\n",
      "Current learning rate is: 0.0001\n",
      "Epoch: 70, Validation Loss: 0.724321, Validation Accuracy: 0.000000\n",
      "Current learning rate is: 0.0001\n",
      "Epoch: 71, Validation Loss: 0.730757, Validation Accuracy: 0.000000\n",
      "Current learning rate is: 0.0001\n",
      "Epoch: 72, Validation Loss: 0.716692, Validation Accuracy: 0.000000\n",
      "Current learning rate is: 0.0001\n",
      "Epoch: 73, Validation Loss: 0.722947, Validation Accuracy: 0.000000\n",
      "Current learning rate is: 0.0001\n",
      "Epoch: 74, Validation Loss: 0.746934, Validation Accuracy: 0.000000\n",
      "Current learning rate is: 0.0001\n",
      "Epoch: 75, Validation Loss: 0.735627, Validation Accuracy: 0.000000\n",
      "Current learning rate is: 0.0001\n",
      "Epoch: 76, Validation Loss: 0.751580, Validation Accuracy: 0.000000\n",
      "Current learning rate is: 0.0001\n",
      "Epoch: 77, Validation Loss: 0.759519, Validation Accuracy: 0.000000\n",
      "Current learning rate is: 0.0001\n",
      "Epoch: 78, Validation Loss: 0.749622, Validation Accuracy: 0.000000\n",
      "Current learning rate is: 0.0001\n",
      "Epoch: 79, Validation Loss: 0.753660, Validation Accuracy: 0.000000\n",
      "Current learning rate is: 0.0001\n",
      "Epoch: 80, Validation Loss: 0.744489, Validation Accuracy: 0.000000\n",
      "Current learning rate is: 0.0001\n",
      "Epoch: 81, Validation Loss: 0.742714, Validation Accuracy: 0.000000\n",
      "Current learning rate is: 0.0001\n",
      "Epoch: 82, Validation Loss: 0.740741, Validation Accuracy: 0.000000\n",
      "Current learning rate is: 0.0001\n",
      "Epoch: 83, Validation Loss: 0.728971, Validation Accuracy: 0.000000\n",
      "Current learning rate is: 0.0001\n",
      "Epoch: 84, Validation Loss: 0.718445, Validation Accuracy: 0.000000\n",
      "Current learning rate is: 0.0001\n",
      "Epoch: 85, Validation Loss: 0.727215, Validation Accuracy: 0.000000\n",
      "Current learning rate is: 0.0001\n",
      "Epoch: 86, Validation Loss: 0.728640, Validation Accuracy: 0.000000\n",
      "Current learning rate is: 0.0001\n",
      "Epoch: 87, Validation Loss: 0.727090, Validation Accuracy: 0.000000\n",
      "Current learning rate is: 0.0001\n",
      "Epoch: 88, Validation Loss: 0.738583, Validation Accuracy: 0.000000\n",
      "Current learning rate is: 0.0001\n",
      "Epoch: 89, Validation Loss: 0.744269, Validation Accuracy: 0.000000\n",
      "Current learning rate is: 0.0001\n",
      "Epoch: 90, Validation Loss: 0.746969, Validation Accuracy: 0.000000\n",
      "Current learning rate is: 0.0001\n",
      "Epoch: 91, Validation Loss: 0.749910, Validation Accuracy: 0.000000\n",
      "Current learning rate is: 0.0001\n",
      "Epoch: 92, Validation Loss: 0.748914, Validation Accuracy: 0.000000\n",
      "Current learning rate is: 0.0001\n",
      "Epoch: 93, Validation Loss: 0.753561, Validation Accuracy: 0.000000\n",
      "Current learning rate is: 0.0001\n",
      "Epoch: 94, Validation Loss: 0.751405, Validation Accuracy: 0.000000\n",
      "Current learning rate is: 0.0001\n",
      "Epoch: 95, Validation Loss: 0.758991, Validation Accuracy: 0.000000\n",
      "Current learning rate is: 0.0001\n",
      "Epoch: 96, Validation Loss: 0.773524, Validation Accuracy: 0.000000\n",
      "Current learning rate is: 0.0001\n",
      "Epoch: 97, Validation Loss: 0.768210, Validation Accuracy: 0.000000\n",
      "Current learning rate is: 0.0001\n",
      "Epoch: 98, Validation Loss: 0.767983, Validation Accuracy: 0.000000\n",
      "Current learning rate is: 0.0001\n",
      "Epoch: 99, Validation Loss: 0.765688, Validation Accuracy: 0.000000\n",
      "Current learning rate is: 0.0001\n",
      "Epoch: 100, Validation Loss: 0.760130, Validation Accuracy: 0.000000\n",
      "Current learning rate is: 0.0001\n",
      "Epoch: 101, Validation Loss: 0.756934, Validation Accuracy: 0.000000\n",
      "Current learning rate is: 0.0001\n",
      "Epoch: 102, Validation Loss: 0.753657, Validation Accuracy: 0.000000\n",
      "Current learning rate is: 0.0001\n",
      "Epoch: 103, Validation Loss: 0.745706, Validation Accuracy: 0.000000\n",
      "Current learning rate is: 0.0001\n",
      "Epoch: 104, Validation Loss: 0.745888, Validation Accuracy: 0.000000\n",
      "Current learning rate is: 0.0001\n",
      "Epoch: 105, Validation Loss: 0.748209, Validation Accuracy: 0.000000\n",
      "Current learning rate is: 0.0001\n",
      "Epoch: 106, Validation Loss: 0.751946, Validation Accuracy: 0.000000\n",
      "Current learning rate is: 0.0001\n",
      "Epoch: 107, Validation Loss: 0.757336, Validation Accuracy: 0.000000\n",
      "Current learning rate is: 0.0001\n",
      "Epoch: 108, Validation Loss: 0.761242, Validation Accuracy: 0.000000\n",
      "Current learning rate is: 0.0001\n",
      "Epoch: 109, Validation Loss: 0.762465, Validation Accuracy: 0.000000\n",
      "Current learning rate is: 0.0001\n",
      "Epoch: 110, Validation Loss: 0.767517, Validation Accuracy: 0.000000\n",
      "Current learning rate is: 0.0001\n",
      "Epoch: 111, Validation Loss: 0.768297, Validation Accuracy: 0.000000\n",
      "Current learning rate is: 0.0001\n",
      "Epoch: 112, Validation Loss: 0.767170, Validation Accuracy: 0.000000\n",
      "Current learning rate is: 0.0001\n",
      "Epoch: 113, Validation Loss: 0.774092, Validation Accuracy: 0.000000\n",
      "Current learning rate is: 0.0001\n",
      "Epoch: 114, Validation Loss: 0.776421, Validation Accuracy: 0.000000\n",
      "Current learning rate is: 0.0001\n",
      "Epoch: 115, Validation Loss: 0.782161, Validation Accuracy: 0.000000\n",
      "Current learning rate is: 0.0001\n",
      "Epoch: 116, Validation Loss: 0.763285, Validation Accuracy: 0.000000\n",
      "Current learning rate is: 0.0001\n",
      "Epoch: 117, Validation Loss: 0.752055, Validation Accuracy: 0.000000\n",
      "Current learning rate is: 0.0001\n",
      "Epoch: 118, Validation Loss: 0.742940, Validation Accuracy: 0.000000\n",
      "Current learning rate is: 0.0001\n",
      "Epoch: 119, Validation Loss: 0.747747, Validation Accuracy: 0.000000\n",
      "Current learning rate is: 0.0001\n"
     ]
    }
   ],
   "source": [
    "result_arr1, test_arr1, best_epoch = run_func(X,Y,selected_model)"
   ]
  },
  {
   "cell_type": "code",
   "execution_count": 32,
   "metadata": {},
   "outputs": [
    {
     "data": {
      "image/png": "[encoded data removed]",
      "text/plain": [
       "<Figure size 1000x500 with 1 Axes>"
      ]
     },
     "metadata": {},
     "output_type": "display_data"
    }
   ],
   "source": [
    "#plot the training cycle\n",
    "plt.figure(figsize=(10,5))\n",
    "plt.plot(result_arr1[:,0],result_arr1[:,3],linestyle='-', label='Accuracy')\n",
    "plt.plot(result_arr1[:,0],result_arr1[:,2],linestyle='-', c='orange',label='Validation loss')\n",
    "plt.plot(result_arr1[:,0],result_arr1[:,1],linestyle='-', c='violet',label='Train loss')\n",
    "plt.ylim(0,1.5)\n",
    "plt.xlim(0,num_epochs-1)\n",
    "plt.title('NN training cycle')\n",
    "plt.xlabel('Epochs')\n",
    "plt.ylabel('Loss')\n",
    "plt.grid()\n",
    "plt.legend()\n",
    "plt.show()"
   ]
  }
 ],
 "metadata": {
  "kernelspec": {
   "display_name": "mphys-moon",
   "language": "python",
   "name": "python3"
  },
  "language_info": {
   "codemirror_mode": {
    "name": "ipython",
    "version": 3
   },
   "file_extension": ".py",
   "mimetype": "text/x-python",
   "name": "python",
   "nbconvert_exporter": "python",
   "pygments_lexer": "ipython3",
   "version": "3.11.5"
  }
 },
 "nbformat": 4,
 "nbformat_minor": 2
}

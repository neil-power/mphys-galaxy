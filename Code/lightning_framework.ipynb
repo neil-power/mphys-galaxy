{
 "cells": [
  {
   "cell_type": "markdown",
   "metadata": {},
   "source": [
    "# Pytorch Lightning Framework for training S+Z Galaxy Classifiers"
   ]
  },
  {
   "cell_type": "markdown",
   "metadata": {},
   "source": [
    "## Imports"
   ]
  },
  {
   "cell_type": "code",
   "execution_count": 18,
   "metadata": {},
   "outputs": [],
   "source": [
    "import os\n",
    "from enum import Enum\n",
    "import pandas as pd\n",
    "import torch\n",
    "from torch.utils.data import random_split\n",
    "import lightning as pl\n",
    "from pytorch_lightning.loggers import TensorBoardLogger,CSVLogger\n",
    "from lightning.pytorch.callbacks.early_stopping import EarlyStopping\n",
    "import albumentations as A\n",
    "from galaxy_datasets.pytorch.galaxy_datamodule import GalaxyDataModule\n",
    "from ChiralityClassifier import ChiralityClassifier"
   ]
  },
  {
   "cell_type": "markdown",
   "metadata": {},
   "source": [
    "## Options"
   ]
  },
  {
   "cell_type": "code",
   "execution_count": 19,
   "metadata": {},
   "outputs": [],
   "source": [
    "class modes(Enum):\n",
    "    FULL_DATASET = 0 #Use all 600,000 galaxies\n",
    "    CUT_DATASET = 1 #Use cut of 200,000 galaxies, with pre-selected test data and downsampled train data\n",
    "    BEST_SUBSET = 2 #Select N best S,Z & other galaxies, evenly split\n",
    "    LOCAL_SUBSET = 3 #Use local cache of 1500 galaxies\n",
    "\n",
    "IMG_SIZE = 160 # This is the output size of the generated image array\n",
    "MODE = modes.CUT_DATASET\n",
    "RUN_TEST = False #Run on testing dataset & save metrics\n",
    "# Models:\n",
    "#resnet18,resnet34,resnet50,resnet101,resnet152,\n",
    "#jiaresnet50,LeNet,\n",
    "#G_ResNet18,G_LeNet,\n",
    "MODEL_NAME = 'resnet18'\n",
    "CUSTOM_ID = 'repeat'\n",
    "USE_TENSORBOARD = False\n",
    "SAVE_MODEL = False\n",
    "REPEAT_RUNS = 5 #Set to 0 for 1 run\n",
    "\n",
    "#MODEL_SAVE_PATH = \"../Models\"\n",
    "#GRAPH_SAVE_PATH = \"../Graphs\"\n",
    "METRICS_PATH = \"../Metrics\"\n",
    "LOG_PATH = \"../Code/lightning_logs\"\n",
    "FULL_DATA_PATH = '/share/nas2/walml/galaxy_zoo/decals/dr8/jpg'\n",
    "LOCAL_SUBSET_DATA_PATH = '../Data/Subset'\n",
    "\n",
    "FULL_CATALOG_PATH = '../Data/gz1_desi_cross_cat.csv'\n",
    "CUT_CATALOG_TEST_PATH = '../Data/gz1_desi_cross_cat_testing.csv'\n",
    "CUT_CATALOG_TRAIN_PATH = '../Data/gz1_desi_cross_cat_train_val_downsample.csv'\n",
    "BEST_SUBSET_CATALOG_PATH = '../Data/gz1_desi_cross_cat_best_subset.csv'\n",
    "LOCAL_SUBSET_CATALOG_PATH = '../Data/gz1_desi_cross_cat_local_subset.csv'\n",
    "\n",
    "torch.set_float32_matmul_precision(\"medium\")\n",
    "MODEL_ID = f\"{MODEL_NAME}_{MODE.name.lower()}_{CUSTOM_ID}\""
   ]
  },
  {
   "cell_type": "markdown",
   "metadata": {},
   "source": [
    "## GPU Test"
   ]
  },
  {
   "cell_type": "code",
   "execution_count": 20,
   "metadata": {},
   "outputs": [
    {
     "name": "stdout",
     "output_type": "stream",
     "text": [
      "Using pytorch 2.2.1. CPU cores available on device: 24\n",
      "NVIDIA A100-PCIE-40GB\n",
      "Allocated Memory: 0.0 GB\n",
      "Cached Memory: 0.0 GB\n",
      "Using device: cuda\n"
     ]
    }
   ],
   "source": [
    "print(f\"Using pytorch {torch.__version__}. CPU cores available on device: {os.cpu_count()}\")\n",
    "device = torch.device('cuda' if torch.cuda.is_available() else 'cpu')\n",
    "if device.type == 'cuda':\n",
    "    print(torch.cuda.get_device_name(0))\n",
    "    print(f'Allocated Memory: {round(torch.cuda.memory_allocated(0)/1024**3,1)} GB')\n",
    "    print(f'Cached Memory: {round(torch.cuda.memory_reserved(0)/1024**3,1)} GB')\n",
    "print('Using device:', device)"
   ]
  },
  {
   "cell_type": "markdown",
   "metadata": {},
   "source": [
    "## Reading in data"
   ]
  },
  {
   "cell_type": "markdown",
   "metadata": {},
   "source": [
    "### Building catalog"
   ]
  },
  {
   "cell_type": "code",
   "execution_count": 21,
   "metadata": {},
   "outputs": [],
   "source": [
    "def get_file_paths(catalog_to_convert,folder_path):\n",
    "    brick_ids = catalog_to_convert['dr8_id'].str.split(\"_\",expand=True)[0]\n",
    "    dr8_ids = catalog_to_convert['dr8_id']\n",
    "    file_locations = folder_path+'/'+brick_ids+'/'+dr8_ids+'.jpg'\n",
    "    print(f\"Created {file_locations.shape[0]} galaxy filepaths\")\n",
    "    return file_locations\n",
    "\n",
    "def check_folder(save_dir):\n",
    "    if not os.path.exists(save_dir):\n",
    "        os.makedirs(save_dir)\n",
    "\n",
    "def generate_transforms(resize_after_crop=IMG_SIZE):\n",
    "    transforms_to_apply = [\n",
    "        A.ToFloat(), #Converts from 0-255 to 0-1\n",
    "\n",
    "        A.Resize( #Resizes to 160x160\n",
    "            height=resize_after_crop,\n",
    "            width=resize_after_crop,\n",
    "            interpolation=1,\n",
    "            always_apply=True\n",
    "        ),\n",
    "\n",
    "        #A.randomrotate\n",
    "    ]\n",
    "    return A.Compose(transforms_to_apply)"
   ]
  },
  {
   "cell_type": "code",
   "execution_count": 22,
   "metadata": {},
   "outputs": [
    {
     "name": "stdout",
     "output_type": "stream",
     "text": [
      "Created 35988 galaxy filepaths\n",
      "Created 41737 galaxy filepaths\n"
     ]
    }
   ],
   "source": [
    "if MODE == modes.CUT_DATASET:\n",
    "    train_val_catalog = pd.read_csv(CUT_CATALOG_TRAIN_PATH)\n",
    "    train_val_catalog['file_loc'] = get_file_paths(train_val_catalog,FULL_DATA_PATH)\n",
    "    generator1 = torch.Generator().manual_seed(42) #Preset test-val split, note test dataloader will still shuffle\n",
    "    train_catalog, val_catalog = random_split(train_val_catalog, [0.20,0.80], generator=generator1)\n",
    "    train_catalog = train_catalog.dataset.iloc[train_catalog.indices]\n",
    "    val_catalog = val_catalog.dataset.iloc[val_catalog.indices]   \n",
    "    test_catalog = pd.read_csv(CUT_CATALOG_TEST_PATH)\n",
    "    test_catalog['file_loc'] = get_file_paths(test_catalog,FULL_DATA_PATH)\n",
    "\n",
    "    datamodule = GalaxyDataModule(\n",
    "        label_cols=['P_CW','P_ACW','P_OTHER'],\n",
    "        train_catalog=train_catalog, val_catalog=train_catalog, test_catalog=test_catalog,\n",
    "        custom_albumentation_transform=generate_transforms(),\n",
    "        batch_size=200,\n",
    "        num_workers=11,\n",
    "    )\n",
    "    \n",
    "else:\n",
    "    if MODE == modes.FULL_DATASET:\n",
    "        catalog = pd.read_csv(FULL_CATALOG_PATH)\n",
    "        catalog['file_loc'] = get_file_paths(catalog,FULL_DATA_PATH)\n",
    "\n",
    "    elif MODE == modes.BEST_SUBSET:\n",
    "        catalog = pd.read_csv(BEST_SUBSET_CATALOG_PATH)\n",
    "        catalog['file_loc'] = get_file_paths(catalog,FULL_DATA_PATH)\n",
    "\n",
    "    elif MODE == modes.LOCAL_SUBSET:\n",
    "        catalog = pd.read_csv(LOCAL_SUBSET_CATALOG_PATH)\n",
    "        catalog['file_loc'] = get_file_paths(catalog,LOCAL_SUBSET_DATA_PATH)\n",
    "\n",
    "    datamodule = GalaxyDataModule(\n",
    "        label_cols=['P_CW','P_ACW','P_OTHER'],\n",
    "        catalog=catalog,\n",
    "        train_fraction=0.7, val_fraction=0.15, test_fraction=0.15,\n",
    "        custom_albumentation_transform=generate_transforms(),\n",
    "        batch_size=100,\n",
    "        num_workers=11,\n",
    "    )"
   ]
  },
  {
   "cell_type": "markdown",
   "metadata": {},
   "source": [
    "## Code to run"
   ]
  },
  {
   "cell_type": "code",
   "execution_count": 23,
   "metadata": {},
   "outputs": [],
   "source": [
    "datamodule.prepare_data()\n",
    "datamodule.setup()"
   ]
  },
  {
   "cell_type": "code",
   "execution_count": 24,
   "metadata": {},
   "outputs": [
    {
     "name": "stderr",
     "output_type": "stream",
     "text": [
      "/share/nas2/npower/miniconda3/envs/mphys-galaxy/lib/python3.11/site-packages/lightning/fabric/plugins/environments/slurm.py:168: PossibleUserWarning: The `srun` command is available on your system but is not used. HINT: If your intention is to run Lightning on SLURM, prepend your python command with `srun` like so: srun python /share/nas2/npower/miniconda3/envs/mphys-galaxy/lib/ ...\n",
      "  rank_zero_warn(\n",
      "GPU available: True (cuda), used: True\n",
      "TPU available: False, using: 0 TPU cores\n",
      "IPU available: False, using: 0 IPUs\n",
      "HPU available: False, using: 0 HPUs\n",
      "LOCAL_RANK: 0 - CUDA_VISIBLE_DEVICES: [0,1]\n",
      "\n",
      "  | Name    | Type             | Params\n",
      "---------------------------------------------\n",
      "0 | loss_fn | CrossEntropyLoss | 0     \n",
      "1 | model   | ResNet           | 11.2 M\n",
      "---------------------------------------------\n",
      "11.2 M    Trainable params\n",
      "0         Non-trainable params\n",
      "11.2 M    Total params\n",
      "44.712    Total estimated model params size (MB)\n"
     ]
    },
    {
     "name": "stdout",
     "output_type": "stream",
     "text": [
      "Sanity Checking: 0it [00:00, ?it/s]"
     ]
    },
    {
     "name": "stdout",
     "output_type": "stream",
     "text": [
      "                                                                           "
     ]
    },
    {
     "name": "stderr",
     "output_type": "stream",
     "text": [
      "STAGE:2024-03-12 12:22:44 46460:46460 ActivityProfilerController.cpp:314] Completed Stage: Warm Up\n",
      "/share/nas2/npower/miniconda3/envs/mphys-galaxy/lib/python3.11/site-packages/lightning/pytorch/loops/fit_loop.py:281: PossibleUserWarning: The number of training batches (36) is smaller than the logging interval Trainer(log_every_n_steps=50). Set a lower value for log_every_n_steps if you want to see logs for the training epoch.\n",
      "  rank_zero_warn(\n"
     ]
    },
    {
     "name": "stdout",
     "output_type": "stream",
     "text": [
      "Epoch 0:  11%|█         | 4/36 [00:04<00:35,  1.12s/it, v_num=0, train_loss_step=0.994, train_acc_step=0.610, train_calibration_error_step=0.0426]"
     ]
    },
    {
     "name": "stderr",
     "output_type": "stream",
     "text": [
      "STAGE:2024-03-12 12:22:49 46460:46460 ActivityProfilerController.cpp:320] Completed Stage: Collection\n",
      "STAGE:2024-03-12 12:22:49 46460:46460 ActivityProfilerController.cpp:324] Completed Stage: Post Processing\n",
      "[W collection.cpp:602] Warning: Optimizer.step#AdamW.step (function operator())\n",
      "[W collection.cpp:602] Warning: [pl][profile][LightningModule]ChiralityClassifier.optimizer_step (function operator())\n"
     ]
    },
    {
     "name": "stdout",
     "output_type": "stream",
     "text": [
      "Epoch 0: 100%|██████████| 36/36 [00:09<00:00,  3.78it/s, v_num=0, train_loss_step=0.903, train_acc_step=0.636, train_calibration_error_step=0.0648]"
     ]
    },
    {
     "name": "stderr",
     "output_type": "stream",
     "text": [
      "STAGE:2024-03-12 12:22:55 46460:46460 ActivityProfilerController.cpp:314] Completed Stage: Warm Up\n"
     ]
    },
    {
     "name": "stdout",
     "output_type": "stream",
     "text": []
    },
    {
     "name": "stderr",
     "output_type": "stream",
     "text": [
      "STAGE:2024-03-12 12:22:56 46460:46460 ActivityProfilerController.cpp:320] Completed Stage: Collection\n",
      "STAGE:2024-03-12 12:22:56 46460:46460 ActivityProfilerController.cpp:324] Completed Stage: Post Processing\n"
     ]
    },
    {
     "name": "stdout",
     "output_type": "stream",
     "text": [
      "Epoch 59: 100%|██████████| 36/36 [00:13<00:00,  2.67it/s, v_num=0, train_loss_step=0.544, train_acc_step=0.990, train_calibration_error_step=0.251, val_acc=0.979, val_calibration_error=0.225, train_loss_epoch=0.531, train_acc_epoch=0.969, train_calibration_error_epoch=0.214]  "
     ]
    },
    {
     "name": "stderr",
     "output_type": "stream",
     "text": [
      "`Trainer.fit` stopped: `max_epochs=60` reached.\n"
     ]
    },
    {
     "name": "stdout",
     "output_type": "stream",
     "text": [
      "Epoch 59: 100%|██████████| 36/36 [00:14<00:00,  2.40it/s, v_num=0, train_loss_step=0.544, train_acc_step=0.990, train_calibration_error_step=0.251, val_acc=0.979, val_calibration_error=0.225, train_loss_epoch=0.531, train_acc_epoch=0.969, train_calibration_error_epoch=0.214]\n"
     ]
    },
    {
     "name": "stderr",
     "output_type": "stream",
     "text": [
      "FIT Profiler Report\n",
      "Profile stats for: records\n",
      "-------------------------------------------------------  ------------  ------------  ------------  ------------  ------------  ------------  ------------  ------------  ------------  ------------  \n",
      "                                                   Name    Self CPU %      Self CPU   CPU total %     CPU total  CPU time avg     Self CUDA   Self CUDA %    CUDA total  CUDA time avg    # of Calls  \n",
      "-------------------------------------------------------  ------------  ------------  ------------  ------------  ------------  ------------  ------------  ------------  ------------  ------------  \n",
      "                                          ProfilerStep*         2.87%       7.665ms        99.98%     266.684ms     133.342ms       0.000us         0.00%      64.959ms      32.480ms             2  \n",
      "                [pl][profile][_EvaluationLoop].val_next         0.16%     432.000us        64.17%     171.155ms      85.578ms       0.000us         0.00%       0.000us       0.000us             2  \n",
      "enumerate(DataLoader)#_MultiProcessingDataLoaderIter...        63.97%     170.632ms        64.01%     170.723ms      85.362ms       0.000us         0.00%       0.000us       0.000us             2  \n",
      "[pl][profile][Strategy]SingleDeviceStrategy.validati...         3.86%      10.287ms        28.46%      75.916ms      37.958ms       0.000us         0.00%      54.326ms      27.163ms             2  \n",
      "    [pl][module]torchvision.models.resnet.ResNet: model         0.62%       1.642ms        20.75%      55.350ms      27.675ms       0.000us         0.00%      53.646ms      26.823ms             2  \n",
      "                                           aten::conv2d         0.11%     302.000us         6.81%      18.164ms     454.100us       0.000us         0.00%      41.908ms       1.048ms            40  \n",
      "                                      aten::convolution         0.19%     511.000us         6.70%      17.862ms     446.550us       0.000us         0.00%      41.908ms       1.048ms            40  \n",
      "                                     aten::_convolution         0.48%       1.269ms         6.51%      17.351ms     433.775us       0.000us         0.00%      41.908ms       1.048ms            40  \n",
      "                                aten::cudnn_convolution         3.39%       9.052ms         6.03%      16.082ms     402.050us      41.908ms        64.51%      41.908ms       1.048ms            40  \n",
      "[pl][module]torch.nn.modules.container.Sequential: m...         0.36%     954.000us         4.40%      11.744ms       5.872ms       0.000us         0.00%       5.026ms       2.513ms             2  \n",
      "[pl][module]torch.nn.modules.container.Sequential: m...         0.12%     310.000us         4.28%      11.414ms       5.707ms       0.000us         0.00%       5.874ms       2.937ms             2  \n",
      "[pl][module]torch.nn.modules.container.Sequential: m...         0.09%     238.000us         4.14%      11.049ms       5.524ms       0.000us         0.00%       4.486ms       2.243ms             2  \n",
      "                                       cudaLaunchKernel         4.09%      10.920ms         4.09%      10.920ms      16.957us       0.000us         0.00%       0.000us       0.000us           644  \n",
      "[pl][module]torch.nn.modules.conv.Conv2d: model.conv...         0.17%     463.000us         3.10%       8.261ms       4.130ms       0.000us         0.00%      25.057ms      12.528ms             2  \n",
      "                                       aten::batch_norm         0.12%     310.000us         3.08%       8.227ms     205.675us       0.000us         0.00%       5.652ms     141.300us            40  \n",
      "                           aten::_batch_norm_impl_index         0.18%     493.000us         2.97%       7.917ms     197.925us       0.000us         0.00%       5.652ms     141.300us            40  \n",
      "[pl][module]torch.nn.modules.container.Sequential: m...         0.10%     270.000us         2.88%       7.694ms       3.847ms       0.000us         0.00%       9.086ms       4.543ms             2  \n",
      "                                 aten::cudnn_batch_norm         1.23%       3.290ms         2.78%       7.424ms     185.600us       5.652ms         8.70%       5.652ms     141.300us            40  \n",
      "[pl][module]torchvision.models.resnet.BasicBlock: mo...         0.64%       1.702ms         2.77%       7.398ms       3.699ms       0.000us         0.00%       2.328ms       1.164ms             2  \n",
      "[pl][module]torchvision.models.resnet.BasicBlock: mo...         0.37%     989.000us         2.49%       6.648ms       3.324ms       0.000us         0.00%       3.139ms       1.569ms             2  \n",
      "-------------------------------------------------------  ------------  ------------  ------------  ------------  ------------  ------------  ------------  ------------  ------------  ------------  \n",
      "Self CPU time total: 266.727ms\n",
      "Self CUDA time total: 64.959ms\n",
      "\n",
      "LOCAL_RANK: 0 - CUDA_VISIBLE_DEVICES: [0,1]\n"
     ]
    },
    {
     "name": "stdout",
     "output_type": "stream",
     "text": [
      "Testing DataLoader 0:  11%|█         | 4/36 [00:00<00:04,  7.42it/s]"
     ]
    },
    {
     "name": "stderr",
     "output_type": "stream",
     "text": [
      "STAGE:2024-03-12 12:38:12 46460:46460 ActivityProfilerController.cpp:314] Completed Stage: Warm Up\n",
      "STAGE:2024-03-12 12:38:12 46460:46460 ActivityProfilerController.cpp:320] Completed Stage: Collection\n",
      "STAGE:2024-03-12 12:38:12 46460:46460 ActivityProfilerController.cpp:324] Completed Stage: Post Processing\n"
     ]
    },
    {
     "name": "stdout",
     "output_type": "stream",
     "text": [
      "Testing DataLoader 0: 100%|██████████| 36/36 [00:05<00:00,  7.14it/s]\n"
     ]
    },
    {
     "data": {
      "text/html": [
       "<pre style=\"white-space:pre;overflow-x:auto;line-height:normal;font-family:Menlo,'DejaVu Sans Mono',consolas,'Courier New',monospace\">┏━━━━━━━━━━━━━━━━━━━━━━━━━━━┳━━━━━━━━━━━━━━━━━━━━━━━━━━━┓\n",
       "┃<span style=\"font-weight: bold\">   Runningstage.testing    </span>┃<span style=\"font-weight: bold\">                           </span>┃\n",
       "┃<span style=\"font-weight: bold\">          metric           </span>┃<span style=\"font-weight: bold\">       DataLoader 0        </span>┃\n",
       "┡━━━━━━━━━━━━━━━━━━━━━━━━━━━╇━━━━━━━━━━━━━━━━━━━━━━━━━━━┩\n",
       "│<span style=\"color: #008080; text-decoration-color: #008080\">         test_acc          </span>│<span style=\"color: #800080; text-decoration-color: #800080\">    0.9788830280303955     </span>│\n",
       "│<span style=\"color: #008080; text-decoration-color: #008080\">  test_calibration_error   </span>│<span style=\"color: #800080; text-decoration-color: #800080\">    0.22471925616264343    </span>│\n",
       "│<span style=\"color: #008080; text-decoration-color: #008080\">         test_loss         </span>│<span style=\"color: #800080; text-decoration-color: #800080\">    0.5288649201393127     </span>│\n",
       "└───────────────────────────┴───────────────────────────┘\n",
       "</pre>\n"
      ],
      "text/plain": [
       "┏━━━━━━━━━━━━━━━━━━━━━━━━━━━┳━━━━━━━━━━━━━━━━━━━━━━━━━━━┓\n",
       "┃\u001b[1m \u001b[0m\u001b[1m  Runningstage.testing   \u001b[0m\u001b[1m \u001b[0m┃\u001b[1m                           \u001b[0m┃\n",
       "┃\u001b[1m \u001b[0m\u001b[1m         metric          \u001b[0m\u001b[1m \u001b[0m┃\u001b[1m \u001b[0m\u001b[1m      DataLoader 0       \u001b[0m\u001b[1m \u001b[0m┃\n",
       "┡━━━━━━━━━━━━━━━━━━━━━━━━━━━╇━━━━━━━━━━━━━━━━━━━━━━━━━━━┩\n",
       "│\u001b[36m \u001b[0m\u001b[36m        test_acc         \u001b[0m\u001b[36m \u001b[0m│\u001b[35m \u001b[0m\u001b[35m   0.9788830280303955    \u001b[0m\u001b[35m \u001b[0m│\n",
       "│\u001b[36m \u001b[0m\u001b[36m test_calibration_error  \u001b[0m\u001b[36m \u001b[0m│\u001b[35m \u001b[0m\u001b[35m   0.22471925616264343   \u001b[0m\u001b[35m \u001b[0m│\n",
       "│\u001b[36m \u001b[0m\u001b[36m        test_loss        \u001b[0m\u001b[36m \u001b[0m│\u001b[35m \u001b[0m\u001b[35m   0.5288649201393127    \u001b[0m\u001b[35m \u001b[0m│\n",
       "└───────────────────────────┴───────────────────────────┘\n"
      ]
     },
     "metadata": {},
     "output_type": "display_data"
    },
    {
     "name": "stderr",
     "output_type": "stream",
     "text": [
      "TEST Profiler Report\n",
      "Profile stats for: records\n",
      "-------------------------------------------------------  ------------  ------------  ------------  ------------  ------------  ------------  ------------  ------------  ------------  ------------  \n",
      "                                                   Name    Self CPU %      Self CPU   CPU total %     CPU total  CPU time avg     Self CUDA   Self CUDA %    CUDA total  CUDA time avg    # of Calls  \n",
      "-------------------------------------------------------  ------------  ------------  ------------  ------------  ------------  ------------  ------------  ------------  ------------  ------------  \n",
      "                                          ProfilerStep*         2.25%       3.803ms        98.93%     167.404ms      55.801ms       0.000us         0.00%     160.397ms      53.466ms             3  \n",
      "[pl][profile][Strategy]SingleDeviceStrategy.test_ste...         7.91%      13.386ms        92.37%     156.298ms      52.099ms       0.000us         0.00%     143.493ms      47.831ms             3  \n",
      "    [pl][module]torchvision.models.resnet.ResNet: model         2.09%       3.541ms        71.25%     120.562ms      20.094ms       0.000us         0.00%     142.645ms      23.774ms             6  \n",
      "                                           aten::conv2d         0.28%     467.000us        24.16%      40.886ms     340.717us       0.000us         0.00%     110.656ms     922.133us           120  \n",
      "                                      aten::convolution         0.58%     980.000us        23.74%      40.163ms     334.692us       0.000us         0.00%     110.228ms     918.567us           120  \n",
      "                                     aten::_convolution         0.92%       1.565ms        23.31%      39.439ms     328.658us       0.000us         0.00%     110.656ms     922.133us           120  \n",
      "                                aten::cudnn_convolution        11.78%      19.929ms        22.38%      37.874ms     315.617us     110.656ms        68.99%     110.656ms     922.133us           120  \n",
      "[pl][module]torch.nn.modules.container.Sequential: m...         0.38%     641.000us        15.26%      25.818ms       4.303ms       0.000us         0.00%      12.617ms       2.103ms             6  \n",
      "                                       cudaLaunchKernel        14.80%      25.042ms        14.81%      25.057ms      14.133us       0.000us         0.00%       0.000us       0.000us          1773  \n",
      "[pl][module]torch.nn.modules.container.Sequential: m...         0.37%     633.000us        13.60%      23.011ms       3.835ms       0.000us         0.00%      15.955ms       2.659ms             6  \n",
      "[pl][module]torch.nn.modules.container.Sequential: m...         0.35%     590.000us        12.50%      21.148ms       3.525ms       0.000us         0.00%      11.456ms       1.909ms             6  \n",
      "[pl][module]torch.nn.modules.container.Sequential: m...         0.67%       1.136ms        11.95%      20.228ms       3.371ms       0.000us         0.00%      24.751ms       4.125ms             6  \n",
      "[pl][module]torch.nn.modules.conv.Conv2d: model.conv...         0.49%     837.000us        11.44%      19.359ms       3.227ms       0.000us         0.00%      66.808ms      11.135ms             6  \n",
      "                                       aten::batch_norm         0.45%     760.000us        10.93%      18.503ms     154.192us       0.000us         0.00%      14.980ms     124.833us           120  \n",
      "                           aten::_batch_norm_impl_index         0.63%       1.058ms        10.49%      17.743ms     147.858us       0.000us         0.00%      14.980ms     124.833us           120  \n",
      "                                 aten::cudnn_batch_norm         4.15%       7.027ms         9.86%      16.685ms     139.042us      14.980ms         9.34%      14.980ms     124.833us           120  \n",
      "[pl][module]torchvision.models.resnet.BasicBlock: mo...         2.89%       4.888ms         9.22%      15.608ms       2.601ms       0.000us         0.00%       6.649ms       1.108ms             6  \n",
      "[pl][module]torchvision.models.resnet.BasicBlock: mo...         1.17%       1.984ms         7.44%      12.593ms       2.099ms       0.000us         0.00%       8.618ms       1.436ms             6  \n",
      "[pl][module]torchvision.models.resnet.BasicBlock: mo...         1.22%       2.065ms         7.34%      12.426ms       2.071ms       0.000us         0.00%       6.001ms       1.000ms             6  \n",
      "                                         aten::_unique2         0.24%     413.000us         6.92%      11.715ms       3.905ms     108.000us         0.07%     115.000us      38.333us             3  \n",
      "-------------------------------------------------------  ------------  ------------  ------------  ------------  ------------  ------------  ------------  ------------  ------------  ------------  \n",
      "Self CPU time total: 169.209ms\n",
      "Self CUDA time total: 160.397ms\n",
      "\n",
      "/share/nas2/npower/miniconda3/envs/mphys-galaxy/lib/python3.11/site-packages/lightning/fabric/plugins/environments/slurm.py:168: PossibleUserWarning: The `srun` command is available on your system but is not used. HINT: If your intention is to run Lightning on SLURM, prepend your python command with `srun` like so: srun python /share/nas2/npower/miniconda3/envs/mphys-galaxy/lib/ ...\n",
      "  rank_zero_warn(\n",
      "GPU available: True (cuda), used: True\n",
      "TPU available: False, using: 0 TPU cores\n",
      "IPU available: False, using: 0 IPUs\n",
      "HPU available: False, using: 0 HPUs\n",
      "LOCAL_RANK: 0 - CUDA_VISIBLE_DEVICES: [0,1]\n",
      "\n",
      "  | Name    | Type             | Params\n",
      "---------------------------------------------\n",
      "0 | loss_fn | CrossEntropyLoss | 0     \n",
      "1 | model   | ResNet           | 11.2 M\n",
      "---------------------------------------------\n",
      "11.2 M    Trainable params\n",
      "0         Non-trainable params\n",
      "11.2 M    Total params\n",
      "44.712    Total estimated model params size (MB)\n"
     ]
    },
    {
     "name": "stdout",
     "output_type": "stream",
     "text": [
      "                                                                           "
     ]
    },
    {
     "name": "stderr",
     "output_type": "stream",
     "text": [
      "STAGE:2024-03-12 12:38:21 46460:46460 ActivityProfilerController.cpp:314] Completed Stage: Warm Up\n",
      "/share/nas2/npower/miniconda3/envs/mphys-galaxy/lib/python3.11/site-packages/lightning/pytorch/loops/fit_loop.py:281: PossibleUserWarning: The number of training batches (36) is smaller than the logging interval Trainer(log_every_n_steps=50). Set a lower value for log_every_n_steps if you want to see logs for the training epoch.\n",
      "  rank_zero_warn(\n"
     ]
    },
    {
     "name": "stdout",
     "output_type": "stream",
     "text": [
      "Epoch 0:  11%|█         | 4/36 [00:04<00:35,  1.12s/it, v_num=1, train_loss_step=1.160, train_acc_step=0.405, train_calibration_error_step=0.0321]"
     ]
    },
    {
     "name": "stderr",
     "output_type": "stream",
     "text": [
      "STAGE:2024-03-12 12:38:26 46460:46460 ActivityProfilerController.cpp:320] Completed Stage: Collection\n",
      "STAGE:2024-03-12 12:38:26 46460:46460 ActivityProfilerController.cpp:324] Completed Stage: Post Processing\n",
      "[W collection.cpp:602] Warning: Optimizer.step#AdamW.step (function operator())\n",
      "[W collection.cpp:602] Warning: [pl][profile][LightningModule]ChiralityClassifier.optimizer_step (function operator())\n"
     ]
    },
    {
     "name": "stdout",
     "output_type": "stream",
     "text": [
      "Epoch 0: 100%|██████████| 36/36 [00:10<00:00,  3.48it/s, v_num=1, train_loss_step=0.993, train_acc_step=0.566, train_calibration_error_step=0.0128]"
     ]
    },
    {
     "name": "stderr",
     "output_type": "stream",
     "text": [
      "STAGE:2024-03-12 12:38:34 46460:46460 ActivityProfilerController.cpp:314] Completed Stage: Warm Up\n",
      "STAGE:2024-03-12 12:38:34 46460:46460 ActivityProfilerController.cpp:320] Completed Stage: Collection\n",
      "STAGE:2024-03-12 12:38:34 46460:46460 ActivityProfilerController.cpp:324] Completed Stage: Post Processing\n"
     ]
    },
    {
     "name": "stdout",
     "output_type": "stream",
     "text": [
      "Epoch 59: 100%|██████████| 36/36 [00:13<00:00,  2.60it/s, v_num=1, train_loss_step=0.531, train_acc_step=0.970, train_calibration_error_step=0.224, val_acc=0.978, val_calibration_error=0.225, train_loss_epoch=0.531, train_acc_epoch=0.972, train_calibration_error_epoch=0.217]  "
     ]
    },
    {
     "name": "stderr",
     "output_type": "stream",
     "text": [
      "`Trainer.fit` stopped: `max_epochs=60` reached.\n"
     ]
    },
    {
     "name": "stdout",
     "output_type": "stream",
     "text": [
      "Epoch 59: 100%|██████████| 36/36 [00:15<00:00,  2.35it/s, v_num=1, train_loss_step=0.531, train_acc_step=0.970, train_calibration_error_step=0.224, val_acc=0.978, val_calibration_error=0.225, train_loss_epoch=0.531, train_acc_epoch=0.972, train_calibration_error_epoch=0.217]\n"
     ]
    },
    {
     "name": "stderr",
     "output_type": "stream",
     "text": [
      "FIT Profiler Report\n",
      "Profile stats for: records\n",
      "-------------------------------------------------------  ------------  ------------  ------------  ------------  ------------  ------------  ------------  ------------  ------------  ------------  \n",
      "                                                   Name    Self CPU %      Self CPU   CPU total %     CPU total  CPU time avg     Self CUDA   Self CUDA %    CUDA total  CUDA time avg    # of Calls  \n",
      "-------------------------------------------------------  ------------  ------------  ------------  ------------  ------------  ------------  ------------  ------------  ------------  ------------  \n",
      "                                          ProfilerStep*         7.09%       6.923ms        99.91%      97.538ms      48.769ms       0.000us         0.00%      65.574ms      32.787ms             2  \n",
      "[pl][profile][Strategy]SingleDeviceStrategy.validati...         7.21%       7.037ms        78.54%      76.672ms      38.336ms       0.000us         0.00%      54.702ms      27.351ms             2  \n",
      "    [pl][module]torchvision.models.resnet.ResNet: model         1.99%       1.946ms        53.80%      52.519ms      26.259ms       0.000us         0.00%      54.010ms      27.005ms             2  \n",
      "                                           aten::conv2d         0.25%     248.000us        16.57%      16.176ms     404.400us       0.000us         0.00%      42.188ms       1.055ms            40  \n",
      "                                      aten::convolution         0.43%     419.000us        16.32%      15.928ms     398.200us       0.000us         0.00%      42.188ms       1.055ms            40  \n",
      "                                     aten::_convolution         0.56%     549.000us        15.89%      15.509ms     387.725us       0.000us         0.00%      42.188ms       1.055ms            40  \n",
      "                                aten::cudnn_convolution         8.44%       8.241ms        15.32%      14.960ms     374.000us      42.188ms        64.34%      42.188ms       1.055ms            40  \n",
      "                                       cudaLaunchKernel        12.86%      12.553ms        12.86%      12.553ms      19.492us       0.000us         0.00%       0.000us       0.000us           644  \n",
      "                                        cudaMemcpyAsync        12.05%      11.765ms        12.05%      11.765ms     840.357us       0.000us         0.00%       0.000us       0.000us            14  \n",
      "[pl][module]torch.nn.modules.container.Sequential: m...         0.26%     254.000us        11.55%      11.276ms       5.638ms       0.000us         0.00%       5.902ms       2.951ms             2  \n",
      "[pl][module]torch.nn.modules.container.Sequential: m...         0.87%     853.000us        11.33%      11.062ms       5.531ms       0.000us         0.00%       4.519ms       2.260ms             2  \n",
      "[pl][module]torch.nn.modules.container.Sequential: m...         0.84%     819.000us         9.53%       9.303ms       4.652ms       0.000us         0.00%       5.067ms       2.534ms             2  \n",
      "                                         aten::_unique2         0.32%     316.000us         9.06%       8.845ms       4.423ms      88.000us         0.13%      94.000us      47.000us             2  \n",
      "                                       aten::batch_norm         0.27%     261.000us         8.94%       8.727ms     218.175us       0.000us         0.00%       5.721ms     143.025us            40  \n",
      "                           aten::_batch_norm_impl_index         0.41%     402.000us         8.67%       8.466ms     211.650us       0.000us         0.00%       5.721ms     143.025us            40  \n",
      "                                             aten::item         0.16%     154.000us         8.67%       8.464ms       2.116ms       0.000us         0.00%      12.000us       3.000us             4  \n",
      "                              aten::_local_scalar_dense         0.11%     104.000us         8.51%       8.310ms       2.078ms      12.000us         0.02%      12.000us       3.000us             4  \n",
      "                                 aten::cudnn_batch_norm         2.84%       2.769ms         8.26%       8.064ms     201.600us       5.721ms         8.72%       5.721ms     143.025us            40  \n",
      "[pl][module]torch.nn.modules.conv.Conv2d: model.conv...         0.84%     816.000us         8.12%       7.927ms       3.963ms       0.000us         0.00%      25.287ms      12.643ms             2  \n",
      "[pl][module]torch.nn.modules.container.Sequential: m...         0.27%     263.000us         8.07%       7.878ms       3.939ms       0.000us         0.00%       9.105ms       4.553ms             2  \n",
      "-------------------------------------------------------  ------------  ------------  ------------  ------------  ------------  ------------  ------------  ------------  ------------  ------------  \n",
      "Self CPU time total: 97.625ms\n",
      "Self CUDA time total: 65.574ms\n",
      "\n",
      "LOCAL_RANK: 0 - CUDA_VISIBLE_DEVICES: [0,1]\n"
     ]
    },
    {
     "name": "stdout",
     "output_type": "stream",
     "text": [
      "Testing DataLoader 0:  11%|█         | 4/36 [00:00<00:01, 17.03it/s]"
     ]
    },
    {
     "name": "stderr",
     "output_type": "stream",
     "text": [
      "STAGE:2024-03-12 12:53:55 46460:46460 ActivityProfilerController.cpp:314] Completed Stage: Warm Up\n",
      "STAGE:2024-03-12 12:53:56 46460:46460 ActivityProfilerController.cpp:320] Completed Stage: Collection\n",
      "STAGE:2024-03-12 12:53:56 46460:46460 ActivityProfilerController.cpp:324] Completed Stage: Post Processing\n"
     ]
    },
    {
     "name": "stdout",
     "output_type": "stream",
     "text": [
      "Testing DataLoader 0: 100%|██████████| 36/36 [00:04<00:00,  7.26it/s]\n"
     ]
    },
    {
     "data": {
      "text/html": [
       "<pre style=\"white-space:pre;overflow-x:auto;line-height:normal;font-family:Menlo,'DejaVu Sans Mono',consolas,'Courier New',monospace\">┏━━━━━━━━━━━━━━━━━━━━━━━━━━━┳━━━━━━━━━━━━━━━━━━━━━━━━━━━┓\n",
       "┃<span style=\"font-weight: bold\">   Runningstage.testing    </span>┃<span style=\"font-weight: bold\">                           </span>┃\n",
       "┃<span style=\"font-weight: bold\">          metric           </span>┃<span style=\"font-weight: bold\">       DataLoader 0        </span>┃\n",
       "┡━━━━━━━━━━━━━━━━━━━━━━━━━━━╇━━━━━━━━━━━━━━━━━━━━━━━━━━━┩\n",
       "│<span style=\"color: #008080; text-decoration-color: #008080\">         test_acc          </span>│<span style=\"color: #800080; text-decoration-color: #800080\">    0.9781883955001831     </span>│\n",
       "│<span style=\"color: #008080; text-decoration-color: #008080\">  test_calibration_error   </span>│<span style=\"color: #800080; text-decoration-color: #800080\">    0.22526311874389648    </span>│\n",
       "│<span style=\"color: #008080; text-decoration-color: #008080\">         test_loss         </span>│<span style=\"color: #800080; text-decoration-color: #800080\">    0.5290448069572449     </span>│\n",
       "└───────────────────────────┴───────────────────────────┘\n",
       "</pre>\n"
      ],
      "text/plain": [
       "┏━━━━━━━━━━━━━━━━━━━━━━━━━━━┳━━━━━━━━━━━━━━━━━━━━━━━━━━━┓\n",
       "┃\u001b[1m \u001b[0m\u001b[1m  Runningstage.testing   \u001b[0m\u001b[1m \u001b[0m┃\u001b[1m                           \u001b[0m┃\n",
       "┃\u001b[1m \u001b[0m\u001b[1m         metric          \u001b[0m\u001b[1m \u001b[0m┃\u001b[1m \u001b[0m\u001b[1m      DataLoader 0       \u001b[0m\u001b[1m \u001b[0m┃\n",
       "┡━━━━━━━━━━━━━━━━━━━━━━━━━━━╇━━━━━━━━━━━━━━━━━━━━━━━━━━━┩\n",
       "│\u001b[36m \u001b[0m\u001b[36m        test_acc         \u001b[0m\u001b[36m \u001b[0m│\u001b[35m \u001b[0m\u001b[35m   0.9781883955001831    \u001b[0m\u001b[35m \u001b[0m│\n",
       "│\u001b[36m \u001b[0m\u001b[36m test_calibration_error  \u001b[0m\u001b[36m \u001b[0m│\u001b[35m \u001b[0m\u001b[35m   0.22526311874389648   \u001b[0m\u001b[35m \u001b[0m│\n",
       "│\u001b[36m \u001b[0m\u001b[36m        test_loss        \u001b[0m\u001b[36m \u001b[0m│\u001b[35m \u001b[0m\u001b[35m   0.5290448069572449    \u001b[0m\u001b[35m \u001b[0m│\n",
       "└───────────────────────────┴───────────────────────────┘\n"
      ]
     },
     "metadata": {},
     "output_type": "display_data"
    },
    {
     "name": "stderr",
     "output_type": "stream",
     "text": [
      "TEST Profiler Report\n",
      "Profile stats for: records\n",
      "-------------------------------------------------------  ------------  ------------  ------------  ------------  ------------  ------------  ------------  ------------  ------------  ------------  \n",
      "                                                   Name    Self CPU %      Self CPU   CPU total %     CPU total  CPU time avg     Self CUDA   Self CUDA %    CUDA total  CUDA time avg    # of Calls  \n",
      "-------------------------------------------------------  ------------  ------------  ------------  ------------  ------------  ------------  ------------  ------------  ------------  ------------  \n",
      "                                          ProfilerStep*         1.76%       3.132ms        99.89%     177.551ms      59.184ms       0.000us         0.00%     150.332ms      50.111ms             3  \n",
      "[pl][profile][Strategy]SingleDeviceStrategy.test_ste...         4.44%       7.896ms        94.43%     167.833ms      55.944ms       0.000us         0.00%     133.053ms      44.351ms             3  \n",
      "    [pl][module]torchvision.models.resnet.ResNet: model         2.49%       4.425ms        74.82%     132.988ms      22.165ms       0.000us         0.00%     132.305ms      22.051ms             6  \n",
      "                                           aten::conv2d         0.33%     585.000us        24.17%      42.958ms     357.983us       0.000us         0.00%     102.141ms     851.175us           120  \n",
      "                                      aten::convolution         0.57%       1.016ms        23.77%      42.240ms     352.000us       0.000us         0.00%     102.021ms     850.175us           120  \n",
      "                                     aten::_convolution         0.93%       1.650ms        23.27%      41.357ms     344.642us       0.000us         0.00%     102.141ms     851.175us           120  \n",
      "                                aten::cudnn_convolution        11.66%      20.729ms        22.34%      39.707ms     330.892us     102.141ms        64.71%     102.141ms     851.175us           120  \n",
      "[pl][module]torch.nn.modules.container.Sequential: m...         0.39%     697.000us        17.16%      30.505ms       5.084ms       0.000us         0.00%      14.962ms       2.494ms             6  \n",
      "[pl][module]torch.nn.modules.container.Sequential: m...         0.40%     713.000us        15.78%      28.046ms       4.674ms       0.000us         0.00%      11.231ms       1.872ms             6  \n",
      "                                       cudaLaunchKernel        14.84%      26.384ms        14.84%      26.384ms      14.881us       0.000us         0.00%       0.000us       0.000us          1773  \n",
      "[pl][module]torch.nn.modules.container.Sequential: m...         0.41%     725.000us        13.08%      23.245ms       3.874ms       0.000us         0.00%      10.371ms       1.728ms             6  \n",
      "                                       aten::batch_norm         0.43%     760.000us        12.22%      21.718ms     180.983us       0.000us         0.00%      13.877ms     115.642us           120  \n",
      "                           aten::_batch_norm_impl_index         0.64%       1.133ms        11.79%      20.958ms     174.650us       0.000us         0.00%      13.877ms     115.642us           120  \n",
      "[pl][module]torchvision.models.resnet.BasicBlock: mo...         2.15%       3.820ms        11.40%      20.261ms       3.377ms       0.000us         0.00%       8.134ms       1.356ms             6  \n",
      "[pl][module]torch.nn.modules.conv.Conv2d: model.conv...         0.50%     890.000us        11.28%      20.057ms       3.343ms       0.000us         0.00%      62.019ms      10.336ms             6  \n",
      "                                 aten::cudnn_batch_norm         4.77%       8.486ms        11.15%      19.825ms     165.208us      13.877ms         8.79%      13.877ms     115.642us           120  \n",
      "[pl][module]torch.nn.modules.container.Sequential: m...         0.35%     624.000us        10.70%      19.020ms       3.170ms       0.000us         0.00%      23.384ms       3.897ms             6  \n",
      "[pl][module]torchvision.models.resnet.BasicBlock: mo...         1.33%       2.362ms         8.90%      15.821ms       2.637ms       0.000us         0.00%       5.929ms     988.167us             6  \n",
      "                                         aten::_unique2         0.26%     462.000us         8.37%      14.872ms       4.957ms      96.000us         0.06%     102.000us      34.000us             3  \n",
      "                                        cudaMemcpyAsync         8.15%      14.494ms         8.15%      14.494ms     690.190us       0.000us         0.00%       0.000us       0.000us            21  \n",
      "-------------------------------------------------------  ------------  ------------  ------------  ------------  ------------  ------------  ------------  ------------  ------------  ------------  \n",
      "Self CPU time total: 177.738ms\n",
      "Self CUDA time total: 157.841ms\n",
      "\n",
      "/share/nas2/npower/miniconda3/envs/mphys-galaxy/lib/python3.11/site-packages/lightning/fabric/plugins/environments/slurm.py:168: PossibleUserWarning: The `srun` command is available on your system but is not used. HINT: If your intention is to run Lightning on SLURM, prepend your python command with `srun` like so: srun python /share/nas2/npower/miniconda3/envs/mphys-galaxy/lib/ ...\n",
      "  rank_zero_warn(\n",
      "GPU available: True (cuda), used: True\n",
      "TPU available: False, using: 0 TPU cores\n",
      "IPU available: False, using: 0 IPUs\n",
      "HPU available: False, using: 0 HPUs\n",
      "LOCAL_RANK: 0 - CUDA_VISIBLE_DEVICES: [0,1]\n",
      "\n",
      "  | Name    | Type             | Params\n",
      "---------------------------------------------\n",
      "0 | loss_fn | CrossEntropyLoss | 0     \n",
      "1 | model   | ResNet           | 11.2 M\n",
      "---------------------------------------------\n",
      "11.2 M    Trainable params\n",
      "0         Non-trainable params\n",
      "11.2 M    Total params\n",
      "44.712    Total estimated model params size (MB)\n"
     ]
    },
    {
     "name": "stdout",
     "output_type": "stream",
     "text": [
      "                                                                           "
     ]
    },
    {
     "name": "stderr",
     "output_type": "stream",
     "text": [
      "STAGE:2024-03-12 12:54:05 46460:46460 ActivityProfilerController.cpp:314] Completed Stage: Warm Up\n",
      "/share/nas2/npower/miniconda3/envs/mphys-galaxy/lib/python3.11/site-packages/lightning/pytorch/loops/fit_loop.py:281: PossibleUserWarning: The number of training batches (36) is smaller than the logging interval Trainer(log_every_n_steps=50). Set a lower value for log_every_n_steps if you want to see logs for the training epoch.\n",
      "  rank_zero_warn(\n"
     ]
    },
    {
     "name": "stdout",
     "output_type": "stream",
     "text": [
      "Epoch 0:  11%|█         | 4/36 [00:04<00:36,  1.13s/it, v_num=2, train_loss_step=0.994, train_acc_step=0.580, train_calibration_error_step=0.0581]"
     ]
    },
    {
     "name": "stderr",
     "output_type": "stream",
     "text": [
      "STAGE:2024-03-12 12:54:09 46460:46460 ActivityProfilerController.cpp:320] Completed Stage: Collection\n",
      "STAGE:2024-03-12 12:54:09 46460:46460 ActivityProfilerController.cpp:324] Completed Stage: Post Processing\n",
      "[W collection.cpp:602] Warning: Optimizer.step#AdamW.step (function operator())\n",
      "[W collection.cpp:602] Warning: [pl][profile][LightningModule]ChiralityClassifier.optimizer_step (function operator())\n"
     ]
    },
    {
     "name": "stdout",
     "output_type": "stream",
     "text": [
      "Epoch 0: 100%|██████████| 36/36 [00:09<00:00,  3.69it/s, v_num=2, train_loss_step=0.932, train_acc_step=0.657, train_calibration_error_step=0.0998] "
     ]
    },
    {
     "name": "stderr",
     "output_type": "stream",
     "text": [
      "STAGE:2024-03-12 12:54:16 46460:46460 ActivityProfilerController.cpp:314] Completed Stage: Warm Up\n"
     ]
    },
    {
     "name": "stdout",
     "output_type": "stream",
     "text": []
    },
    {
     "name": "stderr",
     "output_type": "stream",
     "text": [
      "STAGE:2024-03-12 12:54:17 46460:46460 ActivityProfilerController.cpp:320] Completed Stage: Collection\n",
      "STAGE:2024-03-12 12:54:17 46460:46460 ActivityProfilerController.cpp:324] Completed Stage: Post Processing\n"
     ]
    },
    {
     "name": "stdout",
     "output_type": "stream",
     "text": [
      "Epoch 59: 100%|██████████| 36/36 [00:14<00:00,  2.57it/s, v_num=2, train_loss_step=0.534, train_acc_step=0.949, train_calibration_error_step=0.188, val_acc=0.952, val_calibration_error=0.187, train_loss_epoch=0.531, train_acc_epoch=0.969, train_calibration_error_epoch=0.213] "
     ]
    },
    {
     "name": "stderr",
     "output_type": "stream",
     "text": [
      "`Trainer.fit` stopped: `max_epochs=60` reached.\n"
     ]
    },
    {
     "name": "stdout",
     "output_type": "stream",
     "text": [
      "Epoch 59: 100%|██████████| 36/36 [00:15<00:00,  2.31it/s, v_num=2, train_loss_step=0.534, train_acc_step=0.949, train_calibration_error_step=0.188, val_acc=0.952, val_calibration_error=0.187, train_loss_epoch=0.531, train_acc_epoch=0.969, train_calibration_error_epoch=0.213]\n"
     ]
    },
    {
     "name": "stderr",
     "output_type": "stream",
     "text": [
      "FIT Profiler Report\n",
      "Profile stats for: records\n",
      "-------------------------------------------------------  ------------  ------------  ------------  ------------  ------------  ------------  ------------  ------------  ------------  ------------  \n",
      "                                                   Name    Self CPU %      Self CPU   CPU total %     CPU total  CPU time avg     Self CUDA   Self CUDA %    CUDA total  CUDA time avg    # of Calls  \n",
      "-------------------------------------------------------  ------------  ------------  ------------  ------------  ------------  ------------  ------------  ------------  ------------  ------------  \n",
      "                                          ProfilerStep*         0.94%       2.805ms        99.86%     298.217ms     149.108ms       0.000us         0.00%      65.919ms      32.959ms             2  \n",
      "                [pl][profile][_EvaluationLoop].val_next         0.11%     320.000us        69.94%     208.851ms     104.425ms       0.000us         0.00%       0.000us       0.000us             2  \n",
      "enumerate(DataLoader)#_MultiProcessingDataLoaderIter...        69.79%     208.413ms        69.83%     208.531ms     104.266ms       0.000us         0.00%       0.000us       0.000us             2  \n",
      "[pl][profile][Strategy]SingleDeviceStrategy.validati...         1.48%       4.421ms        25.44%      75.983ms      37.992ms       0.000us         0.00%      54.637ms      27.319ms             2  \n",
      "    [pl][module]torchvision.models.resnet.ResNet: model         0.52%       1.539ms        20.81%      62.148ms      31.074ms       0.000us         0.00%      53.940ms      26.970ms             2  \n",
      "                                           aten::conv2d         0.13%     376.000us         6.90%      20.616ms     515.400us       0.000us         0.00%      42.119ms       1.053ms            40  \n",
      "                                      aten::convolution         0.18%     549.000us         6.78%      20.240ms     506.000us       0.000us         0.00%      42.119ms       1.053ms            40  \n",
      "                                     aten::_convolution         0.62%       1.861ms         6.59%      19.691ms     492.275us       0.000us         0.00%      42.119ms       1.053ms            40  \n",
      "                                aten::cudnn_convolution         3.65%      10.886ms         5.97%      17.830ms     445.750us      42.119ms        63.90%      42.119ms       1.053ms            40  \n",
      "[pl][module]torch.nn.modules.container.Sequential: m...         0.09%     282.000us         5.43%      16.218ms       8.109ms       0.000us         0.00%       5.064ms       2.532ms             2  \n",
      "[pl][module]torchvision.models.resnet.BasicBlock: mo...         0.16%     483.000us         4.14%      12.375ms       6.188ms       0.000us         0.00%       2.662ms       1.331ms             2  \n",
      "[pl][module]torch.nn.modules.container.Sequential: m...         0.11%     342.000us         4.00%      11.945ms       5.973ms       0.000us         0.00%       9.114ms       4.557ms             2  \n",
      "[pl][module]torch.nn.modules.container.Sequential: m...         0.10%     303.000us         3.94%      11.754ms       5.877ms       0.000us         0.00%       5.911ms       2.955ms             2  \n",
      "                                       cudaLaunchKernel         3.75%      11.207ms         3.75%      11.207ms      17.402us       0.000us         0.00%       0.000us       0.000us           644  \n",
      "                                       aten::batch_norm         0.29%     872.000us         3.42%      10.219ms     255.475us       0.000us         0.00%       5.718ms     142.950us            40  \n",
      "[pl][module]torch.nn.modules.container.Sequential: m...         0.09%     279.000us         3.37%      10.077ms       5.038ms       0.000us         0.00%       4.511ms       2.256ms             2  \n",
      "                           aten::_batch_norm_impl_index         0.17%     519.000us         3.13%       9.347ms     233.675us       0.000us         0.00%       5.718ms     142.950us            40  \n",
      "                                 aten::cudnn_batch_norm         1.20%       3.589ms         2.96%       8.828ms     220.700us       5.718ms         8.67%       5.718ms     142.950us            40  \n",
      "[pl][module]torchvision.models.resnet.BasicBlock: mo...         0.36%       1.081ms         2.50%       7.478ms       3.739ms       0.000us         0.00%       3.158ms       1.579ms             2  \n",
      "[pl][module]torch.nn.modules.conv.Conv2d: model.conv...         0.14%     430.000us         2.50%       7.460ms       3.730ms       0.000us         0.00%      25.211ms      12.605ms             2  \n",
      "-------------------------------------------------------  ------------  ------------  ------------  ------------  ------------  ------------  ------------  ------------  ------------  ------------  \n",
      "Self CPU time total: 298.627ms\n",
      "Self CUDA time total: 65.919ms\n",
      "\n",
      "LOCAL_RANK: 0 - CUDA_VISIBLE_DEVICES: [0,1]\n"
     ]
    },
    {
     "name": "stdout",
     "output_type": "stream",
     "text": [
      "Testing DataLoader 0:  11%|█         | 4/36 [00:00<00:02, 13.61it/s]"
     ]
    },
    {
     "name": "stderr",
     "output_type": "stream",
     "text": [
      "STAGE:2024-03-12 13:09:17 46460:46460 ActivityProfilerController.cpp:314] Completed Stage: Warm Up\n",
      "STAGE:2024-03-12 13:09:17 46460:46460 ActivityProfilerController.cpp:320] Completed Stage: Collection\n",
      "STAGE:2024-03-12 13:09:17 46460:46460 ActivityProfilerController.cpp:324] Completed Stage: Post Processing\n"
     ]
    },
    {
     "name": "stdout",
     "output_type": "stream",
     "text": [
      "Testing DataLoader 0: 100%|██████████| 36/36 [00:05<00:00,  6.84it/s]\n"
     ]
    },
    {
     "data": {
      "text/html": [
       "<pre style=\"white-space:pre;overflow-x:auto;line-height:normal;font-family:Menlo,'DejaVu Sans Mono',consolas,'Courier New',monospace\">┏━━━━━━━━━━━━━━━━━━━━━━━━━━━┳━━━━━━━━━━━━━━━━━━━━━━━━━━━┓\n",
       "┃<span style=\"font-weight: bold\">   Runningstage.testing    </span>┃<span style=\"font-weight: bold\">                           </span>┃\n",
       "┃<span style=\"font-weight: bold\">          metric           </span>┃<span style=\"font-weight: bold\">       DataLoader 0        </span>┃\n",
       "┡━━━━━━━━━━━━━━━━━━━━━━━━━━━╇━━━━━━━━━━━━━━━━━━━━━━━━━━━┩\n",
       "│<span style=\"color: #008080; text-decoration-color: #008080\">         test_acc          </span>│<span style=\"color: #800080; text-decoration-color: #800080\">    0.9519311189651489     </span>│\n",
       "│<span style=\"color: #008080; text-decoration-color: #008080\">  test_calibration_error   </span>│<span style=\"color: #800080; text-decoration-color: #800080\">    0.18726441264152527    </span>│\n",
       "│<span style=\"color: #008080; text-decoration-color: #008080\">         test_loss         </span>│<span style=\"color: #800080; text-decoration-color: #800080\">    0.5324193239212036     </span>│\n",
       "└───────────────────────────┴───────────────────────────┘\n",
       "</pre>\n"
      ],
      "text/plain": [
       "┏━━━━━━━━━━━━━━━━━━━━━━━━━━━┳━━━━━━━━━━━━━━━━━━━━━━━━━━━┓\n",
       "┃\u001b[1m \u001b[0m\u001b[1m  Runningstage.testing   \u001b[0m\u001b[1m \u001b[0m┃\u001b[1m                           \u001b[0m┃\n",
       "┃\u001b[1m \u001b[0m\u001b[1m         metric          \u001b[0m\u001b[1m \u001b[0m┃\u001b[1m \u001b[0m\u001b[1m      DataLoader 0       \u001b[0m\u001b[1m \u001b[0m┃\n",
       "┡━━━━━━━━━━━━━━━━━━━━━━━━━━━╇━━━━━━━━━━━━━━━━━━━━━━━━━━━┩\n",
       "│\u001b[36m \u001b[0m\u001b[36m        test_acc         \u001b[0m\u001b[36m \u001b[0m│\u001b[35m \u001b[0m\u001b[35m   0.9519311189651489    \u001b[0m\u001b[35m \u001b[0m│\n",
       "│\u001b[36m \u001b[0m\u001b[36m test_calibration_error  \u001b[0m\u001b[36m \u001b[0m│\u001b[35m \u001b[0m\u001b[35m   0.18726441264152527   \u001b[0m\u001b[35m \u001b[0m│\n",
       "│\u001b[36m \u001b[0m\u001b[36m        test_loss        \u001b[0m\u001b[36m \u001b[0m│\u001b[35m \u001b[0m\u001b[35m   0.5324193239212036    \u001b[0m\u001b[35m \u001b[0m│\n",
       "└───────────────────────────┴───────────────────────────┘\n"
      ]
     },
     "metadata": {},
     "output_type": "display_data"
    },
    {
     "name": "stderr",
     "output_type": "stream",
     "text": [
      "TEST Profiler Report\n",
      "Profile stats for: records\n",
      "-------------------------------------------------------  ------------  ------------  ------------  ------------  ------------  ------------  ------------  ------------  ------------  ------------  \n",
      "                                                   Name    Self CPU %      Self CPU   CPU total %     CPU total  CPU time avg     Self CUDA   Self CUDA %    CUDA total  CUDA time avg    # of Calls  \n",
      "-------------------------------------------------------  ------------  ------------  ------------  ------------  ------------  ------------  ------------  ------------  ------------  ------------  \n",
      "                                          ProfilerStep*         3.73%       7.825ms        99.97%     209.968ms      69.989ms       0.000us         0.00%     150.432ms      50.144ms             3  \n",
      "[pl][profile][Strategy]SingleDeviceStrategy.test_ste...         3.25%       6.832ms        92.36%     193.977ms      64.659ms       0.000us         0.00%     134.119ms      44.706ms             3  \n",
      "    [pl][module]torchvision.models.resnet.ResNet: model         1.94%       4.073ms        81.27%     170.683ms      28.447ms       0.000us         0.00%     133.350ms      22.225ms             6  \n",
      "                                           aten::conv2d         0.63%       1.322ms        27.08%      56.864ms     473.867us       0.000us         0.00%     103.133ms     859.442us           120  \n",
      "                                      aten::convolution         0.59%       1.248ms        26.32%      55.272ms     460.600us       0.000us         0.00%     102.617ms     855.142us           120  \n",
      "                                     aten::_convolution         0.91%       1.907ms        25.85%      54.294ms     452.450us       0.000us         0.00%     103.133ms     859.442us           120  \n",
      "                                aten::cudnn_convolution        12.18%      25.578ms        24.94%      52.375ms     436.458us     103.133ms        68.56%     103.133ms     859.442us           120  \n",
      "[pl][module]torch.nn.modules.container.Sequential: m...         0.36%     758.000us        20.43%      42.913ms       7.152ms       0.000us         0.00%      15.112ms       2.519ms             6  \n",
      "                                       cudaLaunchKernel        19.93%      41.863ms        19.94%      41.887ms      23.625us       0.000us         0.00%       0.000us       0.000us          1773  \n",
      "[pl][module]torch.nn.modules.conv.Conv2d: model.conv...         0.72%       1.511ms        14.72%      30.923ms       5.154ms       0.000us         0.00%      62.561ms      10.427ms             6  \n",
      "[pl][module]torch.nn.modules.container.Sequential: m...         0.31%     650.000us        14.39%      30.226ms       5.038ms       0.000us         0.00%      11.133ms       1.855ms             6  \n",
      "[pl][module]torch.nn.modules.container.Sequential: m...         0.37%     785.000us        14.15%      29.712ms       4.952ms       0.000us         0.00%      10.535ms       1.756ms             6  \n",
      "[pl][module]torch.nn.modules.container.Sequential: m...         0.41%     856.000us        11.84%      24.857ms       4.143ms       0.000us         0.00%      23.591ms       3.932ms             6  \n",
      "[pl][module]torchvision.models.resnet.BasicBlock: mo...         1.47%       3.088ms        11.55%      24.267ms       4.045ms       0.000us         0.00%       8.206ms       1.368ms             6  \n",
      "                                       aten::batch_norm         0.44%     926.000us        10.38%      21.794ms     181.617us       0.000us         0.00%      13.875ms     115.625us           120  \n",
      "                           aten::_batch_norm_impl_index         0.60%       1.270ms         9.94%      20.868ms     173.900us       0.000us         0.00%      13.875ms     115.625us           120  \n",
      "[pl][module]torchvision.models.resnet.BasicBlock: mo...         1.22%       2.552ms         9.36%      19.653ms       3.276ms       0.000us         0.00%       5.554ms     925.667us             6  \n",
      "                                 aten::cudnn_batch_norm         3.76%       7.897ms         9.33%      19.598ms     163.317us      13.875ms         9.22%      13.875ms     115.625us           120  \n",
      "[pl][module]torchvision.models.resnet.BasicBlock: mo...         1.23%       2.592ms         8.52%      17.888ms       2.981ms       0.000us         0.00%       6.906ms       1.151ms             6  \n",
      "[pl][module]torchvision.models.resnet.BasicBlock: mo...         1.67%       3.504ms         8.06%      16.937ms       2.823ms       0.000us         0.00%       5.877ms     979.500us             6  \n",
      "-------------------------------------------------------  ------------  ------------  ------------  ------------  ------------  ------------  ------------  ------------  ------------  ------------  \n",
      "Self CPU time total: 210.021ms\n",
      "Self CUDA time total: 150.432ms\n",
      "\n",
      "/share/nas2/npower/miniconda3/envs/mphys-galaxy/lib/python3.11/site-packages/lightning/fabric/plugins/environments/slurm.py:168: PossibleUserWarning: The `srun` command is available on your system but is not used. HINT: If your intention is to run Lightning on SLURM, prepend your python command with `srun` like so: srun python /share/nas2/npower/miniconda3/envs/mphys-galaxy/lib/ ...\n",
      "  rank_zero_warn(\n",
      "GPU available: True (cuda), used: True\n",
      "TPU available: False, using: 0 TPU cores\n",
      "IPU available: False, using: 0 IPUs\n",
      "HPU available: False, using: 0 HPUs\n",
      "LOCAL_RANK: 0 - CUDA_VISIBLE_DEVICES: [0,1]\n",
      "\n",
      "  | Name    | Type             | Params\n",
      "---------------------------------------------\n",
      "0 | loss_fn | CrossEntropyLoss | 0     \n",
      "1 | model   | ResNet           | 11.2 M\n",
      "---------------------------------------------\n",
      "11.2 M    Trainable params\n",
      "0         Non-trainable params\n",
      "11.2 M    Total params\n",
      "44.712    Total estimated model params size (MB)\n"
     ]
    },
    {
     "name": "stdout",
     "output_type": "stream",
     "text": [
      "                                                                           "
     ]
    },
    {
     "name": "stderr",
     "output_type": "stream",
     "text": [
      "STAGE:2024-03-12 13:09:27 46460:46460 ActivityProfilerController.cpp:314] Completed Stage: Warm Up\n",
      "/share/nas2/npower/miniconda3/envs/mphys-galaxy/lib/python3.11/site-packages/lightning/pytorch/loops/fit_loop.py:281: PossibleUserWarning: The number of training batches (36) is smaller than the logging interval Trainer(log_every_n_steps=50). Set a lower value for log_every_n_steps if you want to see logs for the training epoch.\n",
      "  rank_zero_warn(\n"
     ]
    },
    {
     "name": "stdout",
     "output_type": "stream",
     "text": [
      "Epoch 0:  11%|█         | 4/36 [00:04<00:36,  1.13s/it, v_num=3, train_loss_step=0.979, train_acc_step=0.630, train_calibration_error_step=0.0812]"
     ]
    },
    {
     "name": "stderr",
     "output_type": "stream",
     "text": [
      "STAGE:2024-03-12 13:09:32 46460:46460 ActivityProfilerController.cpp:320] Completed Stage: Collection\n",
      "STAGE:2024-03-12 13:09:32 46460:46460 ActivityProfilerController.cpp:324] Completed Stage: Post Processing\n",
      "[W collection.cpp:602] Warning: Optimizer.step#AdamW.step (function operator())\n",
      "[W collection.cpp:602] Warning: [pl][profile][LightningModule]ChiralityClassifier.optimizer_step (function operator())\n"
     ]
    },
    {
     "name": "stdout",
     "output_type": "stream",
     "text": [
      "Epoch 0: 100%|██████████| 36/36 [00:09<00:00,  3.79it/s, v_num=3, train_loss_step=0.890, train_acc_step=0.677, train_calibration_error_step=0.106] "
     ]
    },
    {
     "name": "stderr",
     "output_type": "stream",
     "text": [
      "STAGE:2024-03-12 13:09:39 46460:46460 ActivityProfilerController.cpp:314] Completed Stage: Warm Up\n"
     ]
    },
    {
     "name": "stdout",
     "output_type": "stream",
     "text": []
    },
    {
     "name": "stderr",
     "output_type": "stream",
     "text": [
      "STAGE:2024-03-12 13:09:39 46460:46460 ActivityProfilerController.cpp:320] Completed Stage: Collection\n",
      "STAGE:2024-03-12 13:09:39 46460:46460 ActivityProfilerController.cpp:324] Completed Stage: Post Processing\n"
     ]
    },
    {
     "name": "stdout",
     "output_type": "stream",
     "text": [
      "Epoch 59: 100%|██████████| 36/36 [00:13<00:00,  2.67it/s, v_num=3, train_loss_step=0.532, train_acc_step=0.960, train_calibration_error_step=0.201, val_acc=0.978, val_calibration_error=0.219, train_loss_epoch=0.531, train_acc_epoch=0.970, train_calibration_error_epoch=0.216] "
     ]
    },
    {
     "name": "stderr",
     "output_type": "stream",
     "text": [
      "`Trainer.fit` stopped: `max_epochs=60` reached.\n"
     ]
    },
    {
     "name": "stdout",
     "output_type": "stream",
     "text": [
      "Epoch 59: 100%|██████████| 36/36 [00:15<00:00,  2.39it/s, v_num=3, train_loss_step=0.532, train_acc_step=0.960, train_calibration_error_step=0.201, val_acc=0.978, val_calibration_error=0.219, train_loss_epoch=0.531, train_acc_epoch=0.970, train_calibration_error_epoch=0.216]\n"
     ]
    },
    {
     "name": "stderr",
     "output_type": "stream",
     "text": [
      "FIT Profiler Report\n",
      "Profile stats for: records\n",
      "-------------------------------------------------------  ------------  ------------  ------------  ------------  ------------  ------------  ------------  ------------  ------------  ------------  \n",
      "                                                   Name    Self CPU %      Self CPU   CPU total %     CPU total  CPU time avg     Self CUDA   Self CUDA %    CUDA total  CUDA time avg    # of Calls  \n",
      "-------------------------------------------------------  ------------  ------------  ------------  ------------  ------------  ------------  ------------  ------------  ------------  ------------  \n",
      "                                          ProfilerStep*         0.91%       3.531ms        99.98%     389.563ms     194.781ms       0.000us         0.00%      65.889ms      32.944ms             2  \n",
      "                [pl][profile][_EvaluationLoop].val_next         0.05%     211.000us        77.96%     303.756ms     151.878ms       0.000us         0.00%       0.000us       0.000us             2  \n",
      "enumerate(DataLoader)#_MultiProcessingDataLoaderIter...        77.86%     303.398ms        77.90%     303.545ms     151.773ms       0.000us         0.00%       0.000us       0.000us             2  \n",
      "[pl][profile][Strategy]SingleDeviceStrategy.validati...         1.21%       4.723ms        18.41%      71.740ms      35.870ms       0.000us         0.00%      54.627ms      27.314ms             2  \n",
      "    [pl][module]torchvision.models.resnet.ResNet: model         0.42%       1.647ms        11.18%      43.554ms      21.777ms       0.000us         0.00%      53.928ms      26.964ms             2  \n",
      "                                        cudaMemcpyAsync         4.05%      15.775ms         4.06%      15.830ms       1.131ms       0.000us         0.00%       0.000us       0.000us            14  \n",
      "                                         aten::_unique2         0.59%       2.300ms         3.98%      15.500ms       7.750ms      88.000us         0.13%      94.000us      47.000us             2  \n",
      "                                           aten::conv2d         0.06%     233.000us         3.84%      14.951ms     373.775us       0.000us         0.00%      42.111ms       1.053ms            40  \n",
      "                                      aten::convolution         0.10%     382.000us         3.78%      14.718ms     367.950us       0.000us         0.00%      42.111ms       1.053ms            40  \n",
      "                                     aten::_convolution         0.13%     510.000us         3.68%      14.336ms     358.400us       0.000us         0.00%      42.111ms       1.053ms            40  \n",
      "                                aten::cudnn_convolution         1.84%       7.162ms         3.55%      13.826ms     345.650us      42.111ms        63.91%      42.111ms       1.053ms            40  \n",
      "                                             aten::item         0.02%      87.000us         3.39%      13.192ms       3.298ms       0.000us         0.00%      12.000us       3.000us             4  \n",
      "                              aten::_local_scalar_dense         0.03%      99.000us         3.36%      13.105ms       3.276ms      12.000us         0.02%      12.000us       3.000us             4  \n",
      "                                       cudaLaunchKernel         2.92%      11.395ms         2.92%      11.395ms      17.694us       0.000us         0.00%       0.000us       0.000us           644  \n",
      "[pl][module]torch.nn.modules.container.Sequential: m...         0.05%     214.000us         2.66%      10.371ms       5.186ms       0.000us         0.00%       5.062ms       2.531ms             2  \n",
      "                                       aten::batch_norm         0.06%     229.000us         2.05%       8.004ms     200.100us       0.000us         0.00%       5.716ms     142.900us            40  \n",
      "                           aten::_batch_norm_impl_index         0.10%     390.000us         2.00%       7.775ms     194.375us       0.000us         0.00%       5.716ms     142.900us            40  \n",
      "[pl][module]torch.nn.modules.container.Sequential: m...         0.06%     232.000us         1.98%       7.713ms       3.857ms       0.000us         0.00%       5.904ms       2.952ms             2  \n",
      "[pl][module]torch.nn.modules.container.Sequential: m...         0.05%     202.000us         1.91%       7.427ms       3.713ms       0.000us         0.00%       4.514ms       2.257ms             2  \n",
      "                                 aten::cudnn_batch_norm         0.63%       2.451ms         1.90%       7.385ms     184.625us       5.716ms         8.68%       5.716ms     142.900us            40  \n",
      "-------------------------------------------------------  ------------  ------------  ------------  ------------  ------------  ------------  ------------  ------------  ------------  ------------  \n",
      "Self CPU time total: 389.654ms\n",
      "Self CUDA time total: 65.889ms\n",
      "\n",
      "LOCAL_RANK: 0 - CUDA_VISIBLE_DEVICES: [0,1]\n"
     ]
    },
    {
     "name": "stdout",
     "output_type": "stream",
     "text": [
      "Testing DataLoader 0:   6%|▌         | 2/36 [00:00<00:02, 15.87it/s]"
     ]
    },
    {
     "name": "stderr",
     "output_type": "stream",
     "text": [
      "STAGE:2024-03-12 13:24:42 46460:46460 ActivityProfilerController.cpp:314] Completed Stage: Warm Up\n"
     ]
    },
    {
     "name": "stdout",
     "output_type": "stream",
     "text": [
      "Testing DataLoader 0:  11%|█         | 4/36 [00:00<00:03,  9.50it/s]"
     ]
    },
    {
     "name": "stderr",
     "output_type": "stream",
     "text": [
      "STAGE:2024-03-12 13:24:42 46460:46460 ActivityProfilerController.cpp:320] Completed Stage: Collection\n",
      "STAGE:2024-03-12 13:24:42 46460:46460 ActivityProfilerController.cpp:324] Completed Stage: Post Processing\n"
     ]
    },
    {
     "name": "stdout",
     "output_type": "stream",
     "text": [
      "Testing DataLoader 0: 100%|██████████| 36/36 [00:05<00:00,  7.07it/s]\n"
     ]
    },
    {
     "data": {
      "text/html": [
       "<pre style=\"white-space:pre;overflow-x:auto;line-height:normal;font-family:Menlo,'DejaVu Sans Mono',consolas,'Courier New',monospace\">┏━━━━━━━━━━━━━━━━━━━━━━━━━━━┳━━━━━━━━━━━━━━━━━━━━━━━━━━━┓\n",
       "┃<span style=\"font-weight: bold\">   Runningstage.testing    </span>┃<span style=\"font-weight: bold\">                           </span>┃\n",
       "┃<span style=\"font-weight: bold\">          metric           </span>┃<span style=\"font-weight: bold\">       DataLoader 0        </span>┃\n",
       "┡━━━━━━━━━━━━━━━━━━━━━━━━━━━╇━━━━━━━━━━━━━━━━━━━━━━━━━━━┩\n",
       "│<span style=\"color: #008080; text-decoration-color: #008080\">         test_acc          </span>│<span style=\"color: #800080; text-decoration-color: #800080\">    0.9776327013969421     </span>│\n",
       "│<span style=\"color: #008080; text-decoration-color: #008080\">  test_calibration_error   </span>│<span style=\"color: #800080; text-decoration-color: #800080\">    0.21866057813167572    </span>│\n",
       "│<span style=\"color: #008080; text-decoration-color: #008080\">         test_loss         </span>│<span style=\"color: #800080; text-decoration-color: #800080\">    0.5288813710212708     </span>│\n",
       "└───────────────────────────┴───────────────────────────┘\n",
       "</pre>\n"
      ],
      "text/plain": [
       "┏━━━━━━━━━━━━━━━━━━━━━━━━━━━┳━━━━━━━━━━━━━━━━━━━━━━━━━━━┓\n",
       "┃\u001b[1m \u001b[0m\u001b[1m  Runningstage.testing   \u001b[0m\u001b[1m \u001b[0m┃\u001b[1m                           \u001b[0m┃\n",
       "┃\u001b[1m \u001b[0m\u001b[1m         metric          \u001b[0m\u001b[1m \u001b[0m┃\u001b[1m \u001b[0m\u001b[1m      DataLoader 0       \u001b[0m\u001b[1m \u001b[0m┃\n",
       "┡━━━━━━━━━━━━━━━━━━━━━━━━━━━╇━━━━━━━━━━━━━━━━━━━━━━━━━━━┩\n",
       "│\u001b[36m \u001b[0m\u001b[36m        test_acc         \u001b[0m\u001b[36m \u001b[0m│\u001b[35m \u001b[0m\u001b[35m   0.9776327013969421    \u001b[0m\u001b[35m \u001b[0m│\n",
       "│\u001b[36m \u001b[0m\u001b[36m test_calibration_error  \u001b[0m\u001b[36m \u001b[0m│\u001b[35m \u001b[0m\u001b[35m   0.21866057813167572   \u001b[0m\u001b[35m \u001b[0m│\n",
       "│\u001b[36m \u001b[0m\u001b[36m        test_loss        \u001b[0m\u001b[36m \u001b[0m│\u001b[35m \u001b[0m\u001b[35m   0.5288813710212708    \u001b[0m\u001b[35m \u001b[0m│\n",
       "└───────────────────────────┴───────────────────────────┘\n"
      ]
     },
     "metadata": {},
     "output_type": "display_data"
    },
    {
     "name": "stderr",
     "output_type": "stream",
     "text": [
      "TEST Profiler Report\n",
      "Profile stats for: records\n",
      "-------------------------------------------------------  ------------  ------------  ------------  ------------  ------------  ------------  ------------  ------------  ------------  ------------  \n",
      "                                                   Name    Self CPU %      Self CPU   CPU total %     CPU total  CPU time avg     Self CUDA   Self CUDA %    CUDA total  CUDA time avg    # of Calls  \n",
      "-------------------------------------------------------  ------------  ------------  ------------  ------------  ------------  ------------  ------------  ------------  ------------  ------------  \n",
      "                                          ProfilerStep*         1.38%       4.990ms        99.98%     361.076ms     120.359ms       0.000us         0.00%     152.849ms      50.950ms             3  \n",
      "[pl][profile][Strategy]SingleDeviceStrategy.test_ste...         2.09%       7.555ms        49.74%     179.612ms      59.871ms       0.000us         0.00%     136.458ms      45.486ms             3  \n",
      "               [pl][profile][_EvaluationLoop].test_next         0.09%     314.000us        46.89%     169.324ms      56.441ms       0.000us         0.00%       0.000us       0.000us             3  \n",
      "enumerate(DataLoader)#_MultiProcessingDataLoaderIter...        46.78%     168.923ms        46.80%     169.010ms      56.337ms       0.000us         0.00%       0.000us       0.000us             3  \n",
      "    [pl][module]torchvision.models.resnet.ResNet: model         1.21%       4.375ms        43.83%     158.275ms      26.379ms       0.000us         0.00%     135.669ms      22.611ms             6  \n",
      "                                           aten::conv2d         0.25%     891.000us        18.32%      66.147ms     551.225us       0.000us         0.00%     105.056ms     875.467us           120  \n",
      "                                      aten::convolution         0.26%     950.000us        18.07%      65.256ms     543.800us       0.000us         0.00%     105.056ms     875.467us           120  \n",
      "                                     aten::_convolution         0.50%       1.812ms        17.81%      64.306ms     535.883us       0.000us         0.00%     105.056ms     875.467us           120  \n",
      "                                aten::cudnn_convolution         9.70%      35.044ms        17.30%      62.494ms     520.783us     105.056ms        66.92%     105.056ms     875.467us           120  \n",
      "[pl][module]torch.nn.modules.container.Sequential: m...         0.21%     774.000us        10.15%      36.664ms       6.111ms       0.000us         0.00%      23.881ms       3.980ms             6  \n",
      "                                       cudaLaunchKernel         9.70%      35.029ms         9.70%      35.038ms      19.762us       0.000us         0.00%       0.000us       0.000us          1773  \n",
      "[pl][module]torch.nn.modules.container.Sequential: m...         0.17%     612.000us         8.71%      31.465ms       5.244ms       0.000us         0.00%      11.906ms       1.984ms             6  \n",
      "[pl][module]torch.nn.modules.container.Sequential: m...         0.19%     674.000us         7.24%      26.156ms       4.359ms       0.000us         0.00%      10.861ms       1.810ms             6  \n",
      "[pl][module]torchvision.models.resnet.BasicBlock: mo...         0.73%       2.652ms         7.08%      25.559ms       4.260ms       0.000us         0.00%      11.909ms       1.985ms             6  \n",
      "[pl][module]torch.nn.modules.container.Sequential: m...         0.19%     676.000us         7.03%      25.399ms       4.233ms       0.000us         0.00%      15.340ms       2.557ms             6  \n",
      "                                       aten::batch_norm         0.24%     865.000us         6.59%      23.808ms     198.400us       0.000us         0.00%      14.139ms     117.825us           120  \n",
      "[pl][module]torch.nn.modules.conv.Conv2d: model.conv...         0.31%       1.113ms         6.59%      23.795ms       3.966ms       0.000us         0.00%      63.161ms      10.527ms             6  \n",
      "                           aten::_batch_norm_impl_index         0.34%       1.222ms         6.35%      22.943ms     191.192us       0.000us         0.00%      14.139ms     117.825us           120  \n",
      "                                 aten::cudnn_batch_norm         2.12%       7.650ms         6.01%      21.721ms     181.008us      14.139ms         9.01%      14.139ms     117.825us           120  \n",
      "[pl][module]torchvision.models.resnet.BasicBlock: mo...         0.55%       1.983ms         4.99%      18.018ms       3.003ms       0.000us         0.00%       6.271ms       1.045ms             6  \n",
      "-------------------------------------------------------  ------------  ------------  ------------  ------------  ------------  ------------  ------------  ------------  ------------  ------------  \n",
      "Self CPU time total: 361.138ms\n",
      "Self CUDA time total: 156.996ms\n",
      "\n",
      "/share/nas2/npower/miniconda3/envs/mphys-galaxy/lib/python3.11/site-packages/lightning/fabric/plugins/environments/slurm.py:168: PossibleUserWarning: The `srun` command is available on your system but is not used. HINT: If your intention is to run Lightning on SLURM, prepend your python command with `srun` like so: srun python /share/nas2/npower/miniconda3/envs/mphys-galaxy/lib/ ...\n",
      "  rank_zero_warn(\n",
      "GPU available: True (cuda), used: True\n",
      "TPU available: False, using: 0 TPU cores\n",
      "IPU available: False, using: 0 IPUs\n",
      "HPU available: False, using: 0 HPUs\n",
      "LOCAL_RANK: 0 - CUDA_VISIBLE_DEVICES: [0,1]\n",
      "\n",
      "  | Name    | Type             | Params\n",
      "---------------------------------------------\n",
      "0 | loss_fn | CrossEntropyLoss | 0     \n",
      "1 | model   | ResNet           | 11.2 M\n",
      "---------------------------------------------\n",
      "11.2 M    Trainable params\n",
      "0         Non-trainable params\n",
      "11.2 M    Total params\n",
      "44.712    Total estimated model params size (MB)\n"
     ]
    },
    {
     "name": "stdout",
     "output_type": "stream",
     "text": [
      "                                                                           "
     ]
    },
    {
     "name": "stderr",
     "output_type": "stream",
     "text": [
      "STAGE:2024-03-12 13:24:52 46460:46460 ActivityProfilerController.cpp:314] Completed Stage: Warm Up\n",
      "/share/nas2/npower/miniconda3/envs/mphys-galaxy/lib/python3.11/site-packages/lightning/pytorch/loops/fit_loop.py:281: PossibleUserWarning: The number of training batches (36) is smaller than the logging interval Trainer(log_every_n_steps=50). Set a lower value for log_every_n_steps if you want to see logs for the training epoch.\n",
      "  rank_zero_warn(\n"
     ]
    },
    {
     "name": "stdout",
     "output_type": "stream",
     "text": [
      "Epoch 0:  11%|█         | 4/36 [00:04<00:36,  1.15s/it, v_num=4, train_loss_step=0.985, train_acc_step=0.585, train_calibration_error_step=0.0754]"
     ]
    },
    {
     "name": "stderr",
     "output_type": "stream",
     "text": [
      "STAGE:2024-03-12 13:24:56 46460:46460 ActivityProfilerController.cpp:320] Completed Stage: Collection\n",
      "STAGE:2024-03-12 13:24:56 46460:46460 ActivityProfilerController.cpp:324] Completed Stage: Post Processing\n",
      "[W collection.cpp:602] Warning: Optimizer.step#AdamW.step (function operator())\n",
      "[W collection.cpp:602] Warning: [pl][profile][LightningModule]ChiralityClassifier.optimizer_step (function operator())\n"
     ]
    },
    {
     "name": "stdout",
     "output_type": "stream",
     "text": [
      "Epoch 0: 100%|██████████| 36/36 [00:09<00:00,  3.66it/s, v_num=4, train_loss_step=0.928, train_acc_step=0.616, train_calibration_error_step=0.0377] "
     ]
    },
    {
     "name": "stderr",
     "output_type": "stream",
     "text": [
      "STAGE:2024-03-12 13:25:04 46460:46460 ActivityProfilerController.cpp:314] Completed Stage: Warm Up\n",
      "STAGE:2024-03-12 13:25:04 46460:46460 ActivityProfilerController.cpp:320] Completed Stage: Collection\n",
      "STAGE:2024-03-12 13:25:04 46460:46460 ActivityProfilerController.cpp:324] Completed Stage: Post Processing\n"
     ]
    },
    {
     "name": "stdout",
     "output_type": "stream",
     "text": [
      "Epoch 59: 100%|██████████| 36/36 [00:13<00:00,  2.58it/s, v_num=4, train_loss_step=0.538, train_acc_step=0.990, train_calibration_error_step=0.241, val_acc=0.975, val_calibration_error=0.218, train_loss_epoch=0.532, train_acc_epoch=0.968, train_calibration_error_epoch=0.214] "
     ]
    },
    {
     "name": "stderr",
     "output_type": "stream",
     "text": [
      "`Trainer.fit` stopped: `max_epochs=60` reached.\n"
     ]
    },
    {
     "name": "stdout",
     "output_type": "stream",
     "text": [
      "Epoch 59: 100%|██████████| 36/36 [00:15<00:00,  2.33it/s, v_num=4, train_loss_step=0.538, train_acc_step=0.990, train_calibration_error_step=0.241, val_acc=0.975, val_calibration_error=0.218, train_loss_epoch=0.532, train_acc_epoch=0.968, train_calibration_error_epoch=0.214]\n"
     ]
    },
    {
     "name": "stderr",
     "output_type": "stream",
     "text": [
      "FIT Profiler Report\n",
      "Profile stats for: records\n",
      "-------------------------------------------------------  ------------  ------------  ------------  ------------  ------------  ------------  ------------  ------------  ------------  ------------  \n",
      "                                                   Name    Self CPU %      Self CPU   CPU total %     CPU total  CPU time avg     Self CUDA   Self CUDA %    CUDA total  CUDA time avg    # of Calls  \n",
      "-------------------------------------------------------  ------------  ------------  ------------  ------------  ------------  ------------  ------------  ------------  ------------  ------------  \n",
      "                                          ProfilerStep*         2.41%       3.275ms        99.93%     135.883ms      67.942ms       0.000us         0.00%      65.693ms      32.846ms             2  \n",
      "[pl][profile][Strategy]SingleDeviceStrategy.validati...         4.39%       5.969ms        55.91%      76.021ms      38.011ms       0.000us         0.00%      54.887ms      27.444ms             2  \n",
      "    [pl][module]torchvision.models.resnet.ResNet: model         1.08%       1.474ms        37.45%      50.917ms      25.459ms       0.000us         0.00%      54.190ms      27.095ms             2  \n",
      "                [pl][profile][_EvaluationLoop].val_next         0.16%     211.000us        32.38%      44.033ms      22.017ms       0.000us         0.00%       0.000us       0.000us             2  \n",
      "enumerate(DataLoader)#_MultiProcessingDataLoaderIter...        32.21%      43.797ms        32.23%      43.822ms      21.911ms       0.000us         0.00%       0.000us       0.000us             2  \n",
      "                                           aten::conv2d         0.19%     262.000us        12.81%      17.417ms     435.425us       0.000us         0.00%      42.371ms       1.059ms            40  \n",
      "                                      aten::convolution         0.33%     444.000us        12.62%      17.155ms     428.875us       0.000us         0.00%      42.371ms       1.059ms            40  \n",
      "                                     aten::_convolution         0.42%     577.000us        12.29%      16.711ms     417.775us       0.000us         0.00%      42.371ms       1.059ms            40  \n",
      "                                aten::cudnn_convolution         6.99%       9.504ms        11.87%      16.134ms     403.350us      42.371ms        64.50%      42.371ms       1.059ms            40  \n",
      "                                       cudaLaunchKernel         8.15%      11.079ms         8.16%      11.095ms      17.228us       0.000us         0.00%       0.000us       0.000us           644  \n",
      "[pl][module]torch.nn.modules.container.Sequential: m...         0.68%     926.000us         7.49%      10.186ms       5.093ms       0.000us         0.00%       9.109ms       4.554ms             2  \n",
      "[pl][module]torch.nn.modules.container.Sequential: m...         0.18%     249.000us         7.12%       9.682ms       4.841ms       0.000us         0.00%       5.063ms       2.531ms             2  \n",
      "[pl][module]torch.nn.modules.container.Sequential: m...         0.20%     268.000us         6.57%       8.940ms       4.470ms       0.000us         0.00%       5.907ms       2.954ms             2  \n",
      "[pl][module]torch.nn.modules.conv.Conv2d: model.conv...         0.27%     372.000us         6.50%       8.841ms       4.420ms       0.000us         0.00%      25.465ms      12.732ms             2  \n",
      "[pl][module]torch.nn.modules.container.Sequential: m...         0.20%     266.000us         6.36%       8.644ms       4.322ms       0.000us         0.00%       4.517ms       2.259ms             2  \n",
      "                                       aten::batch_norm         0.21%     291.000us         5.56%       7.565ms     189.125us       0.000us         0.00%       5.721ms     143.025us            40  \n",
      "                           aten::_batch_norm_impl_index         0.30%     410.000us         5.35%       7.274ms     181.850us       0.000us         0.00%       5.721ms     143.025us            40  \n",
      "                                 aten::cudnn_batch_norm         2.09%       2.836ms         5.05%       6.864ms     171.600us       5.721ms         8.71%       5.721ms     143.025us            40  \n",
      "                                        cudaMemcpyAsync         4.72%       6.420ms         4.75%       6.463ms     461.643us       0.000us         0.00%       0.000us       0.000us            14  \n",
      "[pl][profile][Strategy]SingleDeviceStrategy.batch_to...         0.83%       1.132ms         4.73%       6.431ms       3.216ms       0.000us         0.00%      10.806ms       5.403ms             2  \n",
      "-------------------------------------------------------  ------------  ------------  ------------  ------------  ------------  ------------  ------------  ------------  ------------  ------------  \n",
      "Self CPU time total: 135.973ms\n",
      "Self CUDA time total: 65.693ms\n",
      "\n",
      "LOCAL_RANK: 0 - CUDA_VISIBLE_DEVICES: [0,1]\n"
     ]
    },
    {
     "name": "stdout",
     "output_type": "stream",
     "text": [
      "Testing DataLoader 0:  11%|█         | 4/36 [00:00<00:02, 13.65it/s]"
     ]
    },
    {
     "name": "stderr",
     "output_type": "stream",
     "text": [
      "STAGE:2024-03-12 13:40:27 46460:46460 ActivityProfilerController.cpp:314] Completed Stage: Warm Up\n",
      "STAGE:2024-03-12 13:40:28 46460:46460 ActivityProfilerController.cpp:320] Completed Stage: Collection\n",
      "STAGE:2024-03-12 13:40:28 46460:46460 ActivityProfilerController.cpp:324] Completed Stage: Post Processing\n"
     ]
    },
    {
     "name": "stdout",
     "output_type": "stream",
     "text": [
      "Testing DataLoader 0: 100%|██████████| 36/36 [00:05<00:00,  6.75it/s]\n"
     ]
    },
    {
     "data": {
      "text/html": [
       "<pre style=\"white-space:pre;overflow-x:auto;line-height:normal;font-family:Menlo,'DejaVu Sans Mono',consolas,'Courier New',monospace\">┏━━━━━━━━━━━━━━━━━━━━━━━━━━━┳━━━━━━━━━━━━━━━━━━━━━━━━━━━┓\n",
       "┃<span style=\"font-weight: bold\">   Runningstage.testing    </span>┃<span style=\"font-weight: bold\">                           </span>┃\n",
       "┃<span style=\"font-weight: bold\">          metric           </span>┃<span style=\"font-weight: bold\">       DataLoader 0        </span>┃\n",
       "┡━━━━━━━━━━━━━━━━━━━━━━━━━━━╇━━━━━━━━━━━━━━━━━━━━━━━━━━━┩\n",
       "│<span style=\"color: #008080; text-decoration-color: #008080\">         test_acc          </span>│<span style=\"color: #800080; text-decoration-color: #800080\">    0.9745762944221497     </span>│\n",
       "│<span style=\"color: #008080; text-decoration-color: #008080\">  test_calibration_error   </span>│<span style=\"color: #800080; text-decoration-color: #800080\">    0.21813032031059265    </span>│\n",
       "│<span style=\"color: #008080; text-decoration-color: #008080\">         test_loss         </span>│<span style=\"color: #800080; text-decoration-color: #800080\">     0.529059112071991     </span>│\n",
       "└───────────────────────────┴───────────────────────────┘\n",
       "</pre>\n"
      ],
      "text/plain": [
       "┏━━━━━━━━━━━━━━━━━━━━━━━━━━━┳━━━━━━━━━━━━━━━━━━━━━━━━━━━┓\n",
       "┃\u001b[1m \u001b[0m\u001b[1m  Runningstage.testing   \u001b[0m\u001b[1m \u001b[0m┃\u001b[1m                           \u001b[0m┃\n",
       "┃\u001b[1m \u001b[0m\u001b[1m         metric          \u001b[0m\u001b[1m \u001b[0m┃\u001b[1m \u001b[0m\u001b[1m      DataLoader 0       \u001b[0m\u001b[1m \u001b[0m┃\n",
       "┡━━━━━━━━━━━━━━━━━━━━━━━━━━━╇━━━━━━━━━━━━━━━━━━━━━━━━━━━┩\n",
       "│\u001b[36m \u001b[0m\u001b[36m        test_acc         \u001b[0m\u001b[36m \u001b[0m│\u001b[35m \u001b[0m\u001b[35m   0.9745762944221497    \u001b[0m\u001b[35m \u001b[0m│\n",
       "│\u001b[36m \u001b[0m\u001b[36m test_calibration_error  \u001b[0m\u001b[36m \u001b[0m│\u001b[35m \u001b[0m\u001b[35m   0.21813032031059265   \u001b[0m\u001b[35m \u001b[0m│\n",
       "│\u001b[36m \u001b[0m\u001b[36m        test_loss        \u001b[0m\u001b[36m \u001b[0m│\u001b[35m \u001b[0m\u001b[35m    0.529059112071991    \u001b[0m\u001b[35m \u001b[0m│\n",
       "└───────────────────────────┴───────────────────────────┘\n"
      ]
     },
     "metadata": {},
     "output_type": "display_data"
    },
    {
     "name": "stderr",
     "output_type": "stream",
     "text": [
      "TEST Profiler Report\n",
      "Profile stats for: records\n",
      "-------------------------------------------------------  ------------  ------------  ------------  ------------  ------------  ------------  ------------  ------------  ------------  ------------  \n",
      "                                                   Name    Self CPU %      Self CPU   CPU total %     CPU total  CPU time avg     Self CUDA   Self CUDA %    CUDA total  CUDA time avg    # of Calls  \n",
      "-------------------------------------------------------  ------------  ------------  ------------  ------------  ------------  ------------  ------------  ------------  ------------  ------------  \n",
      "                                          ProfilerStep*         1.16%       4.568ms        99.99%     392.788ms     130.929ms       0.000us         0.00%     147.148ms      49.049ms             3  \n",
      "               [pl][profile][_EvaluationLoop].test_next         0.09%     335.000us        49.46%     194.284ms      64.761ms       0.000us         0.00%       0.000us       0.000us             3  \n",
      "enumerate(DataLoader)#_MultiProcessingDataLoaderIter...        49.35%     193.865ms        49.37%     193.949ms      64.650ms       0.000us         0.00%       0.000us       0.000us             3  \n",
      "[pl][profile][Strategy]SingleDeviceStrategy.test_ste...         1.85%       7.263ms        47.54%     186.771ms      62.257ms       0.000us         0.00%     130.409ms      43.470ms             3  \n",
      "    [pl][module]torchvision.models.resnet.ResNet: model         2.29%       9.006ms        41.56%     163.255ms      27.209ms       0.000us         0.00%     129.662ms      21.610ms             6  \n",
      "                                           aten::conv2d         0.23%     919.000us        16.33%      64.154ms     534.617us       0.000us         0.00%     100.498ms     837.483us           120  \n",
      "                                      aten::convolution         0.24%     960.000us        16.10%      63.235ms     526.958us       0.000us         0.00%     100.498ms     837.483us           120  \n",
      "                                     aten::_convolution         0.49%       1.942ms        15.85%      62.275ms     518.958us       0.000us         0.00%     100.498ms     837.483us           120  \n",
      "                                aten::cudnn_convolution         7.40%      29.078ms        15.36%      60.333ms     502.775us     100.498ms        66.77%     100.498ms     837.483us           120  \n",
      "                                       cudaLaunchKernel        10.19%      40.048ms        10.20%      40.065ms      22.597us       0.000us         0.00%       0.000us       0.000us          1773  \n",
      "[pl][module]torch.nn.modules.container.Sequential: m...         0.21%     820.000us         8.17%      32.097ms       5.349ms       0.000us         0.00%      22.763ms       3.794ms             6  \n",
      "[pl][module]torch.nn.modules.conv.Conv2d: model.conv...         0.26%       1.010ms         7.68%      30.150ms       5.025ms       0.000us         0.00%      62.572ms      10.429ms             6  \n",
      "[pl][module]torch.nn.modules.container.Sequential: m...         0.19%     733.000us         7.24%      28.460ms       4.743ms       0.000us         0.00%       9.631ms       1.605ms             6  \n",
      "[pl][module]torch.nn.modules.container.Sequential: m...         0.32%       1.257ms         7.20%      28.270ms       4.712ms       0.000us         0.00%      14.462ms       2.410ms             6  \n",
      "[pl][module]torch.nn.modules.container.Sequential: m...         0.18%     688.000us         6.83%      26.843ms       4.474ms       0.000us         0.00%      10.264ms       1.711ms             6  \n",
      "                                       aten::batch_norm         0.22%     856.000us         5.69%      22.361ms     186.342us       0.000us         0.00%      13.280ms     110.667us           120  \n",
      "                           aten::_batch_norm_impl_index         0.33%       1.304ms         5.47%      21.505ms     179.208us       0.000us         0.00%      13.280ms     110.667us           120  \n",
      "                                 aten::cudnn_batch_norm         1.99%       7.823ms         5.14%      20.201ms     168.342us      13.280ms         8.82%      13.280ms     110.667us           120  \n",
      "[pl][module]torchvision.models.resnet.BasicBlock: mo...         0.56%       2.183ms         5.06%      19.861ms       3.310ms       0.000us         0.00%      11.359ms       1.893ms             6  \n",
      "[pl][module]torchvision.models.resnet.BasicBlock: mo...         0.63%       2.487ms         4.23%      16.613ms       2.769ms       0.000us         0.00%       5.112ms     852.000us             6  \n",
      "-------------------------------------------------------  ------------  ------------  ------------  ------------  ------------  ------------  ------------  ------------  ------------  ------------  \n",
      "Self CPU time total: 392.832ms\n",
      "Self CUDA time total: 150.514ms\n",
      "\n"
     ]
    },
    {
     "data": {
      "image/png": "[encoded data removed]",
      "text/plain": [
       "<Figure size 640x480 with 1 Axes>"
      ]
     },
     "metadata": {},
     "output_type": "display_data"
    },
    {
     "data": {
      "image/png": "[encoded data removed]",
      "text/plain": [
       "<Figure size 640x480 with 1 Axes>"
      ]
     },
     "metadata": {},
     "output_type": "display_data"
    },
    {
     "data": {
      "image/png": "[encoded data removed]",
      "text/plain": [
       "<Figure size 640x480 with 1 Axes>"
      ]
     },
     "metadata": {},
     "output_type": "display_data"
    },
    {
     "data": {
      "image/png": "[encoded data removed]",
      "text/plain": [
       "<Figure size 640x480 with 1 Axes>"
      ]
     },
     "metadata": {},
     "output_type": "display_data"
    },
    {
     "data": {
      "image/png": "[encoded data removed]",
      "text/plain": [
       "<Figure size 640x480 with 1 Axes>"
      ]
     },
     "metadata": {},
     "output_type": "display_data"
    }
   ],
   "source": [
    "for run in range(0,REPEAT_RUNS):\n",
    "    \n",
    "    save_dir = f\"{METRICS_PATH}/{MODEL_ID}/version_{run}\"\n",
    "    check_folder(save_dir)\n",
    "\n",
    "    model = ChiralityClassifier(\n",
    "        num_classes=(2 if (MODEL_NAME==\"jiaresnet50\") else 3), #2 for Jia et al version\n",
    "        model_version=MODEL_NAME,\n",
    "        optimizer=\"adamw\",\n",
    "        scheduler  =\"steplr\",\n",
    "        lr=0.0001,\n",
    "        weight_decay=0,\n",
    "        step_size=5,\n",
    "        gamma=0.85,\n",
    "        batch_size=60,\n",
    "        weights=None,\n",
    "        model_save_path=f\"{save_dir}/model.pt\",\n",
    "        graph_save_path=f\"{save_dir}/matrix.png\"\n",
    "    )\n",
    "\n",
    "    tb_logger = TensorBoardLogger(LOG_PATH, name=MODEL_ID,version=run)\n",
    "    csv_logger = CSVLogger(LOG_PATH,name=MODEL_ID,version=run)\n",
    "\n",
    "    trainer = pl.Trainer(\n",
    "        accelerator=(\"gpu\" if device.type==\"cuda\" else \"cpu\"),\n",
    "        max_epochs=60,\n",
    "        devices=1,\n",
    "        logger=([tb_logger,csv_logger] if USE_TENSORBOARD else csv_logger),\n",
    "        default_root_dir=f'{LOG_PATH}/{MODEL_ID}'\n",
    "        #profiler=\"pytorch\"\n",
    "        #callbacks=EarlyStopping(monitor=\"val_loss\", mode=\"min\")\n",
    "    )\n",
    "\n",
    "    #compiled_model = torch.compile(model, backend=\"eager\")\n",
    "    trainer.fit(model,train_dataloaders=datamodule.train_dataloader(),val_dataloaders=datamodule.val_dataloader())\n",
    "\n",
    "    if RUN_TEST:\n",
    "        trainer.test(model,dataloaders=datamodule.test_dataloader())\n",
    "    else:\n",
    "        trainer.test(model,dataloaders=datamodule.val_dataloader())\n",
    "\n",
    "    if SAVE_MODEL:\n",
    "        torch.save(trainer.model.state_dict(), model.model_save_path)"
   ]
  }
 ],
 "metadata": {
  "kernelspec": {
   "display_name": "mphys-galaxy",
   "language": "python",
   "name": "python3"
  },
  "language_info": {
   "codemirror_mode": {
    "name": "ipython",
    "version": 3
   },
   "file_extension": ".py",
   "mimetype": "text/x-python",
   "name": "python",
   "nbconvert_exporter": "python",
   "pygments_lexer": "ipython3",
   "version": "3.11.5"
  }
 },
 "nbformat": 4,
 "nbformat_minor": 2
}

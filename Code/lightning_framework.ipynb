{
 "cells": [
  {
   "cell_type": "markdown",
   "metadata": {},
   "source": [
    "# Pytorch Lightning Framework for training S+Z Galaxy Classifiers"
   ]
  },
  {
   "cell_type": "markdown",
   "metadata": {},
   "source": [
    "## Imports"
   ]
  },
  {
   "cell_type": "code",
   "execution_count": null,
   "metadata": {},
   "outputs": [],
   "source": [
    "import os\n",
    "from enum import Enum\n",
    "import pandas as pd\n",
    "import torch\n",
    "from torch.utils.data import random_split\n",
    "import lightning as pl\n",
    "from pytorch_lightning.loggers import TensorBoardLogger,CSVLogger\n",
    "from lightning.pytorch.callbacks.early_stopping import EarlyStopping\n",
    "import albumentations as A\n",
    "from galaxy_datasets.pytorch.galaxy_datamodule import GalaxyDataModule\n",
    "from ChiralityClassifier import ChiralityClassifier"
   ]
  },
  {
   "cell_type": "markdown",
   "metadata": {},
   "source": [
    "## Options"
   ]
  },
  {
   "cell_type": "code",
   "execution_count": null,
   "metadata": {},
   "outputs": [],
   "source": [
    "class modes(Enum):\n",
    "    FULL_DATASET = 0 #Use all 600,000 galaxies\n",
    "    CUT_DATASET = 1 #Use cut of 200,000 galaxies, with pre-selected test data and downsampled train data\n",
    "    BEST_SUBSET = 2 #Select N best S,Z & other galaxies, evenly split\n",
    "    LOCAL_SUBSET = 3 #Use local cache of 1500 galaxies\n",
    "\n",
    "IMG_SIZE = 160 # This is the output size of the generated image array\n",
    "MODE = modes.CUT_DATASET #Select which dataset to run\n",
    "TEST_PRETRAINED_MODEL = True #Load and run testing dataset & save metrics\n",
    "# Models:\n",
    "#resnet18,resnet34,resnet50,resnet101,resnet152,\n",
    "#jiaresnet50,LeNet,G_ResNet18,G_LeNet,\n",
    "MODEL_NAME = \"G_ResNet18\"\n",
    "CUSTOM_ID = \"save_test\"\n",
    "\n",
    "USE_TENSORBOARD = False #Log to tensorboard as well as csv logger\n",
    "SAVE_MODEL = False #Save model weights to .pt file\n",
    "REPEAT_RUNS = 1 #Set to 1 for 1 run\n",
    "\n",
    "METRICS_PATH = \"../Metrics\"\n",
    "#SAVE_PATH = \"../Models\" #In process of updating - will move to metrics\n",
    "LOG_PATH = \"../Code/lightning_logs\"\n",
    "FULL_DATA_PATH = \"/share/nas2/walml/galaxy_zoo/decals/dr8/jpg\"\n",
    "LOCAL_SUBSET_DATA_PATH = \"../Data/Subset\"\n",
    "\n",
    "FULL_CATALOG_PATH = \"../Data/gz1_desi_cross_cat.csv\"\n",
    "CUT_CATALOG_TEST_PATH = \"../Data/gz1_desi_cross_cat_testing.csv\"\n",
    "CUT_CATALOG_TRAIN_PATH = \"../Data/gz1_desi_cross_cat_train_val_downsample.csv\"\n",
    "BEST_SUBSET_CATALOG_PATH = \"../Data/gz1_desi_cross_cat_best_subset.csv\"\n",
    "LOCAL_SUBSET_CATALOG_PATH = \"../Data/gz1_desi_cross_cat_local_subset.csv\"\n",
    "\n",
    "torch.set_float32_matmul_precision(\"medium\")\n",
    "if len(CUSTOM_ID) == 0:\n",
    "    MODEL_ID = f\"{MODEL_NAME}_{MODE.name.lower()}\"\n",
    "else:\n",
    "     MODEL_ID = f\"{MODEL_NAME}_{MODE.name.lower()}_{CUSTOM_ID}\"\n",
    "PRETRAINED_MODEL_PATH = f\"{METRICS_PATH}/{MODEL_ID}/version_{0}/model.pt\""
   ]
  },
  {
   "cell_type": "markdown",
   "metadata": {},
   "source": [
    "## GPU Test"
   ]
  },
  {
   "cell_type": "code",
   "execution_count": null,
   "metadata": {},
   "outputs": [],
   "source": [
    "print(f\"Using pytorch {torch.__version__}. CPU cores available on device: {os.cpu_count()}\")\n",
    "device = torch.device(\"cuda\" if torch.cuda.is_available() else \"cpu\")\n",
    "if device.type == \"cuda\":\n",
    "    print(torch.cuda.get_device_name(0))\n",
    "    print(f\"Allocated Memory: {round(torch.cuda.memory_allocated(0)/1024**3,1)} GB\")\n",
    "    print(f\"Cached Memory: {round(torch.cuda.memory_reserved(0)/1024**3,1)} GB\")\n",
    "print(\"Using device:\", device)"
   ]
  },
  {
   "cell_type": "markdown",
   "metadata": {},
   "source": [
    "## Reading in data"
   ]
  },
  {
   "cell_type": "markdown",
   "metadata": {},
   "source": [
    "### Building catalog"
   ]
  },
  {
   "cell_type": "code",
   "execution_count": null,
   "metadata": {},
   "outputs": [],
   "source": [
    "def get_file_paths(catalog_to_convert,folder_path):\n",
    "    brick_ids = catalog_to_convert[\"dr8_id\"].str.split(\"_\",expand=True)[0]\n",
    "    dr8_ids = catalog_to_convert[\"dr8_id\"]\n",
    "    file_locations = folder_path+\"/\"+brick_ids+\"/\"+dr8_ids+\".jpg\"\n",
    "    print(f\"Created {file_locations.shape[0]} galaxy filepaths\")\n",
    "    return file_locations\n",
    "\n",
    "def check_folder(save_dir):\n",
    "    if not os.path.exists(save_dir):\n",
    "        os.makedirs(save_dir)\n",
    "\n",
    "def generate_transforms(resize_after_crop=IMG_SIZE):\n",
    "    transforms_to_apply = [\n",
    "        A.ToFloat(), #Converts from 0-255 to 0-1\n",
    "\n",
    "        A.Resize( #Resizes to 160x160\n",
    "            height=resize_after_crop,\n",
    "            width=resize_after_crop,\n",
    "            interpolation=1,\n",
    "            always_apply=True\n",
    "        ),\n",
    "\n",
    "        #A.randomrotate\n",
    "    ]\n",
    "    return A.Compose(transforms_to_apply)"
   ]
  },
  {
   "cell_type": "code",
   "execution_count": null,
   "metadata": {},
   "outputs": [],
   "source": [
    "if MODE == modes.CUT_DATASET:\n",
    "    train_val_catalog = pd.read_csv(CUT_CATALOG_TRAIN_PATH)\n",
    "    train_val_catalog[\"file_loc\"] = get_file_paths(train_val_catalog,FULL_DATA_PATH)\n",
    "    generator1 = torch.Generator().manual_seed(42) #Preset test-val split, note test dataloader will still shuffle\n",
    "    train_catalog, val_catalog = random_split(train_val_catalog, [0.20,0.80], generator=generator1)\n",
    "    train_catalog = train_catalog.dataset.iloc[train_catalog.indices]\n",
    "    val_catalog = val_catalog.dataset.iloc[val_catalog.indices]   \n",
    "    test_catalog = pd.read_csv(CUT_CATALOG_TEST_PATH)\n",
    "    test_catalog[\"file_loc\"] = get_file_paths(test_catalog,FULL_DATA_PATH)\n",
    "\n",
    "    datamodule = GalaxyDataModule(\n",
    "        label_cols=[\"P_CW\",\"P_ACW\",\"P_OTHER\"],\n",
    "        train_catalog=train_catalog, val_catalog=train_catalog, test_catalog=test_catalog,\n",
    "        custom_albumentation_transform=generate_transforms(),\n",
    "        batch_size=200,\n",
    "        num_workers=11,\n",
    "    )\n",
    "    \n",
    "else:\n",
    "    if MODE == modes.FULL_DATASET:\n",
    "        catalog = pd.read_csv(FULL_CATALOG_PATH)\n",
    "        catalog[\"file_loc\"] = get_file_paths(catalog,FULL_DATA_PATH)\n",
    "\n",
    "    elif MODE == modes.BEST_SUBSET:\n",
    "        catalog = pd.read_csv(BEST_SUBSET_CATALOG_PATH)\n",
    "        catalog[\"file_loc\"] = get_file_paths(catalog,FULL_DATA_PATH)\n",
    "\n",
    "    elif MODE == modes.LOCAL_SUBSET:\n",
    "        catalog = pd.read_csv(LOCAL_SUBSET_CATALOG_PATH)\n",
    "        catalog[\"file_loc\"] = get_file_paths(catalog,LOCAL_SUBSET_DATA_PATH)\n",
    "\n",
    "    datamodule = GalaxyDataModule(\n",
    "        label_cols=[\"P_CW\",\"P_ACW\",\"P_OTHER\"],\n",
    "        catalog=catalog,\n",
    "        train_fraction=0.7, val_fraction=0.15, test_fraction=0.15,\n",
    "        custom_albumentation_transform=generate_transforms(),\n",
    "        batch_size=100,\n",
    "        num_workers=11,\n",
    "    )"
   ]
  },
  {
   "cell_type": "markdown",
   "metadata": {},
   "source": [
    "## Code to run"
   ]
  },
  {
   "cell_type": "code",
   "execution_count": null,
   "metadata": {},
   "outputs": [],
   "source": [
    "datamodule.prepare_data()\n",
    "datamodule.setup()"
   ]
  },
  {
   "cell_type": "code",
   "execution_count": null,
   "metadata": {},
   "outputs": [],
   "source": [
    "for run in range(0,REPEAT_RUNS):\n",
    "    \n",
    "    save_dir = f\"{METRICS_PATH}/{MODEL_ID}/version_{run}\"\n",
    "    check_folder(save_dir)\n",
    "\n",
    "    model = ChiralityClassifier(\n",
    "        num_classes=(2 if (MODEL_NAME==\"jiaresnet50\") else 3), #2 for Jia et al version\n",
    "        model_version=MODEL_NAME,\n",
    "        optimizer=\"adamw\",\n",
    "        scheduler  =\"steplr\",\n",
    "        lr=0.0001,\n",
    "        weight_decay=0,\n",
    "        step_size=5,\n",
    "        gamma=0.85,\n",
    "        batch_size=60,\n",
    "        weights=(PRETRAINED_MODEL_PATH if TEST_PRETRAINED_MODEL else None),\n",
    "        model_save_path=f\"{save_dir}/model.pt\",\n",
    "        graph_save_path=f\"{save_dir}/matrix.png\"\n",
    "    )\n",
    "\n",
    "    tb_logger = TensorBoardLogger(LOG_PATH, name=MODEL_ID,version=run)\n",
    "    csv_logger = CSVLogger(LOG_PATH,name=MODEL_ID,version=run)\n",
    "\n",
    "    trainer = pl.Trainer(\n",
    "        accelerator=(\"gpu\" if device.type==\"cuda\" else \"cpu\"),\n",
    "        max_epochs=1,\n",
    "        devices=1,\n",
    "        logger=([tb_logger,csv_logger] if USE_TENSORBOARD else csv_logger),\n",
    "        default_root_dir=f\"{LOG_PATH}/{MODEL_ID}\"\n",
    "        #profiler=\"pytorch\"\n",
    "        #callbacks=EarlyStopping(monitor=\"val_loss\", mode=\"min\")\n",
    "    )\n",
    "\n",
    "    #compiled_model = torch.compile(model, backend=\"eager\")\n",
    "    \n",
    "\n",
    "    if not TEST_PRETRAINED_MODEL:\n",
    "        trainer.fit(model,train_dataloaders=datamodule.train_dataloader(),val_dataloaders=datamodule.val_dataloader())\n",
    "        trainer.test(model,dataloaders=datamodule.val_dataloader())\n",
    "\n",
    "        if SAVE_MODEL:\n",
    "            torch.save(trainer.model.state_dict(), model.model_save_path)\n",
    "            \n",
    "    else:\n",
    "        trainer.test(model,dataloaders=datamodule.test_dataloader())    "
   ]
  },
  {
   "cell_type": "code",
   "execution_count": null,
   "metadata": {},
   "outputs": [],
   "source": [
    "state = torch.load(PRETRAINED_MODEL_PATH)\n",
    "\n",
    "for key in state.keys():\n",
    "    print(key)"
   ]
  }
 ],
 "metadata": {
  "kernelspec": {
   "display_name": "mphys-galaxy",
   "language": "python",
   "name": "python3"
  },
  "language_info": {
   "codemirror_mode": {
    "name": "ipython",
    "version": 3
   },
   "file_extension": ".py",
   "mimetype": "text/x-python",
   "name": "python",
   "nbconvert_exporter": "python",
   "pygments_lexer": "ipython3",
   "version": "3.11.5"
  }
 },
 "nbformat": 4,
 "nbformat_minor": 2
}

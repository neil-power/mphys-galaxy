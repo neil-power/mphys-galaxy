{
 "cells": [
  {
   "cell_type": "markdown",
   "metadata": {},
   "source": [
    "# Pytorch Lightning Framework for training S+Z Galaxy Classifiers"
   ]
  },
  {
   "cell_type": "markdown",
   "metadata": {},
   "source": [
    "## Imports"
   ]
  },
  {
   "cell_type": "code",
   "execution_count": 25,
   "metadata": {},
   "outputs": [],
   "source": [
    "import os\n",
    "import gc\n",
    "from enum import Enum\n",
    "import pandas as pd\n",
    "import torch\n",
    "from torch.utils.data import random_split\n",
    "import lightning as pl\n",
    "from pytorch_lightning.loggers import TensorBoardLogger,CSVLogger\n",
    "from lightning.pytorch.callbacks.early_stopping import EarlyStopping\n",
    "\n",
    "\n",
    "from ChiralityClassifier import ChiralityClassifier\n",
    "from dataset_utils import *"
   ]
  },
  {
   "cell_type": "markdown",
   "metadata": {},
   "source": [
    "## Options"
   ]
  },
  {
   "cell_type": "code",
   "execution_count": 26,
   "metadata": {},
   "outputs": [],
   "source": [
    "class datasets(Enum):\n",
    "    FULL_DATASET = 0 #Use all 600,000 galaxies in GZ1 catalog\n",
    "    CUT_DATASET = 1 #Use cut of 200,000 galaxies, with pre-selected test data and downsampled train data\n",
    "    BEST_SUBSET = 2 #Select N best S,Z & other galaxies, evenly split\n",
    "    LOCAL_SUBSET = 3 #Use local cache of 1500 galaxies\n",
    "    FULL_DESI_DATASET = 4 #Use all 7 million galaxies in DESI catalog, minus those that appear in cut catalog\n",
    "\n",
    "class modes(Enum):\n",
    "    TRAIN = 0 #Train on a dataset\n",
    "    TEST = 1 #Test an existing saved model on a dataset\n",
    "    PREDICT = 2 #Use an existing saved model on an unlabelled dataset\n",
    "\n",
    "DATASET = datasets.BEST_SUBSET #Select which dataset to run\n",
    "MODE = modes.PREDICT #Select which mode\n",
    "\n",
    "# Models:\n",
    "#resnet18,resnet34,resnet50,resnet101,resnet152,\n",
    "#jiaresnet50,LeNet,G_ResNet18,G_LeNet,\n",
    "MODEL_NAME = \"resnet18\"\n",
    "CUSTOM_ID = \"\"\n",
    "\n",
    "USE_TENSORBOARD = False #Log to tensorboard as well as csv logger\n",
    "SAVE_MODEL = False #Save model weights to .pt file\n",
    "REPEAT_RUNS = 1 #Set to 1 for 1 run\n",
    "IMG_SIZE = 160 #This is the output size of the generated image array\n",
    "BATCH_SIZE = 100 #Number of images per batch\n",
    "NUM_WORKERS = 11 #Number of workers in dataloader (no of CPU cores - 1)\n",
    "\n",
    "PATHS = dict(\n",
    "    METRICS_PATH = \"../Metrics\",\n",
    "    LOG_PATH= \"../Code/lightning_logs\",\n",
    "    FULL_DATA_PATH =  \"/share/nas2/walml/galaxy_zoo/decals/dr8/jpg\",\n",
    "    LOCAL_SUBSET_DATA_PATH =  \"../Data/Subset\",\n",
    "    FULL_CATALOG_PATH =  \"../Data/gz1_desi_cross_cat.csv\",\n",
    "    FULL_DESI_CATALOG_PATH =  \"../Data/desi_full_cat.csv\",\n",
    "    CUT_CATALOG_TEST_PATH =  \"../Data/gz1_desi_cross_cat_testing.csv\",\n",
    "    CUT_CATALOG_TRAIN_PATH = \"../Data/gz1_desi_cross_cat_train_val_downsample.csv\",\n",
    "    BEST_SUBSET_CATALOG_PATH =  \"../Data/gz1_desi_cross_cat_best_subset.csv\",\n",
    "    LOCAL_SUBSET_CATALOG_PATH =  \"../Data/gz1_desi_cross_cat_local_subset.csv\",\n",
    ")\n",
    "\n",
    "torch.set_float32_matmul_precision(\"medium\")\n",
    "if len(CUSTOM_ID) == 0:\n",
    "    MODEL_ID = f\"{MODEL_NAME}_{DATASET.name.lower()}\"\n",
    "else:\n",
    "     MODEL_ID = f\"{MODEL_NAME}_{DATASET.name.lower()}_{CUSTOM_ID}\"\n",
    "\n",
    "PRETRAINED_MODEL_PATH = f\"{PATHS['METRICS_PATH']}/{MODEL_ID}/version_{0}/model.pt\"\n",
    "if MODE != modes.TRAIN:\n",
    "    USE_TENSORBOARD = False #Don\"t log to tensorboard if not training\n",
    "    SAVE_MODEL = False #Don\"t save weights if testing or predicting model\n",
    "    REPEAT_RUNS = 1 #Don\"t repeat runs if if testing or predicting model"
   ]
  },
  {
   "cell_type": "markdown",
   "metadata": {},
   "source": [
    "## GPU Test"
   ]
  },
  {
   "cell_type": "code",
   "execution_count": 27,
   "metadata": {},
   "outputs": [
    {
     "name": "stdout",
     "output_type": "stream",
     "text": [
      "Using pytorch 2.2.1. CPU cores available on device: 24\n",
      "NVIDIA A100-PCIE-40GB\n",
      "Allocated Memory: 0.0 GB\n",
      "Cached Memory: 0.0 GB\n",
      "Using device: cuda\n"
     ]
    }
   ],
   "source": [
    "print(f\"Using pytorch {torch.__version__}. CPU cores available on device: {os.cpu_count()}\")\n",
    "device = torch.device(\"cuda\" if torch.cuda.is_available() else \"cpu\")\n",
    "if device.type == \"cuda\":\n",
    "    print(torch.cuda.get_device_name(0))\n",
    "    print(f\"Allocated Memory: {round(torch.cuda.memory_allocated(0)/1024**3,1)} GB\")\n",
    "    print(f\"Cached Memory: {round(torch.cuda.memory_reserved(0)/1024**3,1)} GB\")\n",
    "print(\"Using device:\", device)"
   ]
  },
  {
   "cell_type": "markdown",
   "metadata": {},
   "source": [
    "## Reading in data"
   ]
  },
  {
   "cell_type": "markdown",
   "metadata": {},
   "source": [
    "### Building catalog"
   ]
  },
  {
   "cell_type": "code",
   "execution_count": 28,
   "metadata": {},
   "outputs": [
    {
     "name": "stdout",
     "output_type": "stream",
     "text": [
      "Created 15000 galaxy filepaths\n"
     ]
    }
   ],
   "source": [
    "datamodule = generate_datamodule(DATASET,MODE,PATHS,datasets,modes,IMG_SIZE,BATCH_SIZE,NUM_WORKERS)"
   ]
  },
  {
   "cell_type": "markdown",
   "metadata": {},
   "source": [
    "## Code to run"
   ]
  },
  {
   "cell_type": "code",
   "execution_count": 29,
   "metadata": {},
   "outputs": [],
   "source": [
    "datamodule.prepare_data()\n",
    "datamodule.setup()"
   ]
  },
  {
   "cell_type": "code",
   "execution_count": 30,
   "metadata": {},
   "outputs": [
    {
     "ename": "FileNotFoundError",
     "evalue": "[Errno 2] No such file or directory: '../Metrics/jiaresnet50_best_subset/version_0/model.pt'",
     "output_type": "error",
     "traceback": [
      "\u001b[0;31m---------------------------------------------------------------------------\u001b[0m",
      "\u001b[0;31mFileNotFoundError\u001b[0m                         Traceback (most recent call last)",
      "Cell \u001b[0;32mIn[30], line 6\u001b[0m\n\u001b[1;32m      3\u001b[0m save_dir \u001b[38;5;241m=\u001b[39m \u001b[38;5;124mf\u001b[39m\u001b[38;5;124m\"\u001b[39m\u001b[38;5;132;01m{\u001b[39;00mPATHS[\u001b[38;5;124m'\u001b[39m\u001b[38;5;124mMETRICS_PATH\u001b[39m\u001b[38;5;124m'\u001b[39m]\u001b[38;5;132;01m}\u001b[39;00m\u001b[38;5;124m/\u001b[39m\u001b[38;5;132;01m{\u001b[39;00mMODEL_ID\u001b[38;5;132;01m}\u001b[39;00m\u001b[38;5;124m/version_\u001b[39m\u001b[38;5;132;01m{\u001b[39;00mrun\u001b[38;5;132;01m}\u001b[39;00m\u001b[38;5;124m\"\u001b[39m\n\u001b[1;32m      4\u001b[0m create_folder(save_dir)\n\u001b[0;32m----> 6\u001b[0m model \u001b[38;5;241m=\u001b[39m ChiralityClassifier(\n\u001b[1;32m      7\u001b[0m     num_classes\u001b[38;5;241m=\u001b[39m(\u001b[38;5;241m2\u001b[39m \u001b[38;5;28;01mif\u001b[39;00m (MODEL_NAME\u001b[38;5;241m==\u001b[39m\u001b[38;5;124m\"\u001b[39m\u001b[38;5;124mjiaresnet50\u001b[39m\u001b[38;5;124m\"\u001b[39m) \u001b[38;5;28;01melse\u001b[39;00m \u001b[38;5;241m3\u001b[39m), \u001b[38;5;66;03m#2 for Jia et al version\u001b[39;00m\n\u001b[1;32m      8\u001b[0m     model_version\u001b[38;5;241m=\u001b[39mMODEL_NAME,\n\u001b[1;32m      9\u001b[0m     optimizer\u001b[38;5;241m=\u001b[39m\u001b[38;5;124m\"\u001b[39m\u001b[38;5;124madamw\u001b[39m\u001b[38;5;124m\"\u001b[39m,\n\u001b[1;32m     10\u001b[0m     scheduler  \u001b[38;5;241m=\u001b[39m\u001b[38;5;124m\"\u001b[39m\u001b[38;5;124msteplr\u001b[39m\u001b[38;5;124m\"\u001b[39m,\n\u001b[1;32m     11\u001b[0m     lr\u001b[38;5;241m=\u001b[39m\u001b[38;5;241m0.0001\u001b[39m,\n\u001b[1;32m     12\u001b[0m     weight_decay\u001b[38;5;241m=\u001b[39m\u001b[38;5;241m0\u001b[39m,\n\u001b[1;32m     13\u001b[0m     step_size\u001b[38;5;241m=\u001b[39m\u001b[38;5;241m5\u001b[39m,\n\u001b[1;32m     14\u001b[0m     gamma\u001b[38;5;241m=\u001b[39m\u001b[38;5;241m0.85\u001b[39m,\n\u001b[1;32m     15\u001b[0m     weights\u001b[38;5;241m=\u001b[39m(PRETRAINED_MODEL_PATH \u001b[38;5;28;01mif\u001b[39;00m MODE \u001b[38;5;241m!=\u001b[39m modes\u001b[38;5;241m.\u001b[39mTRAIN \u001b[38;5;28;01melse\u001b[39;00m \u001b[38;5;28;01mNone\u001b[39;00m),\n\u001b[1;32m     16\u001b[0m     model_save_path\u001b[38;5;241m=\u001b[39m\u001b[38;5;124mf\u001b[39m\u001b[38;5;124m\"\u001b[39m\u001b[38;5;132;01m{\u001b[39;00msave_dir\u001b[38;5;132;01m}\u001b[39;00m\u001b[38;5;124m/model.pt\u001b[39m\u001b[38;5;124m\"\u001b[39m,\n\u001b[1;32m     17\u001b[0m     graph_save_path\u001b[38;5;241m=\u001b[39m(\u001b[38;5;124mf\u001b[39m\u001b[38;5;124m\"\u001b[39m\u001b[38;5;132;01m{\u001b[39;00msave_dir\u001b[38;5;132;01m}\u001b[39;00m\u001b[38;5;124m/val_matrix.png\u001b[39m\u001b[38;5;124m\"\u001b[39m \u001b[38;5;28;01mif\u001b[39;00m MODE \u001b[38;5;241m==\u001b[39m modes\u001b[38;5;241m.\u001b[39mTRAIN \u001b[38;5;28;01melse\u001b[39;00m \u001b[38;5;124mf\u001b[39m\u001b[38;5;124m\"\u001b[39m\u001b[38;5;132;01m{\u001b[39;00msave_dir\u001b[38;5;132;01m}\u001b[39;00m\u001b[38;5;124m/\u001b[39m\u001b[38;5;132;01m{\u001b[39;00mMODE\u001b[38;5;241m.\u001b[39mname\u001b[38;5;241m.\u001b[39mlower()\u001b[38;5;132;01m}\u001b[39;00m\u001b[38;5;124m_matrix.png\u001b[39m\u001b[38;5;124m\"\u001b[39m)\n\u001b[1;32m     18\u001b[0m )\n\u001b[1;32m     20\u001b[0m tb_logger \u001b[38;5;241m=\u001b[39m TensorBoardLogger(PATHS[\u001b[38;5;124m\"\u001b[39m\u001b[38;5;124mLOG_PATH\u001b[39m\u001b[38;5;124m\"\u001b[39m], name\u001b[38;5;241m=\u001b[39mMODEL_ID,version\u001b[38;5;241m=\u001b[39m(\u001b[38;5;124mf\u001b[39m\u001b[38;5;124m\"\u001b[39m\u001b[38;5;132;01m{\u001b[39;00mrun\u001b[38;5;132;01m}\u001b[39;00m\u001b[38;5;124m_val\u001b[39m\u001b[38;5;124m\"\u001b[39m \u001b[38;5;28;01mif\u001b[39;00m MODE \u001b[38;5;241m==\u001b[39m modes\u001b[38;5;241m.\u001b[39mTRAIN \u001b[38;5;28;01melse\u001b[39;00m \u001b[38;5;124mf\u001b[39m\u001b[38;5;124m\"\u001b[39m\u001b[38;5;132;01m{\u001b[39;00mrun\u001b[38;5;132;01m}\u001b[39;00m\u001b[38;5;124m_\u001b[39m\u001b[38;5;132;01m{\u001b[39;00mMODE\u001b[38;5;241m.\u001b[39mname\u001b[38;5;241m.\u001b[39mlower()\u001b[38;5;132;01m}\u001b[39;00m\u001b[38;5;124m\"\u001b[39m))\n\u001b[1;32m     21\u001b[0m csv_logger \u001b[38;5;241m=\u001b[39m CSVLogger(PATHS[\u001b[38;5;124m\"\u001b[39m\u001b[38;5;124mLOG_PATH\u001b[39m\u001b[38;5;124m\"\u001b[39m],name\u001b[38;5;241m=\u001b[39mMODEL_ID,version\u001b[38;5;241m=\u001b[39m(\u001b[38;5;124mf\u001b[39m\u001b[38;5;124m\"\u001b[39m\u001b[38;5;132;01m{\u001b[39;00mrun\u001b[38;5;132;01m}\u001b[39;00m\u001b[38;5;124m_val\u001b[39m\u001b[38;5;124m\"\u001b[39m \u001b[38;5;28;01mif\u001b[39;00m MODE \u001b[38;5;241m==\u001b[39m modes\u001b[38;5;241m.\u001b[39mTRAIN \u001b[38;5;28;01melse\u001b[39;00m \u001b[38;5;124mf\u001b[39m\u001b[38;5;124m\"\u001b[39m\u001b[38;5;132;01m{\u001b[39;00mrun\u001b[38;5;132;01m}\u001b[39;00m\u001b[38;5;124m_\u001b[39m\u001b[38;5;132;01m{\u001b[39;00mMODE\u001b[38;5;241m.\u001b[39mname\u001b[38;5;241m.\u001b[39mlower()\u001b[38;5;132;01m}\u001b[39;00m\u001b[38;5;124m\"\u001b[39m))\n",
      "File \u001b[0;32m/share/nas2/npower/mphys-galaxy/Code/ChiralityClassifier.py:68\u001b[0m, in \u001b[0;36mChiralityClassifier.__init__\u001b[0;34m(self, model_version, num_classes, optimizer, scheduler, lr, weight_decay, step_size, gamma, batch_size, weights, graph_save_path, model_save_path)\u001b[0m\n\u001b[1;32m     66\u001b[0m \u001b[38;5;28;01mif\u001b[39;00m weights \u001b[38;5;129;01mis\u001b[39;00m \u001b[38;5;129;01mnot\u001b[39;00m \u001b[38;5;28;01mNone\u001b[39;00m:\n\u001b[1;32m     67\u001b[0m     \u001b[38;5;28mself\u001b[39m\u001b[38;5;241m.\u001b[39meval()\n\u001b[0;32m---> 68\u001b[0m     \u001b[38;5;28mself\u001b[39m\u001b[38;5;241m.\u001b[39mload_state_dict(torch\u001b[38;5;241m.\u001b[39mload(weights))\n\u001b[1;32m     69\u001b[0m \u001b[38;5;28mself\u001b[39m\u001b[38;5;241m.\u001b[39mtest_y_predicted \u001b[38;5;241m=\u001b[39m []\n\u001b[1;32m     70\u001b[0m \u001b[38;5;28mself\u001b[39m\u001b[38;5;241m.\u001b[39mtest_y_true \u001b[38;5;241m=\u001b[39m []\n",
      "File \u001b[0;32m/share/nas2/npower/miniconda3/envs/mphys-galaxy/lib/python3.11/site-packages/torch/serialization.py:998\u001b[0m, in \u001b[0;36mload\u001b[0;34m(f, map_location, pickle_module, weights_only, mmap, **pickle_load_args)\u001b[0m\n\u001b[1;32m    995\u001b[0m \u001b[38;5;28;01mif\u001b[39;00m \u001b[38;5;124m'\u001b[39m\u001b[38;5;124mencoding\u001b[39m\u001b[38;5;124m'\u001b[39m \u001b[38;5;129;01mnot\u001b[39;00m \u001b[38;5;129;01min\u001b[39;00m pickle_load_args\u001b[38;5;241m.\u001b[39mkeys():\n\u001b[1;32m    996\u001b[0m     pickle_load_args[\u001b[38;5;124m'\u001b[39m\u001b[38;5;124mencoding\u001b[39m\u001b[38;5;124m'\u001b[39m] \u001b[38;5;241m=\u001b[39m \u001b[38;5;124m'\u001b[39m\u001b[38;5;124mutf-8\u001b[39m\u001b[38;5;124m'\u001b[39m\n\u001b[0;32m--> 998\u001b[0m \u001b[38;5;28;01mwith\u001b[39;00m _open_file_like(f, \u001b[38;5;124m'\u001b[39m\u001b[38;5;124mrb\u001b[39m\u001b[38;5;124m'\u001b[39m) \u001b[38;5;28;01mas\u001b[39;00m opened_file:\n\u001b[1;32m    999\u001b[0m     \u001b[38;5;28;01mif\u001b[39;00m _is_zipfile(opened_file):\n\u001b[1;32m   1000\u001b[0m         \u001b[38;5;66;03m# The zipfile reader is going to advance the current file position.\u001b[39;00m\n\u001b[1;32m   1001\u001b[0m         \u001b[38;5;66;03m# If we want to actually tail call to torch.jit.load, we need to\u001b[39;00m\n\u001b[1;32m   1002\u001b[0m         \u001b[38;5;66;03m# reset back to the original position.\u001b[39;00m\n\u001b[1;32m   1003\u001b[0m         orig_position \u001b[38;5;241m=\u001b[39m opened_file\u001b[38;5;241m.\u001b[39mtell()\n",
      "File \u001b[0;32m/share/nas2/npower/miniconda3/envs/mphys-galaxy/lib/python3.11/site-packages/torch/serialization.py:445\u001b[0m, in \u001b[0;36m_open_file_like\u001b[0;34m(name_or_buffer, mode)\u001b[0m\n\u001b[1;32m    443\u001b[0m \u001b[38;5;28;01mdef\u001b[39;00m \u001b[38;5;21m_open_file_like\u001b[39m(name_or_buffer, mode):\n\u001b[1;32m    444\u001b[0m     \u001b[38;5;28;01mif\u001b[39;00m _is_path(name_or_buffer):\n\u001b[0;32m--> 445\u001b[0m         \u001b[38;5;28;01mreturn\u001b[39;00m _open_file(name_or_buffer, mode)\n\u001b[1;32m    446\u001b[0m     \u001b[38;5;28;01melse\u001b[39;00m:\n\u001b[1;32m    447\u001b[0m         \u001b[38;5;28;01mif\u001b[39;00m \u001b[38;5;124m'\u001b[39m\u001b[38;5;124mw\u001b[39m\u001b[38;5;124m'\u001b[39m \u001b[38;5;129;01min\u001b[39;00m mode:\n",
      "File \u001b[0;32m/share/nas2/npower/miniconda3/envs/mphys-galaxy/lib/python3.11/site-packages/torch/serialization.py:426\u001b[0m, in \u001b[0;36m_open_file.__init__\u001b[0;34m(self, name, mode)\u001b[0m\n\u001b[1;32m    425\u001b[0m \u001b[38;5;28;01mdef\u001b[39;00m \u001b[38;5;21m__init__\u001b[39m(\u001b[38;5;28mself\u001b[39m, name, mode):\n\u001b[0;32m--> 426\u001b[0m     \u001b[38;5;28msuper\u001b[39m()\u001b[38;5;241m.\u001b[39m\u001b[38;5;21m__init__\u001b[39m(\u001b[38;5;28mopen\u001b[39m(name, mode))\n",
      "\u001b[0;31mFileNotFoundError\u001b[0m: [Errno 2] No such file or directory: '../Metrics/jiaresnet50_best_subset/version_0/model.pt'"
     ]
    }
   ],
   "source": [
    "for run in range(0,REPEAT_RUNS):\n",
    "    \n",
    "    save_dir = f\"{PATHS['METRICS_PATH']}/{MODEL_ID}/version_{run}\"\n",
    "    create_folder(save_dir)\n",
    "\n",
    "    model = ChiralityClassifier(\n",
    "        num_classes=(2 if (MODEL_NAME==\"jiaresnet50\") else 3), #2 for Jia et al version\n",
    "        model_version=MODEL_NAME,\n",
    "        optimizer=\"adamw\",\n",
    "        scheduler  =\"steplr\",\n",
    "        lr=0.0001,\n",
    "        weight_decay=0,\n",
    "        step_size=5,\n",
    "        gamma=0.85,\n",
    "        weights=(PRETRAINED_MODEL_PATH if MODE != modes.TRAIN else None),\n",
    "        model_save_path=f\"{save_dir}/model.pt\",\n",
    "        graph_save_path=(f\"{save_dir}/val_matrix.png\" if MODE == modes.TRAIN else f\"{save_dir}/{MODE.name.lower()}_matrix.png\")\n",
    "    )\n",
    "\n",
    "    tb_logger = TensorBoardLogger(PATHS[\"LOG_PATH\"], name=MODEL_ID,version=(f\"{run}_val\" if MODE == modes.TRAIN else f\"{run}_{MODE.name.lower()}\"))\n",
    "    csv_logger = CSVLogger(PATHS[\"LOG_PATH\"],name=MODEL_ID,version=(f\"{run}_val\" if MODE == modes.TRAIN else f\"{run}_{MODE.name.lower()}\"))\n",
    "    trainer = pl.Trainer(\n",
    "        accelerator=(\"gpu\" if device.type==\"cuda\" else \"cpu\"),\n",
    "        max_epochs=60,\n",
    "        devices=1,\n",
    "        logger=([tb_logger,csv_logger] if USE_TENSORBOARD else csv_logger),\n",
    "        default_root_dir=f\"{PATHS['LOG_PATH']}/{MODEL_ID}\",\n",
    "        enable_checkpointing=False,\n",
    "        #profiler=\"pytorch\"\n",
    "        #callbacks=EarlyStopping(monitor=\"val_loss\", mode=\"min\")\n",
    "    )\n",
    "\n",
    "    #compiled_model = torch.compile(model, backend=\"eager\")\n",
    "    \n",
    "    if MODE==modes.TRAIN:\n",
    "        trainer.fit(model,train_dataloaders=datamodule.train_dataloader(),val_dataloaders=datamodule.val_dataloader())\n",
    "        trainer.test(model,dataloaders=datamodule.val_dataloader())\n",
    "\n",
    "        if SAVE_MODEL:\n",
    "            torch.save(trainer.model.state_dict(), model.model_save_path)\n",
    "        \n",
    "    elif MODE==modes.TEST:\n",
    "        trainer.test(model,dataloaders=datamodule.test_dataloader())\n",
    "           \n",
    "    elif MODE==modes.PREDICT:\n",
    "        trainer.predict(model,dataloaders=datamodule.predict_dataloader())        "
   ]
  },
  {
   "cell_type": "code",
   "execution_count": null,
   "metadata": {},
   "outputs": [
    {
     "data": {
      "text/plain": [
       "6928"
      ]
     },
     "execution_count": 24,
     "metadata": {},
     "output_type": "execute_result"
    }
   ],
   "source": [
    "#Dereference all objects, clear cuda cache and run garbage collection\n",
    "datamodule=None\n",
    "model=None\n",
    "trainer=None\n",
    "with torch.no_grad():\n",
    "    torch.cuda.empty_cache()\n",
    "gc.collect()"
   ]
  }
 ],
 "metadata": {
  "kernelspec": {
   "display_name": "mphys-galaxy",
   "language": "python",
   "name": "python3"
  },
  "language_info": {
   "codemirror_mode": {
    "name": "ipython",
    "version": 3
   },
   "file_extension": ".py",
   "mimetype": "text/x-python",
   "name": "python",
   "nbconvert_exporter": "python",
   "pygments_lexer": "ipython3",
   "version": "3.11.5"
  }
 },
 "nbformat": 4,
 "nbformat_minor": 2
}

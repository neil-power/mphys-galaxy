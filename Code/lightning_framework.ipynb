{
 "cells": [
  {
   "cell_type": "markdown",
   "metadata": {},
   "source": [
    "# Pytorch Lightning Framework for training S+Z Galaxy Classifiers"
   ]
  },
  {
   "cell_type": "markdown",
   "metadata": {},
   "source": [
    "## Imports"
   ]
  },
  {
   "cell_type": "code",
   "execution_count": 10,
   "metadata": {},
   "outputs": [],
   "source": [
    "import os\n",
    "from enum import Enum\n",
    "import pandas as pd\n",
    "import torch\n",
    "from torch.utils.data import random_split\n",
    "import lightning as pl\n",
    "from pytorch_lightning.loggers import TensorBoardLogger,CSVLogger\n",
    "from lightning.pytorch.callbacks.early_stopping import EarlyStopping\n",
    "import albumentations as A\n",
    "from galaxy_datasets.pytorch.galaxy_datamodule import GalaxyDataModule\n",
    "from ChiralityClassifier import ChiralityClassifier"
   ]
  },
  {
   "cell_type": "markdown",
   "metadata": {},
   "source": [
    "## Options"
   ]
  },
  {
   "cell_type": "code",
   "execution_count": 11,
   "metadata": {},
   "outputs": [],
   "source": [
    "class modes(Enum):\n",
    "    FULL_DATASET = 0 #Use all 600,000 galaxies\n",
    "    CUT_DATASET = 1 #Use cut of 200,000 galaxies, with pre-selected test data and downsampled train data\n",
    "    BEST_SUBSET = 2 #Select N best S,Z & other galaxies, evenly split\n",
    "    LOCAL_SUBSET = 3 #Use local cache of 1500 galaxies\n",
    "\n",
    "IMG_SIZE = 160 # This is the output size of the generated image array\n",
    "MODE = modes.CUT_DATASET\n",
    "RUN_TEST = False #Run on testing dataset & save metrics\n",
    "# Models:\n",
    "#resnet18,resnet34,resnet50,resnet101,resnet152,\n",
    "#jiaresnet50,LeNet,\n",
    "#G_ResNet18,G_LeNet,\n",
    "MODEL_NAME = 'resnet18'\n",
    "CUSTOM_ID = '2'\n",
    "USE_TENSORBOARD = False\n",
    "\n",
    "MODEL_SAVE_PATH = \"../Models\"\n",
    "GRAPH_SAVE_PATH = \"../Graphs\"\n",
    "LOG_PATH = \"../Code/lightning_logs\" #lightning_logs\n",
    "FULL_DATA_PATH = '/share/nas2/walml/galaxy_zoo/decals/dr8/jpg'\n",
    "LOCAL_SUBSET_DATA_PATH = '../Data/Subset'\n",
    "\n",
    "FULL_CATALOG_PATH = '../Data/gz1_desi_cross_cat.csv'\n",
    "CUT_CATALOG_TEST_PATH = '../Data/gz1_desi_cross_cat_testing.csv'\n",
    "CUT_CATALOG_TRAIN_PATH = '../Data/gz1_desi_cross_cat_train_val_downsample.csv'\n",
    "BEST_SUBSET_CATALOG_PATH = '../Data/gz1_desi_cross_cat_best_subset.csv'\n",
    "LOCAL_SUBSET_CATALOG_PATH = '../Data/gz1_desi_cross_cat_local_subset.csv'\n",
    "\n",
    "torch.set_float32_matmul_precision(\"medium\")\n",
    "MODEL_ID = f\"{MODEL_NAME}_{MODE.name.lower()}_{CUSTOM_ID}\""
   ]
  },
  {
   "cell_type": "markdown",
   "metadata": {},
   "source": [
    "## GPU Test"
   ]
  },
  {
   "cell_type": "code",
   "execution_count": 12,
   "metadata": {},
   "outputs": [
    {
     "name": "stdout",
     "output_type": "stream",
     "text": [
      "Using pytorch 2.2.1. CPU cores available on device: 24\n",
      "NVIDIA A100-PCIE-40GB\n",
      "Allocated Memory: 0.0 GB\n",
      "Cached Memory: 0.0 GB\n",
      "Using device: cuda\n"
     ]
    }
   ],
   "source": [
    "print(f\"Using pytorch {torch.__version__}. CPU cores available on device: {os.cpu_count()}\")\n",
    "device = torch.device('cuda' if torch.cuda.is_available() else 'cpu')\n",
    "if device.type == 'cuda':\n",
    "    print(torch.cuda.get_device_name(0))\n",
    "    print(f'Allocated Memory: {round(torch.cuda.memory_allocated(0)/1024**3,1)} GB')\n",
    "    print(f'Cached Memory: {round(torch.cuda.memory_reserved(0)/1024**3,1)} GB')\n",
    "print('Using device:', device)"
   ]
  },
  {
   "cell_type": "markdown",
   "metadata": {},
   "source": [
    "## Reading in data"
   ]
  },
  {
   "cell_type": "markdown",
   "metadata": {},
   "source": [
    "### Building catalog"
   ]
  },
  {
   "cell_type": "code",
   "execution_count": 13,
   "metadata": {},
   "outputs": [],
   "source": [
    "def get_file_paths(catalog_to_convert,folder_path):\n",
    "    brick_ids = catalog_to_convert['dr8_id'].str.split(\"_\",expand=True)[0]\n",
    "    dr8_ids = catalog_to_convert['dr8_id']\n",
    "    file_locations = folder_path+'/'+brick_ids+'/'+dr8_ids+'.jpg'\n",
    "    print(f\"Created {file_locations.shape[0]} galaxy filepaths\")\n",
    "    return file_locations\n",
    "\n",
    "def generate_transforms(resize_after_crop=IMG_SIZE):\n",
    "    transforms_to_apply = [\n",
    "        A.ToFloat(), #Converts from 0-255 to 0-1\n",
    "\n",
    "        A.Resize( #Resizes to 160x160\n",
    "            height=resize_after_crop,\n",
    "            width=resize_after_crop,\n",
    "            interpolation=1,\n",
    "            always_apply=True\n",
    "        ),\n",
    "\n",
    "        #A.randomrotate\n",
    "    ]\n",
    "    return A.Compose(transforms_to_apply)"
   ]
  },
  {
   "cell_type": "code",
   "execution_count": 14,
   "metadata": {},
   "outputs": [
    {
     "name": "stdout",
     "output_type": "stream",
     "text": [
      "Created 35988 galaxy filepaths\n",
      "Created 41737 galaxy filepaths\n"
     ]
    }
   ],
   "source": [
    "if MODE == modes.CUT_DATASET:\n",
    "    train_val_catalog = pd.read_csv(CUT_CATALOG_TRAIN_PATH)\n",
    "    train_val_catalog['file_loc'] = get_file_paths(train_val_catalog,FULL_DATA_PATH)\n",
    "    generator1 = torch.Generator().manual_seed(42) #Preset test-val split, note test dataloader will still shuffle\n",
    "    train_catalog, val_catalog = random_split(train_val_catalog, [0.20,0.80], generator=generator1)\n",
    "    train_catalog = train_catalog.dataset.iloc[train_catalog.indices]\n",
    "    val_catalog = val_catalog.dataset.iloc[val_catalog.indices]   \n",
    "    test_catalog = pd.read_csv(CUT_CATALOG_TEST_PATH)\n",
    "    test_catalog['file_loc'] = get_file_paths(test_catalog,FULL_DATA_PATH)\n",
    "\n",
    "    datamodule = GalaxyDataModule(\n",
    "        label_cols=['P_CW','P_ACW','P_OTHER'],\n",
    "        train_catalog=train_catalog, val_catalog=train_catalog, test_catalog=test_catalog,\n",
    "        custom_albumentation_transform=generate_transforms(),\n",
    "        batch_size=200,\n",
    "        num_workers=11,\n",
    "    )\n",
    "    \n",
    "else:\n",
    "    if MODE == modes.FULL_DATASET:\n",
    "        catalog = pd.read_csv(FULL_CATALOG_PATH)\n",
    "        catalog['file_loc'] = get_file_paths(catalog,FULL_DATA_PATH)\n",
    "\n",
    "    elif MODE == modes.BEST_SUBSET:\n",
    "        catalog = pd.read_csv(BEST_SUBSET_CATALOG_PATH)\n",
    "        catalog['file_loc'] = get_file_paths(catalog,FULL_DATA_PATH)\n",
    "\n",
    "    elif MODE == modes.LOCAL_SUBSET:\n",
    "        catalog = pd.read_csv(LOCAL_SUBSET_CATALOG_PATH)\n",
    "        catalog['file_loc'] = get_file_paths(catalog,LOCAL_SUBSET_DATA_PATH)\n",
    "\n",
    "    datamodule = GalaxyDataModule(\n",
    "        label_cols=['P_CW','P_ACW','P_OTHER'],\n",
    "        catalog=catalog,\n",
    "        train_fraction=0.7, val_fraction=0.15, test_fraction=0.15,\n",
    "        custom_albumentation_transform=generate_transforms(),\n",
    "        batch_size=100,\n",
    "        num_workers=11,\n",
    "    )"
   ]
  },
  {
   "cell_type": "markdown",
   "metadata": {},
   "source": [
    "## Code to run"
   ]
  },
  {
   "cell_type": "code",
   "execution_count": 15,
   "metadata": {},
   "outputs": [],
   "source": [
    "datamodule.prepare_data()\n",
    "datamodule.setup()"
   ]
  },
  {
   "cell_type": "code",
   "execution_count": 16,
   "metadata": {},
   "outputs": [
    {
     "name": "stderr",
     "output_type": "stream",
     "text": [
      "/share/nas2/npower/miniconda3/envs/mphys-galaxy/lib/python3.11/site-packages/lightning/fabric/plugins/environments/slurm.py:168: PossibleUserWarning: The `srun` command is available on your system but is not used. HINT: If your intention is to run Lightning on SLURM, prepend your python command with `srun` like so: srun python /share/nas2/npower/miniconda3/envs/mphys-galaxy/lib/ ...\n",
      "  rank_zero_warn(\n",
      "GPU available: True (cuda), used: True\n",
      "TPU available: False, using: 0 TPU cores\n",
      "IPU available: False, using: 0 IPUs\n",
      "HPU available: False, using: 0 HPUs\n"
     ]
    }
   ],
   "source": [
    "model = ChiralityClassifier(\n",
    "    num_classes=(2 if (MODEL_NAME==\"jiaresnet50\") else 3), #2 for Jia et al version\n",
    "    model_version=MODEL_NAME,\n",
    "    optimizer=\"adamw\",\n",
    "    scheduler  =\"steplr\",\n",
    "    lr=0.0001,\n",
    "    weight_decay=0,\n",
    "    step_size=5,\n",
    "    gamma=0.85,\n",
    "    batch_size=60,\n",
    "    weights=None,\n",
    "    model_save_path=f\"{MODEL_SAVE_PATH}/{MODEL_ID}.pt\",\n",
    "    graph_save_path=f\"{GRAPH_SAVE_PATH}/{MODEL_ID}_matrix.png\"\n",
    ")\n",
    "\n",
    "#stopping_callback = EarlyStopping(monitor=\"val_loss\", mode=\"min\")\n",
    "\n",
    "tb_logger = TensorBoardLogger(LOG_PATH, name=MODEL_ID,version=0)\n",
    "csv_logger = CSVLogger(LOG_PATH,name=MODEL_ID,version=0)\n",
    "\n",
    "trainer = pl.Trainer(\n",
    "    accelerator=(\"gpu\" if device.type==\"cuda\" else \"cpu\"),\n",
    "    max_epochs=60,\n",
    "    devices=1,\n",
    "    logger=([tb_logger,csv_logger] if USE_TENSORBOARD else csv_logger),\n",
    "    default_root_dir=f'{LOG_PATH}/{MODEL_ID}',\n",
    "    profiler=\"pytorch\"\n",
    "    #callbacks=[stopping_callback]\n",
    ")"
   ]
  },
  {
   "cell_type": "code",
   "execution_count": 17,
   "metadata": {},
   "outputs": [
    {
     "name": "stderr",
     "output_type": "stream",
     "text": [
      "/share/nas2/npower/miniconda3/envs/mphys-galaxy/lib/python3.11/site-packages/lightning_fabric/loggers/csv_logs.py:186: UserWarning: Experiment logs directory ../Code/lightning_logs/resnet18_cut_dataset_2/version_0 exists and is not empty. Previous log files in this directory will be deleted when the new ones are saved!\n",
      "  rank_zero_warn(\n",
      "LOCAL_RANK: 0 - CUDA_VISIBLE_DEVICES: [0,1]\n",
      "\n",
      "  | Name    | Type             | Params\n",
      "---------------------------------------------\n",
      "0 | loss_fn | CrossEntropyLoss | 0     \n",
      "1 | model   | ResNet           | 11.2 M\n",
      "---------------------------------------------\n",
      "11.2 M    Trainable params\n",
      "0         Non-trainable params\n",
      "11.2 M    Total params\n",
      "44.712    Total estimated model params size (MB)\n"
     ]
    },
    {
     "name": "stdout",
     "output_type": "stream",
     "text": [
      "Sanity Checking: 0it [00:00, ?it/s]"
     ]
    },
    {
     "name": "stdout",
     "output_type": "stream",
     "text": [
      "                                                                           "
     ]
    },
    {
     "name": "stderr",
     "output_type": "stream",
     "text": [
      "STAGE:2024-03-12 11:52:13 46460:46460 ActivityProfilerController.cpp:314] Completed Stage: Warm Up\n",
      "/share/nas2/npower/miniconda3/envs/mphys-galaxy/lib/python3.11/site-packages/lightning/pytorch/loops/fit_loop.py:281: PossibleUserWarning: The number of training batches (36) is smaller than the logging interval Trainer(log_every_n_steps=50). Set a lower value for log_every_n_steps if you want to see logs for the training epoch.\n",
      "  rank_zero_warn(\n"
     ]
    },
    {
     "name": "stdout",
     "output_type": "stream",
     "text": [
      "Epoch 0:  11%|█         | 4/36 [00:04<00:34,  1.09s/it, v_num=0, train_loss_step=1.020, train_acc_step=0.545, train_calibration_error_step=0.058] "
     ]
    },
    {
     "name": "stderr",
     "output_type": "stream",
     "text": [
      "STAGE:2024-03-12 11:52:17 46460:46460 ActivityProfilerController.cpp:320] Completed Stage: Collection\n",
      "STAGE:2024-03-12 11:52:17 46460:46460 ActivityProfilerController.cpp:324] Completed Stage: Post Processing\n",
      "[W collection.cpp:602] Warning: Optimizer.step#AdamW.step (function operator())\n",
      "[W collection.cpp:602] Warning: [pl][profile][LightningModule]ChiralityClassifier.optimizer_step (function operator())\n"
     ]
    },
    {
     "name": "stdout",
     "output_type": "stream",
     "text": [
      "Epoch 0: 100%|██████████| 36/36 [00:09<00:00,  3.62it/s, v_num=0, train_loss_step=0.886, train_acc_step=0.652, train_calibration_error_step=0.0697] "
     ]
    },
    {
     "name": "stderr",
     "output_type": "stream",
     "text": [
      "STAGE:2024-03-12 11:52:25 46460:46460 ActivityProfilerController.cpp:314] Completed Stage: Warm Up\n",
      "STAGE:2024-03-12 11:52:25 46460:46460 ActivityProfilerController.cpp:320] Completed Stage: Collection\n",
      "STAGE:2024-03-12 11:52:25 46460:46460 ActivityProfilerController.cpp:324] Completed Stage: Post Processing\n"
     ]
    },
    {
     "name": "stdout",
     "output_type": "stream",
     "text": [
      "Epoch 9: 100%|██████████| 36/36 [00:13<00:00,  2.63it/s, v_num=0, train_loss_step=0.523, train_acc_step=0.949, train_calibration_error_step=0.187, val_acc=0.906, val_calibration_error=0.130, train_loss_epoch=0.550, train_acc_epoch=0.924, train_calibration_error_epoch=0.166]  "
     ]
    },
    {
     "name": "stderr",
     "output_type": "stream",
     "text": [
      "`Trainer.fit` stopped: `max_epochs=10` reached.\n"
     ]
    },
    {
     "name": "stdout",
     "output_type": "stream",
     "text": [
      "Epoch 9: 100%|██████████| 36/36 [00:15<00:00,  2.37it/s, v_num=0, train_loss_step=0.523, train_acc_step=0.949, train_calibration_error_step=0.187, val_acc=0.906, val_calibration_error=0.130, train_loss_epoch=0.550, train_acc_epoch=0.924, train_calibration_error_epoch=0.166]\n"
     ]
    },
    {
     "name": "stderr",
     "output_type": "stream",
     "text": [
      "FIT Profiler Report\n",
      "Profile stats for: records\n",
      "-------------------------------------------------------  ------------  ------------  ------------  ------------  ------------  ------------  ------------  ------------  ------------  ------------  \n",
      "                                                   Name    Self CPU %      Self CPU   CPU total %     CPU total  CPU time avg     Self CUDA   Self CUDA %    CUDA total  CUDA time avg    # of Calls  \n",
      "-------------------------------------------------------  ------------  ------------  ------------  ------------  ------------  ------------  ------------  ------------  ------------  ------------  \n",
      "                                          ProfilerStep*         2.25%       4.174ms        99.95%     185.281ms      92.641ms       0.000us         0.00%      66.159ms      33.080ms             2  \n",
      "                [pl][profile][_EvaluationLoop].val_next         0.15%     274.000us        49.69%      92.110ms      46.055ms       0.000us         0.00%       0.000us       0.000us             2  \n",
      "enumerate(DataLoader)#_MultiProcessingDataLoaderIter...        49.49%      91.751ms        49.54%      91.836ms      45.918ms       0.000us         0.00%       0.000us       0.000us             2  \n",
      "[pl][profile][Strategy]SingleDeviceStrategy.validati...         2.87%       5.315ms        40.71%      75.462ms      37.731ms       0.000us         0.00%      54.846ms      27.423ms             2  \n",
      "    [pl][module]torchvision.models.resnet.ResNet: model         0.75%       1.389ms        28.96%      53.693ms      26.846ms       0.000us         0.00%      54.136ms      27.068ms             2  \n",
      "                                           aten::conv2d         0.14%     264.000us        10.51%      19.487ms     487.175us       0.000us         0.00%      42.225ms       1.056ms            40  \n",
      "                                      aten::convolution         0.23%     425.000us        10.37%      19.223ms     480.575us       0.000us         0.00%      42.225ms       1.056ms            40  \n",
      "                                     aten::_convolution         0.32%     602.000us        10.14%      18.798ms     469.950us       0.000us         0.00%      42.225ms       1.056ms            40  \n",
      "                                aten::cudnn_convolution         4.70%       8.707ms         9.82%      18.196ms     454.900us      42.225ms        63.82%      42.225ms       1.056ms            40  \n",
      "                                       cudaLaunchKernel         7.26%      13.457ms         7.26%      13.457ms      20.896us       0.000us         0.00%       0.000us       0.000us           644  \n",
      "[pl][module]torch.nn.modules.container.Sequential: m...         0.13%     249.000us         5.82%      10.785ms       5.393ms       0.000us         0.00%       5.110ms       2.555ms             2  \n",
      "[pl][module]torch.nn.modules.conv.Conv2d: model.conv...         0.53%     989.000us         5.57%      10.334ms       5.167ms       0.000us         0.00%      25.248ms      12.624ms             2  \n",
      "[pl][module]torch.nn.modules.container.Sequential: m...         0.16%     289.000us         5.24%       9.705ms       4.853ms       0.000us         0.00%       9.156ms       4.578ms             2  \n",
      "[pl][module]torch.nn.modules.container.Sequential: m...         0.15%     278.000us         5.07%       9.396ms       4.698ms       0.000us         0.00%       4.542ms       2.271ms             2  \n",
      "[pl][module]torch.nn.modules.container.Sequential: m...         0.13%     250.000us         5.06%       9.377ms       4.689ms       0.000us         0.00%       5.939ms       2.970ms             2  \n",
      "[pl][profile][Callback]TQDMProgressBar.on_validation...         4.30%       7.974ms         4.30%       7.974ms       3.987ms       0.000us         0.00%       0.000us       0.000us             2  \n",
      "                                       aten::batch_norm         0.14%     268.000us         4.10%       7.596ms     189.900us       0.000us         0.00%       5.792ms     144.800us            40  \n",
      "                           aten::_batch_norm_impl_index         0.21%     395.000us         3.95%       7.328ms     183.200us       0.000us         0.00%       5.792ms     144.800us            40  \n",
      "                                         aten::_unique2         1.47%       2.722ms         3.80%       7.051ms       3.526ms      88.000us         0.13%      94.000us      47.000us             2  \n",
      "                                 aten::cudnn_batch_norm         1.51%       2.807ms         3.74%       6.933ms     173.325us       5.792ms         8.75%       5.792ms     144.800us            40  \n",
      "-------------------------------------------------------  ------------  ------------  ------------  ------------  ------------  ------------  ------------  ------------  ------------  ------------  \n",
      "Self CPU time total: 185.376ms\n",
      "Self CUDA time total: 66.159ms\n",
      "\n",
      "LOCAL_RANK: 0 - CUDA_VISIBLE_DEVICES: [0,1]\n"
     ]
    },
    {
     "name": "stdout",
     "output_type": "stream",
     "text": [
      "Testing DataLoader 0:  11%|█         | 4/36 [00:00<00:02, 14.91it/s]"
     ]
    },
    {
     "name": "stderr",
     "output_type": "stream",
     "text": [
      "STAGE:2024-03-12 11:54:52 46460:46460 ActivityProfilerController.cpp:314] Completed Stage: Warm Up\n",
      "STAGE:2024-03-12 11:54:52 46460:46460 ActivityProfilerController.cpp:320] Completed Stage: Collection\n",
      "STAGE:2024-03-12 11:54:52 46460:46460 ActivityProfilerController.cpp:324] Completed Stage: Post Processing\n"
     ]
    },
    {
     "name": "stdout",
     "output_type": "stream",
     "text": [
      "Testing DataLoader 0: 100%|██████████| 36/36 [00:05<00:00,  7.19it/s]\n"
     ]
    },
    {
     "data": {
      "text/html": [
       "<pre style=\"white-space:pre;overflow-x:auto;line-height:normal;font-family:Menlo,'DejaVu Sans Mono',consolas,'Courier New',monospace\">┏━━━━━━━━━━━━━━━━━━━━━━━━━━━┳━━━━━━━━━━━━━━━━━━━━━━━━━━━┓\n",
       "┃<span style=\"font-weight: bold\">   Runningstage.testing    </span>┃<span style=\"font-weight: bold\">                           </span>┃\n",
       "┃<span style=\"font-weight: bold\">          metric           </span>┃<span style=\"font-weight: bold\">       DataLoader 0        </span>┃\n",
       "┡━━━━━━━━━━━━━━━━━━━━━━━━━━━╇━━━━━━━━━━━━━━━━━━━━━━━━━━━┩\n",
       "│<span style=\"color: #008080; text-decoration-color: #008080\">         test_acc          </span>│<span style=\"color: #800080; text-decoration-color: #800080\">    0.9058071970939636     </span>│\n",
       "│<span style=\"color: #008080; text-decoration-color: #008080\">  test_calibration_error   </span>│<span style=\"color: #800080; text-decoration-color: #800080\">    0.1300395429134369     </span>│\n",
       "│<span style=\"color: #008080; text-decoration-color: #008080\">         test_loss         </span>│<span style=\"color: #800080; text-decoration-color: #800080\">    0.5660092234611511     </span>│\n",
       "└───────────────────────────┴───────────────────────────┘\n",
       "</pre>\n"
      ],
      "text/plain": [
       "┏━━━━━━━━━━━━━━━━━━━━━━━━━━━┳━━━━━━━━━━━━━━━━━━━━━━━━━━━┓\n",
       "┃\u001b[1m \u001b[0m\u001b[1m  Runningstage.testing   \u001b[0m\u001b[1m \u001b[0m┃\u001b[1m                           \u001b[0m┃\n",
       "┃\u001b[1m \u001b[0m\u001b[1m         metric          \u001b[0m\u001b[1m \u001b[0m┃\u001b[1m \u001b[0m\u001b[1m      DataLoader 0       \u001b[0m\u001b[1m \u001b[0m┃\n",
       "┡━━━━━━━━━━━━━━━━━━━━━━━━━━━╇━━━━━━━━━━━━━━━━━━━━━━━━━━━┩\n",
       "│\u001b[36m \u001b[0m\u001b[36m        test_acc         \u001b[0m\u001b[36m \u001b[0m│\u001b[35m \u001b[0m\u001b[35m   0.9058071970939636    \u001b[0m\u001b[35m \u001b[0m│\n",
       "│\u001b[36m \u001b[0m\u001b[36m test_calibration_error  \u001b[0m\u001b[36m \u001b[0m│\u001b[35m \u001b[0m\u001b[35m   0.1300395429134369    \u001b[0m\u001b[35m \u001b[0m│\n",
       "│\u001b[36m \u001b[0m\u001b[36m        test_loss        \u001b[0m\u001b[36m \u001b[0m│\u001b[35m \u001b[0m\u001b[35m   0.5660092234611511    \u001b[0m\u001b[35m \u001b[0m│\n",
       "└───────────────────────────┴───────────────────────────┘\n"
      ]
     },
     "metadata": {},
     "output_type": "display_data"
    },
    {
     "name": "stderr",
     "output_type": "stream",
     "text": [
      "TEST Profiler Report\n",
      "Profile stats for: records\n",
      "-------------------------------------------------------  ------------  ------------  ------------  ------------  ------------  ------------  ------------  ------------  ------------  ------------  \n",
      "                                                   Name    Self CPU %      Self CPU   CPU total %     CPU total  CPU time avg     Self CUDA   Self CUDA %    CUDA total  CUDA time avg    # of Calls  \n",
      "-------------------------------------------------------  ------------  ------------  ------------  ------------  ------------  ------------  ------------  ------------  ------------  ------------  \n",
      "                                          ProfilerStep*         2.16%       3.908ms        99.85%     180.424ms      60.141ms       0.000us         0.00%     148.388ms      49.463ms             3  \n",
      "[pl][profile][Strategy]SingleDeviceStrategy.test_ste...         4.80%       8.682ms        93.77%     169.438ms      56.479ms       0.000us         0.00%     132.027ms      44.009ms             3  \n",
      "    [pl][module]torchvision.models.resnet.ResNet: model         2.69%       4.854ms        80.98%     146.322ms      24.387ms       0.000us         0.00%     131.306ms      21.884ms             6  \n",
      "                                           aten::conv2d         0.41%     744.000us        28.87%      52.161ms     434.675us       0.000us         0.00%     101.464ms     845.533us           120  \n",
      "                                      aten::convolution         0.46%     825.000us        28.46%      51.417ms     428.475us       0.000us         0.00%     101.464ms     845.533us           120  \n",
      "                                     aten::_convolution         0.97%       1.748ms        28.00%      50.592ms     421.600us       0.000us         0.00%     101.464ms     845.533us           120  \n",
      "                                aten::cudnn_convolution        13.06%      23.599ms        27.03%      48.844ms     407.033us     101.464ms        68.38%     101.464ms     845.533us           120  \n",
      "                                       cudaLaunchKernel        18.26%      33.003ms        18.26%      33.003ms      18.614us       0.000us         0.00%       0.000us       0.000us          1773  \n",
      "[pl][module]torch.nn.modules.container.Sequential: m...         0.45%     810.000us        17.16%      31.008ms       5.168ms       0.000us         0.00%      10.051ms       1.675ms             6  \n",
      "[pl][module]torch.nn.modules.conv.Conv2d: model.conv...         0.64%       1.161ms        15.80%      28.556ms       4.759ms       0.000us         0.00%      62.252ms      10.375ms             6  \n",
      "[pl][module]torch.nn.modules.container.Sequential: m...         0.42%     755.000us        14.83%      26.803ms       4.467ms       0.000us         0.00%      10.183ms       1.697ms             6  \n",
      "[pl][module]torch.nn.modules.container.Sequential: m...         0.40%     729.000us        13.94%      25.196ms       4.199ms       0.000us         0.00%      15.016ms       2.503ms             6  \n",
      "[pl][module]torch.nn.modules.container.Sequential: m...         0.39%     705.000us        11.94%      21.584ms       3.597ms       0.000us         0.00%      23.481ms       3.913ms             6  \n",
      "                                       aten::batch_norm         0.76%       1.365ms        11.87%      21.446ms     178.717us       0.000us         0.00%      13.664ms     113.867us           120  \n",
      "                           aten::_batch_norm_impl_index         0.60%       1.093ms        11.11%      20.081ms     167.342us       0.000us         0.00%      13.664ms     113.867us           120  \n",
      "                                 aten::cudnn_batch_norm         4.22%       7.622ms        10.51%      18.988ms     158.233us      13.664ms         9.21%      13.664ms     113.867us           120  \n",
      "[pl][module]torchvision.models.resnet.BasicBlock: mo...         1.40%       2.529ms         8.58%      15.510ms       2.585ms       0.000us         0.00%       5.309ms     884.833us             6  \n",
      "[pl][module]torchvision.models.resnet.BasicBlock: mo...         1.18%       2.140ms         8.13%      14.688ms       2.448ms       0.000us         0.00%       4.742ms     790.333us             6  \n",
      "[pl][module]torchvision.models.resnet.BasicBlock: mo...         1.28%       2.307ms         8.08%      14.596ms       2.433ms       0.000us         0.00%       8.180ms       1.363ms             6  \n",
      "[pl][module]torchvision.models.resnet.BasicBlock: mo...         1.29%       2.336ms         7.88%      14.230ms       2.372ms       0.000us         0.00%       5.413ms     902.167us             6  \n",
      "-------------------------------------------------------  ------------  ------------  ------------  ------------  ------------  ------------  ------------  ------------  ------------  ------------  \n",
      "Self CPU time total: 180.695ms\n",
      "Self CUDA time total: 148.388ms\n",
      "\n"
     ]
    },
    {
     "data": {
      "image/png": "[encoded data removed]",
      "text/plain": [
       "<Figure size 640x480 with 1 Axes>"
      ]
     },
     "metadata": {},
     "output_type": "display_data"
    }
   ],
   "source": [
    "#compiled_model = torch.compile(model, backend=\"eager\")\n",
    "trainer.fit(model,train_dataloaders=datamodule.train_dataloader(),val_dataloaders=datamodule.val_dataloader() )\n",
    "\n",
    "if RUN_TEST:\n",
    "    trainer.test(model,dataloaders=datamodule.test_dataloader())\n",
    "else:\n",
    "    trainer.test(model,dataloaders=datamodule.val_dataloader())\n",
    "    \n",
    "torch.save(trainer.model.state_dict(), model.model_save_path)"
   ]
  }
 ],
 "metadata": {
  "kernelspec": {
   "display_name": "mphys-galaxy",
   "language": "python",
   "name": "python3"
  },
  "language_info": {
   "codemirror_mode": {
    "name": "ipython",
    "version": 3
   },
   "file_extension": ".py",
   "mimetype": "text/x-python",
   "name": "python",
   "nbconvert_exporter": "python",
   "pygments_lexer": "ipython3",
   "version": "3.11.5"
  }
 },
 "nbformat": 4,
 "nbformat_minor": 2
}

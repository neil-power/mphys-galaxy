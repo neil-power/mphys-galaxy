{
 "cells": [
  {
   "cell_type": "markdown",
   "metadata": {},
   "source": [
    "## SDSS Astroquery Batch\n",
    "\n",
    "Batch runs through the images used in the GZ1 (SDSS DR7) dataset and returns half-light radii etc for data cuts"
   ]
  },
  {
   "cell_type": "code",
   "execution_count": 13,
   "metadata": {},
   "outputs": [],
   "source": [
    "import numpy as np\n",
    "import pandas as pd\n",
    "import time\n",
    "import math\n",
    "import os\n",
    "import random\n",
    "import astropy.units as u\n",
    "from astroquery.sdss import SDSS\n",
    "from astropy.coordinates import SkyCoord"
   ]
  },
  {
   "cell_type": "code",
   "execution_count": 14,
   "metadata": {},
   "outputs": [],
   "source": [
    "CATALOG_PATH = '../Data/gz1_desi_cross_cat.csv'\n",
    "OUTPUT_PATH = '../Data/gz1_desi_cross_cat_queried.csv'\n",
    "RADIUS = \"1 arcsec\"\n",
    "catalog = pd.read_csv(CATALOG_PATH)"
   ]
  },
  {
   "cell_type": "code",
   "execution_count": 15,
   "metadata": {},
   "outputs": [
    {
     "name": "stdout",
     "output_type": "stream",
     "text": [
      "Processing batch 0\n"
     ]
    },
    {
     "name": "stderr",
     "output_type": "stream",
     "text": [
      "WARNING: Field info are not available for this data release [astroquery.sdss.field_names]\n",
      "WARNING: Field info are not available for this data release [astroquery.sdss.field_names]\n"
     ]
    },
    {
     "name": "stdout",
     "output_type": "stream",
     "text": [
      "Processing batch 1\n"
     ]
    },
    {
     "name": "stderr",
     "output_type": "stream",
     "text": [
      "WARNING: Field info are not available for this data release [astroquery.sdss.field_names]\n",
      "WARNING: Field info are not available for this data release [astroquery.sdss.field_names]\n"
     ]
    },
    {
     "name": "stdout",
     "output_type": "stream",
     "text": [
      "Processing batch 2\n"
     ]
    },
    {
     "name": "stderr",
     "output_type": "stream",
     "text": [
      "WARNING: Field info are not available for this data release [astroquery.sdss.field_names]\n",
      "WARNING: Field info are not available for this data release [astroquery.sdss.field_names]\n"
     ]
    },
    {
     "name": "stdout",
     "output_type": "stream",
     "text": [
      "Processing batch 3\n"
     ]
    },
    {
     "name": "stderr",
     "output_type": "stream",
     "text": [
      "WARNING: Field info are not available for this data release [astroquery.sdss.field_names]\n",
      "WARNING: Field info are not available for this data release [astroquery.sdss.field_names]\n"
     ]
    },
    {
     "name": "stdout",
     "output_type": "stream",
     "text": [
      "Processing batch 4\n"
     ]
    },
    {
     "name": "stderr",
     "output_type": "stream",
     "text": [
      "WARNING: Field info are not available for this data release [astroquery.sdss.field_names]\n",
      "WARNING: Field info are not available for this data release [astroquery.sdss.field_names]\n"
     ]
    },
    {
     "name": "stdout",
     "output_type": "stream",
     "text": [
      "Processing batch 5\n"
     ]
    },
    {
     "name": "stderr",
     "output_type": "stream",
     "text": [
      "WARNING: Field info are not available for this data release [astroquery.sdss.field_names]\n",
      "WARNING: Field info are not available for this data release [astroquery.sdss.field_names]\n"
     ]
    },
    {
     "name": "stdout",
     "output_type": "stream",
     "text": [
      "Processing batch 6\n"
     ]
    },
    {
     "name": "stderr",
     "output_type": "stream",
     "text": [
      "WARNING: Field info are not available for this data release [astroquery.sdss.field_names]\n",
      "WARNING: Field info are not available for this data release [astroquery.sdss.field_names]\n"
     ]
    },
    {
     "name": "stdout",
     "output_type": "stream",
     "text": [
      "Processing batch 7\n"
     ]
    },
    {
     "name": "stderr",
     "output_type": "stream",
     "text": [
      "WARNING: Field info are not available for this data release [astroquery.sdss.field_names]\n",
      "WARNING: Field info are not available for this data release [astroquery.sdss.field_names]\n"
     ]
    },
    {
     "name": "stdout",
     "output_type": "stream",
     "text": [
      "Processing batch 8\n"
     ]
    },
    {
     "name": "stderr",
     "output_type": "stream",
     "text": [
      "WARNING: Field info are not available for this data release [astroquery.sdss.field_names]\n",
      "WARNING: Field info are not available for this data release [astroquery.sdss.field_names]\n"
     ]
    },
    {
     "name": "stdout",
     "output_type": "stream",
     "text": [
      "Processing batch 9\n"
     ]
    },
    {
     "name": "stderr",
     "output_type": "stream",
     "text": [
      "WARNING: Field info are not available for this data release [astroquery.sdss.field_names]\n",
      "WARNING: Field info are not available for this data release [astroquery.sdss.field_names]\n"
     ]
    },
    {
     "name": "stdout",
     "output_type": "stream",
     "text": [
      "Processing batch 10\n"
     ]
    },
    {
     "name": "stderr",
     "output_type": "stream",
     "text": [
      "WARNING: Field info are not available for this data release [astroquery.sdss.field_names]\n",
      "WARNING: Field info are not available for this data release [astroquery.sdss.field_names]\n"
     ]
    },
    {
     "name": "stdout",
     "output_type": "stream",
     "text": [
      "Processing batch 11\n"
     ]
    },
    {
     "name": "stderr",
     "output_type": "stream",
     "text": [
      "WARNING: Field info are not available for this data release [astroquery.sdss.field_names]\n",
      "WARNING: Field info are not available for this data release [astroquery.sdss.field_names]\n"
     ]
    },
    {
     "name": "stdout",
     "output_type": "stream",
     "text": [
      "Processing batch 12\n"
     ]
    },
    {
     "name": "stderr",
     "output_type": "stream",
     "text": [
      "WARNING: Field info are not available for this data release [astroquery.sdss.field_names]\n",
      "WARNING: Field info are not available for this data release [astroquery.sdss.field_names]\n"
     ]
    },
    {
     "name": "stdout",
     "output_type": "stream",
     "text": [
      "Processing batch 13\n"
     ]
    },
    {
     "name": "stderr",
     "output_type": "stream",
     "text": [
      "WARNING: Field info are not available for this data release [astroquery.sdss.field_names]\n",
      "WARNING: Field info are not available for this data release [astroquery.sdss.field_names]\n"
     ]
    },
    {
     "name": "stdout",
     "output_type": "stream",
     "text": [
      "Processing batch 14\n"
     ]
    },
    {
     "name": "stderr",
     "output_type": "stream",
     "text": [
      "WARNING: Field info are not available for this data release [astroquery.sdss.field_names]\n",
      "WARNING: Field info are not available for this data release [astroquery.sdss.field_names]\n"
     ]
    },
    {
     "name": "stdout",
     "output_type": "stream",
     "text": [
      "Processing batch 15\n"
     ]
    },
    {
     "name": "stderr",
     "output_type": "stream",
     "text": [
      "WARNING: Field info are not available for this data release [astroquery.sdss.field_names]\n",
      "WARNING: Field info are not available for this data release [astroquery.sdss.field_names]\n"
     ]
    },
    {
     "name": "stdout",
     "output_type": "stream",
     "text": [
      "Processing batch 16\n"
     ]
    },
    {
     "name": "stderr",
     "output_type": "stream",
     "text": [
      "WARNING: Field info are not available for this data release [astroquery.sdss.field_names]\n",
      "WARNING: Field info are not available for this data release [astroquery.sdss.field_names]\n"
     ]
    },
    {
     "name": "stdout",
     "output_type": "stream",
     "text": [
      "Processing batch 17\n"
     ]
    },
    {
     "name": "stderr",
     "output_type": "stream",
     "text": [
      "WARNING: Field info are not available for this data release [astroquery.sdss.field_names]\n",
      "WARNING: Field info are not available for this data release [astroquery.sdss.field_names]\n"
     ]
    },
    {
     "name": "stdout",
     "output_type": "stream",
     "text": [
      "Processing batch 18\n"
     ]
    },
    {
     "name": "stderr",
     "output_type": "stream",
     "text": [
      "WARNING: Field info are not available for this data release [astroquery.sdss.field_names]\n",
      "WARNING: Field info are not available for this data release [astroquery.sdss.field_names]\n"
     ]
    },
    {
     "name": "stdout",
     "output_type": "stream",
     "text": [
      "Processing batch 19\n"
     ]
    },
    {
     "name": "stderr",
     "output_type": "stream",
     "text": [
      "WARNING: Field info are not available for this data release [astroquery.sdss.field_names]\n",
      "WARNING: Field info are not available for this data release [astroquery.sdss.field_names]\n"
     ]
    },
    {
     "name": "stdout",
     "output_type": "stream",
     "text": [
      "Processing batch 20\n"
     ]
    },
    {
     "name": "stderr",
     "output_type": "stream",
     "text": [
      "WARNING: Field info are not available for this data release [astroquery.sdss.field_names]\n",
      "WARNING: Field info are not available for this data release [astroquery.sdss.field_names]\n"
     ]
    },
    {
     "name": "stdout",
     "output_type": "stream",
     "text": [
      "Processing batch 21\n"
     ]
    },
    {
     "name": "stderr",
     "output_type": "stream",
     "text": [
      "WARNING: Field info are not available for this data release [astroquery.sdss.field_names]\n",
      "WARNING: Field info are not available for this data release [astroquery.sdss.field_names]\n"
     ]
    },
    {
     "name": "stdout",
     "output_type": "stream",
     "text": [
      "Processing batch 22\n"
     ]
    },
    {
     "name": "stderr",
     "output_type": "stream",
     "text": [
      "WARNING: Field info are not available for this data release [astroquery.sdss.field_names]\n",
      "WARNING: Field info are not available for this data release [astroquery.sdss.field_names]\n"
     ]
    },
    {
     "name": "stdout",
     "output_type": "stream",
     "text": [
      "Processing batch 23\n"
     ]
    },
    {
     "name": "stderr",
     "output_type": "stream",
     "text": [
      "WARNING: Field info are not available for this data release [astroquery.sdss.field_names]\n",
      "WARNING: Field info are not available for this data release [astroquery.sdss.field_names]\n"
     ]
    },
    {
     "name": "stdout",
     "output_type": "stream",
     "text": [
      "Processing batch 24\n"
     ]
    },
    {
     "name": "stderr",
     "output_type": "stream",
     "text": [
      "WARNING: Field info are not available for this data release [astroquery.sdss.field_names]\n",
      "WARNING: Field info are not available for this data release [astroquery.sdss.field_names]\n"
     ]
    },
    {
     "name": "stdout",
     "output_type": "stream",
     "text": [
      "Processing batch 25\n"
     ]
    },
    {
     "name": "stderr",
     "output_type": "stream",
     "text": [
      "WARNING: Field info are not available for this data release [astroquery.sdss.field_names]\n",
      "WARNING: Field info are not available for this data release [astroquery.sdss.field_names]\n"
     ]
    },
    {
     "name": "stdout",
     "output_type": "stream",
     "text": [
      "Processing batch 26\n"
     ]
    },
    {
     "name": "stderr",
     "output_type": "stream",
     "text": [
      "WARNING: Field info are not available for this data release [astroquery.sdss.field_names]\n",
      "WARNING: Field info are not available for this data release [astroquery.sdss.field_names]\n"
     ]
    },
    {
     "name": "stdout",
     "output_type": "stream",
     "text": [
      "Processing batch 27\n"
     ]
    },
    {
     "name": "stderr",
     "output_type": "stream",
     "text": [
      "WARNING: Field info are not available for this data release [astroquery.sdss.field_names]\n",
      "WARNING: Field info are not available for this data release [astroquery.sdss.field_names]\n"
     ]
    },
    {
     "name": "stdout",
     "output_type": "stream",
     "text": [
      "Processing batch 28\n"
     ]
    },
    {
     "name": "stderr",
     "output_type": "stream",
     "text": [
      "WARNING: Field info are not available for this data release [astroquery.sdss.field_names]\n",
      "WARNING: Field info are not available for this data release [astroquery.sdss.field_names]\n"
     ]
    },
    {
     "name": "stdout",
     "output_type": "stream",
     "text": [
      "Processing batch 29\n"
     ]
    },
    {
     "name": "stderr",
     "output_type": "stream",
     "text": [
      "WARNING: Field info are not available for this data release [astroquery.sdss.field_names]\n",
      "WARNING: Field info are not available for this data release [astroquery.sdss.field_names]\n"
     ]
    },
    {
     "name": "stdout",
     "output_type": "stream",
     "text": [
      "Processing batch 30\n"
     ]
    },
    {
     "name": "stderr",
     "output_type": "stream",
     "text": [
      "WARNING: Field info are not available for this data release [astroquery.sdss.field_names]\n",
      "WARNING: Field info are not available for this data release [astroquery.sdss.field_names]\n"
     ]
    },
    {
     "name": "stdout",
     "output_type": "stream",
     "text": [
      "Processing batch 31\n"
     ]
    },
    {
     "name": "stderr",
     "output_type": "stream",
     "text": [
      "WARNING: Field info are not available for this data release [astroquery.sdss.field_names]\n",
      "WARNING: Field info are not available for this data release [astroquery.sdss.field_names]\n"
     ]
    },
    {
     "name": "stdout",
     "output_type": "stream",
     "text": [
      "Processing batch 32\n"
     ]
    },
    {
     "name": "stderr",
     "output_type": "stream",
     "text": [
      "WARNING: Field info are not available for this data release [astroquery.sdss.field_names]\n",
      "WARNING: Field info are not available for this data release [astroquery.sdss.field_names]\n"
     ]
    },
    {
     "name": "stdout",
     "output_type": "stream",
     "text": [
      "Processing batch 33\n"
     ]
    },
    {
     "name": "stderr",
     "output_type": "stream",
     "text": [
      "WARNING: Field info are not available for this data release [astroquery.sdss.field_names]\n",
      "WARNING: Field info are not available for this data release [astroquery.sdss.field_names]\n"
     ]
    },
    {
     "name": "stdout",
     "output_type": "stream",
     "text": [
      "Processing batch 34\n"
     ]
    },
    {
     "name": "stderr",
     "output_type": "stream",
     "text": [
      "WARNING: Field info are not available for this data release [astroquery.sdss.field_names]\n",
      "WARNING: Field info are not available for this data release [astroquery.sdss.field_names]\n"
     ]
    },
    {
     "name": "stdout",
     "output_type": "stream",
     "text": [
      "Processing batch 35\n"
     ]
    },
    {
     "name": "stderr",
     "output_type": "stream",
     "text": [
      "WARNING: Field info are not available for this data release [astroquery.sdss.field_names]\n",
      "WARNING: Field info are not available for this data release [astroquery.sdss.field_names]\n"
     ]
    },
    {
     "name": "stdout",
     "output_type": "stream",
     "text": [
      "Processing batch 36\n"
     ]
    },
    {
     "name": "stderr",
     "output_type": "stream",
     "text": [
      "WARNING: Field info are not available for this data release [astroquery.sdss.field_names]\n",
      "WARNING: Field info are not available for this data release [astroquery.sdss.field_names]\n"
     ]
    },
    {
     "name": "stdout",
     "output_type": "stream",
     "text": [
      "Processing batch 37\n"
     ]
    },
    {
     "name": "stderr",
     "output_type": "stream",
     "text": [
      "WARNING: Field info are not available for this data release [astroquery.sdss.field_names]\n",
      "WARNING: Field info are not available for this data release [astroquery.sdss.field_names]\n"
     ]
    },
    {
     "name": "stdout",
     "output_type": "stream",
     "text": [
      "Processing batch 38\n"
     ]
    },
    {
     "name": "stderr",
     "output_type": "stream",
     "text": [
      "WARNING: Field info are not available for this data release [astroquery.sdss.field_names]\n",
      "WARNING: Field info are not available for this data release [astroquery.sdss.field_names]\n"
     ]
    },
    {
     "name": "stdout",
     "output_type": "stream",
     "text": [
      "Processing batch 39\n"
     ]
    },
    {
     "name": "stderr",
     "output_type": "stream",
     "text": [
      "WARNING: Field info are not available for this data release [astroquery.sdss.field_names]\n",
      "WARNING: Field info are not available for this data release [astroquery.sdss.field_names]\n"
     ]
    },
    {
     "name": "stdout",
     "output_type": "stream",
     "text": [
      "Processing batch 40\n"
     ]
    },
    {
     "name": "stderr",
     "output_type": "stream",
     "text": [
      "WARNING: Field info are not available for this data release [astroquery.sdss.field_names]\n",
      "WARNING: Field info are not available for this data release [astroquery.sdss.field_names]\n"
     ]
    },
    {
     "name": "stdout",
     "output_type": "stream",
     "text": [
      "Processing batch 41\n"
     ]
    },
    {
     "name": "stderr",
     "output_type": "stream",
     "text": [
      "WARNING: Field info are not available for this data release [astroquery.sdss.field_names]\n",
      "WARNING: Field info are not available for this data release [astroquery.sdss.field_names]\n"
     ]
    },
    {
     "name": "stdout",
     "output_type": "stream",
     "text": [
      "Processing batch 42\n"
     ]
    },
    {
     "name": "stderr",
     "output_type": "stream",
     "text": [
      "WARNING: Field info are not available for this data release [astroquery.sdss.field_names]\n",
      "WARNING: Field info are not available for this data release [astroquery.sdss.field_names]\n"
     ]
    },
    {
     "name": "stdout",
     "output_type": "stream",
     "text": [
      "Processing batch 43\n"
     ]
    },
    {
     "name": "stderr",
     "output_type": "stream",
     "text": [
      "WARNING: Field info are not available for this data release [astroquery.sdss.field_names]\n",
      "WARNING: Field info are not available for this data release [astroquery.sdss.field_names]\n"
     ]
    },
    {
     "name": "stdout",
     "output_type": "stream",
     "text": [
      "Processing batch 44\n"
     ]
    },
    {
     "name": "stderr",
     "output_type": "stream",
     "text": [
      "WARNING: Field info are not available for this data release [astroquery.sdss.field_names]\n",
      "WARNING: Field info are not available for this data release [astroquery.sdss.field_names]\n"
     ]
    },
    {
     "name": "stdout",
     "output_type": "stream",
     "text": [
      "Processing batch 45\n"
     ]
    },
    {
     "name": "stderr",
     "output_type": "stream",
     "text": [
      "WARNING: Field info are not available for this data release [astroquery.sdss.field_names]\n",
      "WARNING: Field info are not available for this data release [astroquery.sdss.field_names]\n"
     ]
    },
    {
     "name": "stdout",
     "output_type": "stream",
     "text": [
      "Processing batch 46\n"
     ]
    },
    {
     "name": "stderr",
     "output_type": "stream",
     "text": [
      "WARNING: Field info are not available for this data release [astroquery.sdss.field_names]\n",
      "WARNING: Field info are not available for this data release [astroquery.sdss.field_names]\n"
     ]
    },
    {
     "name": "stdout",
     "output_type": "stream",
     "text": [
      "Processing batch 47\n"
     ]
    },
    {
     "name": "stderr",
     "output_type": "stream",
     "text": [
      "WARNING: Field info are not available for this data release [astroquery.sdss.field_names]\n",
      "WARNING: Field info are not available for this data release [astroquery.sdss.field_names]\n"
     ]
    },
    {
     "name": "stdout",
     "output_type": "stream",
     "text": [
      "Processing batch 48\n"
     ]
    },
    {
     "name": "stderr",
     "output_type": "stream",
     "text": [
      "WARNING: Field info are not available for this data release [astroquery.sdss.field_names]\n",
      "WARNING: Field info are not available for this data release [astroquery.sdss.field_names]\n"
     ]
    },
    {
     "name": "stdout",
     "output_type": "stream",
     "text": [
      "Processing batch 49\n"
     ]
    },
    {
     "name": "stderr",
     "output_type": "stream",
     "text": [
      "WARNING: Field info are not available for this data release [astroquery.sdss.field_names]\n",
      "WARNING: Field info are not available for this data release [astroquery.sdss.field_names]\n"
     ]
    },
    {
     "name": "stdout",
     "output_type": "stream",
     "text": [
      "Processing batch 50\n"
     ]
    },
    {
     "name": "stderr",
     "output_type": "stream",
     "text": [
      "WARNING: Field info are not available for this data release [astroquery.sdss.field_names]\n",
      "WARNING: Field info are not available for this data release [astroquery.sdss.field_names]\n"
     ]
    },
    {
     "name": "stdout",
     "output_type": "stream",
     "text": [
      "Processing batch 51\n"
     ]
    },
    {
     "name": "stderr",
     "output_type": "stream",
     "text": [
      "WARNING: Field info are not available for this data release [astroquery.sdss.field_names]\n",
      "WARNING: Field info are not available for this data release [astroquery.sdss.field_names]\n"
     ]
    },
    {
     "name": "stdout",
     "output_type": "stream",
     "text": [
      "Processing batch 52\n"
     ]
    },
    {
     "name": "stderr",
     "output_type": "stream",
     "text": [
      "WARNING: Field info are not available for this data release [astroquery.sdss.field_names]\n",
      "WARNING: Field info are not available for this data release [astroquery.sdss.field_names]\n"
     ]
    },
    {
     "name": "stdout",
     "output_type": "stream",
     "text": [
      "Processing batch 53\n"
     ]
    },
    {
     "name": "stderr",
     "output_type": "stream",
     "text": [
      "WARNING: Field info are not available for this data release [astroquery.sdss.field_names]\n",
      "WARNING: Field info are not available for this data release [astroquery.sdss.field_names]\n"
     ]
    },
    {
     "name": "stdout",
     "output_type": "stream",
     "text": [
      "Processing batch 54\n"
     ]
    },
    {
     "name": "stderr",
     "output_type": "stream",
     "text": [
      "WARNING: Field info are not available for this data release [astroquery.sdss.field_names]\n",
      "WARNING: Field info are not available for this data release [astroquery.sdss.field_names]\n"
     ]
    },
    {
     "name": "stdout",
     "output_type": "stream",
     "text": [
      "Processing batch 55\n"
     ]
    },
    {
     "name": "stderr",
     "output_type": "stream",
     "text": [
      "WARNING: Field info are not available for this data release [astroquery.sdss.field_names]\n",
      "WARNING: Field info are not available for this data release [astroquery.sdss.field_names]\n"
     ]
    },
    {
     "name": "stdout",
     "output_type": "stream",
     "text": [
      "Processing batch 56\n"
     ]
    },
    {
     "name": "stderr",
     "output_type": "stream",
     "text": [
      "WARNING: Field info are not available for this data release [astroquery.sdss.field_names]\n",
      "WARNING: Field info are not available for this data release [astroquery.sdss.field_names]\n"
     ]
    },
    {
     "name": "stdout",
     "output_type": "stream",
     "text": [
      "Processing batch 57\n"
     ]
    },
    {
     "name": "stderr",
     "output_type": "stream",
     "text": [
      "WARNING: Field info are not available for this data release [astroquery.sdss.field_names]\n",
      "WARNING: Field info are not available for this data release [astroquery.sdss.field_names]\n"
     ]
    },
    {
     "name": "stdout",
     "output_type": "stream",
     "text": [
      "Processing batch 58\n"
     ]
    },
    {
     "name": "stderr",
     "output_type": "stream",
     "text": [
      "WARNING: Field info are not available for this data release [astroquery.sdss.field_names]\n",
      "WARNING: Field info are not available for this data release [astroquery.sdss.field_names]\n"
     ]
    },
    {
     "name": "stdout",
     "output_type": "stream",
     "text": [
      "Processing batch 59\n"
     ]
    },
    {
     "name": "stderr",
     "output_type": "stream",
     "text": [
      "WARNING: Field info are not available for this data release [astroquery.sdss.field_names]\n",
      "WARNING: Field info are not available for this data release [astroquery.sdss.field_names]\n"
     ]
    },
    {
     "name": "stdout",
     "output_type": "stream",
     "text": [
      "Processing batch 60\n"
     ]
    },
    {
     "name": "stderr",
     "output_type": "stream",
     "text": [
      "WARNING: Field info are not available for this data release [astroquery.sdss.field_names]\n",
      "WARNING: Field info are not available for this data release [astroquery.sdss.field_names]\n"
     ]
    },
    {
     "name": "stdout",
     "output_type": "stream",
     "text": [
      "Processing batch 61\n"
     ]
    },
    {
     "name": "stderr",
     "output_type": "stream",
     "text": [
      "WARNING: Field info are not available for this data release [astroquery.sdss.field_names]\n",
      "WARNING: Field info are not available for this data release [astroquery.sdss.field_names]\n"
     ]
    },
    {
     "name": "stdout",
     "output_type": "stream",
     "text": [
      "Processing batch 62\n"
     ]
    },
    {
     "name": "stderr",
     "output_type": "stream",
     "text": [
      "WARNING: Field info are not available for this data release [astroquery.sdss.field_names]\n",
      "WARNING: Field info are not available for this data release [astroquery.sdss.field_names]\n"
     ]
    },
    {
     "name": "stdout",
     "output_type": "stream",
     "text": [
      "Processing batch 63\n"
     ]
    },
    {
     "name": "stderr",
     "output_type": "stream",
     "text": [
      "WARNING: Field info are not available for this data release [astroquery.sdss.field_names]\n",
      "WARNING: Field info are not available for this data release [astroquery.sdss.field_names]\n"
     ]
    },
    {
     "name": "stdout",
     "output_type": "stream",
     "text": [
      "Processing batch 64\n"
     ]
    },
    {
     "name": "stderr",
     "output_type": "stream",
     "text": [
      "WARNING: Field info are not available for this data release [astroquery.sdss.field_names]\n",
      "WARNING: Field info are not available for this data release [astroquery.sdss.field_names]\n"
     ]
    },
    {
     "name": "stdout",
     "output_type": "stream",
     "text": [
      "Processing batch 65\n"
     ]
    },
    {
     "name": "stderr",
     "output_type": "stream",
     "text": [
      "WARNING: Field info are not available for this data release [astroquery.sdss.field_names]\n",
      "WARNING: Field info are not available for this data release [astroquery.sdss.field_names]\n"
     ]
    },
    {
     "name": "stdout",
     "output_type": "stream",
     "text": [
      "Processing batch 66\n"
     ]
    },
    {
     "name": "stderr",
     "output_type": "stream",
     "text": [
      "WARNING: Field info are not available for this data release [astroquery.sdss.field_names]\n",
      "WARNING: Field info are not available for this data release [astroquery.sdss.field_names]\n"
     ]
    },
    {
     "name": "stdout",
     "output_type": "stream",
     "text": [
      "Processing batch 67\n"
     ]
    },
    {
     "name": "stderr",
     "output_type": "stream",
     "text": [
      "WARNING: Field info are not available for this data release [astroquery.sdss.field_names]\n",
      "WARNING: Field info are not available for this data release [astroquery.sdss.field_names]\n"
     ]
    },
    {
     "name": "stdout",
     "output_type": "stream",
     "text": [
      "Processing batch 68\n"
     ]
    },
    {
     "name": "stderr",
     "output_type": "stream",
     "text": [
      "WARNING: Field info are not available for this data release [astroquery.sdss.field_names]\n",
      "WARNING: Field info are not available for this data release [astroquery.sdss.field_names]\n"
     ]
    },
    {
     "name": "stdout",
     "output_type": "stream",
     "text": [
      "Processing batch 69\n"
     ]
    },
    {
     "name": "stderr",
     "output_type": "stream",
     "text": [
      "WARNING: Field info are not available for this data release [astroquery.sdss.field_names]\n",
      "WARNING: Field info are not available for this data release [astroquery.sdss.field_names]\n"
     ]
    },
    {
     "name": "stdout",
     "output_type": "stream",
     "text": [
      "Processing batch 70\n"
     ]
    },
    {
     "name": "stderr",
     "output_type": "stream",
     "text": [
      "WARNING: Field info are not available for this data release [astroquery.sdss.field_names]\n",
      "WARNING: Field info are not available for this data release [astroquery.sdss.field_names]\n"
     ]
    },
    {
     "name": "stdout",
     "output_type": "stream",
     "text": [
      "Processing batch 71\n"
     ]
    },
    {
     "name": "stderr",
     "output_type": "stream",
     "text": [
      "WARNING: Field info are not available for this data release [astroquery.sdss.field_names]\n",
      "WARNING: Field info are not available for this data release [astroquery.sdss.field_names]\n"
     ]
    },
    {
     "name": "stdout",
     "output_type": "stream",
     "text": [
      "Processing batch 72\n"
     ]
    },
    {
     "name": "stderr",
     "output_type": "stream",
     "text": [
      "WARNING: Field info are not available for this data release [astroquery.sdss.field_names]\n",
      "WARNING: Field info are not available for this data release [astroquery.sdss.field_names]\n"
     ]
    },
    {
     "name": "stdout",
     "output_type": "stream",
     "text": [
      "Processing batch 73\n"
     ]
    },
    {
     "name": "stderr",
     "output_type": "stream",
     "text": [
      "WARNING: Field info are not available for this data release [astroquery.sdss.field_names]\n",
      "WARNING: Field info are not available for this data release [astroquery.sdss.field_names]\n"
     ]
    },
    {
     "name": "stdout",
     "output_type": "stream",
     "text": [
      "Processing batch 74\n"
     ]
    },
    {
     "name": "stderr",
     "output_type": "stream",
     "text": [
      "WARNING: Field info are not available for this data release [astroquery.sdss.field_names]\n",
      "WARNING: Field info are not available for this data release [astroquery.sdss.field_names]\n"
     ]
    },
    {
     "name": "stdout",
     "output_type": "stream",
     "text": [
      "Processing batch 75\n"
     ]
    },
    {
     "name": "stderr",
     "output_type": "stream",
     "text": [
      "WARNING: Field info are not available for this data release [astroquery.sdss.field_names]\n",
      "WARNING: Field info are not available for this data release [astroquery.sdss.field_names]\n"
     ]
    },
    {
     "name": "stdout",
     "output_type": "stream",
     "text": [
      "Processing batch 76\n"
     ]
    },
    {
     "name": "stderr",
     "output_type": "stream",
     "text": [
      "WARNING: Field info are not available for this data release [astroquery.sdss.field_names]\n",
      "WARNING: Field info are not available for this data release [astroquery.sdss.field_names]\n"
     ]
    },
    {
     "name": "stdout",
     "output_type": "stream",
     "text": [
      "Processing batch 77\n"
     ]
    },
    {
     "name": "stderr",
     "output_type": "stream",
     "text": [
      "WARNING: Field info are not available for this data release [astroquery.sdss.field_names]\n",
      "WARNING: Field info are not available for this data release [astroquery.sdss.field_names]\n"
     ]
    },
    {
     "name": "stdout",
     "output_type": "stream",
     "text": [
      "Processing batch 78\n"
     ]
    },
    {
     "name": "stderr",
     "output_type": "stream",
     "text": [
      "WARNING: Field info are not available for this data release [astroquery.sdss.field_names]\n",
      "WARNING: Field info are not available for this data release [astroquery.sdss.field_names]\n"
     ]
    },
    {
     "name": "stdout",
     "output_type": "stream",
     "text": [
      "Processing batch 79\n"
     ]
    },
    {
     "name": "stderr",
     "output_type": "stream",
     "text": [
      "WARNING: Field info are not available for this data release [astroquery.sdss.field_names]\n",
      "WARNING: Field info are not available for this data release [astroquery.sdss.field_names]\n"
     ]
    },
    {
     "name": "stdout",
     "output_type": "stream",
     "text": [
      "Processing batch 80\n"
     ]
    },
    {
     "name": "stderr",
     "output_type": "stream",
     "text": [
      "WARNING: Field info are not available for this data release [astroquery.sdss.field_names]\n",
      "WARNING: Field info are not available for this data release [astroquery.sdss.field_names]\n"
     ]
    },
    {
     "name": "stdout",
     "output_type": "stream",
     "text": [
      "Processing batch 81\n"
     ]
    },
    {
     "name": "stderr",
     "output_type": "stream",
     "text": [
      "WARNING: Field info are not available for this data release [astroquery.sdss.field_names]\n",
      "WARNING: Field info are not available for this data release [astroquery.sdss.field_names]\n"
     ]
    },
    {
     "name": "stdout",
     "output_type": "stream",
     "text": [
      "Processing batch 82\n"
     ]
    },
    {
     "name": "stderr",
     "output_type": "stream",
     "text": [
      "WARNING: Field info are not available for this data release [astroquery.sdss.field_names]\n",
      "WARNING: Field info are not available for this data release [astroquery.sdss.field_names]\n"
     ]
    },
    {
     "name": "stdout",
     "output_type": "stream",
     "text": [
      "Processing batch 83\n"
     ]
    },
    {
     "name": "stderr",
     "output_type": "stream",
     "text": [
      "WARNING: Field info are not available for this data release [astroquery.sdss.field_names]\n",
      "WARNING: Field info are not available for this data release [astroquery.sdss.field_names]\n"
     ]
    },
    {
     "name": "stdout",
     "output_type": "stream",
     "text": [
      "Processing batch 84\n"
     ]
    },
    {
     "name": "stderr",
     "output_type": "stream",
     "text": [
      "WARNING: Field info are not available for this data release [astroquery.sdss.field_names]\n",
      "WARNING: Field info are not available for this data release [astroquery.sdss.field_names]\n"
     ]
    },
    {
     "name": "stdout",
     "output_type": "stream",
     "text": [
      "Processing batch 85\n"
     ]
    },
    {
     "name": "stderr",
     "output_type": "stream",
     "text": [
      "WARNING: Field info are not available for this data release [astroquery.sdss.field_names]\n",
      "WARNING: Field info are not available for this data release [astroquery.sdss.field_names]\n"
     ]
    },
    {
     "name": "stdout",
     "output_type": "stream",
     "text": [
      "Processing batch 86\n"
     ]
    },
    {
     "name": "stderr",
     "output_type": "stream",
     "text": [
      "WARNING: Field info are not available for this data release [astroquery.sdss.field_names]\n",
      "WARNING: Field info are not available for this data release [astroquery.sdss.field_names]\n"
     ]
    },
    {
     "name": "stdout",
     "output_type": "stream",
     "text": [
      "Processing batch 87\n"
     ]
    },
    {
     "name": "stderr",
     "output_type": "stream",
     "text": [
      "WARNING: Field info are not available for this data release [astroquery.sdss.field_names]\n",
      "WARNING: Field info are not available for this data release [astroquery.sdss.field_names]\n"
     ]
    },
    {
     "name": "stdout",
     "output_type": "stream",
     "text": [
      "Processing batch 88\n"
     ]
    },
    {
     "name": "stderr",
     "output_type": "stream",
     "text": [
      "WARNING: Field info are not available for this data release [astroquery.sdss.field_names]\n",
      "WARNING: Field info are not available for this data release [astroquery.sdss.field_names]\n"
     ]
    },
    {
     "name": "stdout",
     "output_type": "stream",
     "text": [
      "Processing batch 89\n"
     ]
    },
    {
     "name": "stderr",
     "output_type": "stream",
     "text": [
      "WARNING: Field info are not available for this data release [astroquery.sdss.field_names]\n",
      "WARNING: Field info are not available for this data release [astroquery.sdss.field_names]\n"
     ]
    },
    {
     "name": "stdout",
     "output_type": "stream",
     "text": [
      "Processing batch 90\n"
     ]
    },
    {
     "name": "stderr",
     "output_type": "stream",
     "text": [
      "WARNING: Field info are not available for this data release [astroquery.sdss.field_names]\n",
      "WARNING: Field info are not available for this data release [astroquery.sdss.field_names]\n"
     ]
    },
    {
     "name": "stdout",
     "output_type": "stream",
     "text": [
      "Processing batch 91\n"
     ]
    },
    {
     "name": "stderr",
     "output_type": "stream",
     "text": [
      "WARNING: Field info are not available for this data release [astroquery.sdss.field_names]\n",
      "WARNING: Field info are not available for this data release [astroquery.sdss.field_names]\n"
     ]
    },
    {
     "name": "stdout",
     "output_type": "stream",
     "text": [
      "Processing batch 92\n"
     ]
    },
    {
     "name": "stderr",
     "output_type": "stream",
     "text": [
      "WARNING: Field info are not available for this data release [astroquery.sdss.field_names]\n",
      "WARNING: Field info are not available for this data release [astroquery.sdss.field_names]\n"
     ]
    },
    {
     "name": "stdout",
     "output_type": "stream",
     "text": [
      "Processing batch 93\n"
     ]
    },
    {
     "name": "stderr",
     "output_type": "stream",
     "text": [
      "WARNING: Field info are not available for this data release [astroquery.sdss.field_names]\n",
      "WARNING: Field info are not available for this data release [astroquery.sdss.field_names]\n"
     ]
    },
    {
     "name": "stdout",
     "output_type": "stream",
     "text": [
      "Processing batch 94\n"
     ]
    },
    {
     "name": "stderr",
     "output_type": "stream",
     "text": [
      "WARNING: Field info are not available for this data release [astroquery.sdss.field_names]\n",
      "WARNING: Field info are not available for this data release [astroquery.sdss.field_names]\n"
     ]
    },
    {
     "name": "stdout",
     "output_type": "stream",
     "text": [
      "Processing batch 95\n"
     ]
    },
    {
     "name": "stderr",
     "output_type": "stream",
     "text": [
      "WARNING: Field info are not available for this data release [astroquery.sdss.field_names]\n",
      "WARNING: Field info are not available for this data release [astroquery.sdss.field_names]\n"
     ]
    },
    {
     "name": "stdout",
     "output_type": "stream",
     "text": [
      "Processing batch 96\n"
     ]
    },
    {
     "name": "stderr",
     "output_type": "stream",
     "text": [
      "WARNING: Field info are not available for this data release [astroquery.sdss.field_names]\n",
      "WARNING: Field info are not available for this data release [astroquery.sdss.field_names]\n"
     ]
    },
    {
     "name": "stdout",
     "output_type": "stream",
     "text": [
      "Processing batch 97\n"
     ]
    },
    {
     "name": "stderr",
     "output_type": "stream",
     "text": [
      "WARNING: Field info are not available for this data release [astroquery.sdss.field_names]\n",
      "WARNING: Field info are not available for this data release [astroquery.sdss.field_names]\n"
     ]
    },
    {
     "name": "stdout",
     "output_type": "stream",
     "text": [
      "Processing batch 98\n"
     ]
    },
    {
     "name": "stderr",
     "output_type": "stream",
     "text": [
      "WARNING: Field info are not available for this data release [astroquery.sdss.field_names]\n",
      "WARNING: Field info are not available for this data release [astroquery.sdss.field_names]\n"
     ]
    },
    {
     "name": "stdout",
     "output_type": "stream",
     "text": [
      "Processing batch 99\n"
     ]
    },
    {
     "name": "stderr",
     "output_type": "stream",
     "text": [
      "WARNING: Field info are not available for this data release [astroquery.sdss.field_names]\n",
      "WARNING: Field info are not available for this data release [astroquery.sdss.field_names]\n"
     ]
    },
    {
     "name": "stdout",
     "output_type": "stream",
     "text": [
      "Processing batch 100\n"
     ]
    },
    {
     "name": "stderr",
     "output_type": "stream",
     "text": [
      "WARNING: Field info are not available for this data release [astroquery.sdss.field_names]\n",
      "WARNING: Field info are not available for this data release [astroquery.sdss.field_names]\n"
     ]
    },
    {
     "name": "stdout",
     "output_type": "stream",
     "text": [
      "Processing batch 101\n"
     ]
    },
    {
     "name": "stderr",
     "output_type": "stream",
     "text": [
      "WARNING: Field info are not available for this data release [astroquery.sdss.field_names]\n",
      "WARNING: Field info are not available for this data release [astroquery.sdss.field_names]\n"
     ]
    },
    {
     "name": "stdout",
     "output_type": "stream",
     "text": [
      "Processing batch 102\n"
     ]
    },
    {
     "name": "stderr",
     "output_type": "stream",
     "text": [
      "WARNING: Field info are not available for this data release [astroquery.sdss.field_names]\n",
      "WARNING: Field info are not available for this data release [astroquery.sdss.field_names]\n"
     ]
    },
    {
     "name": "stdout",
     "output_type": "stream",
     "text": [
      "Processing batch 103\n"
     ]
    },
    {
     "name": "stderr",
     "output_type": "stream",
     "text": [
      "WARNING: Field info are not available for this data release [astroquery.sdss.field_names]\n",
      "WARNING: Field info are not available for this data release [astroquery.sdss.field_names]\n"
     ]
    },
    {
     "name": "stdout",
     "output_type": "stream",
     "text": [
      "Processing batch 104\n"
     ]
    },
    {
     "name": "stderr",
     "output_type": "stream",
     "text": [
      "WARNING: Field info are not available for this data release [astroquery.sdss.field_names]\n",
      "WARNING: Field info are not available for this data release [astroquery.sdss.field_names]\n"
     ]
    },
    {
     "name": "stdout",
     "output_type": "stream",
     "text": [
      "Processing batch 105\n"
     ]
    },
    {
     "name": "stderr",
     "output_type": "stream",
     "text": [
      "WARNING: Field info are not available for this data release [astroquery.sdss.field_names]\n",
      "WARNING: Field info are not available for this data release [astroquery.sdss.field_names]\n"
     ]
    },
    {
     "name": "stdout",
     "output_type": "stream",
     "text": [
      "Processing batch 106\n"
     ]
    },
    {
     "name": "stderr",
     "output_type": "stream",
     "text": [
      "WARNING: Field info are not available for this data release [astroquery.sdss.field_names]\n",
      "WARNING: Field info are not available for this data release [astroquery.sdss.field_names]\n"
     ]
    },
    {
     "name": "stdout",
     "output_type": "stream",
     "text": [
      "Processing batch 107\n"
     ]
    },
    {
     "name": "stderr",
     "output_type": "stream",
     "text": [
      "WARNING: Field info are not available for this data release [astroquery.sdss.field_names]\n",
      "WARNING: Field info are not available for this data release [astroquery.sdss.field_names]\n"
     ]
    },
    {
     "name": "stdout",
     "output_type": "stream",
     "text": [
      "Processing batch 108\n"
     ]
    },
    {
     "name": "stderr",
     "output_type": "stream",
     "text": [
      "WARNING: Field info are not available for this data release [astroquery.sdss.field_names]\n",
      "WARNING: Field info are not available for this data release [astroquery.sdss.field_names]\n"
     ]
    },
    {
     "name": "stdout",
     "output_type": "stream",
     "text": [
      "Processing batch 109\n"
     ]
    },
    {
     "name": "stderr",
     "output_type": "stream",
     "text": [
      "WARNING: Field info are not available for this data release [astroquery.sdss.field_names]\n",
      "WARNING: Field info are not available for this data release [astroquery.sdss.field_names]\n"
     ]
    },
    {
     "name": "stdout",
     "output_type": "stream",
     "text": [
      "Processing batch 110\n"
     ]
    },
    {
     "name": "stderr",
     "output_type": "stream",
     "text": [
      "WARNING: Field info are not available for this data release [astroquery.sdss.field_names]\n",
      "WARNING: Field info are not available for this data release [astroquery.sdss.field_names]\n"
     ]
    },
    {
     "name": "stdout",
     "output_type": "stream",
     "text": [
      "Processing batch 111\n"
     ]
    },
    {
     "name": "stderr",
     "output_type": "stream",
     "text": [
      "WARNING: Field info are not available for this data release [astroquery.sdss.field_names]\n",
      "WARNING: Field info are not available for this data release [astroquery.sdss.field_names]\n"
     ]
    },
    {
     "name": "stdout",
     "output_type": "stream",
     "text": [
      "Processing batch 112\n"
     ]
    },
    {
     "name": "stderr",
     "output_type": "stream",
     "text": [
      "WARNING: Field info are not available for this data release [astroquery.sdss.field_names]\n",
      "WARNING: Field info are not available for this data release [astroquery.sdss.field_names]\n"
     ]
    },
    {
     "name": "stdout",
     "output_type": "stream",
     "text": [
      "Processing batch 113\n"
     ]
    },
    {
     "name": "stderr",
     "output_type": "stream",
     "text": [
      "WARNING: Field info are not available for this data release [astroquery.sdss.field_names]\n",
      "WARNING: Field info are not available for this data release [astroquery.sdss.field_names]\n"
     ]
    },
    {
     "name": "stdout",
     "output_type": "stream",
     "text": [
      "Processing batch 114\n"
     ]
    },
    {
     "name": "stderr",
     "output_type": "stream",
     "text": [
      "WARNING: Field info are not available for this data release [astroquery.sdss.field_names]\n",
      "WARNING: Field info are not available for this data release [astroquery.sdss.field_names]\n"
     ]
    },
    {
     "name": "stdout",
     "output_type": "stream",
     "text": [
      "Processing batch 115\n"
     ]
    },
    {
     "name": "stderr",
     "output_type": "stream",
     "text": [
      "WARNING: Field info are not available for this data release [astroquery.sdss.field_names]\n",
      "WARNING: Field info are not available for this data release [astroquery.sdss.field_names]\n"
     ]
    },
    {
     "name": "stdout",
     "output_type": "stream",
     "text": [
      "Processing batch 116\n"
     ]
    },
    {
     "name": "stderr",
     "output_type": "stream",
     "text": [
      "WARNING: Field info are not available for this data release [astroquery.sdss.field_names]\n",
      "WARNING: Field info are not available for this data release [astroquery.sdss.field_names]\n"
     ]
    },
    {
     "name": "stdout",
     "output_type": "stream",
     "text": [
      "Processing batch 117\n"
     ]
    },
    {
     "name": "stderr",
     "output_type": "stream",
     "text": [
      "WARNING: Field info are not available for this data release [astroquery.sdss.field_names]\n",
      "WARNING: Field info are not available for this data release [astroquery.sdss.field_names]\n"
     ]
    },
    {
     "name": "stdout",
     "output_type": "stream",
     "text": [
      "Processing batch 118\n"
     ]
    },
    {
     "name": "stderr",
     "output_type": "stream",
     "text": [
      "WARNING: Field info are not available for this data release [astroquery.sdss.field_names]\n",
      "WARNING: Field info are not available for this data release [astroquery.sdss.field_names]\n"
     ]
    },
    {
     "name": "stdout",
     "output_type": "stream",
     "text": [
      "Processing batch 119\n"
     ]
    },
    {
     "name": "stderr",
     "output_type": "stream",
     "text": [
      "WARNING: Field info are not available for this data release [astroquery.sdss.field_names]\n",
      "WARNING: Field info are not available for this data release [astroquery.sdss.field_names]\n"
     ]
    },
    {
     "name": "stdout",
     "output_type": "stream",
     "text": [
      "Processing batch 120\n"
     ]
    },
    {
     "name": "stderr",
     "output_type": "stream",
     "text": [
      "WARNING: Field info are not available for this data release [astroquery.sdss.field_names]\n",
      "WARNING: Field info are not available for this data release [astroquery.sdss.field_names]\n"
     ]
    },
    {
     "name": "stdout",
     "output_type": "stream",
     "text": [
      "Processing batch 121\n"
     ]
    },
    {
     "name": "stderr",
     "output_type": "stream",
     "text": [
      "WARNING: Field info are not available for this data release [astroquery.sdss.field_names]\n",
      "WARNING: Field info are not available for this data release [astroquery.sdss.field_names]\n"
     ]
    },
    {
     "name": "stdout",
     "output_type": "stream",
     "text": [
      "Processing batch 122\n"
     ]
    },
    {
     "name": "stderr",
     "output_type": "stream",
     "text": [
      "WARNING: Field info are not available for this data release [astroquery.sdss.field_names]\n",
      "WARNING: Field info are not available for this data release [astroquery.sdss.field_names]\n"
     ]
    },
    {
     "name": "stdout",
     "output_type": "stream",
     "text": [
      "Processing batch 123\n"
     ]
    },
    {
     "name": "stderr",
     "output_type": "stream",
     "text": [
      "WARNING: Field info are not available for this data release [astroquery.sdss.field_names]\n",
      "WARNING: Field info are not available for this data release [astroquery.sdss.field_names]\n"
     ]
    },
    {
     "name": "stdout",
     "output_type": "stream",
     "text": [
      "Processing batch 124\n"
     ]
    },
    {
     "name": "stderr",
     "output_type": "stream",
     "text": [
      "WARNING: Field info are not available for this data release [astroquery.sdss.field_names]\n",
      "WARNING: Field info are not available for this data release [astroquery.sdss.field_names]\n"
     ]
    },
    {
     "name": "stdout",
     "output_type": "stream",
     "text": [
      "Processing batch 125\n"
     ]
    },
    {
     "name": "stderr",
     "output_type": "stream",
     "text": [
      "WARNING: Field info are not available for this data release [astroquery.sdss.field_names]\n",
      "WARNING: Field info are not available for this data release [astroquery.sdss.field_names]\n"
     ]
    },
    {
     "name": "stdout",
     "output_type": "stream",
     "text": [
      "Processing batch 126\n"
     ]
    },
    {
     "name": "stderr",
     "output_type": "stream",
     "text": [
      "WARNING: Field info are not available for this data release [astroquery.sdss.field_names]\n",
      "WARNING: Field info are not available for this data release [astroquery.sdss.field_names]\n"
     ]
    },
    {
     "name": "stdout",
     "output_type": "stream",
     "text": [
      "Processing batch 127\n"
     ]
    },
    {
     "name": "stderr",
     "output_type": "stream",
     "text": [
      "WARNING: Field info are not available for this data release [astroquery.sdss.field_names]\n",
      "WARNING: Field info are not available for this data release [astroquery.sdss.field_names]\n"
     ]
    },
    {
     "name": "stdout",
     "output_type": "stream",
     "text": [
      "Processing batch 128\n"
     ]
    },
    {
     "name": "stderr",
     "output_type": "stream",
     "text": [
      "WARNING: Field info are not available for this data release [astroquery.sdss.field_names]\n",
      "WARNING: Field info are not available for this data release [astroquery.sdss.field_names]\n"
     ]
    },
    {
     "name": "stdout",
     "output_type": "stream",
     "text": [
      "Processing batch 129\n"
     ]
    },
    {
     "name": "stderr",
     "output_type": "stream",
     "text": [
      "WARNING: Field info are not available for this data release [astroquery.sdss.field_names]\n",
      "WARNING: Field info are not available for this data release [astroquery.sdss.field_names]\n"
     ]
    },
    {
     "name": "stdout",
     "output_type": "stream",
     "text": [
      "Processing batch 130\n"
     ]
    },
    {
     "name": "stderr",
     "output_type": "stream",
     "text": [
      "WARNING: Field info are not available for this data release [astroquery.sdss.field_names]\n",
      "WARNING: Field info are not available for this data release [astroquery.sdss.field_names]\n"
     ]
    },
    {
     "name": "stdout",
     "output_type": "stream",
     "text": [
      "Processing batch 131\n"
     ]
    },
    {
     "name": "stderr",
     "output_type": "stream",
     "text": [
      "WARNING: Field info are not available for this data release [astroquery.sdss.field_names]\n",
      "WARNING: Field info are not available for this data release [astroquery.sdss.field_names]\n"
     ]
    },
    {
     "name": "stdout",
     "output_type": "stream",
     "text": [
      "Processing batch 132\n"
     ]
    },
    {
     "name": "stderr",
     "output_type": "stream",
     "text": [
      "WARNING: Field info are not available for this data release [astroquery.sdss.field_names]\n",
      "WARNING: Field info are not available for this data release [astroquery.sdss.field_names]\n"
     ]
    },
    {
     "name": "stdout",
     "output_type": "stream",
     "text": [
      "Processing batch 133\n"
     ]
    },
    {
     "name": "stderr",
     "output_type": "stream",
     "text": [
      "WARNING: Field info are not available for this data release [astroquery.sdss.field_names]\n",
      "WARNING: Field info are not available for this data release [astroquery.sdss.field_names]\n"
     ]
    },
    {
     "name": "stdout",
     "output_type": "stream",
     "text": [
      "Processing batch 134\n"
     ]
    },
    {
     "name": "stderr",
     "output_type": "stream",
     "text": [
      "WARNING: Field info are not available for this data release [astroquery.sdss.field_names]\n",
      "WARNING: Field info are not available for this data release [astroquery.sdss.field_names]\n"
     ]
    },
    {
     "name": "stdout",
     "output_type": "stream",
     "text": [
      "Processing batch 135\n"
     ]
    },
    {
     "name": "stderr",
     "output_type": "stream",
     "text": [
      "WARNING: Field info are not available for this data release [astroquery.sdss.field_names]\n",
      "WARNING: Field info are not available for this data release [astroquery.sdss.field_names]\n"
     ]
    },
    {
     "name": "stdout",
     "output_type": "stream",
     "text": [
      "Processing batch 136\n"
     ]
    },
    {
     "name": "stderr",
     "output_type": "stream",
     "text": [
      "WARNING: Field info are not available for this data release [astroquery.sdss.field_names]\n",
      "WARNING: Field info are not available for this data release [astroquery.sdss.field_names]\n"
     ]
    },
    {
     "name": "stdout",
     "output_type": "stream",
     "text": [
      "Processing batch 137\n"
     ]
    },
    {
     "name": "stderr",
     "output_type": "stream",
     "text": [
      "WARNING: Field info are not available for this data release [astroquery.sdss.field_names]\n",
      "WARNING: Field info are not available for this data release [astroquery.sdss.field_names]\n"
     ]
    },
    {
     "name": "stdout",
     "output_type": "stream",
     "text": [
      "Processing batch 138\n"
     ]
    },
    {
     "name": "stderr",
     "output_type": "stream",
     "text": [
      "WARNING: Field info are not available for this data release [astroquery.sdss.field_names]\n",
      "WARNING: Field info are not available for this data release [astroquery.sdss.field_names]\n"
     ]
    },
    {
     "name": "stdout",
     "output_type": "stream",
     "text": [
      "Processing batch 139\n"
     ]
    },
    {
     "name": "stderr",
     "output_type": "stream",
     "text": [
      "WARNING: Field info are not available for this data release [astroquery.sdss.field_names]\n",
      "WARNING: Field info are not available for this data release [astroquery.sdss.field_names]\n"
     ]
    },
    {
     "name": "stdout",
     "output_type": "stream",
     "text": [
      "Processing batch 140\n"
     ]
    },
    {
     "name": "stderr",
     "output_type": "stream",
     "text": [
      "WARNING: Field info are not available for this data release [astroquery.sdss.field_names]\n",
      "WARNING: Field info are not available for this data release [astroquery.sdss.field_names]\n"
     ]
    },
    {
     "name": "stdout",
     "output_type": "stream",
     "text": [
      "Processing batch 141\n"
     ]
    },
    {
     "name": "stderr",
     "output_type": "stream",
     "text": [
      "WARNING: Field info are not available for this data release [astroquery.sdss.field_names]\n",
      "WARNING: Field info are not available for this data release [astroquery.sdss.field_names]\n"
     ]
    },
    {
     "name": "stdout",
     "output_type": "stream",
     "text": [
      "Processing batch 142\n"
     ]
    },
    {
     "name": "stderr",
     "output_type": "stream",
     "text": [
      "WARNING: Field info are not available for this data release [astroquery.sdss.field_names]\n",
      "WARNING: Field info are not available for this data release [astroquery.sdss.field_names]\n"
     ]
    },
    {
     "name": "stdout",
     "output_type": "stream",
     "text": [
      "Processing batch 143\n"
     ]
    },
    {
     "name": "stderr",
     "output_type": "stream",
     "text": [
      "WARNING: Field info are not available for this data release [astroquery.sdss.field_names]\n",
      "WARNING: Field info are not available for this data release [astroquery.sdss.field_names]\n"
     ]
    },
    {
     "name": "stdout",
     "output_type": "stream",
     "text": [
      "Processing batch 144\n"
     ]
    },
    {
     "name": "stderr",
     "output_type": "stream",
     "text": [
      "WARNING: Field info are not available for this data release [astroquery.sdss.field_names]\n",
      "WARNING: Field info are not available for this data release [astroquery.sdss.field_names]\n"
     ]
    },
    {
     "name": "stdout",
     "output_type": "stream",
     "text": [
      "Processing batch 145\n"
     ]
    },
    {
     "name": "stderr",
     "output_type": "stream",
     "text": [
      "WARNING: Field info are not available for this data release [astroquery.sdss.field_names]\n",
      "WARNING: Field info are not available for this data release [astroquery.sdss.field_names]\n"
     ]
    },
    {
     "name": "stdout",
     "output_type": "stream",
     "text": [
      "Processing batch 146\n"
     ]
    },
    {
     "name": "stderr",
     "output_type": "stream",
     "text": [
      "WARNING: Field info are not available for this data release [astroquery.sdss.field_names]\n",
      "WARNING: Field info are not available for this data release [astroquery.sdss.field_names]\n"
     ]
    },
    {
     "name": "stdout",
     "output_type": "stream",
     "text": [
      "Processing batch 147\n"
     ]
    },
    {
     "name": "stderr",
     "output_type": "stream",
     "text": [
      "WARNING: Field info are not available for this data release [astroquery.sdss.field_names]\n",
      "WARNING: Field info are not available for this data release [astroquery.sdss.field_names]\n"
     ]
    },
    {
     "name": "stdout",
     "output_type": "stream",
     "text": [
      "Processing batch 148\n"
     ]
    },
    {
     "name": "stderr",
     "output_type": "stream",
     "text": [
      "WARNING: Field info are not available for this data release [astroquery.sdss.field_names]\n",
      "WARNING: Field info are not available for this data release [astroquery.sdss.field_names]\n"
     ]
    },
    {
     "name": "stdout",
     "output_type": "stream",
     "text": [
      "Processing batch 149\n"
     ]
    },
    {
     "name": "stderr",
     "output_type": "stream",
     "text": [
      "WARNING: Field info are not available for this data release [astroquery.sdss.field_names]\n",
      "WARNING: Field info are not available for this data release [astroquery.sdss.field_names]\n"
     ]
    },
    {
     "name": "stdout",
     "output_type": "stream",
     "text": [
      "Processing batch 150\n"
     ]
    },
    {
     "name": "stderr",
     "output_type": "stream",
     "text": [
      "WARNING: Field info are not available for this data release [astroquery.sdss.field_names]\n",
      "WARNING: Field info are not available for this data release [astroquery.sdss.field_names]\n"
     ]
    },
    {
     "name": "stdout",
     "output_type": "stream",
     "text": [
      "Processing batch 151\n"
     ]
    },
    {
     "name": "stderr",
     "output_type": "stream",
     "text": [
      "WARNING: Field info are not available for this data release [astroquery.sdss.field_names]\n",
      "WARNING: Field info are not available for this data release [astroquery.sdss.field_names]\n"
     ]
    },
    {
     "name": "stdout",
     "output_type": "stream",
     "text": [
      "Processing batch 152\n"
     ]
    },
    {
     "name": "stderr",
     "output_type": "stream",
     "text": [
      "WARNING: Field info are not available for this data release [astroquery.sdss.field_names]\n",
      "WARNING: Field info are not available for this data release [astroquery.sdss.field_names]\n"
     ]
    },
    {
     "name": "stdout",
     "output_type": "stream",
     "text": [
      "Processing batch 153\n"
     ]
    },
    {
     "name": "stderr",
     "output_type": "stream",
     "text": [
      "WARNING: Field info are not available for this data release [astroquery.sdss.field_names]\n",
      "WARNING: Field info are not available for this data release [astroquery.sdss.field_names]\n"
     ]
    },
    {
     "name": "stdout",
     "output_type": "stream",
     "text": [
      "Processing batch 154\n"
     ]
    },
    {
     "name": "stderr",
     "output_type": "stream",
     "text": [
      "WARNING: Field info are not available for this data release [astroquery.sdss.field_names]\n",
      "WARNING: Field info are not available for this data release [astroquery.sdss.field_names]\n"
     ]
    },
    {
     "name": "stdout",
     "output_type": "stream",
     "text": [
      "Processing batch 155\n"
     ]
    },
    {
     "name": "stderr",
     "output_type": "stream",
     "text": [
      "WARNING: Field info are not available for this data release [astroquery.sdss.field_names]\n",
      "WARNING: Field info are not available for this data release [astroquery.sdss.field_names]\n"
     ]
    },
    {
     "name": "stdout",
     "output_type": "stream",
     "text": [
      "Processing batch 156\n"
     ]
    },
    {
     "name": "stderr",
     "output_type": "stream",
     "text": [
      "WARNING: Field info are not available for this data release [astroquery.sdss.field_names]\n",
      "WARNING: Field info are not available for this data release [astroquery.sdss.field_names]\n"
     ]
    },
    {
     "name": "stdout",
     "output_type": "stream",
     "text": [
      "Processing batch 157\n"
     ]
    },
    {
     "name": "stderr",
     "output_type": "stream",
     "text": [
      "WARNING: Field info are not available for this data release [astroquery.sdss.field_names]\n",
      "WARNING: Field info are not available for this data release [astroquery.sdss.field_names]\n"
     ]
    },
    {
     "name": "stdout",
     "output_type": "stream",
     "text": [
      "Processing batch 158\n"
     ]
    },
    {
     "name": "stderr",
     "output_type": "stream",
     "text": [
      "WARNING: Field info are not available for this data release [astroquery.sdss.field_names]\n",
      "WARNING: Field info are not available for this data release [astroquery.sdss.field_names]\n"
     ]
    },
    {
     "name": "stdout",
     "output_type": "stream",
     "text": [
      "Processing batch 159\n"
     ]
    },
    {
     "name": "stderr",
     "output_type": "stream",
     "text": [
      "WARNING: Field info are not available for this data release [astroquery.sdss.field_names]\n",
      "WARNING: Field info are not available for this data release [astroquery.sdss.field_names]\n"
     ]
    },
    {
     "name": "stdout",
     "output_type": "stream",
     "text": [
      "Processing batch 160\n"
     ]
    },
    {
     "name": "stderr",
     "output_type": "stream",
     "text": [
      "WARNING: Field info are not available for this data release [astroquery.sdss.field_names]\n",
      "WARNING: Field info are not available for this data release [astroquery.sdss.field_names]\n"
     ]
    },
    {
     "name": "stdout",
     "output_type": "stream",
     "text": [
      "Processing batch 161\n"
     ]
    },
    {
     "name": "stderr",
     "output_type": "stream",
     "text": [
      "WARNING: Field info are not available for this data release [astroquery.sdss.field_names]\n",
      "WARNING: Field info are not available for this data release [astroquery.sdss.field_names]\n"
     ]
    },
    {
     "name": "stdout",
     "output_type": "stream",
     "text": [
      "Processing batch 162\n"
     ]
    },
    {
     "name": "stderr",
     "output_type": "stream",
     "text": [
      "WARNING: Field info are not available for this data release [astroquery.sdss.field_names]\n",
      "WARNING: Field info are not available for this data release [astroquery.sdss.field_names]\n"
     ]
    },
    {
     "name": "stdout",
     "output_type": "stream",
     "text": [
      "Processing batch 163\n"
     ]
    },
    {
     "name": "stderr",
     "output_type": "stream",
     "text": [
      "WARNING: Field info are not available for this data release [astroquery.sdss.field_names]\n",
      "WARNING: Field info are not available for this data release [astroquery.sdss.field_names]\n"
     ]
    },
    {
     "name": "stdout",
     "output_type": "stream",
     "text": [
      "Processing batch 164\n"
     ]
    },
    {
     "name": "stderr",
     "output_type": "stream",
     "text": [
      "WARNING: Field info are not available for this data release [astroquery.sdss.field_names]\n",
      "WARNING: Field info are not available for this data release [astroquery.sdss.field_names]\n"
     ]
    },
    {
     "name": "stdout",
     "output_type": "stream",
     "text": [
      "Processing batch 165\n"
     ]
    },
    {
     "name": "stderr",
     "output_type": "stream",
     "text": [
      "WARNING: Field info are not available for this data release [astroquery.sdss.field_names]\n",
      "WARNING: Field info are not available for this data release [astroquery.sdss.field_names]\n"
     ]
    },
    {
     "name": "stdout",
     "output_type": "stream",
     "text": [
      "Processing batch 166\n"
     ]
    },
    {
     "name": "stderr",
     "output_type": "stream",
     "text": [
      "WARNING: Field info are not available for this data release [astroquery.sdss.field_names]\n",
      "WARNING: Field info are not available for this data release [astroquery.sdss.field_names]\n"
     ]
    },
    {
     "name": "stdout",
     "output_type": "stream",
     "text": [
      "Processing batch 167\n"
     ]
    },
    {
     "name": "stderr",
     "output_type": "stream",
     "text": [
      "WARNING: Field info are not available for this data release [astroquery.sdss.field_names]\n",
      "WARNING: Field info are not available for this data release [astroquery.sdss.field_names]\n"
     ]
    },
    {
     "name": "stdout",
     "output_type": "stream",
     "text": [
      "Processing batch 168\n"
     ]
    },
    {
     "name": "stderr",
     "output_type": "stream",
     "text": [
      "WARNING: Field info are not available for this data release [astroquery.sdss.field_names]\n",
      "WARNING: Field info are not available for this data release [astroquery.sdss.field_names]\n"
     ]
    },
    {
     "name": "stdout",
     "output_type": "stream",
     "text": [
      "Processing batch 169\n"
     ]
    },
    {
     "name": "stderr",
     "output_type": "stream",
     "text": [
      "WARNING: Field info are not available for this data release [astroquery.sdss.field_names]\n",
      "WARNING: Field info are not available for this data release [astroquery.sdss.field_names]\n"
     ]
    },
    {
     "name": "stdout",
     "output_type": "stream",
     "text": [
      "Processing batch 170\n"
     ]
    },
    {
     "name": "stderr",
     "output_type": "stream",
     "text": [
      "WARNING: Field info are not available for this data release [astroquery.sdss.field_names]\n",
      "WARNING: Field info are not available for this data release [astroquery.sdss.field_names]\n"
     ]
    },
    {
     "name": "stdout",
     "output_type": "stream",
     "text": [
      "Processing batch 171\n"
     ]
    },
    {
     "name": "stderr",
     "output_type": "stream",
     "text": [
      "WARNING: Field info are not available for this data release [astroquery.sdss.field_names]\n",
      "WARNING: Field info are not available for this data release [astroquery.sdss.field_names]\n"
     ]
    },
    {
     "name": "stdout",
     "output_type": "stream",
     "text": [
      "Processing batch 172\n"
     ]
    },
    {
     "name": "stderr",
     "output_type": "stream",
     "text": [
      "WARNING: Field info are not available for this data release [astroquery.sdss.field_names]\n",
      "WARNING: Field info are not available for this data release [astroquery.sdss.field_names]\n"
     ]
    },
    {
     "name": "stdout",
     "output_type": "stream",
     "text": [
      "Processing batch 173\n"
     ]
    },
    {
     "name": "stderr",
     "output_type": "stream",
     "text": [
      "WARNING: Field info are not available for this data release [astroquery.sdss.field_names]\n",
      "WARNING: Field info are not available for this data release [astroquery.sdss.field_names]\n"
     ]
    },
    {
     "name": "stdout",
     "output_type": "stream",
     "text": [
      "Processing batch 174\n"
     ]
    },
    {
     "name": "stderr",
     "output_type": "stream",
     "text": [
      "WARNING: Field info are not available for this data release [astroquery.sdss.field_names]\n",
      "WARNING: Field info are not available for this data release [astroquery.sdss.field_names]\n"
     ]
    },
    {
     "name": "stdout",
     "output_type": "stream",
     "text": [
      "Processing batch 175\n"
     ]
    },
    {
     "name": "stderr",
     "output_type": "stream",
     "text": [
      "WARNING: Field info are not available for this data release [astroquery.sdss.field_names]\n",
      "WARNING: Field info are not available for this data release [astroquery.sdss.field_names]\n"
     ]
    },
    {
     "name": "stdout",
     "output_type": "stream",
     "text": [
      "Processing batch 176\n"
     ]
    },
    {
     "name": "stderr",
     "output_type": "stream",
     "text": [
      "WARNING: Field info are not available for this data release [astroquery.sdss.field_names]\n",
      "WARNING: Field info are not available for this data release [astroquery.sdss.field_names]\n"
     ]
    },
    {
     "name": "stdout",
     "output_type": "stream",
     "text": [
      "Processing batch 177\n"
     ]
    },
    {
     "name": "stderr",
     "output_type": "stream",
     "text": [
      "WARNING: Field info are not available for this data release [astroquery.sdss.field_names]\n",
      "WARNING: Field info are not available for this data release [astroquery.sdss.field_names]\n"
     ]
    },
    {
     "name": "stdout",
     "output_type": "stream",
     "text": [
      "Processing batch 178\n"
     ]
    },
    {
     "name": "stderr",
     "output_type": "stream",
     "text": [
      "WARNING: Field info are not available for this data release [astroquery.sdss.field_names]\n",
      "WARNING: Field info are not available for this data release [astroquery.sdss.field_names]\n"
     ]
    },
    {
     "name": "stdout",
     "output_type": "stream",
     "text": [
      "Processing batch 179\n"
     ]
    },
    {
     "name": "stderr",
     "output_type": "stream",
     "text": [
      "WARNING: Field info are not available for this data release [astroquery.sdss.field_names]\n",
      "WARNING: Field info are not available for this data release [astroquery.sdss.field_names]\n"
     ]
    },
    {
     "name": "stdout",
     "output_type": "stream",
     "text": [
      "Processing batch 180\n"
     ]
    },
    {
     "name": "stderr",
     "output_type": "stream",
     "text": [
      "WARNING: Field info are not available for this data release [astroquery.sdss.field_names]\n",
      "WARNING: Field info are not available for this data release [astroquery.sdss.field_names]\n"
     ]
    },
    {
     "name": "stdout",
     "output_type": "stream",
     "text": [
      "Processing batch 181\n"
     ]
    },
    {
     "name": "stderr",
     "output_type": "stream",
     "text": [
      "WARNING: Field info are not available for this data release [astroquery.sdss.field_names]\n",
      "WARNING: Field info are not available for this data release [astroquery.sdss.field_names]\n"
     ]
    },
    {
     "name": "stdout",
     "output_type": "stream",
     "text": [
      "Processing batch 182\n"
     ]
    },
    {
     "name": "stderr",
     "output_type": "stream",
     "text": [
      "WARNING: Field info are not available for this data release [astroquery.sdss.field_names]\n",
      "WARNING: Field info are not available for this data release [astroquery.sdss.field_names]\n"
     ]
    },
    {
     "name": "stdout",
     "output_type": "stream",
     "text": [
      "Processing batch 183\n"
     ]
    },
    {
     "name": "stderr",
     "output_type": "stream",
     "text": [
      "WARNING: Field info are not available for this data release [astroquery.sdss.field_names]\n",
      "WARNING: Field info are not available for this data release [astroquery.sdss.field_names]\n"
     ]
    },
    {
     "name": "stdout",
     "output_type": "stream",
     "text": [
      "Processing batch 184\n"
     ]
    },
    {
     "name": "stderr",
     "output_type": "stream",
     "text": [
      "WARNING: Field info are not available for this data release [astroquery.sdss.field_names]\n",
      "WARNING: Field info are not available for this data release [astroquery.sdss.field_names]\n"
     ]
    },
    {
     "name": "stdout",
     "output_type": "stream",
     "text": [
      "Processing batch 185\n"
     ]
    },
    {
     "name": "stderr",
     "output_type": "stream",
     "text": [
      "WARNING: Field info are not available for this data release [astroquery.sdss.field_names]\n",
      "WARNING: Field info are not available for this data release [astroquery.sdss.field_names]\n"
     ]
    },
    {
     "name": "stdout",
     "output_type": "stream",
     "text": [
      "Processing batch 186\n"
     ]
    },
    {
     "name": "stderr",
     "output_type": "stream",
     "text": [
      "WARNING: Field info are not available for this data release [astroquery.sdss.field_names]\n",
      "WARNING: Field info are not available for this data release [astroquery.sdss.field_names]\n"
     ]
    },
    {
     "name": "stdout",
     "output_type": "stream",
     "text": [
      "Processing batch 187\n"
     ]
    },
    {
     "name": "stderr",
     "output_type": "stream",
     "text": [
      "WARNING: Field info are not available for this data release [astroquery.sdss.field_names]\n",
      "WARNING: Field info are not available for this data release [astroquery.sdss.field_names]\n"
     ]
    },
    {
     "name": "stdout",
     "output_type": "stream",
     "text": [
      "Processing batch 188\n"
     ]
    },
    {
     "name": "stderr",
     "output_type": "stream",
     "text": [
      "WARNING: Field info are not available for this data release [astroquery.sdss.field_names]\n",
      "WARNING: Field info are not available for this data release [astroquery.sdss.field_names]\n"
     ]
    },
    {
     "name": "stdout",
     "output_type": "stream",
     "text": [
      "Processing batch 189\n"
     ]
    },
    {
     "name": "stderr",
     "output_type": "stream",
     "text": [
      "WARNING: Field info are not available for this data release [astroquery.sdss.field_names]\n",
      "WARNING: Field info are not available for this data release [astroquery.sdss.field_names]\n"
     ]
    },
    {
     "name": "stdout",
     "output_type": "stream",
     "text": [
      "Processing batch 190\n"
     ]
    },
    {
     "name": "stderr",
     "output_type": "stream",
     "text": [
      "WARNING: Field info are not available for this data release [astroquery.sdss.field_names]\n",
      "WARNING: Field info are not available for this data release [astroquery.sdss.field_names]\n"
     ]
    },
    {
     "name": "stdout",
     "output_type": "stream",
     "text": [
      "Processing batch 191\n"
     ]
    },
    {
     "name": "stderr",
     "output_type": "stream",
     "text": [
      "WARNING: Field info are not available for this data release [astroquery.sdss.field_names]\n",
      "WARNING: Field info are not available for this data release [astroquery.sdss.field_names]\n"
     ]
    },
    {
     "name": "stdout",
     "output_type": "stream",
     "text": [
      "Processing batch 192\n"
     ]
    },
    {
     "name": "stderr",
     "output_type": "stream",
     "text": [
      "WARNING: Field info are not available for this data release [astroquery.sdss.field_names]\n",
      "WARNING: Field info are not available for this data release [astroquery.sdss.field_names]\n"
     ]
    },
    {
     "name": "stdout",
     "output_type": "stream",
     "text": [
      "Processing batch 193\n"
     ]
    },
    {
     "name": "stderr",
     "output_type": "stream",
     "text": [
      "WARNING: Field info are not available for this data release [astroquery.sdss.field_names]\n",
      "WARNING: Field info are not available for this data release [astroquery.sdss.field_names]\n"
     ]
    },
    {
     "name": "stdout",
     "output_type": "stream",
     "text": [
      "Processing batch 194\n"
     ]
    },
    {
     "name": "stderr",
     "output_type": "stream",
     "text": [
      "WARNING: Field info are not available for this data release [astroquery.sdss.field_names]\n",
      "WARNING: Field info are not available for this data release [astroquery.sdss.field_names]\n"
     ]
    },
    {
     "name": "stdout",
     "output_type": "stream",
     "text": [
      "Processing batch 195\n"
     ]
    },
    {
     "name": "stderr",
     "output_type": "stream",
     "text": [
      "WARNING: Field info are not available for this data release [astroquery.sdss.field_names]\n",
      "WARNING: Field info are not available for this data release [astroquery.sdss.field_names]\n"
     ]
    },
    {
     "name": "stdout",
     "output_type": "stream",
     "text": [
      "Processing batch 196\n"
     ]
    },
    {
     "name": "stderr",
     "output_type": "stream",
     "text": [
      "WARNING: Field info are not available for this data release [astroquery.sdss.field_names]\n",
      "WARNING: Field info are not available for this data release [astroquery.sdss.field_names]\n"
     ]
    },
    {
     "name": "stdout",
     "output_type": "stream",
     "text": [
      "Processing batch 197\n"
     ]
    },
    {
     "name": "stderr",
     "output_type": "stream",
     "text": [
      "WARNING: Field info are not available for this data release [astroquery.sdss.field_names]\n",
      "WARNING: Field info are not available for this data release [astroquery.sdss.field_names]\n"
     ]
    },
    {
     "name": "stdout",
     "output_type": "stream",
     "text": [
      "Processing batch 198\n"
     ]
    },
    {
     "name": "stderr",
     "output_type": "stream",
     "text": [
      "WARNING: Field info are not available for this data release [astroquery.sdss.field_names]\n",
      "WARNING: Field info are not available for this data release [astroquery.sdss.field_names]\n"
     ]
    },
    {
     "name": "stdout",
     "output_type": "stream",
     "text": [
      "Processing batch 199\n"
     ]
    },
    {
     "name": "stderr",
     "output_type": "stream",
     "text": [
      "WARNING: Field info are not available for this data release [astroquery.sdss.field_names]\n",
      "WARNING: Field info are not available for this data release [astroquery.sdss.field_names]\n"
     ]
    }
   ],
   "source": [
    "def split_dataframe(data, no_of_batches):\n",
    "    batch_size = math.ceil(data.shape[0] / no_of_batches)\n",
    "    batched_df = [data[i:i+batch_size] for i in range(0,data.shape[0], batch_size)]\n",
    "    return batched_df\n",
    "\n",
    "\n",
    "##THERE IS SOMETHING WRONG WITH THIS CODE - produces 2.6 times the amount of data given??????\n",
    "\n",
    "def get_SDSS_info_batch():\n",
    "    batched_df = split_dataframe(catalog,200) #30s per batch, more than this seems to fail\n",
    "\n",
    "    if os.path.exists(OUTPUT_PATH):\n",
    "        os.remove(OUTPUT_PATH)\n",
    "\n",
    "    for i, batch in enumerate(batched_df):\n",
    "        print(f\"Processing batch {i}\")\n",
    "        \n",
    "        coords = SkyCoord(batch[\"RA\"],batch[\"DEC\"],unit=(u.hourangle, u.deg))\n",
    "\n",
    "        results = SDSS.query_region(coords,data_release=7,radius=RADIUS,photoobj_fields=[\"objID\",\"r\",\"err_r\",\"petroR50_r\",\"petroR50Err_r\"],spectro=True).to_pandas()\n",
    "        #print(results)\n",
    "        #\n",
    "\n",
    "        merged_batch = pd.merge(batch,results, how='left', left_on='OBJID', right_on='objID')\n",
    "\n",
    "        time.sleep(1)\n",
    "\n",
    "        merged_batch.to_csv(OUTPUT_PATH, mode='a', header=not os.path.exists(OUTPUT_PATH),index=False)\n",
    "\n",
    "        #break\n"
   ]
  },
  {
   "cell_type": "markdown",
   "metadata": {},
   "source": []
  }
 ],
 "metadata": {
  "kernelspec": {
   "display_name": "mphys-galaxy",
   "language": "python",
   "name": "python3"
  },
  "language_info": {
   "codemirror_mode": {
    "name": "ipython",
    "version": 3
   },
   "file_extension": ".py",
   "mimetype": "text/x-python",
   "name": "python",
   "nbconvert_exporter": "python",
   "pygments_lexer": "ipython3",
   "version": "3.11.5"
  }
 },
 "nbformat": 4,
 "nbformat_minor": 2
}

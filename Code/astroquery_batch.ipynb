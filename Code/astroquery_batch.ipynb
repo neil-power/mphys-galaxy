{
 "cells": [
  {
   "cell_type": "markdown",
   "metadata": {},
   "source": [
    "## SDSS Astroquery Batch\n",
    "\n",
    "Batch runs through the images used in the GZ1 (SDSS DR7) dataset and returns half-light radii etc for data cuts"
   ]
  },
  {
   "cell_type": "code",
   "execution_count": 33,
   "metadata": {},
   "outputs": [],
   "source": [
    "import numpy as np\n",
    "import pandas as pd\n",
    "import time\n",
    "import math\n",
    "import os\n",
    "import random\n",
    "import astropy.units as u\n",
    "from astroquery.sdss import SDSS\n",
    "from astropy.coordinates import SkyCoord"
   ]
  },
  {
   "cell_type": "code",
   "execution_count": 34,
   "metadata": {},
   "outputs": [],
   "source": [
    "CATALOG_PATH = '../Data/gz1_desi_cross_cat.csv'\n",
    "OUTPUT_PATH = '../Data/gz1_desi_cross_cat_queried2.csv'\n",
    "RADIUS = \"1 arcsec\"\n",
    "catalog = pd.read_csv(CATALOG_PATH)"
   ]
  },
  {
   "cell_type": "code",
   "execution_count": 40,
   "metadata": {},
   "outputs": [
    {
     "name": "stdout",
     "output_type": "stream",
     "text": [
      "Processing batch 0\n"
     ]
    },
    {
     "name": "stderr",
     "output_type": "stream",
     "text": [
      "WARNING: Field info are not available for this data release [astroquery.sdss.field_names]\n",
      "WARNING: Field info are not available for this data release [astroquery.sdss.field_names]\n",
      "C:\\Users\\Neil Power\\AppData\\Local\\Temp\\ipykernel_17192\\3842831564.py:28: SettingWithCopyWarning: \n",
      "A value is trying to be set on a copy of a slice from a DataFrame.\n",
      "Try using .loc[row_indexer,col_indexer] = value instead\n",
      "\n",
      "See the caveats in the documentation: https://pandas.pydata.org/pandas-docs/stable/user_guide/indexing.html#returning-a-view-versus-a-copy\n",
      "  batch['OBJID'] = batch['OBJID'].astype(str).str.strip()\n"
     ]
    },
    {
     "name": "stdout",
     "output_type": "stream",
     "text": [
      "587727177912680556\n",
      "587727177912680556\n",
      "True\n",
      "324\n",
      "325\n",
      "325\n",
      "324\n"
     ]
    }
   ],
   "source": [
    "def split_dataframe(data, no_of_batches):\n",
    "    batch_size = math.ceil(data.shape[0] / no_of_batches)\n",
    "    batched_df = [data[i:i+batch_size] for i in range(0,data.shape[0], batch_size)]\n",
    "    return batched_df\n",
    "\n",
    "\n",
    "\n",
    "\n",
    "def get_SDSS_info_batch():\n",
    "    batched_df = split_dataframe(catalog,2000) #30s per batch, more than this seems to fail\n",
    "\n",
    "    if os.path.exists(OUTPUT_PATH):\n",
    "        os.remove(OUTPUT_PATH)\n",
    "\n",
    "    for i, batch in enumerate(batched_df):\n",
    "        print(f\"Processing batch {i}\")\n",
    "        \n",
    "        coords = SkyCoord(batch[\"RA\"],batch[\"DEC\"],unit=(u.hourangle, u.deg))\n",
    "\n",
    "        results = SDSS.query_region(coords,data_release=7,radius=RADIUS,photoobj_fields=[\"objID\",\"ra\",\"dec\",\"err_r\",\"petroR50_r\",\"petroR50Err_r\"],spectro=True).to_pandas()\n",
    "        #print(results)\n",
    "        \n",
    "\n",
    "        ##THERE IS SOMETHING WRONG WITH THIS CODE - produces 2.6 times the amount of data given??????\n",
    "        print(batch['OBJID'][0])\n",
    "        print(results['objID'][0])\n",
    "        print(batch['OBJID'][0]==results['objID'][0])\n",
    "        batch['OBJID'] = batch['OBJID'].astype(str).str.strip()\n",
    "        results['objID'] = results['objID'].astype(str).str.strip()\n",
    "        #print(results['objID'][0])\n",
    "        merged_batch = pd.merge(batch,results, how='inner', left_on='OBJID', right_on='objID') # this doesn't work\n",
    "\n",
    "        # Filter out extra objects\n",
    "        filtered_df = merged_batch[(merged_batch['OBJID'] != merged_batch['OBJID'].shift(-1))]\n",
    "\n",
    "        # Remove the last row if it's an extra object\n",
    "        if merged_batch.iloc[-1]['OBJID'] != merged_batch.iloc[-1]['OBJID']:\n",
    "            filtered_df = filtered_df[:-1]\n",
    "\n",
    "\n",
    "        time.sleep(1)\n",
    "        print(len(batch))\n",
    "        print(len(results)) # this gives more results than batch?\n",
    "        print(len(merged_batch))\n",
    "        print(len(filtered_df))\n",
    "\n",
    "\n",
    "        #not_in_df1 = [objid for objid in results['objID'] if objid not in batch['OBJID']]\n",
    "\n",
    "        #print(not_in_df1)\n",
    "        results.to_csv(\"test.csv\")\n",
    "        batch.to_csv(\"test2.csv\")\n",
    "        merged_batch.to_csv(OUTPUT_PATH, mode='a', header=not os.path.exists(OUTPUT_PATH),index=False)\n",
    "\n",
    "        break\n",
    "\n",
    "\n",
    "get_SDSS_info_batch()"
   ]
  },
  {
   "cell_type": "code",
   "execution_count": 36,
   "metadata": {},
   "outputs": [
    {
     "ename": "KeyError",
     "evalue": "\"['Unnamed: 0.1'] not found in axis\"",
     "output_type": "error",
     "traceback": [
      "\u001b[1;31m---------------------------------------------------------------------------\u001b[0m",
      "\u001b[1;31mKeyError\u001b[0m                                  Traceback (most recent call last)",
      "Cell \u001b[1;32mIn[36], line 2\u001b[0m\n\u001b[0;32m      1\u001b[0m \u001b[38;5;66;03m#reduced =  catalog.drop_duplicates(subset=['OBJID'])\u001b[39;00m\n\u001b[1;32m----> 2\u001b[0m reduced \u001b[38;5;241m=\u001b[39m catalog\u001b[38;5;241m.\u001b[39mdrop([\u001b[38;5;124m\"\u001b[39m\u001b[38;5;124mUnnamed: 0\u001b[39m\u001b[38;5;124m\"\u001b[39m,\u001b[38;5;124m\"\u001b[39m\u001b[38;5;124mUnnamed: 0.1\u001b[39m\u001b[38;5;124m\"\u001b[39m],axis\u001b[38;5;241m=\u001b[39m\u001b[38;5;241m1\u001b[39m)\n\u001b[0;32m      3\u001b[0m \u001b[38;5;28mprint\u001b[39m(reduced\u001b[38;5;241m.\u001b[39mshape[\u001b[38;5;241m0\u001b[39m])\n\u001b[0;32m      4\u001b[0m \u001b[38;5;28mprint\u001b[39m(\u001b[38;5;124mf\u001b[39m\u001b[38;5;124m\"\u001b[39m\u001b[38;5;124mNumber of galaxies in GZ1 catalogue: \u001b[39m\u001b[38;5;132;01m{\u001b[39;00mcatalog\u001b[38;5;241m.\u001b[39mshape[\u001b[38;5;241m0\u001b[39m]\u001b[38;5;132;01m}\u001b[39;00m\u001b[38;5;124m\"\u001b[39m)\n",
      "File \u001b[1;32mc:\\ProgramData\\miniconda3\\envs\\mphys-galaxy\\Lib\\site-packages\\pandas\\core\\frame.py:5344\u001b[0m, in \u001b[0;36mDataFrame.drop\u001b[1;34m(self, labels, axis, index, columns, level, inplace, errors)\u001b[0m\n\u001b[0;32m   5196\u001b[0m \u001b[38;5;28;01mdef\u001b[39;00m \u001b[38;5;21mdrop\u001b[39m(\n\u001b[0;32m   5197\u001b[0m     \u001b[38;5;28mself\u001b[39m,\n\u001b[0;32m   5198\u001b[0m     labels: IndexLabel \u001b[38;5;241m|\u001b[39m \u001b[38;5;28;01mNone\u001b[39;00m \u001b[38;5;241m=\u001b[39m \u001b[38;5;28;01mNone\u001b[39;00m,\n\u001b[1;32m   (...)\u001b[0m\n\u001b[0;32m   5205\u001b[0m     errors: IgnoreRaise \u001b[38;5;241m=\u001b[39m \u001b[38;5;124m\"\u001b[39m\u001b[38;5;124mraise\u001b[39m\u001b[38;5;124m\"\u001b[39m,\n\u001b[0;32m   5206\u001b[0m ) \u001b[38;5;241m-\u001b[39m\u001b[38;5;241m>\u001b[39m DataFrame \u001b[38;5;241m|\u001b[39m \u001b[38;5;28;01mNone\u001b[39;00m:\n\u001b[0;32m   5207\u001b[0m \u001b[38;5;250m    \u001b[39m\u001b[38;5;124;03m\"\"\"\u001b[39;00m\n\u001b[0;32m   5208\u001b[0m \u001b[38;5;124;03m    Drop specified labels from rows or columns.\u001b[39;00m\n\u001b[0;32m   5209\u001b[0m \n\u001b[1;32m   (...)\u001b[0m\n\u001b[0;32m   5342\u001b[0m \u001b[38;5;124;03m            weight  1.0     0.8\u001b[39;00m\n\u001b[0;32m   5343\u001b[0m \u001b[38;5;124;03m    \"\"\"\u001b[39;00m\n\u001b[1;32m-> 5344\u001b[0m     \u001b[38;5;28;01mreturn\u001b[39;00m \u001b[38;5;28msuper\u001b[39m()\u001b[38;5;241m.\u001b[39mdrop(\n\u001b[0;32m   5345\u001b[0m         labels\u001b[38;5;241m=\u001b[39mlabels,\n\u001b[0;32m   5346\u001b[0m         axis\u001b[38;5;241m=\u001b[39maxis,\n\u001b[0;32m   5347\u001b[0m         index\u001b[38;5;241m=\u001b[39mindex,\n\u001b[0;32m   5348\u001b[0m         columns\u001b[38;5;241m=\u001b[39mcolumns,\n\u001b[0;32m   5349\u001b[0m         level\u001b[38;5;241m=\u001b[39mlevel,\n\u001b[0;32m   5350\u001b[0m         inplace\u001b[38;5;241m=\u001b[39minplace,\n\u001b[0;32m   5351\u001b[0m         errors\u001b[38;5;241m=\u001b[39merrors,\n\u001b[0;32m   5352\u001b[0m     )\n",
      "File \u001b[1;32mc:\\ProgramData\\miniconda3\\envs\\mphys-galaxy\\Lib\\site-packages\\pandas\\core\\generic.py:4711\u001b[0m, in \u001b[0;36mNDFrame.drop\u001b[1;34m(self, labels, axis, index, columns, level, inplace, errors)\u001b[0m\n\u001b[0;32m   4709\u001b[0m \u001b[38;5;28;01mfor\u001b[39;00m axis, labels \u001b[38;5;129;01min\u001b[39;00m axes\u001b[38;5;241m.\u001b[39mitems():\n\u001b[0;32m   4710\u001b[0m     \u001b[38;5;28;01mif\u001b[39;00m labels \u001b[38;5;129;01mis\u001b[39;00m \u001b[38;5;129;01mnot\u001b[39;00m \u001b[38;5;28;01mNone\u001b[39;00m:\n\u001b[1;32m-> 4711\u001b[0m         obj \u001b[38;5;241m=\u001b[39m obj\u001b[38;5;241m.\u001b[39m_drop_axis(labels, axis, level\u001b[38;5;241m=\u001b[39mlevel, errors\u001b[38;5;241m=\u001b[39merrors)\n\u001b[0;32m   4713\u001b[0m \u001b[38;5;28;01mif\u001b[39;00m inplace:\n\u001b[0;32m   4714\u001b[0m     \u001b[38;5;28mself\u001b[39m\u001b[38;5;241m.\u001b[39m_update_inplace(obj)\n",
      "File \u001b[1;32mc:\\ProgramData\\miniconda3\\envs\\mphys-galaxy\\Lib\\site-packages\\pandas\\core\\generic.py:4753\u001b[0m, in \u001b[0;36mNDFrame._drop_axis\u001b[1;34m(self, labels, axis, level, errors, only_slice)\u001b[0m\n\u001b[0;32m   4751\u001b[0m         new_axis \u001b[38;5;241m=\u001b[39m axis\u001b[38;5;241m.\u001b[39mdrop(labels, level\u001b[38;5;241m=\u001b[39mlevel, errors\u001b[38;5;241m=\u001b[39merrors)\n\u001b[0;32m   4752\u001b[0m     \u001b[38;5;28;01melse\u001b[39;00m:\n\u001b[1;32m-> 4753\u001b[0m         new_axis \u001b[38;5;241m=\u001b[39m axis\u001b[38;5;241m.\u001b[39mdrop(labels, errors\u001b[38;5;241m=\u001b[39merrors)\n\u001b[0;32m   4754\u001b[0m     indexer \u001b[38;5;241m=\u001b[39m axis\u001b[38;5;241m.\u001b[39mget_indexer(new_axis)\n\u001b[0;32m   4756\u001b[0m \u001b[38;5;66;03m# Case for non-unique axis\u001b[39;00m\n\u001b[0;32m   4757\u001b[0m \u001b[38;5;28;01melse\u001b[39;00m:\n",
      "File \u001b[1;32mc:\\ProgramData\\miniconda3\\envs\\mphys-galaxy\\Lib\\site-packages\\pandas\\core\\indexes\\base.py:7000\u001b[0m, in \u001b[0;36mIndex.drop\u001b[1;34m(self, labels, errors)\u001b[0m\n\u001b[0;32m   6998\u001b[0m \u001b[38;5;28;01mif\u001b[39;00m mask\u001b[38;5;241m.\u001b[39many():\n\u001b[0;32m   6999\u001b[0m     \u001b[38;5;28;01mif\u001b[39;00m errors \u001b[38;5;241m!=\u001b[39m \u001b[38;5;124m\"\u001b[39m\u001b[38;5;124mignore\u001b[39m\u001b[38;5;124m\"\u001b[39m:\n\u001b[1;32m-> 7000\u001b[0m         \u001b[38;5;28;01mraise\u001b[39;00m \u001b[38;5;167;01mKeyError\u001b[39;00m(\u001b[38;5;124mf\u001b[39m\u001b[38;5;124m\"\u001b[39m\u001b[38;5;132;01m{\u001b[39;00mlabels[mask]\u001b[38;5;241m.\u001b[39mtolist()\u001b[38;5;132;01m}\u001b[39;00m\u001b[38;5;124m not found in axis\u001b[39m\u001b[38;5;124m\"\u001b[39m)\n\u001b[0;32m   7001\u001b[0m     indexer \u001b[38;5;241m=\u001b[39m indexer[\u001b[38;5;241m~\u001b[39mmask]\n\u001b[0;32m   7002\u001b[0m \u001b[38;5;28;01mreturn\u001b[39;00m \u001b[38;5;28mself\u001b[39m\u001b[38;5;241m.\u001b[39mdelete(indexer)\n",
      "\u001b[1;31mKeyError\u001b[0m: \"['Unnamed: 0.1'] not found in axis\""
     ]
    }
   ],
   "source": [
    "#reduced =  catalog.drop_duplicates(subset=['OBJID'])\n",
    "reduced = catalog.drop([\"Unnamed: 0\",\"Unnamed: 0.1\"],axis=1)\n",
    "print(reduced.shape[0])\n",
    "print(f\"Number of galaxies in GZ1 catalogue: {catalog.shape[0]}\")\n",
    "print(f\"Columns: {catalog.columns.values}\")\n",
    "reduced.head(10)\n",
    "#reduced.to_csv(OUTPUT_PATH,index=False)"
   ]
  },
  {
   "cell_type": "markdown",
   "metadata": {},
   "source": []
  }
 ],
 "metadata": {
  "kernelspec": {
   "display_name": "mphys-galaxy",
   "language": "python",
   "name": "python3"
  },
  "language_info": {
   "codemirror_mode": {
    "name": "ipython",
    "version": 3
   },
   "file_extension": ".py",
   "mimetype": "text/x-python",
   "name": "python",
   "nbconvert_exporter": "python",
   "pygments_lexer": "ipython3",
   "version": "3.11.5"
  }
 },
 "nbformat": 4,
 "nbformat_minor": 2
}

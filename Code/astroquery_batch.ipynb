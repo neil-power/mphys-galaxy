{
 "cells": [
  {
   "cell_type": "markdown",
   "metadata": {},
   "source": [
    "## SDSS Astroquery Batch\n",
    "\n",
    "Batch runs through the images used in the GZ1 (SDSS DR7) dataset and returns half-light radii etc for data cuts"
   ]
  },
  {
   "cell_type": "code",
   "execution_count": 13,
   "metadata": {},
   "outputs": [],
   "source": [
    "import numpy as np\n",
    "import pandas as pd\n",
    "import time\n",
    "import math\n",
    "import os\n",
    "import random\n",
    "import astropy.units as u\n",
    "from astroquery.sdss import SDSS\n",
    "from astropy.coordinates import SkyCoord"
   ]
  },
  {
   "cell_type": "code",
   "execution_count": 14,
   "metadata": {},
   "outputs": [],
   "source": [
    "CATALOG_PATH = '../Data/gz1_desi_cross_cat.csv'\n",
    "OUTPUT_PATH = '../Data/gz1_desi_cross_cat_queried.csv'\n",
    "RADIUS = \"1 arcsec\"\n",
    "catalog = pd.read_csv(CATALOG_PATH)"
   ]
  },
  {
   "cell_type": "code",
   "execution_count": 15,
   "metadata": {},
   "outputs": [
    {
     "name": "stdout",
     "output_type": "stream",
     "text": [
      "Processing batch 0\n"
     ]
    },
    {
     "name": "stderr",
     "output_type": "stream",
     "text": [
      "WARNING: Field info are not available for this data release [astroquery.sdss.field_names]\n",
      "WARNING: Field info are not available for this data release [astroquery.sdss.field_names]\n"
     ]
    },
    {
     "name": "stdout",
     "output_type": "stream",
     "text": [
      "Processing batch 1\n"
     ]
    },
    {
     "name": "stderr",
     "output_type": "stream",
     "text": [
      "WARNING: Field info are not available for this data release [astroquery.sdss.field_names]\n",
      "WARNING: Field info are not available for this data release [astroquery.sdss.field_names]\n"
     ]
    },
    {
     "name": "stdout",
     "output_type": "stream",
     "text": [
      "Processing batch 2\n"
     ]
    },
    {
     "name": "stderr",
     "output_type": "stream",
     "text": [
      "WARNING: Field info are not available for this data release [astroquery.sdss.field_names]\n",
      "WARNING: Field info are not available for this data release [astroquery.sdss.field_names]\n"
     ]
    },
    {
     "name": "stdout",
     "output_type": "stream",
     "text": [
      "Processing batch 3\n"
     ]
    },
    {
     "name": "stderr",
     "output_type": "stream",
     "text": [
      "WARNING: Field info are not available for this data release [astroquery.sdss.field_names]\n",
      "WARNING: Field info are not available for this data release [astroquery.sdss.field_names]\n"
     ]
    },
    {
     "name": "stdout",
     "output_type": "stream",
     "text": [
      "Processing batch 4\n"
     ]
    },
    {
     "name": "stderr",
     "output_type": "stream",
     "text": [
      "WARNING: Field info are not available for this data release [astroquery.sdss.field_names]\n",
      "WARNING: Field info are not available for this data release [astroquery.sdss.field_names]\n"
     ]
    },
    {
     "name": "stdout",
     "output_type": "stream",
     "text": [
      "Processing batch 5\n"
     ]
    },
    {
     "name": "stderr",
     "output_type": "stream",
     "text": [
      "WARNING: Field info are not available for this data release [astroquery.sdss.field_names]\n",
      "WARNING: Field info are not available for this data release [astroquery.sdss.field_names]\n"
     ]
    },
    {
     "name": "stdout",
     "output_type": "stream",
     "text": [
      "Processing batch 6\n"
     ]
    },
    {
     "name": "stderr",
     "output_type": "stream",
     "text": [
      "WARNING: Field info are not available for this data release [astroquery.sdss.field_names]\n",
      "WARNING: Field info are not available for this data release [astroquery.sdss.field_names]\n"
     ]
    },
    {
     "name": "stdout",
     "output_type": "stream",
     "text": [
      "Processing batch 7\n"
     ]
    },
    {
     "name": "stderr",
     "output_type": "stream",
     "text": [
      "WARNING: Field info are not available for this data release [astroquery.sdss.field_names]\n",
      "WARNING: Field info are not available for this data release [astroquery.sdss.field_names]\n"
     ]
    },
    {
     "name": "stdout",
     "output_type": "stream",
     "text": [
      "Processing batch 8\n"
     ]
    },
    {
     "name": "stderr",
     "output_type": "stream",
     "text": [
      "WARNING: Field info are not available for this data release [astroquery.sdss.field_names]\n",
      "WARNING: Field info are not available for this data release [astroquery.sdss.field_names]\n"
     ]
    },
    {
     "name": "stdout",
     "output_type": "stream",
     "text": [
      "Processing batch 9\n"
     ]
    },
    {
     "name": "stderr",
     "output_type": "stream",
     "text": [
      "WARNING: Field info are not available for this data release [astroquery.sdss.field_names]\n",
      "WARNING: Field info are not available for this data release [astroquery.sdss.field_names]\n"
     ]
    },
    {
     "name": "stdout",
     "output_type": "stream",
     "text": [
      "Processing batch 10\n"
     ]
    },
    {
     "name": "stderr",
     "output_type": "stream",
     "text": [
      "WARNING: Field info are not available for this data release [astroquery.sdss.field_names]\n",
      "WARNING: Field info are not available for this data release [astroquery.sdss.field_names]\n"
     ]
    },
    {
     "name": "stdout",
     "output_type": "stream",
     "text": [
      "Processing batch 11\n"
     ]
    },
    {
     "name": "stderr",
     "output_type": "stream",
     "text": [
      "WARNING: Field info are not available for this data release [astroquery.sdss.field_names]\n",
      "WARNING: Field info are not available for this data release [astroquery.sdss.field_names]\n"
     ]
    },
    {
     "name": "stdout",
     "output_type": "stream",
     "text": [
      "Processing batch 12\n"
     ]
    },
    {
     "name": "stderr",
     "output_type": "stream",
     "text": [
      "WARNING: Field info are not available for this data release [astroquery.sdss.field_names]\n",
      "WARNING: Field info are not available for this data release [astroquery.sdss.field_names]\n"
     ]
    },
    {
     "name": "stdout",
     "output_type": "stream",
     "text": [
      "Processing batch 13\n"
     ]
    },
    {
     "name": "stderr",
     "output_type": "stream",
     "text": [
      "WARNING: Field info are not available for this data release [astroquery.sdss.field_names]\n",
      "WARNING: Field info are not available for this data release [astroquery.sdss.field_names]\n"
     ]
    },
    {
     "name": "stdout",
     "output_type": "stream",
     "text": [
      "Processing batch 14\n"
     ]
    },
    {
     "name": "stderr",
     "output_type": "stream",
     "text": [
      "WARNING: Field info are not available for this data release [astroquery.sdss.field_names]\n",
      "WARNING: Field info are not available for this data release [astroquery.sdss.field_names]\n"
     ]
    },
    {
     "name": "stdout",
     "output_type": "stream",
     "text": [
      "Processing batch 15\n"
     ]
    },
    {
     "name": "stderr",
     "output_type": "stream",
     "text": [
      "WARNING: Field info are not available for this data release [astroquery.sdss.field_names]\n",
      "WARNING: Field info are not available for this data release [astroquery.sdss.field_names]\n"
     ]
    },
    {
     "name": "stdout",
     "output_type": "stream",
     "text": [
      "Processing batch 16\n"
     ]
    },
    {
     "name": "stderr",
     "output_type": "stream",
     "text": [
      "WARNING: Field info are not available for this data release [astroquery.sdss.field_names]\n",
      "WARNING: Field info are not available for this data release [astroquery.sdss.field_names]\n"
     ]
    },
    {
     "name": "stdout",
     "output_type": "stream",
     "text": [
      "Processing batch 17\n"
     ]
    },
    {
     "name": "stderr",
     "output_type": "stream",
     "text": [
      "WARNING: Field info are not available for this data release [astroquery.sdss.field_names]\n",
      "WARNING: Field info are not available for this data release [astroquery.sdss.field_names]\n"
     ]
    },
    {
     "name": "stdout",
     "output_type": "stream",
     "text": [
      "Processing batch 18\n"
     ]
    },
    {
     "name": "stderr",
     "output_type": "stream",
     "text": [
      "WARNING: Field info are not available for this data release [astroquery.sdss.field_names]\n",
      "WARNING: Field info are not available for this data release [astroquery.sdss.field_names]\n"
     ]
    },
    {
     "name": "stdout",
     "output_type": "stream",
     "text": [
      "Processing batch 19\n"
     ]
    },
    {
     "name": "stderr",
     "output_type": "stream",
     "text": [
      "WARNING: Field info are not available for this data release [astroquery.sdss.field_names]\n",
      "WARNING: Field info are not available for this data release [astroquery.sdss.field_names]\n"
     ]
    },
    {
     "name": "stdout",
     "output_type": "stream",
     "text": [
      "Processing batch 20\n"
     ]
    },
    {
     "name": "stderr",
     "output_type": "stream",
     "text": [
      "WARNING: Field info are not available for this data release [astroquery.sdss.field_names]\n",
      "WARNING: Field info are not available for this data release [astroquery.sdss.field_names]\n"
     ]
    },
    {
     "name": "stdout",
     "output_type": "stream",
     "text": [
      "Processing batch 21\n"
     ]
    },
    {
     "name": "stderr",
     "output_type": "stream",
     "text": [
      "WARNING: Field info are not available for this data release [astroquery.sdss.field_names]\n",
      "WARNING: Field info are not available for this data release [astroquery.sdss.field_names]\n"
     ]
    },
    {
     "name": "stdout",
     "output_type": "stream",
     "text": [
      "Processing batch 22\n"
     ]
    },
    {
     "name": "stderr",
     "output_type": "stream",
     "text": [
      "WARNING: Field info are not available for this data release [astroquery.sdss.field_names]\n",
      "WARNING: Field info are not available for this data release [astroquery.sdss.field_names]\n"
     ]
    },
    {
     "name": "stdout",
     "output_type": "stream",
     "text": [
      "Processing batch 23\n"
     ]
    },
    {
     "name": "stderr",
     "output_type": "stream",
     "text": [
      "WARNING: Field info are not available for this data release [astroquery.sdss.field_names]\n",
      "WARNING: Field info are not available for this data release [astroquery.sdss.field_names]\n"
     ]
    },
    {
     "name": "stdout",
     "output_type": "stream",
     "text": [
      "Processing batch 24\n"
     ]
    },
    {
     "name": "stderr",
     "output_type": "stream",
     "text": [
      "WARNING: Field info are not available for this data release [astroquery.sdss.field_names]\n",
      "WARNING: Field info are not available for this data release [astroquery.sdss.field_names]\n"
     ]
    },
    {
     "name": "stdout",
     "output_type": "stream",
     "text": [
      "Processing batch 25\n"
     ]
    },
    {
     "name": "stderr",
     "output_type": "stream",
     "text": [
      "WARNING: Field info are not available for this data release [astroquery.sdss.field_names]\n",
      "WARNING: Field info are not available for this data release [astroquery.sdss.field_names]\n"
     ]
    },
    {
     "name": "stdout",
     "output_type": "stream",
     "text": [
      "Processing batch 26\n"
     ]
    },
    {
     "name": "stderr",
     "output_type": "stream",
     "text": [
      "WARNING: Field info are not available for this data release [astroquery.sdss.field_names]\n",
      "WARNING: Field info are not available for this data release [astroquery.sdss.field_names]\n"
     ]
    },
    {
     "name": "stdout",
     "output_type": "stream",
     "text": [
      "Processing batch 27\n"
     ]
    },
    {
     "name": "stderr",
     "output_type": "stream",
     "text": [
      "WARNING: Field info are not available for this data release [astroquery.sdss.field_names]\n",
      "WARNING: Field info are not available for this data release [astroquery.sdss.field_names]\n"
     ]
    },
    {
     "name": "stdout",
     "output_type": "stream",
     "text": [
      "Processing batch 28\n"
     ]
    },
    {
     "name": "stderr",
     "output_type": "stream",
     "text": [
      "WARNING: Field info are not available for this data release [astroquery.sdss.field_names]\n",
      "WARNING: Field info are not available for this data release [astroquery.sdss.field_names]\n"
     ]
    },
    {
     "name": "stdout",
     "output_type": "stream",
     "text": [
      "Processing batch 29\n"
     ]
    },
    {
     "name": "stderr",
     "output_type": "stream",
     "text": [
      "WARNING: Field info are not available for this data release [astroquery.sdss.field_names]\n",
      "WARNING: Field info are not available for this data release [astroquery.sdss.field_names]\n"
     ]
    }
   ],
   "source": [
    "def split_dataframe(data, no_of_batches):\n",
    "    batch_size = math.ceil(data.shape[0] / no_of_batches)\n",
    "    batched_df = [data[i:i+batch_size] for i in range(0,data.shape[0], batch_size)]\n",
    "    return batched_df\n",
    "\n",
    "batched_df = split_dataframe(catalog,200) #30s per batch, more than this seems to fail\n",
    "\n",
    "if os.path.exists(OUTPUT_PATH):\n",
    "    os.remove(OUTPUT_PATH)\n",
    "\n",
    "for i, batch in enumerate(batched_df):\n",
    "    print(f\"Processing batch {i}\")\n",
    "    \n",
    "    coords = SkyCoord(batch[\"RA\"],batch[\"DEC\"],unit=(u.hourangle, u.deg))\n",
    "\n",
    "    results = SDSS.query_region(coords,data_release=7,radius=RADIUS,photoobj_fields=[\"objID\",\"r\",\"err_r\",\"petroR50_r\",\"petroR50Err_r\"],spectro=True).to_pandas()\n",
    "    #print(results)\n",
    "    #\n",
    "\n",
    "    merged_batch = pd.merge(batch,results, how='left', left_on='OBJID', right_on='objID')\n",
    "\n",
    "    time.sleep(1)\n",
    "\n",
    "    merged_batch.to_csv(OUTPUT_PATH, mode='a', header=not os.path.exists(OUTPUT_PATH),index=False)\n",
    "\n",
    "    #break\n"
   ]
  },
  {
   "cell_type": "markdown",
   "metadata": {},
   "source": []
  }
 ],
 "metadata": {
  "kernelspec": {
   "display_name": "mphys-galaxy",
   "language": "python",
   "name": "python3"
  },
  "language_info": {
   "codemirror_mode": {
    "name": "ipython",
    "version": 3
   },
   "file_extension": ".py",
   "mimetype": "text/x-python",
   "name": "python",
   "nbconvert_exporter": "python",
   "pygments_lexer": "ipython3",
   "version": "3.11.5"
  }
 },
 "nbformat": 4,
 "nbformat_minor": 2
}

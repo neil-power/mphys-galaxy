{
 "cells": [
  {
   "cell_type": "code",
   "execution_count": 1,
   "metadata": {},
   "outputs": [
    {
     "name": "stdout",
     "output_type": "stream",
     "text": [
      "GZDESI/GZRings/GZCD not available from galaxy_datasets.pytorch.datasets - skipping\n"
     ]
    }
   ],
   "source": [
    "import math\n",
    "import numpy as np\n",
    "import pylab as pl\n",
    "import pandas as pd\n",
    "from torchinfo import summary\n",
    "import torchvision.models as models\n",
    "from custom_models.G_ResNet import G_ResNet50,G_ResNet18\n",
    "from custom_models.CE_ResNet import CE_Resnet50\n",
    "from dataset_utils import *\n",
    "from enum import Enum\n",
    "\n",
    "import torch\n",
    "import torch.nn as nn\n",
    "import torch.nn.functional as F\n",
    "from collections import OrderedDict\n",
    "\n",
    "from matplotlib.offsetbox import (OffsetImage, AnnotationBbox)"
   ]
  },
  {
   "cell_type": "code",
   "execution_count": 2,
   "metadata": {},
   "outputs": [],
   "source": [
    "def stat_dict_cut(state_dict):\n",
    "    new_state_dict = OrderedDict()\n",
    "    for k, v in state_dict.items():\n",
    "        #name = k[6:] # remove `module.`\n",
    "        name = k.replace(\"model.\",\"\")\n",
    "        new_state_dict[name] = v\n",
    "    return new_state_dict"
   ]
  },
  {
   "cell_type": "code",
   "execution_count": 3,
   "metadata": {},
   "outputs": [],
   "source": [
    "G_resnet= G_ResNet50(num_classes = 2, custom_predict=True, enable_dropout=True)\n",
    "CE_resnet= CE_Resnet50(enable_dropout = True)"
   ]
  },
  {
   "cell_type": "code",
   "execution_count": 4,
   "metadata": {},
   "outputs": [
    {
     "data": {
      "text/plain": [
       "<All keys matched successfully>"
      ]
     },
     "execution_count": 4,
     "metadata": {},
     "output_type": "execute_result"
    }
   ],
   "source": [
    "state_dict_G = torch.load('../Metrics/g_resnet50_cut_dataset_c/version_0/model.pt')\n",
    "state_dict_CE = torch.load('../Metrics/CE_resnet50_cut_dataset/version_0/model.pt')\n",
    "\n",
    "G_resnet.load_state_dict(stat_dict_cut(state_dict_G))\n",
    "CE_resnet.load_state_dict(stat_dict_cut(state_dict_CE)) #after this works, switch out for a chirality classifier"
   ]
  },
  {
   "cell_type": "code",
   "execution_count": 5,
   "metadata": {},
   "outputs": [],
   "source": [
    "class datasets(Enum):\n",
    "    FULL_DATASET = 0 #Use all 600,000 galaxies in GZ1 catalog\n",
    "    CUT_DATASET = 1 #Use cut of 200,000 galaxies, with pre-selected test data and downsampled train data\n",
    "    BEST_SUBSET = 2 #Select N best S,Z & other galaxies, evenly split\n",
    "    LOCAL_SUBSET = 3 #Use local cache of 1500 galaxies\n",
    "    FULL_DESI_DATASET = 4 #Use all 7 million galaxies in DESI catalog, minus those that appear in cut catalog (predict only)\n",
    "    CUT_TEST_DATASET = 5\n",
    "\n",
    "class modes(Enum):\n",
    "    TRAIN = 0 #Train on a dataset\n",
    "    TEST = 1 #Test an existing saved model on a dataset\n",
    "    PREDICT = 2 #Use an existing saved model on an unlabelled dataset\n",
    "\n",
    "DATASET = datasets.LOCAL_SUBSET #Select which dataset to train on, or if testing/predicting, which dataset the model was trained on\n",
    "MODE = modes.PREDICT #Select which mode\n",
    "\n",
    "PATHS = dict(\n",
    "    LOCAL_SUBSET_DATA_PATH =  \"../Data/Subset\",\n",
    "    LOCAL_SUBSET_CATALOG_PATH =  \"../Data/gz1_desi_cross_cat_local_subset.csv\",\n",
    ")"
   ]
  },
  {
   "cell_type": "code",
   "execution_count": 6,
   "metadata": {},
   "outputs": [
    {
     "name": "stdout",
     "output_type": "stream",
     "text": [
      "Created 10 galaxy filepaths\n"
     ]
    }
   ],
   "source": [
    "#LOCAL_SUBSET_DATA_PATH =  \"../Data/Subset\"\n",
    "#catalog = pd.read_csv( \"../Data/gz1_desi_cross_cat_local_subset.csv\")[0:1]\n",
    "#catalog[\"file_loc\"] = get_file_paths(catalog,LOCAL_SUBSET_DATA_PATH)\n",
    "\n",
    "datamodule = generate_datamodule(DATASET,MODE,PATHS,datasets,modes,IMG_SIZE=160, NUM_WORKERS=1,BATCH_SIZE=1, MAX_IMAGES=10)\n",
    "datamodule.prepare_data()\n",
    "datamodule.setup(stage='predict')\n",
    "#image=torch.from_numpy(datamodule.predict_dataset[0])"
   ]
  },
  {
   "cell_type": "code",
   "execution_count": 7,
   "metadata": {},
   "outputs": [],
   "source": [
    "# subset_indices = [1] # select your indices here as a list\n",
    "# midway = datamodule.predict_dataloader()\n",
    "# subset = torch.utils.data.Subset(midway, subset_indices)\n",
    "\n",
    "# #data, target = iter(subset)"
   ]
  },
  {
   "cell_type": "markdown",
   "metadata": {},
   "source": [
    "## Utils funcs"
   ]
  },
  {
   "cell_type": "code",
   "execution_count": 8,
   "metadata": {},
   "outputs": [],
   "source": [
    "def build_mask(s, margin=2, dtype=torch.float32):\n",
    "    mask = torch.zeros(1, 1, s, s, dtype=dtype)\n",
    "    c = (s-1) / 2\n",
    "    t = (c - margin/100.*c)**2\n",
    "    sig = 2.\n",
    "    for x in range(s):\n",
    "        for y in range(s):\n",
    "            r = (x - c) ** 2 + (y - c) ** 2\n",
    "            if r > t:\n",
    "                mask[..., x, y] = math.exp((t - r)/sig**2)\n",
    "            else:\n",
    "                mask[..., x, y] = 1.\n",
    "    return mask\n",
    "    \n",
    "def positionimage(x, y, ax, ar, zoom=0.5):\n",
    "    \"\"\"Place image from file `fname` into axes `ax` at position `x,y`.\"\"\"\n",
    "    \n",
    "    imsize = ar.shape[0]\n",
    "    if imsize==151: zoom=0.24\n",
    "    if imsize==51: zoom = 0.75\n",
    "    im = OffsetImage(ar, zoom=zoom)\n",
    "    im.image.axes = ax\n",
    "    \n",
    "    ab = AnnotationBbox(im, (x,y), xycoords='data')\n",
    "    ax.add_artist(ab)\n",
    "    \n",
    "    return\n",
    "\n",
    "# -----------------------------------------------------------------------------\n",
    "\n",
    "def make_linemarker(x,y,dx,col,ax):\n",
    "    \n",
    "    xs = [x-0.5*dx,x+0.5*dx]\n",
    "    for i in range(0,y.shape[0]):\n",
    "        ys = [y[i],y[i]]\n",
    "        ax.plot(xs,ys,marker=\",\",c=col,alpha=0.1,lw=5)\n",
    "    \n",
    "    return"
   ]
  },
  {
   "cell_type": "markdown",
   "metadata": {},
   "source": [
    "## Overlapping"
   ]
  },
  {
   "cell_type": "code",
   "execution_count": 9,
   "metadata": {},
   "outputs": [],
   "source": [
    "def overlapping(x, y, n, beta=0.1): # adapt for 3 classes\n",
    "\n",
    "    n_z = 100 #what is the significance of 100\n",
    "    z = np.linspace(0,1,n_z)\n",
    "    dz = 1./n_z\n",
    "    \n",
    "    norm = 1./(beta*np.sqrt(2*np.pi))\n",
    "    \n",
    "    n_x = len(x)\n",
    "    f_x = np.zeros(n_z)\n",
    "    for i in range(n_z):\n",
    "        for j in range(n_x):\n",
    "            f_x[i] += norm*np.exp(-0.5*(z[i] - x[j])**2/beta**2)\n",
    "        f_x[i] /= n_x\n",
    "    \n",
    "    \n",
    "    n_y = len(y)\n",
    "    f_y = np.zeros(n_z)\n",
    "    for i in range(n_z):\n",
    "        for j in range(n_y):\n",
    "            f_y[i] += norm*np.exp(-0.5*(z[i] - y[j])**2/beta**2)\n",
    "            \n",
    "        f_y[i] /= n_y\n",
    "\n",
    "\n",
    "    n_n = len(n) #third class like this?\n",
    "    f_n = np.zeros(n_z)\n",
    "    for i in range(n_z):\n",
    "        for j in range(n_n):\n",
    "            f_n[i] += norm*np.exp(-0.5*(z[i] - n[j])**2/beta**2)\n",
    "            \n",
    "        f_n[i] /= n_n\n",
    "    \n",
    "    \n",
    "    eta_z = np.zeros(n_z)\n",
    "    eta_temp = np.minimum(f_x, f_y)\n",
    "    eta_z = np.minimum(f_n, eta_temp)#then just two of these??\n",
    "        \n",
    "    # pl.subplot(111)\n",
    "    # pl.plot(z, f_x, label=r\"$f_x$\")\n",
    "    # pl.plot(z, f_y, label=r\"$f_y$\")\n",
    "    # pl.plot(z, eta_z, label=r\"$\\eta_z$\")\n",
    "    # pl.legend()\n",
    "    # pl.show()\n",
    "    # print('meow')\n",
    "\n",
    "    return np.sum(eta_z)*dz"
   ]
  },
  {
   "cell_type": "code",
   "execution_count": 10,
   "metadata": {},
   "outputs": [],
   "source": [
    "def fr_rotation_test(model, data, target, idx, device='cpu', PLOT=False):\n",
    "    #model is the model, data is one image, idx??\n",
    "    T = 50#50 #number of passes\n",
    "    rotation_list = range(0, 180, 20)\n",
    "    #print(\"True classification: \",target[0].item())\n",
    "    \n",
    "    image_list = []\n",
    "    outp_list = []\n",
    "    inpt_list = []\n",
    "    \n",
    "    for r in rotation_list:\n",
    "        \n",
    "        # make rotated image:\n",
    "        rotation_matrix = torch.Tensor([[[np.cos(r/360.0*2*np.pi), -np.sin(r/360.0*2*np.pi), 0],\n",
    "                                         [np.sin(r/360.0*2*np.pi), np.cos(r/360.0*2*np.pi), 0]]]).to(device)\n",
    "        grid = F.affine_grid(rotation_matrix, data.size(), align_corners=True) #data.size()\n",
    "        data_rotate = F.grid_sample(data, grid, align_corners=True)\n",
    "        image_list.append(data_rotate)\n",
    "        \n",
    "        # get straight prediction:\n",
    "        model.eval()\n",
    "        #x = model(data_rotate)\n",
    "        #p = F.softmax(x,dim=1)\n",
    "                                         \n",
    "        # run 100 stochastic forward passes:\n",
    "        #model.enable_dropout_func() #yeah we need to fix this\n",
    "\n",
    "        output_list, input_list = [], []\n",
    "        for i in range(T):\n",
    "            print(\"hi\"+str(i))\n",
    "            x = model(data_rotate)\n",
    "            input_list.append(x.unsqueeze(0).cpu())\n",
    "            output_list.append(torch.unsqueeze(F.softmax(x,dim=1), 0).cpu())\n",
    "            x=None\n",
    "                                         \n",
    "        # calculate the mean output for each target:\n",
    "        output_mean = np.squeeze(torch.cat(output_list, 0).mean(0).data.cpu().numpy())\n",
    "                                             \n",
    "        # append per rotation output into list:\n",
    "        outp_list.append(np.squeeze(torch.cat(output_list, 0).data.numpy()))\n",
    "        inpt_list.append(np.squeeze(torch.cat(input_list, 0).data.numpy()))\n",
    "\n",
    "        #print ('rotation degree', str(r), 'Predict : {} - {}'.format(output_mean.argmax(),output_mean))\n",
    "\n",
    "    preds = np.array([0,1,2])#\n",
    "    classes = np.array([\"Z-wise\",\"S-wise\", \"None\"])#\n",
    "    \n",
    "    outp_list = np.array(outp_list)\n",
    "    inpt_list = np.array(inpt_list)\n",
    "    rotation_list = np.array(rotation_list)\n",
    "\n",
    "    colours=[\"b\",\"r\",\"g\"]#\n",
    "\n",
    "    #fig1, (a0, a1) = pl.subplots(2, 1, gridspec_kw={'height_ratios': [8,1]})\n",
    "    fig2, (a2, a3) = pl.subplots(2, 1, gridspec_kw={'height_ratios': [8,1]})\n",
    "\n",
    "    eta = np.zeros(len(rotation_list))\n",
    "    for i in range(len(rotation_list)):\n",
    "        x = outp_list[i,:,0]\n",
    "        y = outp_list[i,:,1]#changed to pick which class overlap to plot\n",
    "        n = outp_list[i,:,2]\n",
    "        eta[i] = overlapping(x, y, n)\n",
    "\n",
    "    if PLOT:\n",
    "        #a0.set_title(\"Input\")\n",
    "        if np.mean(eta)>=0.01:\n",
    "            a2.set_title(r\"$\\langle \\eta \\rangle = $ {:.2f}\".format(np.mean(eta)))\n",
    "        else:\n",
    "            a2.set_title(r\"$\\langle \\eta \\rangle < 0.01$\")\n",
    "\n",
    "        dx = 0.8*(rotation_list[1]-rotation_list[0])\n",
    "        for pred in preds:\n",
    "            col = colours[pred]\n",
    "            #a0.plot(rotation_list[0],inpt_list[0,0,pred],marker=\",\",c=col,label=str(pred))\n",
    "            a2.plot(rotation_list[0],outp_list[0,0,pred],marker=\",\",c=col,label=classes[pred])\n",
    "            for i in range(rotation_list.shape[0]):\n",
    "                #offset = np.random.rand(*outp_list[0,:,pred].shape)-0.5\n",
    "            #    make_linemarker(rotation_list[i],inpt_list[i,:,pred],dx,col,a0)\n",
    "                make_linemarker(rotation_list[i],outp_list[i,:,pred],dx,col,a2)\n",
    "            \n",
    "        #a2.plot(rotation_list, eta)\n",
    "        \n",
    "        #a0.legend()\n",
    "        a2.legend(loc='center right')\n",
    "        #a0.axis([0,180,0,1])\n",
    "        #a0.set_xlabel(\"Rotation [deg]\")\n",
    "        a2.set_xlabel(\"Rotation [deg]\")\n",
    "        #a1.axis([0,180,0,1])\n",
    "        a3.axis([0,180,0,1])\n",
    "        #a1.axis('off')\n",
    "        a3.axis('off')\n",
    "        \n",
    "        imsize = data.size()[2]\n",
    "        mask = build_mask(imsize, margin=1)\n",
    "                \n",
    "        for i in range(len(rotation_list)):\n",
    "            inc = 0.5*(180./len(rotation_list))\n",
    "            #positionimage(rotation_list[i]+inc, 0., a1, image_list[i][0, 0, :, :].data.numpy(), zoom=0.32)\n",
    "            positionimage(rotation_list[i]+inc, 0., a3, mask[0,0,:,:]*image_list[i][0, 0, :, :].data.cpu().numpy(), zoom=0.23)#make it smaller\n",
    "            \n",
    "        \n",
    "        #fig1.tight_layout()\n",
    "        fig2.tight_layout()\n",
    "\n",
    "        #fig1.subplots_adjust(bottom=0.15)\n",
    "        fig2.subplots_adjust(bottom=0.15)\n",
    "\n",
    "        #pl.show()\n",
    "        fig2.savefig(\"../roterr/\"+str(idx)+\".png\")\n",
    "    \n",
    "        pl.close()\n",
    "    \n",
    "    return np.mean(eta), np.std(eta)"
   ]
  },
  {
   "cell_type": "markdown",
   "metadata": {},
   "source": [
    "## Run Code"
   ]
  },
  {
   "cell_type": "code",
   "execution_count": 11,
   "metadata": {},
   "outputs": [
    {
     "name": "stdout",
     "output_type": "stream",
     "text": [
      "0\n",
      "hi0\n",
      "hi1\n",
      "hi2\n",
      "hi3\n",
      "hi4\n",
      "hi5\n",
      "hi6\n",
      "hi7\n",
      "hi8\n",
      "hi9\n",
      "hi10\n",
      "hi11\n",
      "hi12\n",
      "hi13\n",
      "hi14\n",
      "hi15\n",
      "hi16\n",
      "hi17\n",
      "hi18\n",
      "hi19\n",
      "hi20\n",
      "hi21\n",
      "hi22\n",
      "hi23\n",
      "hi24\n",
      "hi25\n",
      "hi26\n",
      "hi27\n",
      "hi28\n"
     ]
    },
    {
     "ename": "",
     "evalue": "",
     "output_type": "error",
     "traceback": [
      "\u001b[1;31mThe Kernel crashed while executing code in the current cell or a previous cell. \n",
      "\u001b[1;31mPlease review the code in the cell(s) to identify a possible cause of the failure. \n",
      "\u001b[1;31mClick <a href='https://aka.ms/vscodeJupyterKernelCrash'>here</a> for more info. \n",
      "\u001b[1;31mView Jupyter <a href='command:jupyter.viewOutput'>log</a> for further details."
     ]
    }
   ],
   "source": [
    "# for param in test_model.parameters():\n",
    "#             param.requires_grad = False\n",
    "\n",
    "#     # Modify the final fully connected layer to include dropout\n",
    "# num_ftrs = test_model.fc.in_features\n",
    "# test_model.fc = nn.Sequential(\n",
    "#     nn.Dropout(0.5),  # Add dropout layer with probability 0.5\n",
    "#     nn.Linear(num_ftrs, 3)  # Change the output size to match your task\n",
    "# )\n",
    "\n",
    "overlap_results = pd.DataFrame(columns=['Steerable Overlap','Steerable Err','CE Overlap','CE Err'])\n",
    "i=0\n",
    "for data1 in datamodule.predict_dataloader():\n",
    "    print(i)\n",
    "    av_overlap1, std_overlap1 = fr_rotation_test(G_resnet, data=data1, idx =\"resnet_G_\"+ str(i), target=None, PLOT=True)\n",
    "    av_overlap2, std_overlap2 = fr_rotation_test(CE_resnet, data=data1, idx =\"resnet_CE_\"+str(i), target=None, PLOT=True)\n",
    "    results =[av_overlap1,std_overlap1,av_overlap2,std_overlap2]\n",
    "    overlap_results.loc[i] = results\n",
    "    i+=1\n",
    "overlap_results.to_csv(\"Overlap Index\")"
   ]
  }
 ],
 "metadata": {
  "kernelspec": {
   "display_name": "Galaxy",
   "language": "python",
   "name": "python3"
  },
  "language_info": {
   "codemirror_mode": {
    "name": "ipython",
    "version": 3
   },
   "file_extension": ".py",
   "mimetype": "text/x-python",
   "name": "python",
   "nbconvert_exporter": "python",
   "pygments_lexer": "ipython3",
   "version": "3.11.7"
  }
 },
 "nbformat": 4,
 "nbformat_minor": 2
}

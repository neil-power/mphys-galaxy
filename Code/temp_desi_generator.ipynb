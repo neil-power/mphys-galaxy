{
 "cells": [
  {
   "cell_type": "code",
   "execution_count": null,
   "metadata": {},
   "outputs": [],
   "source": [
    "import pandas as pd\n",
    "import numpy as np"
   ]
  },
  {
   "cell_type": "code",
   "execution_count": null,
   "metadata": {},
   "outputs": [],
   "source": [
    "DESI_CATALOG_PATH = '../Data/gz_desi_deep_learning_catalog_friendly.parquet'\n",
    "desi_data = (pd.read_parquet(DESI_CATALOG_PATH).reset_index(drop=True))[['ra','dec','dr8_id']]"
   ]
  },
  {
   "cell_type": "code",
   "execution_count": null,
   "metadata": {},
   "outputs": [],
   "source": [
    "testing_PATH = '../Data\\gz1_desi_cross_cat_testing.csv'\n",
    "gz1_desi_cross_cat_testing = pd.read_csv(testing_PATH).reset_index(drop=True)[['RA','DEC','dr8_id']]\n",
    "train_val_PATH = '../Data\\gz1_desi_cross_cat_train_val_downsample.csv'\n",
    "gz1_desi_cross_cat_train_val_downsample = pd.read_csv(train_val_PATH).reset_index(drop=True)[['RA','DEC','dr8_id']]"
   ]
  },
  {
   "cell_type": "code",
   "execution_count": null,
   "metadata": {},
   "outputs": [],
   "source": [
    "#desi_data.head(1)\n",
    "#desi_full_cat = desi_data[['ra','dec','dr8_id']]\n",
    "print(desi_data.shape)\n",
    "print(gz1_desi_cross_cat_testing.shape)\n",
    "print(gz1_desi_cross_cat_train_val_downsample.shape)"
   ]
  },
  {
   "cell_type": "code",
   "execution_count": 9,
   "metadata": {},
   "outputs": [
    {
     "name": "stdout",
     "output_type": "stream",
     "text": [
      "{'ra': 0, 'dec': 1, 'dr8_id': 2}\n"
     ]
    },
    {
     "ename": "TypeError",
     "evalue": "string indices must be integers, not 'list'",
     "output_type": "error",
     "traceback": [
      "\u001b[1;31m---------------------------------------------------------------------------\u001b[0m",
      "\u001b[1;31mTypeError\u001b[0m                                 Traceback (most recent call last)",
      "Cell \u001b[1;32mIn[9], line 4\u001b[0m\n\u001b[0;32m      2\u001b[0m d \u001b[38;5;241m=\u001b[39m {j:i \u001b[38;5;28;01mfor\u001b[39;00m i,j \u001b[38;5;129;01min\u001b[39;00m \u001b[38;5;28menumerate\u001b[39m(desi_data)}\n\u001b[0;32m      3\u001b[0m \u001b[38;5;28mprint\u001b[39m(d)\n\u001b[1;32m----> 4\u001b[0m desi_full_cat_check \u001b[38;5;241m=\u001b[39m \u001b[38;5;28msorted\u001b[39m(((\u001b[38;5;28mset\u001b[39m(desi_data) \u001b[38;5;241m-\u001b[39m \u001b[38;5;28mset\u001b[39m(y))), key \u001b[38;5;241m=\u001b[39m \u001b[38;5;28;01mlambda\u001b[39;00m x: d[x[[\u001b[38;5;124m'\u001b[39m\u001b[38;5;124mdr8_id\u001b[39m\u001b[38;5;124m'\u001b[39m]]])\n\u001b[0;32m      5\u001b[0m d\u001b[38;5;241m.\u001b[39mclear()\n",
      "Cell \u001b[1;32mIn[9], line 4\u001b[0m, in \u001b[0;36m<lambda>\u001b[1;34m(x)\u001b[0m\n\u001b[0;32m      2\u001b[0m d \u001b[38;5;241m=\u001b[39m {j:i \u001b[38;5;28;01mfor\u001b[39;00m i,j \u001b[38;5;129;01min\u001b[39;00m \u001b[38;5;28menumerate\u001b[39m(desi_data)}\n\u001b[0;32m      3\u001b[0m \u001b[38;5;28mprint\u001b[39m(d)\n\u001b[1;32m----> 4\u001b[0m desi_full_cat_check \u001b[38;5;241m=\u001b[39m \u001b[38;5;28msorted\u001b[39m(((\u001b[38;5;28mset\u001b[39m(desi_data) \u001b[38;5;241m-\u001b[39m \u001b[38;5;28mset\u001b[39m(y))), key \u001b[38;5;241m=\u001b[39m \u001b[38;5;28;01mlambda\u001b[39;00m x: d[x[[\u001b[38;5;124m'\u001b[39m\u001b[38;5;124mdr8_id\u001b[39m\u001b[38;5;124m'\u001b[39m]]])\n\u001b[0;32m      5\u001b[0m d\u001b[38;5;241m.\u001b[39mclear()\n",
      "\u001b[1;31mTypeError\u001b[0m: string indices must be integers, not 'list'"
     ]
    }
   ],
   "source": [
    "y = pd.concat([gz1_desi_cross_cat_testing['dr8_id'], gz1_desi_cross_cat_train_val_downsample['dr8_id']])\n",
    "d = {j:i for i,j in enumerate(desi_data)}\n",
    "print(d)\n",
    "desi_full_cat_check = sorted(((set(desi_data) - set(y))), key = lambda x: d[x[['dr8_id']]])\n",
    "d.clear()"
   ]
  },
  {
   "cell_type": "code",
   "execution_count": null,
   "metadata": {},
   "outputs": [],
   "source": [
    "print(desi_full_cat_check.head(1))"
   ]
  },
  {
   "cell_type": "code",
   "execution_count": null,
   "metadata": {},
   "outputs": [],
   "source": [
    "desi_full_cat_check = desi_full_cat[np.logical_and(desi_full_cat['dr8_id'] != gz1_desi_cross_cat_testing['dr8_id'],\n",
    "                                                   desi_full_cat['dr8_id'] != gz1_desi_cross_cat_train_val_downsample['dr8_id'])]"
   ]
  }
 ],
 "metadata": {
  "kernelspec": {
   "display_name": "Galaxy",
   "language": "python",
   "name": "python3"
  },
  "language_info": {
   "codemirror_mode": {
    "name": "ipython",
    "version": 3
   },
   "file_extension": ".py",
   "mimetype": "text/x-python",
   "name": "python",
   "nbconvert_exporter": "python",
   "pygments_lexer": "ipython3",
   "version": "3.11.7"
  }
 },
 "nbformat": 4,
 "nbformat_minor": 2
}

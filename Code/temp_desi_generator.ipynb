{
 "cells": [
  {
   "cell_type": "code",
   "execution_count": 1,
   "metadata": {},
   "outputs": [],
   "source": [
    "import pandas as pd\n",
    "import numpy as np"
   ]
  },
  {
   "cell_type": "code",
   "execution_count": 2,
   "metadata": {},
   "outputs": [],
   "source": [
    "DESI_CATALOG_PATH = '../Data/gz_desi_deep_learning_catalog_friendly.parquet'\n",
    "desi_data = (pd.read_parquet(DESI_CATALOG_PATH).reset_index(drop=True))[['ra','dec','dr8_id']]"
   ]
  },
  {
   "cell_type": "code",
   "execution_count": 3,
   "metadata": {},
   "outputs": [],
   "source": [
    "testing_PATH = '../Data\\gz1_desi_cross_cat_testing.csv'\n",
    "gz1_desi_cross_cat_testing = pd.read_csv(testing_PATH).reset_index(drop=True)[['RA','DEC','dr8_id']]\n",
    "train_val_PATH = '../Data\\gz1_desi_cross_cat_train_val_downsample.csv'\n",
    "gz1_desi_cross_cat_train_val_downsample = pd.read_csv(train_val_PATH).reset_index(drop=True)[['RA','DEC','dr8_id']]"
   ]
  },
  {
   "cell_type": "code",
   "execution_count": 4,
   "metadata": {},
   "outputs": [
    {
     "name": "stdout",
     "output_type": "stream",
     "text": [
      "(8689370, 3)\n",
      "(41737, 3)\n",
      "(35988, 3)\n"
     ]
    }
   ],
   "source": [
    "#desi_data.head(1)\n",
    "#desi_full_cat = desi_data[['ra','dec','dr8_id']]\n",
    "print(desi_data.shape)\n",
    "print(gz1_desi_cross_cat_testing.shape)\n",
    "print(gz1_desi_cross_cat_train_val_downsample.shape)"
   ]
  },
  {
   "cell_type": "code",
   "execution_count": 6,
   "metadata": {},
   "outputs": [
    {
     "name": "stdout",
     "output_type": "stream",
     "text": [
      "(8611665, 3)\n"
     ]
    }
   ],
   "source": [
    "y = pd.concat([gz1_desi_cross_cat_testing['dr8_id'], gz1_desi_cross_cat_train_val_downsample['dr8_id']])\n",
    "desi_data = desi_data[~desi_data['dr8_id'].isin(y)]\n",
    "print(desi_data.shape)"
   ]
  },
  {
   "cell_type": "code",
   "execution_count": 14,
   "metadata": {},
   "outputs": [
    {
     "name": "stdout",
     "output_type": "stream",
     "text": [
      "          ra        dec       dr8_id\n",
      "0  32.084931 -44.311422  100000_1081\n",
      "1  32.140085 -44.293668  100000_1401\n",
      "2  32.275015 -44.288957  100000_1483\n",
      "3  32.045648 -44.287172  100000_1509\n",
      "4  32.170627 -44.267273  100000_1869\n"
     ]
    }
   ],
   "source": [
    "print(desi_data.head(5))\n",
    "desi_data_full_path = '../Data/desi_data_full.csv'\n",
    "(desi_data.drop(['ra','dec'],axis=1)).to_csv(desi_data_full_path, index=False)"
   ]
  }
 ],
 "metadata": {
  "kernelspec": {
   "display_name": "Galaxy",
   "language": "python",
   "name": "python3"
  },
  "language_info": {
   "codemirror_mode": {
    "name": "ipython",
    "version": 3
   },
   "file_extension": ".py",
   "mimetype": "text/x-python",
   "name": "python",
   "nbconvert_exporter": "python",
   "pygments_lexer": "ipython3",
   "version": "3.11.7"
  }
 },
 "nbformat": 4,
 "nbformat_minor": 2
}
